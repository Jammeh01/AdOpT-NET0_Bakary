{
 "cells": [
  {
   "cell_type": "markdown",
   "id": "14bbd679",
   "metadata": {},
   "source": [
    "\n",
    "Italy Energy System Optimization - Brownfield Analysis with ETS1 and ETS2\n",
    "==========================================================================\n",
    "\n",
    "This script creates an energy system optimization model for Italy as a whole system,\n",
    "studying the effects of ETS1 (EU Emissions Trading System) and ETS2 (new ETS for \n",
    "buildings and transport) on the optimal design and operation of energy technologies.\n",
    "\n",
    "The analysis includes:\n",
    "1. Baseline optimization without ETS\n",
    "2. Optimization with ETS1 only\n",
    "3. Optimization with both ETS1 and ETS2\n",
    "4. Comparative analysis of results"
   ]
  },
  {
   "cell_type": "code",
   "execution_count": 37,
   "id": "9f927204",
   "metadata": {},
   "outputs": [
    {
     "name": "stdout",
     "output_type": "stream",
     "text": [
      "Files already exist: macro_decarbonisation\\Topology.json macro_decarbonisation\\ConfigModel.json\n"
     ]
    }
   ],
   "source": [
    "import adopt_net0 as adopt\n",
    "import json\n",
    "from pathlib import Path\n",
    "import os\n",
    "import pandas as pd\n",
    "import numpy as np\n",
    "\n",
    "# Create folders \n",
    "results_data_path = Path(\"./userData\")\n",
    "results_data_path.mkdir(parents=True, exist_ok=True)\n",
    "\n",
    "# create input data path and optimization templates \n",
    "input_data_path = Path(\"./macro_decarbonisation\")\n",
    "input_data_path.mkdir(parents=True, exist_ok=True)\n",
    "\n",
    "# Create template input JSONs\n",
    "adopt.create_optimization_templates(input_data_path)"
   ]
  },
  {
   "cell_type": "code",
   "execution_count": 38,
   "id": "3c95bdc6",
   "metadata": {},
   "outputs": [],
   "source": [
    "results_data_path = Path(\"./results_macroperspective\")\n",
    "scenario_name = \"baseline_no_ETS\""
   ]
  },
  {
   "cell_type": "code",
   "execution_count": 39,
   "id": "25e4836c",
   "metadata": {},
   "outputs": [],
   "source": [
    "# Load json template\n",
    "with open(input_data_path / \"Topology.json\", \"r\") as json_file:\n",
    "    topology = json.load(json_file)\n",
    "# Nodes\n",
    "topology[\"nodes\"] = [\"northwest\", \"northeast\", \"center\", \"south\", \"islands\"]\n",
    "# Carriers: The Carries/ Vectors we have in the CGE model are gas, electricity \n",
    "topology[\"carriers\"] = [\"electricity\", \"gas\", \"heat\", \"hydrogen\"]  \n",
    "# Investment periods:\n",
    "topology[\"investment_periods\"] = [\"period1\"]\n",
    "# Save json template\n",
    "with open(input_data_path / \"Topology.json\", \"w\") as json_file:\n",
    "    json.dump(topology, json_file, indent=4)"
   ]
  },
  {
   "cell_type": "code",
   "execution_count": 40,
   "id": "c4100f58",
   "metadata": {},
   "outputs": [],
   "source": [
    "# load json template\n",
    "with open(input_data_path / \"ConfigModel.json\", \"r\") as json_file:\n",
    "    configuration = json.load(json_file)\n",
    "# Set time aggregation settings:\n",
    "configuration[\"optimization\"][\"typicaldays\"][\"N\"][\"value\"] = 30 \n",
    "configuration[\"optimization\"][\"typicaldays\"][\"method\"][\"value\"] = 1\n",
    "# Set MILP gap\n",
    "configuration[\"solveroptions\"][\"mipgap\"][\"value\"] = 0.02\n",
    "# save json template\n",
    "with open(input_data_path / \"ConfigModel.json\", \"w\") as json_file:\n",
    "    json.dump(configuration, json_file, indent=4)"
   ]
  },
  {
   "cell_type": "code",
   "execution_count": 41,
   "id": "c1f37c82",
   "metadata": {},
   "outputs": [
    {
     "name": "stdout",
     "output_type": "stream",
     "text": [
      "CO2Railway\n",
      "CO2Ship\n",
      "CO2Truck\n",
      "CO2_Pipeline\n",
      "electricityOffshore\n",
      "electricityOnshore\n",
      "electricitySimple\n",
      "heat\n",
      "hydrogenPipelineOffshore\n",
      "hydrogenPipelineOnshore\n",
      "hydrogenRailway\n",
      "hydrogenShip\n",
      "hydrogenSimple\n",
      "hydrogenTruck\n",
      "CO2_Compressor\n",
      "MEA_large\n",
      "MEA_medium\n",
      "MEA_small\n",
      "DAC_Adsorption\n",
      "dac_adsorption_performanc\n",
      "Boiler_El\n",
      "Boiler_Industrial_NG\n",
      "Boiler_Small_H2\n",
      "Boiler_Small_NG\n",
      "Furnace_H2\n",
      "Furnace_NG\n",
      "HeatPump_AirSourced\n",
      "HeatPump_GroundSourced\n",
      "HeatPump_SeaWaterSourced\n",
      "HeatPump_WaterSourced\n",
      "Hydro_Reservoir\n",
      "PumpedHydro_Closed\n",
      "PumpedHydro_Open\n",
      "CrackerFurnace\n",
      "CrackerFurnace_Electric\n",
      "EthyleneCompression\n",
      "EthyleneCompression_Electric\n",
      "EthyleneSeparation\n",
      "SteamReformer\n",
      "SteamReformer_CCS\n",
      "CombinedCycle_fixed_size\n",
      "GasTurbine_H2_10\n",
      "GasTurbine_H2_100\n",
      "GasTurbine_H2_250\n",
      "GasTurbine_H2_400\n",
      "GasTurbine_NG_10\n",
      "GasTurbine_NG_100\n",
      "GasTurbine_NG_250\n",
      "GasTurbine_NG_400\n",
      "GasTurbine_simple\n",
      "GasTurbine_simple_CCS\n",
      "SteamTurbine\n",
      "GT_fitting_dat\n",
      "HP_fitting_dat\n",
      "MP_fitting_dat\n",
      "Photovoltaic\n",
      "SolarThermal\n",
      "WindTurbine_Offshore_11000\n",
      "WindTurbine_Offshore_6000\n",
      "WindTurbine_Offshore_9500\n",
      "WindTurbine_Onshore_1500\n",
      "WindTurbine_Onshore_2500\n",
      "WindTurbine_Onshore_4000\n",
      "WT_dat\n",
      "PermanentStorage_CO2_simple\n",
      "Storage_Battery\n",
      "Storage_Ethylene\n",
      "Storage_H2\n",
      "Storage_H2_Cavern\n",
      "Storage_HotWater\n",
      "Storage_NG\n",
      "Storage_PCM\n",
      "TemporaryStorage_CO2\n"
     ]
    }
   ],
   "source": [
    "adopt.create_input_data_folder_template(input_data_path)\n",
    "\n",
    "# Define node locations (here two exemplary location in the Netherlands)\n",
    "node_location = pd.read_csv(input_data_path / \"NodeLocations.csv\", sep=';', index_col=0, header=0)\n",
    "node_lon = {'northwest': 8.5, 'northeast': 11.5,'center': 12.0, 'south': 15.5, 'islands': 14.0}  #longitude in degrees\n",
    "node_lat = {'northwest': 45.5, 'northeast': 45.0, 'center': 42.5, 'south': 40.5, 'islands': 38.0}  # latitude in degrees\n",
    "node_alt = {'northwest': 200, 'northeast': 100, 'center': 150, 'south': 300, 'islands': 400}    # Elevation in meters\n",
    "for node in ['northwest', 'northeast', 'center', 'south', 'islands']:\n",
    "    node_location.at[node, 'lon'] = node_lon[node]\n",
    "    node_location.at[node, 'lat'] = node_lat[node]\n",
    "    node_location.at[node, 'alt'] = node_alt[node]\n",
    "\n",
    "node_location = node_location.reset_index()\n",
    "node_location.to_csv(input_data_path / \"NodeLocations.csv\", sep=';', index=False)\n",
    "\n",
    "adopt.show_available_technologies()"
   ]
  },
  {
   "cell_type": "code",
   "execution_count": 42,
   "id": "554d4d61",
   "metadata": {},
   "outputs": [],
   "source": [
    "# Add required technologies for node 'North' (We will be changing this and also adding new technologies like CCS)      (Waste-to-energy)\n",
    "\n",
    "#Northwest technological configuration\n",
    "with open(input_data_path / \"period1\" / \"node_data\" / \"northwest\" / \"Technologies.json\", \"r\") as json_file:\n",
    "    technologies = json.load(json_file)\n",
    "technologies[\"new\"] = [\"HeatPump_AirSourced\", \"Storage_Battery\", \"Photovoltaic\", \"WindTurbine_Onshore_4000\", \"Storage_H2\"]           \n",
    "technologies[\"existing\"] = {\"Boiler_Small_NG\": 3000, \"GasTurbine_simple\": 2500}    \n",
    "\n",
    "with open(input_data_path / \"period1\" / \"node_data\" / \"northwest\" / \"Technologies.json\", \"w\") as json_file:\n",
    "    json.dump(technologies, json_file, indent=4)\n",
    "\n",
    "\n",
    "# NorthEast technological configuration\n",
    "with open(input_data_path / \"period1\" / \"node_data\" / \"northeast\" / \"Technologies.json\", \"r\") as json_file:\n",
    "    technologies = json.load(json_file)\n",
    "technologies[\"new\"] = [\"HeatPump_AirSourced\", \"Storage_Battery\", \"Photovoltaic\", \"WindTurbine_Onshore_4000\", \"Storage_H2\"]           \n",
    "technologies[\"existing\"] = {\"Boiler_Small_NG\": 2500, \"GasTurbine_simple\": 2000}      \n",
    "\n",
    "with open(input_data_path / \"period1\" / \"node_data\" / \"northeast\" / \"Technologies.json\", \"w\") as json_file:\n",
    "    json.dump(technologies, json_file, indent=4)\n",
    "\n",
    "\n",
    "#Center technological configuration\n",
    "with open(input_data_path / \"period1\" / \"node_data\" / \"center\" / \"Technologies.json\", \"r\") as json_file:\n",
    "    technologies = json.load(json_file)\n",
    "technologies[\"new\"] = [\"HeatPump_AirSourced\", \"Storage_Battery\", \"Photovoltaic\", \"WindTurbine_Onshore_4000\", \"Storage_H2\", \"Storage_H2\"]           \n",
    "technologies[\"existing\"] = {\"Boiler_Small_NG\": 2800, \"GasTurbine_simple\": 1800}     \n",
    "\n",
    "with open(input_data_path / \"period1\" / \"node_data\" / \"center\" / \"Technologies.json\", \"w\") as json_file:\n",
    "    json.dump(technologies, json_file, indent=4)\n",
    "\n",
    "\n",
    "# Add required technologies for node 'south'\n",
    "with open(input_data_path / \"period1\" / \"node_data\" / \"south\" / \"Technologies.json\", \"r\") as json_file:\n",
    "    technologies = json.load(json_file)\n",
    "technologies[\"new\"] = [\"HeatPump_AirSourced\", \"Storage_Battery\", \"Photovoltaic\", \"WindTurbine_Onshore_4000\", \"WindTurbine_Offshore_9500\", \"Storage_H2\"]  #WindTurbine_offshore  and also municipality boilers \n",
    "technologies[\"existing\"] = {\"Boiler_Small_NG\": 2200, \"GasTurbine_simple\": 1500} #MWth and MWe\n",
    "\n",
    "with open(input_data_path / \"period1\" / \"node_data\" / \"south\" / \"Technologies.json\", \"w\") as json_file:\n",
    "    json.dump(technologies, json_file, indent=4)\n",
    "\n",
    "\n",
    "#ISlands technological configuration\n",
    "with open(input_data_path / \"period1\" / \"node_data\" / \"islands\" / \"Technologies.json\", \"r\") as json_file:\n",
    "    technologies = json.load(json_file)\n",
    "technologies[\"new\"] = [\"HeatPump_AirSourced\", \"Storage_Battery\", \"Photovoltaic\", \"WindTurbine_Onshore_4000\", \"WindTurbine_Offshore_9500\", \"Storage_H2\"]  #WindTurbine_offshore  and also municipality boilers \n",
    "technologies[\"existing\"] = {\"Boiler_Small_NG\": 1200, \"GasTurbine_simple\": 1000} #MWth and MWe\n",
    "\n",
    "with open(input_data_path / \"period1\" / \"node_data\" / \"islands\" / \"Technologies.json\", \"w\") as json_file:\n",
    "    json.dump(technologies, json_file, indent=4)\n",
    "\n",
    "\n",
    "# Copy over technology files\n",
    "adopt.copy_technology_data(input_data_path)"
   ]
  },
  {
   "cell_type": "code",
   "execution_count": 43,
   "id": "f632b8b2",
   "metadata": {},
   "outputs": [],
   "source": [
    "adopt.show_available_networks()"
   ]
  },
  {
   "cell_type": "code",
   "execution_count": 44,
   "id": "74d93856",
   "metadata": {},
   "outputs": [],
   "source": [
    "# Add networks (here we will add an onshore electricity network, liket the one in the case study as an example)\n",
    "with open(input_data_path / \"period1\" / \"Networks.json\", \"r\") as json_file:\n",
    "    networks = json.load(json_file)\n",
    "networks[\"new\"] = [\"electricityOnshore\"]\n",
    "networks[\"existing\"] = [\"electricityOnshore\"]\n",
    "\n",
    "with open(input_data_path / \"period1\" / \"Networks.json\", \"w\") as json_file:\n",
    "    json.dump(networks, json_file, indent=4)"
   ]
  },
  {
   "cell_type": "code",
   "execution_count": 45,
   "id": "7e787845",
   "metadata": {},
   "outputs": [
    {
     "name": "stdout",
     "output_type": "stream",
     "text": [
      "Existing network\n",
      "Connection:            northwest  northeast  center  south  islands\n",
      "northwest          0          1       1      0        0\n",
      "northeast          1          0       1      0        0\n",
      "center             1          1       0      1        0\n",
      "south              0          0       1      0        1\n",
      "islands            0          0       0      1        0\n",
      "Distance:            northwest  northeast  center  south  islands\n",
      "northwest          0        400     500      0        0\n",
      "northeast        400          0     450      0        0\n",
      "center           500        450       0    350        0\n",
      "south              0          0     350      0      200\n",
      "islands            0          0       0    200        0\n",
      "Size:            northwest  northeast  center  south  islands\n",
      "northwest          0       3000    2500      0        0\n",
      "northeast       3000          0    2800      0        0\n",
      "center          2500       2800       0   2200        0\n",
      "south              0          0    2200      0     1000\n",
      "islands            0          0       0   1000        0\n",
      "New network\n",
      "Max size per arc:            northwest  northeast  center  south  islands\n",
      "northwest          0       5000    4000   6000     7000\n",
      "northeast       5000          0    4500   6500     7500\n",
      "center          4000       4500       0   4000     5000\n",
      "south           6000       6500    4000      0     2000\n",
      "islands         7000       7500    5000   2000        0\n",
      "Connection:            northwest  northeast  center  south  islands\n",
      "northwest          0          1       1      1        1\n",
      "northeast          1          0       1      1        1\n",
      "center             1          1       0      1        1\n",
      "south              1          1       1      0        1\n",
      "islands            1          1       1      1        0\n",
      "Distance:            northwest  northeast  center  south  islands\n",
      "northwest          0        400     500    900     1100\n",
      "northeast        400          0     450    750     1000\n",
      "center           500        450       0    350      600\n",
      "south            900        750     350      0      200\n",
      "islands         1100       1000     600    200        0\n"
     ]
    }
   ],
   "source": [
    "# === Make a new folder for the existing network (We can also create the dataframe for this and import it.)\n",
    "os.makedirs(input_data_path / \"period1\" / \"network_topology\" / \"existing\" / \"electricityOnshore\", exist_ok=True)\n",
    "\n",
    "print(\"Existing network\")\n",
    "\n",
    "# === Connection (Existing)\n",
    "connection = pd.read_csv(input_data_path / \"period1\" / \"network_topology\" / \"existing\" / \"connection.csv\", sep=\";\", index_col=0)\n",
    "connection.loc[\"northwest\", \"northeast\"] = 1\n",
    "connection.loc[\"northeast\", \"northwest\"] = 1\n",
    "connection.loc[\"northwest\", \"center\"] = 1\n",
    "connection.loc[\"center\", \"northwest\"] = 1\n",
    "connection.loc[\"northeast\", \"center\"] = 1\n",
    "connection.loc[\"center\", \"northeast\"] = 1\n",
    "connection.loc[\"center\", \"south\"] = 1\n",
    "connection.loc[\"south\", \"center\"] = 1\n",
    "connection.loc[\"south\", \"islands\"] = 1  # Sicily connection\n",
    "connection.loc[\"islands\", \"south\"] = 1\n",
    "connection.to_csv(input_data_path / \"period1\" / \"network_topology\" / \"existing\" / \"electricityOnshore\" / \"connection.csv\", sep=\";\")\n",
    "print(\"Connection:\", connection)\n",
    "\n",
    "# Delete the original template\n",
    "os.remove(input_data_path / \"period1\" / \"network_topology\" / \"existing\" / \"connection.csv\")\n",
    "\n",
    "# === Distance (Existing)\n",
    "distance = pd.read_csv(input_data_path / \"period1\" / \"network_topology\" / \"existing\" / \"distance.csv\", sep=\";\", index_col=0)\n",
    "distance.loc[\"northwest\", \"northeast\"] = 400\n",
    "distance.loc[\"northeast\", \"northwest\"] = 400\n",
    "distance.loc[\"northwest\", \"center\"] = 500\n",
    "distance.loc[\"center\", \"northwest\"] = 500\n",
    "distance.loc[\"northeast\", \"center\"] = 450\n",
    "distance.loc[\"center\", \"northeast\"] = 450\n",
    "distance.loc[\"center\", \"south\"] = 350\n",
    "distance.loc[\"south\", \"center\"] = 350\n",
    "distance.loc[\"south\", \"islands\"] = 200\n",
    "distance.loc[\"islands\", \"south\"] = 200\n",
    "distance.to_csv(input_data_path / \"period1\" / \"network_topology\" / \"existing\" / \"electricityOnshore\" / \"distance.csv\", sep=\";\")\n",
    "print(\"Distance:\", distance)\n",
    "\n",
    "# Delete the original template\n",
    "os.remove(input_data_path / \"period1\" / \"network_topology\" / \"existing\" / \"distance.csv\")\n",
    "\n",
    "# === Size (Existing)\n",
    "size = pd.read_csv(input_data_path / \"period1\" / \"network_topology\" / \"existing\" / \"size.csv\", sep=\";\", index_col=0)\n",
    "size.loc[\"northwest\", \"northeast\"] = 3000\n",
    "size.loc[\"northeast\", \"northwest\"] = 3000\n",
    "size.loc[\"northwest\", \"center\"] = 2500\n",
    "size.loc[\"center\", \"northwest\"] = 2500\n",
    "size.loc[\"northeast\", \"center\"] = 2800\n",
    "size.loc[\"center\", \"northeast\"] = 2800\n",
    "size.loc[\"center\", \"south\"] = 2200\n",
    "size.loc[\"south\", \"center\"] = 2200\n",
    "size.loc[\"south\", \"islands\"] = 1000\n",
    "size.loc[\"islands\", \"south\"] = 1000\n",
    "size.to_csv(input_data_path / \"period1\" / \"network_topology\" / \"existing\" / \"electricityOnshore\" / \"size.csv\", sep=\";\")\n",
    "print(\"Size:\", size)\n",
    "\n",
    "# Delete the original template\n",
    "os.remove(input_data_path / \"period1\" / \"network_topology\" / \"existing\" / \"size.csv\")\n",
    "\n",
    "\n",
    "print(\"New network\")\n",
    "# === Make a new folder for the new network\n",
    "os.makedirs(input_data_path / \"period1\" / \"network_topology\" / \"new\" / \"electricityOnshore\", exist_ok=True)\n",
    "\n",
    "# === Max Size Arc (New)\n",
    "arc_size = pd.read_csv(input_data_path / \"period1\" / \"network_topology\" / \"new\" / \"size_max_arcs.csv\", sep=\";\", index_col=0)\n",
    "arc_size.loc[\"northwest\", \"northeast\"] = 5000\n",
    "arc_size.loc[\"northeast\", \"northwest\"] = 5000\n",
    "arc_size.loc[\"northwest\", \"center\"] = 4000\n",
    "arc_size.loc[\"center\", \"northwest\"] = 4000\n",
    "arc_size.loc[\"northeast\", \"center\"] = 4500\n",
    "arc_size.loc[\"center\", \"northeast\"] = 4500\n",
    "arc_size.loc[\"center\", \"south\"] = 4000\n",
    "arc_size.loc[\"south\", \"center\"] = 4000\n",
    "arc_size.loc[\"south\", \"islands\"] = 2000\n",
    "arc_size.loc[\"islands\", \"south\"] = 2000\n",
    "arc_size.loc[\"northwest\", \"south\"] = 6000\n",
    "arc_size.loc[\"south\", \"northwest\"] = 6000\n",
    "arc_size.loc[\"northwest\", \"islands\"] = 7000\n",
    "arc_size.loc[\"islands\", \"northwest\"] = 7000\n",
    "arc_size.loc[\"northeast\", \"south\"] = 6500\n",
    "arc_size.loc[\"south\", \"northeast\"] = 6500\n",
    "arc_size.loc[\"northeast\", \"islands\"] = 7500\n",
    "arc_size.loc[\"islands\", \"northeast\"] = 7500\n",
    "arc_size.loc[\"center\", \"islands\"] = 5000\n",
    "arc_size.loc[\"islands\", \"center\"] = 5000\n",
    "arc_size.to_csv(input_data_path / \"period1\" / \"network_topology\" / \"new\" / \"electricityOnshore\" / \"size_max_arcs.csv\", sep=\";\")\n",
    "print(\"Max size per arc:\", arc_size)\n",
    "\n",
    "# === Connection (New)\n",
    "connection = pd.read_csv(input_data_path / \"period1\" / \"network_topology\" / \"new\" / \"connection.csv\", sep=\";\", index_col=0)\n",
    "connection.loc[\"northwest\", \"northeast\"] = 1\n",
    "connection.loc[\"northeast\", \"northwest\"] = 1\n",
    "connection.loc[\"northwest\", \"center\"] = 1\n",
    "connection.loc[\"center\", \"northwest\"] = 1\n",
    "connection.loc[\"northeast\", \"center\"] = 1\n",
    "connection.loc[\"center\", \"northeast\"] = 1\n",
    "connection.loc[\"center\", \"south\"] = 1\n",
    "connection.loc[\"south\", \"center\"] = 1\n",
    "connection.loc[\"south\", \"islands\"] = 1\n",
    "connection.loc[\"islands\", \"south\"] = 1\n",
    "connection.loc[\"northwest\", \"south\"] = 1\n",
    "connection.loc[\"south\", \"northwest\"] = 1\n",
    "connection.loc[\"northwest\", \"islands\"] = 1\n",
    "connection.loc[\"islands\", \"northwest\"] = 1\n",
    "connection.loc[\"northeast\", \"south\"] = 1\n",
    "connection.loc[\"south\", \"northeast\"] = 1\n",
    "connection.loc[\"northeast\", \"islands\"] = 1\n",
    "connection.loc[\"islands\", \"northeast\"] = 1\n",
    "connection.loc[\"center\", \"islands\"] = 1\n",
    "connection.loc[\"islands\", \"center\"] = 1\n",
    "connection.to_csv(input_data_path / \"period1\" / \"network_topology\" / \"new\" / \"electricityOnshore\" / \"connection.csv\", sep=\";\")\n",
    "print(\"Connection:\", connection)\n",
    "\n",
    "# Delete connection template\n",
    "os.remove(input_data_path / \"period1\" / \"network_topology\" / \"new\" / \"connection.csv\")\n",
    "\n",
    "# === Distance (New)\n",
    "distance = pd.read_csv(input_data_path / \"period1\" / \"network_topology\" / \"new\" / \"distance.csv\", sep=\";\", index_col=0)\n",
    "distance.loc[\"northwest\", \"northeast\"] = 400   # Turin/Milan to Venice/Trieste\n",
    "distance.loc[\"northeast\", \"northwest\"] = 400\n",
    "distance.loc[\"northwest\", \"center\"] = 500      # Turin/Milan to Rome\n",
    "distance.loc[\"center\", \"northwest\"] = 500\n",
    "distance.loc[\"northwest\", \"south\"] = 900       # Turin/Milan to Naples/Bari\n",
    "distance.loc[\"south\", \"northwest\"] = 900\n",
    "distance.loc[\"northwest\", \"islands\"] = 1100    # Turin/Milan to Palermo/Cagliari\n",
    "distance.loc[\"islands\", \"northwest\"] = 1100\n",
    "distance.loc[\"northeast\", \"center\"] = 450      # Venice to Rome\n",
    "distance.loc[\"center\", \"northeast\"] = 450\n",
    "distance.loc[\"northeast\", \"south\"] = 750       # Venice to Naples/Bari\n",
    "distance.loc[\"south\", \"northeast\"] = 750\n",
    "distance.loc[\"northeast\", \"islands\"] = 1000    # Venice to Palermo/Cagliari\n",
    "distance.loc[\"islands\", \"northeast\"] = 1000\n",
    "distance.loc[\"center\", \"south\"] = 350          # Rome to Naples\n",
    "distance.loc[\"south\", \"center\"] = 350\n",
    "distance.loc[\"center\", \"islands\"] = 600        # Rome to Palermo/Cagliari\n",
    "distance.loc[\"islands\", \"center\"] = 600\n",
    "distance.loc[\"south\", \"islands\"] = 200         # Naples/Bari to Palermo/Cagliari\n",
    "distance.loc[\"islands\", \"south\"] = 200\n",
    "distance.to_csv(input_data_path / \"period1\" / \"network_topology\" / \"new\" / \"electricityOnshore\" / \"distance.csv\", sep=\";\")\n",
    "print(\"Distance:\", distance)\n",
    "\n",
    "# Delete distance template\n",
    "os.remove(input_data_path / \"period1\" / \"network_topology\" / \"new\" / \"distance.csv\")\n",
    "\n",
    "# Delete size_max_arcs template\n",
    "os.remove(input_data_path / \"period1\" / \"network_topology\" / \"new\" / \"size_max_arcs.csv\")"
   ]
  },
  {
   "cell_type": "code",
   "execution_count": 46,
   "id": "5f7397e6",
   "metadata": {},
   "outputs": [],
   "source": [
    "adopt.copy_network_data(input_data_path)\n",
    "\n",
    "with open(input_data_path / \"period1\" / \"network_data\"/ \"electricityOnshore.json\", \"r\") as json_file:\n",
    "    network_data = json.load(json_file)\n",
    "\n",
    "network_data[\"Economics\"][\"gamma2\"] = 50000\n",
    "network_data[\"Economics\"][\"gamma4\"] = 400\n",
    "\n",
    "with open(input_data_path / \"period1\" / \"network_data\"/ \"electricityOnshore.json\", \"w\") as json_file:\n",
    "    json.dump(network_data, json_file, indent=4)"
   ]
  },
  {
   "cell_type": "code",
   "execution_count": 47,
   "id": "6eb858c3",
   "metadata": {},
   "outputs": [
    {
     "name": "stdout",
     "output_type": "stream",
     "text": [
      "Importing Climate Data...\n",
      "Importing Climate Data successful\n",
      "Importing Climate Data...\n",
      "Importing Climate Data successful\n",
      "Importing Climate Data...\n",
      "Importing Climate Data successful\n",
      "Importing Climate Data...\n",
      "Importing Climate Data successful\n",
      "Importing Climate Data...\n",
      "Importing Climate Data successful\n"
     ]
    }
   ],
   "source": [
    "#Demand, climate data, import prices and limits \n",
    "# Read hourly data from Excel (example demand profiles) Chnage this to your own data of demand \n",
    "islands_hourly_data = pd.read_excel(input_data_path / \"data/regional_demand_profiles.xlsx\", sheet_name=\"islands\", nrows=8760)\n",
    "south_hourly_data = pd.read_excel(input_data_path / \"data/regional_demand_profiles.xlsx\", sheet_name=\"south\", nrows=8760)\n",
    "center_hourly_data = pd.read_excel(input_data_path / \"data/regional_demand_profiles.xlsx\", sheet_name=\"center\", nrows=8760)\n",
    "northeast_hourly_data = pd.read_excel(input_data_path  / \"data/regional_demand_profiles.xlsx\", sheet_name=\"northeast\", nrows=8760)\n",
    "northwest_hourly_data = pd.read_excel(input_data_path / \"data/regional_demand_profiles.xlsx\", sheet_name=\"northwest\", nrows=8760)\n",
    "\n",
    "# Save the hourly data to the carrier's file in the case study folder\n",
    "hourly_data = {\n",
    "    'northwest': northwest_hourly_data,\n",
    "    'northeast': northeast_hourly_data,\n",
    "    'center': center_hourly_data,\n",
    "    'south': south_hourly_data,\n",
    "    'islands': islands_hourly_data\n",
    "}\n",
    "\n",
    "el_demand = {}\n",
    "heat_demand = {}\n",
    "\n",
    "for node in ['northwest', 'northeast', 'center', 'south', 'islands']:\n",
    "    el_demand[node] = hourly_data[node].iloc[:, 0]  # Electricity demand\n",
    "    heat_demand[node] = hourly_data[node].iloc[:, 1]  # Heat demand\n",
    "\n",
    "    adopt.fill_carrier_data(input_data_path, value_or_data=el_demand[node], columns=['Demand'], carriers=['electricity'], nodes=[node])\n",
    "    adopt.fill_carrier_data(input_data_path, value_or_data=heat_demand[node], columns=['Demand'], carriers=['heat'], nodes=[node])\n",
    "\n",
    "    #Set import limits and costs\n",
    "    adopt.fill_carrier_data(input_data_path, value_or_data=8000, columns=['Import limit'], carriers=['gas'], nodes=[node])\n",
    "    adopt.fill_carrier_data(input_data_path, value_or_data=3000, columns=['Import limit'], carriers=['electricity'], nodes=[node])\n",
    "    adopt.fill_carrier_data(input_data_path, value_or_data=0.35, columns=['Import emission factor'], carriers=['electricity'], nodes=[node])\n",
    "    adopt.fill_carrier_data(input_data_path, value_or_data=45, columns=['Import price'], carriers=['gas'], nodes=[node])\n",
    "    adopt.fill_carrier_data(input_data_path, value_or_data=150, columns=['Import price'], carriers=['electricity'], nodes=[node])\n",
    "\n",
    "#Define climate data\n",
    "adopt.load_climate_data_from_api(input_data_path)\n"
   ]
  },
  {
   "cell_type": "code",
   "execution_count": 48,
   "id": "e808a55e",
   "metadata": {},
   "outputs": [
    {
     "name": "stderr",
     "output_type": "stream",
     "text": [
      "--- Reading in data ---\n",
      "Input data folder has been checked successfully - no errors occurred.\n",
      "Reading data from macro_decarbonisation\n",
      "Topology read successfully\n",
      "Model Configuration read successfully\n",
      "Time series read successfully\n",
      "Node Locations read successfully\n",
      "Energy balance options read successfully\n",
      "Deriving performance data for Heat Pump...\n"
     ]
    },
    {
     "name": "stdout",
     "output_type": "stream",
     "text": [
      "Complete:  99.0 %Complete:  100 %\n"
     ]
    },
    {
     "name": "stderr",
     "output_type": "stream",
     "text": [
      "Deriving performance data for Heat Pump...\n"
     ]
    },
    {
     "name": "stdout",
     "output_type": "stream",
     "text": [
      "Complete:  99.0 %Complete:  100 %\n"
     ]
    },
    {
     "name": "stderr",
     "output_type": "stream",
     "text": [
      "Deriving performance data for Heat Pump...\n"
     ]
    },
    {
     "name": "stdout",
     "output_type": "stream",
     "text": [
      "Complete:  99.0 %Complete:  100 %\n"
     ]
    },
    {
     "name": "stderr",
     "output_type": "stream",
     "text": [
      "Deriving performance data for Heat Pump...\n"
     ]
    },
    {
     "name": "stdout",
     "output_type": "stream",
     "text": [
      "Complete:  99.0 %Complete:  100 %\n"
     ]
    },
    {
     "name": "stderr",
     "output_type": "stream",
     "text": [
      "Deriving performance data for Heat Pump...\n"
     ]
    },
    {
     "name": "stdout",
     "output_type": "stream",
     "text": [
      "Complete:  99.0 %Complete:  100 %\n"
     ]
    },
    {
     "name": "stderr",
     "output_type": "stream",
     "text": [
      "Technology data read successfully\n",
      "Network data read successfully\n",
      "Clustered data successfully\n",
      "--- Reading in data complete ---\n",
      "--- Constructing Model ---\n",
      "Constructing Investment Period period1\n",
      "Constructing Investment Period period1 completed\n",
      "\t - Constructing Network electricityOnshore\n",
      "\t\t\tgdp.bigm Transformation...\n",
      "\t\t\tgdp.bigm Transformation completed in 0 s\n",
      "\t\t - Constructing Arc northwest - northeast completed\n",
      "\t\t\tgdp.bigm Transformation...\n",
      "\t\t\tgdp.bigm Transformation completed in 0 s\n",
      "\t\t - Constructing Arc northwest - center completed\n",
      "\t\t\tgdp.bigm Transformation...\n",
      "\t\t\tgdp.bigm Transformation completed in 0 s\n",
      "\t\t - Constructing Arc northwest - south completed\n",
      "\t\t\tgdp.bigm Transformation...\n",
      "\t\t\tgdp.bigm Transformation completed in 0 s\n",
      "\t\t - Constructing Arc northwest - islands completed\n",
      "\t\t\tgdp.bigm Transformation...\n",
      "\t\t\tgdp.bigm Transformation completed in 0 s\n",
      "\t\t - Constructing Arc northeast - northwest completed\n",
      "\t\t\tgdp.bigm Transformation...\n",
      "\t\t\tgdp.bigm Transformation completed in 0 s\n",
      "\t\t - Constructing Arc northeast - center completed\n",
      "\t\t\tgdp.bigm Transformation...\n",
      "\t\t\tgdp.bigm Transformation completed in 0 s\n",
      "\t\t - Constructing Arc northeast - south completed\n",
      "\t\t\tgdp.bigm Transformation...\n",
      "\t\t\tgdp.bigm Transformation completed in 0 s\n",
      "\t\t - Constructing Arc northeast - islands completed\n",
      "\t\t\tgdp.bigm Transformation...\n",
      "\t\t\tgdp.bigm Transformation completed in 0 s\n",
      "\t\t - Constructing Arc center - northwest completed\n",
      "\t\t\tgdp.bigm Transformation...\n",
      "\t\t\tgdp.bigm Transformation completed in 0 s\n",
      "\t\t - Constructing Arc center - northeast completed\n",
      "\t\t\tgdp.bigm Transformation...\n",
      "\t\t\tgdp.bigm Transformation completed in 0 s\n",
      "\t\t - Constructing Arc center - south completed\n",
      "\t\t\tgdp.bigm Transformation...\n",
      "\t\t\tgdp.bigm Transformation completed in 0 s\n",
      "\t\t - Constructing Arc center - islands completed\n",
      "\t\t\tgdp.bigm Transformation...\n",
      "\t\t\tgdp.bigm Transformation completed in 0 s\n",
      "\t\t - Constructing Arc south - northwest completed\n",
      "\t\t\tgdp.bigm Transformation...\n",
      "\t\t\tgdp.bigm Transformation completed in 0 s\n",
      "\t\t - Constructing Arc south - northeast completed\n",
      "\t\t\tgdp.bigm Transformation...\n",
      "\t\t\tgdp.bigm Transformation completed in 0 s\n",
      "\t\t - Constructing Arc south - center completed\n",
      "\t\t\tgdp.bigm Transformation...\n",
      "\t\t\tgdp.bigm Transformation completed in 0 s\n",
      "\t\t - Constructing Arc south - islands completed\n",
      "\t\t\tgdp.bigm Transformation...\n",
      "\t\t\tgdp.bigm Transformation completed in 0 s\n",
      "\t\t - Constructing Arc islands - northwest completed\n",
      "\t\t\tgdp.bigm Transformation...\n",
      "\t\t\tgdp.bigm Transformation completed in 0 s\n",
      "\t\t - Constructing Arc islands - northeast completed\n",
      "\t\t\tgdp.bigm Transformation...\n",
      "\t\t\tgdp.bigm Transformation completed in 0 s\n",
      "\t\t - Constructing Arc islands - center completed\n",
      "\t\t\tgdp.bigm Transformation...\n",
      "\t\t\tgdp.bigm Transformation completed in 0 s\n",
      "\t\t - Constructing Arc islands - south completed\n",
      "\t - Constructing Network electricityOnshore completed\n",
      "\t\t\tgdp.bigm Transformation...\n",
      "\t\t\tgdp.bigm Transformation completed in 22 s\n",
      "\t - Constructing Network electricityOnshore_existing\n",
      "\t\t - Constructing Arc northwest - northeast completed\n",
      "\t\t - Constructing Arc northwest - center completed\n",
      "\t\t - Constructing Arc northeast - northwest completed\n",
      "\t\t - Constructing Arc northeast - center completed\n",
      "\t\t - Constructing Arc center - northwest completed\n",
      "\t\t - Constructing Arc center - northeast completed\n",
      "\t\t - Constructing Arc center - south completed\n",
      "\t\t - Constructing Arc south - center completed\n",
      "\t\t - Constructing Arc south - islands completed\n",
      "\t\t - Constructing Arc islands - south completed\n",
      "\t - Constructing Network electricityOnshore_existing completed\n",
      "\t\t\tgdp.bigm Transformation...\n",
      "\t\t\tgdp.bigm Transformation completed in 4 s\n",
      "\t - Adding Technology HeatPump_AirSourced\n",
      "\t - Adding Technology Storage_Battery\n",
      "\t\t\tgdp.bigm Transformation...\n",
      "\t\t\tgdp.bigm Transformation completed in 2 s\n",
      "\t - Adding Technology Photovoltaic\n",
      "\t - Adding Technology WindTurbine_Onshore_4000\n",
      "\t - Adding Technology Storage_H2\n",
      "\t\t\tgdp.bigm Transformation...\n",
      "\t\t\tgdp.bigm Transformation completed in 1 s\n",
      "\t - Adding Technology Boiler_Small_NG_existing\n",
      "\t - Adding Technology GasTurbine_simple_existing\n",
      "\t - Adding Technology HeatPump_AirSourced\n",
      "\t - Adding Technology Storage_Battery\n",
      "\t\t\tgdp.bigm Transformation...\n",
      "\t\t\tgdp.bigm Transformation completed in 1 s\n",
      "\t - Adding Technology Photovoltaic\n",
      "\t - Adding Technology WindTurbine_Onshore_4000\n",
      "\t - Adding Technology Storage_H2\n",
      "\t\t\tgdp.bigm Transformation...\n",
      "\t\t\tgdp.bigm Transformation completed in 1 s\n",
      "\t - Adding Technology Boiler_Small_NG_existing\n",
      "\t - Adding Technology GasTurbine_simple_existing\n",
      "\t - Adding Technology HeatPump_AirSourced\n",
      "\t - Adding Technology Storage_Battery\n",
      "\t\t\tgdp.bigm Transformation...\n",
      "\t\t\tgdp.bigm Transformation completed in 1 s\n",
      "\t - Adding Technology Photovoltaic\n",
      "\t - Adding Technology WindTurbine_Onshore_4000\n",
      "\t - Adding Technology Storage_H2\n",
      "\t\t\tgdp.bigm Transformation...\n",
      "\t\t\tgdp.bigm Transformation completed in 1 s\n",
      "\t - Adding Technology Boiler_Small_NG_existing\n",
      "\t - Adding Technology GasTurbine_simple_existing\n",
      "\t - Adding Technology HeatPump_AirSourced\n",
      "\t - Adding Technology Storage_Battery\n",
      "\t\t\tgdp.bigm Transformation...\n",
      "\t\t\tgdp.bigm Transformation completed in 1 s\n",
      "\t - Adding Technology Photovoltaic\n",
      "\t - Adding Technology WindTurbine_Onshore_4000\n",
      "\t - Adding Technology WindTurbine_Offshore_9500\n",
      "\t - Adding Technology Storage_H2\n",
      "\t\t\tgdp.bigm Transformation...\n",
      "\t\t\tgdp.bigm Transformation completed in 1 s\n",
      "\t - Adding Technology Boiler_Small_NG_existing\n",
      "\t - Adding Technology GasTurbine_simple_existing\n",
      "\t - Adding Technology HeatPump_AirSourced\n",
      "\t - Adding Technology Storage_Battery\n",
      "\t\t\tgdp.bigm Transformation...\n",
      "\t\t\tgdp.bigm Transformation completed in 1 s\n",
      "\t - Adding Technology Photovoltaic\n",
      "\t - Adding Technology WindTurbine_Onshore_4000\n",
      "\t - Adding Technology WindTurbine_Offshore_9500\n",
      "\t - Adding Technology Storage_H2\n",
      "\t\t\tgdp.bigm Transformation...\n",
      "\t\t\tgdp.bigm Transformation completed in 1 s\n",
      "\t - Adding Technology Boiler_Small_NG_existing\n",
      "\t - Adding Technology GasTurbine_simple_existing\n",
      "Constructing model completed in 345s\n",
      "Constructing balances...\n",
      "Constructing balances completed in 17s\n",
      "Set objective on cost\n",
      "Solving Model...\n"
     ]
    },
    {
     "name": "stdout",
     "output_type": "stream",
     "text": [
      "Set parameter OutputFlag to value 1\n"
     ]
    },
    {
     "name": "stderr",
     "output_type": "stream",
     "text": [
      "Set parameter OutputFlag to value 1\n"
     ]
    },
    {
     "name": "stdout",
     "output_type": "stream",
     "text": [
      "Set parameter LogFile to value \"userData\\20250922153525-1\\solver_log.txt\"\n"
     ]
    },
    {
     "name": "stderr",
     "output_type": "stream",
     "text": [
      "Set parameter LogFile to value \"userData\\20250922153525-1\\solver_log.txt\"\n"
     ]
    },
    {
     "name": "stdout",
     "output_type": "stream",
     "text": [
      "Solver log file: userData\\20250922153525-1\\solver_log.txt\n",
      "Set parameter TimeLimit to value 36000\n"
     ]
    },
    {
     "name": "stderr",
     "output_type": "stream",
     "text": [
      "Set parameter TimeLimit to value 36000\n"
     ]
    },
    {
     "name": "stdout",
     "output_type": "stream",
     "text": [
      "Set parameter MIPGap to value 0.02\n"
     ]
    },
    {
     "name": "stderr",
     "output_type": "stream",
     "text": [
      "Set parameter MIPGap to value 0.02\n"
     ]
    },
    {
     "name": "stdout",
     "output_type": "stream",
     "text": [
      "Set parameter MIPFocus to value 0\n"
     ]
    },
    {
     "name": "stderr",
     "output_type": "stream",
     "text": [
      "Set parameter MIPFocus to value 0\n"
     ]
    },
    {
     "name": "stdout",
     "output_type": "stream",
     "text": [
      "Set parameter Threads to value 0\n"
     ]
    },
    {
     "name": "stderr",
     "output_type": "stream",
     "text": [
      "Set parameter Threads to value 0\n"
     ]
    },
    {
     "name": "stdout",
     "output_type": "stream",
     "text": [
      "Set parameter NodefileStart to value 60\n"
     ]
    },
    {
     "name": "stderr",
     "output_type": "stream",
     "text": [
      "Set parameter NodefileStart to value 60\n"
     ]
    },
    {
     "name": "stdout",
     "output_type": "stream",
     "text": [
      "Set parameter Method to value -1\n"
     ]
    },
    {
     "name": "stderr",
     "output_type": "stream",
     "text": [
      "Set parameter Method to value -1\n"
     ]
    },
    {
     "name": "stdout",
     "output_type": "stream",
     "text": [
      "Set parameter Heuristics to value 0.05\n"
     ]
    },
    {
     "name": "stderr",
     "output_type": "stream",
     "text": [
      "Set parameter Heuristics to value 0.05\n"
     ]
    },
    {
     "name": "stdout",
     "output_type": "stream",
     "text": [
      "Set parameter Presolve to value -1\n"
     ]
    },
    {
     "name": "stderr",
     "output_type": "stream",
     "text": [
      "Set parameter Presolve to value -1\n"
     ]
    },
    {
     "name": "stdout",
     "output_type": "stream",
     "text": [
      "Set parameter BranchDir to value 0\n"
     ]
    },
    {
     "name": "stderr",
     "output_type": "stream",
     "text": [
      "Set parameter BranchDir to value 0\n"
     ]
    },
    {
     "name": "stdout",
     "output_type": "stream",
     "text": [
      "Set parameter LPWarmStart to value 0\n"
     ]
    },
    {
     "name": "stderr",
     "output_type": "stream",
     "text": [
      "Set parameter LPWarmStart to value 0\n"
     ]
    },
    {
     "name": "stdout",
     "output_type": "stream",
     "text": [
      "Set parameter IntFeasTol to value 1e-05\n"
     ]
    },
    {
     "name": "stderr",
     "output_type": "stream",
     "text": [
      "Set parameter IntFeasTol to value 1e-05\n"
     ]
    },
    {
     "name": "stdout",
     "output_type": "stream",
     "text": [
      "Set parameter FeasibilityTol to value 1e-06\n"
     ]
    },
    {
     "name": "stderr",
     "output_type": "stream",
     "text": [
      "Set parameter FeasibilityTol to value 1e-06\n"
     ]
    },
    {
     "name": "stdout",
     "output_type": "stream",
     "text": [
      "Set parameter Cuts to value -1\n"
     ]
    },
    {
     "name": "stderr",
     "output_type": "stream",
     "text": [
      "Set parameter Cuts to value -1\n"
     ]
    },
    {
     "name": "stdout",
     "output_type": "stream",
     "text": [
      "Set parameter NumericFocus to value 0\n"
     ]
    },
    {
     "name": "stderr",
     "output_type": "stream",
     "text": [
      "Set parameter NumericFocus to value 0\n"
     ]
    },
    {
     "name": "stdout",
     "output_type": "stream",
     "text": [
      "Gurobi Optimizer version 12.0.2 build v12.0.2rc0 (win64 - Windows 11.0 (26100.2))\n"
     ]
    },
    {
     "name": "stderr",
     "output_type": "stream",
     "text": [
      "Gurobi Optimizer version 12.0.2 build v12.0.2rc0 (win64 - Windows 11.0 (26100.2))\n"
     ]
    },
    {
     "name": "stdout",
     "output_type": "stream",
     "text": [
      "\n"
     ]
    },
    {
     "name": "stderr",
     "output_type": "stream",
     "text": [
      "\n"
     ]
    },
    {
     "name": "stdout",
     "output_type": "stream",
     "text": [
      "CPU model: 13th Gen Intel(R) Core(TM) i7-1355U, instruction set [SSE2|AVX|AVX2]\n"
     ]
    },
    {
     "name": "stderr",
     "output_type": "stream",
     "text": [
      "CPU model: 13th Gen Intel(R) Core(TM) i7-1355U, instruction set [SSE2|AVX|AVX2]\n"
     ]
    },
    {
     "name": "stdout",
     "output_type": "stream",
     "text": [
      "Thread count: 10 physical cores, 12 logical processors, using up to 12 threads\n"
     ]
    },
    {
     "name": "stderr",
     "output_type": "stream",
     "text": [
      "Thread count: 10 physical cores, 12 logical processors, using up to 12 threads\n"
     ]
    },
    {
     "name": "stdout",
     "output_type": "stream",
     "text": [
      "\n"
     ]
    },
    {
     "name": "stderr",
     "output_type": "stream",
     "text": [
      "\n"
     ]
    },
    {
     "name": "stdout",
     "output_type": "stream",
     "text": [
      "Non-default parameters:\n"
     ]
    },
    {
     "name": "stderr",
     "output_type": "stream",
     "text": [
      "Non-default parameters:\n"
     ]
    },
    {
     "name": "stdout",
     "output_type": "stream",
     "text": [
      "TimeLimit  36000\n"
     ]
    },
    {
     "name": "stderr",
     "output_type": "stream",
     "text": [
      "TimeLimit  36000\n"
     ]
    },
    {
     "name": "stdout",
     "output_type": "stream",
     "text": [
      "MIPGap  0.02\n"
     ]
    },
    {
     "name": "stderr",
     "output_type": "stream",
     "text": [
      "MIPGap  0.02\n"
     ]
    },
    {
     "name": "stdout",
     "output_type": "stream",
     "text": [
      "LPWarmStart  0\n"
     ]
    },
    {
     "name": "stderr",
     "output_type": "stream",
     "text": [
      "LPWarmStart  0\n"
     ]
    },
    {
     "name": "stdout",
     "output_type": "stream",
     "text": [
      "NodefileStart  60\n"
     ]
    },
    {
     "name": "stderr",
     "output_type": "stream",
     "text": [
      "NodefileStart  60\n"
     ]
    },
    {
     "name": "stdout",
     "output_type": "stream",
     "text": [
      "\n"
     ]
    },
    {
     "name": "stderr",
     "output_type": "stream",
     "text": [
      "\n"
     ]
    },
    {
     "name": "stdout",
     "output_type": "stream",
     "text": [
      "Optimize a model with 734326 rows, 571083 columns and 1730379 nonzeros\n"
     ]
    },
    {
     "name": "stderr",
     "output_type": "stream",
     "text": [
      "Optimize a model with 734326 rows, 571083 columns and 1730379 nonzeros\n"
     ]
    },
    {
     "name": "stdout",
     "output_type": "stream",
     "text": [
      "Model fingerprint: 0xf96b6725\n"
     ]
    },
    {
     "name": "stderr",
     "output_type": "stream",
     "text": [
      "Model fingerprint: 0xf96b6725\n"
     ]
    },
    {
     "name": "stdout",
     "output_type": "stream",
     "text": [
      "Variable types: 529996 continuous, 41087 integer (36040 binary)\n"
     ]
    },
    {
     "name": "stderr",
     "output_type": "stream",
     "text": [
      "Variable types: 529996 continuous, 41087 integer (36040 binary)\n"
     ]
    },
    {
     "name": "stdout",
     "output_type": "stream",
     "text": [
      "Coefficient statistics:\n"
     ]
    },
    {
     "name": "stderr",
     "output_type": "stream",
     "text": [
      "Coefficient statistics:\n"
     ]
    },
    {
     "name": "stdout",
     "output_type": "stream",
     "text": [
      "  Matrix range     [1e-06, 4e+08]\n"
     ]
    },
    {
     "name": "stderr",
     "output_type": "stream",
     "text": [
      "  Matrix range     [1e-06, 4e+08]\n"
     ]
    },
    {
     "name": "stdout",
     "output_type": "stream",
     "text": [
      "  Objective range  [1e+00, 1e+00]\n"
     ]
    },
    {
     "name": "stderr",
     "output_type": "stream",
     "text": [
      "  Objective range  [1e+00, 1e+00]\n"
     ]
    },
    {
     "name": "stdout",
     "output_type": "stream",
     "text": [
      "  Bounds range     [1e-03, 2e+12]\n"
     ]
    },
    {
     "name": "stderr",
     "output_type": "stream",
     "text": [
      "  Bounds range     [1e-03, 2e+12]\n"
     ]
    },
    {
     "name": "stdout",
     "output_type": "stream",
     "text": [
      "  RHS range        [1e+00, 4e+08]\n"
     ]
    },
    {
     "name": "stderr",
     "output_type": "stream",
     "text": [
      "  RHS range        [1e+00, 4e+08]\n"
     ]
    },
    {
     "name": "stdout",
     "output_type": "stream",
     "text": [
      "Warning: Model contains large matrix coefficient range\n"
     ]
    },
    {
     "name": "stderr",
     "output_type": "stream",
     "text": [
      "Warning: Model contains large matrix coefficient range\n"
     ]
    },
    {
     "name": "stdout",
     "output_type": "stream",
     "text": [
      "Warning: Model contains large bounds\n"
     ]
    },
    {
     "name": "stderr",
     "output_type": "stream",
     "text": [
      "Warning: Model contains large bounds\n"
     ]
    },
    {
     "name": "stdout",
     "output_type": "stream",
     "text": [
      "         Consider reformulating model or setting NumericFocus parameter\n"
     ]
    },
    {
     "name": "stderr",
     "output_type": "stream",
     "text": [
      "         Consider reformulating model or setting NumericFocus parameter\n"
     ]
    },
    {
     "name": "stdout",
     "output_type": "stream",
     "text": [
      "         to avoid numerical issues.\n"
     ]
    },
    {
     "name": "stderr",
     "output_type": "stream",
     "text": [
      "         to avoid numerical issues.\n"
     ]
    },
    {
     "name": "stdout",
     "output_type": "stream",
     "text": [
      "Presolve removed 528771 rows and 452821 columns (presolve time = 5s)...\n"
     ]
    },
    {
     "name": "stderr",
     "output_type": "stream",
     "text": [
      "Presolve removed 528771 rows and 452821 columns (presolve time = 5s)...\n"
     ]
    },
    {
     "name": "stdout",
     "output_type": "stream",
     "text": [
      "Presolve removed 528825 rows and 452851 columns\n"
     ]
    },
    {
     "name": "stderr",
     "output_type": "stream",
     "text": [
      "Presolve removed 528825 rows and 452851 columns\n"
     ]
    },
    {
     "name": "stdout",
     "output_type": "stream",
     "text": [
      "Presolve time: 5.84s\n"
     ]
    },
    {
     "name": "stderr",
     "output_type": "stream",
     "text": [
      "Presolve time: 5.84s\n"
     ]
    },
    {
     "name": "stdout",
     "output_type": "stream",
     "text": [
      "Presolved: 205501 rows, 118232 columns, 634937 nonzeros\n"
     ]
    },
    {
     "name": "stderr",
     "output_type": "stream",
     "text": [
      "Presolved: 205501 rows, 118232 columns, 634937 nonzeros\n"
     ]
    },
    {
     "name": "stdout",
     "output_type": "stream",
     "text": [
      "Variable types: 99597 continuous, 18635 integer (14410 binary)\n"
     ]
    },
    {
     "name": "stderr",
     "output_type": "stream",
     "text": [
      "Variable types: 99597 continuous, 18635 integer (14410 binary)\n"
     ]
    },
    {
     "name": "stdout",
     "output_type": "stream",
     "text": [
      "\n"
     ]
    },
    {
     "name": "stderr",
     "output_type": "stream",
     "text": [
      "\n"
     ]
    },
    {
     "name": "stdout",
     "output_type": "stream",
     "text": [
      "Deterministic concurrent LP optimizer: primal simplex, dual simplex, and barrier\n"
     ]
    },
    {
     "name": "stderr",
     "output_type": "stream",
     "text": [
      "Deterministic concurrent LP optimizer: primal simplex, dual simplex, and barrier\n"
     ]
    },
    {
     "name": "stdout",
     "output_type": "stream",
     "text": [
      "Showing barrier log only...\n"
     ]
    },
    {
     "name": "stderr",
     "output_type": "stream",
     "text": [
      "Showing barrier log only...\n"
     ]
    },
    {
     "name": "stdout",
     "output_type": "stream",
     "text": [
      "\n"
     ]
    },
    {
     "name": "stderr",
     "output_type": "stream",
     "text": [
      "\n"
     ]
    },
    {
     "name": "stdout",
     "output_type": "stream",
     "text": [
      "Root barrier log...\n"
     ]
    },
    {
     "name": "stderr",
     "output_type": "stream",
     "text": [
      "Root barrier log...\n"
     ]
    },
    {
     "name": "stdout",
     "output_type": "stream",
     "text": [
      "\n"
     ]
    },
    {
     "name": "stderr",
     "output_type": "stream",
     "text": [
      "\n"
     ]
    },
    {
     "name": "stdout",
     "output_type": "stream",
     "text": [
      "Ordering time: 0.43s\n"
     ]
    },
    {
     "name": "stderr",
     "output_type": "stream",
     "text": [
      "Ordering time: 0.43s\n"
     ]
    },
    {
     "name": "stdout",
     "output_type": "stream",
     "text": [
      "\n"
     ]
    },
    {
     "name": "stderr",
     "output_type": "stream",
     "text": [
      "\n"
     ]
    },
    {
     "name": "stdout",
     "output_type": "stream",
     "text": [
      "Barrier statistics:\n"
     ]
    },
    {
     "name": "stderr",
     "output_type": "stream",
     "text": [
      "Barrier statistics:\n"
     ]
    },
    {
     "name": "stdout",
     "output_type": "stream",
     "text": [
      " Dense cols : 37\n"
     ]
    },
    {
     "name": "stderr",
     "output_type": "stream",
     "text": [
      " Dense cols : 37\n"
     ]
    },
    {
     "name": "stdout",
     "output_type": "stream",
     "text": [
      " AA' NZ     : 1.448e+06\n"
     ]
    },
    {
     "name": "stderr",
     "output_type": "stream",
     "text": [
      " AA' NZ     : 1.448e+06\n"
     ]
    },
    {
     "name": "stdout",
     "output_type": "stream",
     "text": [
      " Factor NZ  : 6.489e+06 (roughly 170 MB of memory)\n"
     ]
    },
    {
     "name": "stderr",
     "output_type": "stream",
     "text": [
      " Factor NZ  : 6.489e+06 (roughly 170 MB of memory)\n"
     ]
    },
    {
     "name": "stdout",
     "output_type": "stream",
     "text": [
      " Factor Ops : 1.002e+09 (less than 1 second per iteration)\n"
     ]
    },
    {
     "name": "stderr",
     "output_type": "stream",
     "text": [
      " Factor Ops : 1.002e+09 (less than 1 second per iteration)\n"
     ]
    },
    {
     "name": "stdout",
     "output_type": "stream",
     "text": [
      " Threads    : 7\n"
     ]
    },
    {
     "name": "stderr",
     "output_type": "stream",
     "text": [
      " Threads    : 7\n"
     ]
    },
    {
     "name": "stdout",
     "output_type": "stream",
     "text": [
      "\n"
     ]
    },
    {
     "name": "stderr",
     "output_type": "stream",
     "text": [
      "\n"
     ]
    },
    {
     "name": "stdout",
     "output_type": "stream",
     "text": [
      "                  Objective                Residual\n"
     ]
    },
    {
     "name": "stderr",
     "output_type": "stream",
     "text": [
      "                  Objective                Residual\n"
     ]
    },
    {
     "name": "stdout",
     "output_type": "stream",
     "text": [
      "Iter       Primal          Dual         Primal    Dual     Compl     Time\n"
     ]
    },
    {
     "name": "stderr",
     "output_type": "stream",
     "text": [
      "Iter       Primal          Dual         Primal    Dual     Compl     Time\n"
     ]
    },
    {
     "name": "stdout",
     "output_type": "stream",
     "text": [
      "   0   9.88235256e+13 -2.05087633e+17  2.36e+06 3.83e+03  2.41e+12    11s\n"
     ]
    },
    {
     "name": "stderr",
     "output_type": "stream",
     "text": [
      "   0   9.88235256e+13 -2.05087633e+17  2.36e+06 3.83e+03  2.41e+12    11s\n"
     ]
    },
    {
     "name": "stdout",
     "output_type": "stream",
     "text": [
      "   1   8.35275050e+13 -7.15992234e+16  1.54e+06 5.48e+05  8.55e+11    12s\n"
     ]
    },
    {
     "name": "stderr",
     "output_type": "stream",
     "text": [
      "   1   8.35275050e+13 -7.15992234e+16  1.54e+06 5.48e+05  8.55e+11    12s\n"
     ]
    },
    {
     "name": "stdout",
     "output_type": "stream",
     "text": [
      "   2   6.80305524e+13 -1.83987681e+16  1.14e+06 1.04e+04  3.64e+11    12s\n"
     ]
    },
    {
     "name": "stderr",
     "output_type": "stream",
     "text": [
      "   2   6.80305524e+13 -1.83987681e+16  1.14e+06 1.04e+04  3.64e+11    12s\n"
     ]
    },
    {
     "name": "stdout",
     "output_type": "stream",
     "text": [
      "   3   1.03703929e+13 -2.73665057e+15  6.34e+04 3.35e+02  2.42e+10    12s\n"
     ]
    },
    {
     "name": "stderr",
     "output_type": "stream",
     "text": [
      "   3   1.03703929e+13 -2.73665057e+15  6.34e+04 3.35e+02  2.42e+10    12s\n"
     ]
    },
    {
     "name": "stdout",
     "output_type": "stream",
     "text": [
      "   4   7.24336882e+12 -3.24658179e+14  7.34e+03 1.23e-03  2.69e+09    13s\n"
     ]
    },
    {
     "name": "stderr",
     "output_type": "stream",
     "text": [
      "   4   7.24336882e+12 -3.24658179e+14  7.34e+03 1.23e-03  2.69e+09    13s\n"
     ]
    },
    {
     "name": "stdout",
     "output_type": "stream",
     "text": [
      "   5   6.56565935e+12 -1.27061474e+14  1.48e+03 7.45e-04  7.07e+08    13s\n"
     ]
    },
    {
     "name": "stderr",
     "output_type": "stream",
     "text": [
      "   5   6.56565935e+12 -1.27061474e+14  1.48e+03 7.45e-04  7.07e+08    13s\n"
     ]
    },
    {
     "name": "stdout",
     "output_type": "stream",
     "text": [
      "   6   5.17445506e+12 -4.14800035e+13  3.48e+02 2.29e-03  1.89e+08    13s\n"
     ]
    },
    {
     "name": "stderr",
     "output_type": "stream",
     "text": [
      "   6   5.17445506e+12 -4.14800035e+13  3.48e+02 2.29e-03  1.89e+08    13s\n"
     ]
    },
    {
     "name": "stdout",
     "output_type": "stream",
     "text": [
      "   7   3.06212484e+12 -8.91319655e+12  3.98e+01 4.21e-04  3.85e+07    14s\n"
     ]
    },
    {
     "name": "stderr",
     "output_type": "stream",
     "text": [
      "   7   3.06212484e+12 -8.91319655e+12  3.98e+01 4.21e-04  3.85e+07    14s\n"
     ]
    },
    {
     "name": "stdout",
     "output_type": "stream",
     "text": [
      "   8   4.61008743e+11 -1.29126878e+12  5.31e+00 2.19e-04  5.36e+06    14s\n"
     ]
    },
    {
     "name": "stderr",
     "output_type": "stream",
     "text": [
      "   8   4.61008743e+11 -1.29126878e+12  5.31e+00 2.19e-04  5.36e+06    14s\n"
     ]
    },
    {
     "name": "stdout",
     "output_type": "stream",
     "text": [
      "   9   2.14191654e+11 -2.68501345e+11  2.13e+00 4.07e-05  1.47e+06    14s\n"
     ]
    },
    {
     "name": "stderr",
     "output_type": "stream",
     "text": [
      "   9   2.14191654e+11 -2.68501345e+11  2.13e+00 4.07e-05  1.47e+06    14s\n"
     ]
    },
    {
     "name": "stdout",
     "output_type": "stream",
     "text": [
      "  10   1.35366783e+11 -2.05347190e+11  1.27e+00 3.12e-05  1.03e+06    14s\n"
     ]
    },
    {
     "name": "stderr",
     "output_type": "stream",
     "text": [
      "  10   1.35366783e+11 -2.05347190e+11  1.27e+00 3.12e-05  1.03e+06    14s\n"
     ]
    },
    {
     "name": "stdout",
     "output_type": "stream",
     "text": [
      "  11   1.07229703e+11 -1.45258360e+11  9.45e-01 2.28e-05  7.63e+05    15s\n"
     ]
    },
    {
     "name": "stderr",
     "output_type": "stream",
     "text": [
      "  11   1.07229703e+11 -1.45258360e+11  9.45e-01 2.28e-05  7.63e+05    15s\n"
     ]
    },
    {
     "name": "stdout",
     "output_type": "stream",
     "text": [
      "  12   7.53234040e+10 -6.79507808e+10  5.77e-01 1.20e-05  4.32e+05    15s\n"
     ]
    },
    {
     "name": "stderr",
     "output_type": "stream",
     "text": [
      "  12   7.53234040e+10 -6.79507808e+10  5.77e-01 1.20e-05  4.32e+05    15s\n"
     ]
    },
    {
     "name": "stdout",
     "output_type": "stream",
     "text": [
      "  13   6.21516666e+10 -4.70894414e+10  4.59e-01 8.56e-06  3.29e+05    15s\n"
     ]
    },
    {
     "name": "stderr",
     "output_type": "stream",
     "text": [
      "  13   6.21516666e+10 -4.70894414e+10  4.59e-01 8.56e-06  3.29e+05    15s\n"
     ]
    },
    {
     "name": "stdout",
     "output_type": "stream",
     "text": [
      "  14   4.00129261e+10 -3.10316839e+10  2.70e-01 5.63e-06  2.14e+05    15s\n"
     ]
    },
    {
     "name": "stderr",
     "output_type": "stream",
     "text": [
      "  14   4.00129261e+10 -3.10316839e+10  2.70e-01 5.63e-06  2.14e+05    15s\n"
     ]
    },
    {
     "name": "stdout",
     "output_type": "stream",
     "text": [
      "  15   2.09963680e+10 -8.95629122e+09  1.16e-01 2.04e-06  9.01e+04    16s\n"
     ]
    },
    {
     "name": "stderr",
     "output_type": "stream",
     "text": [
      "  15   2.09963680e+10 -8.95629122e+09  1.16e-01 2.04e-06  9.01e+04    16s\n"
     ]
    },
    {
     "name": "stdout",
     "output_type": "stream",
     "text": [
      "  16   1.38143440e+10 -2.37365914e+09  6.21e-02 9.85e-07  4.87e+04    16s\n"
     ]
    },
    {
     "name": "stderr",
     "output_type": "stream",
     "text": [
      "  16   1.38143440e+10 -2.37365914e+09  6.21e-02 9.85e-07  4.87e+04    16s\n"
     ]
    },
    {
     "name": "stdout",
     "output_type": "stream",
     "text": [
      "  17   1.05331770e+10  4.89296229e+08  3.85e-02 5.65e-07  3.02e+04    16s\n"
     ]
    },
    {
     "name": "stderr",
     "output_type": "stream",
     "text": [
      "  17   1.05331770e+10  4.89296229e+08  3.85e-02 5.65e-07  3.02e+04    16s\n"
     ]
    },
    {
     "name": "stdout",
     "output_type": "stream",
     "text": [
      "  18   8.44146550e+09  2.59778860e+09  2.40e-02 2.80e-07  1.76e+04    17s\n"
     ]
    },
    {
     "name": "stderr",
     "output_type": "stream",
     "text": [
      "  18   8.44146550e+09  2.59778860e+09  2.40e-02 2.80e-07  1.76e+04    17s\n"
     ]
    },
    {
     "name": "stdout",
     "output_type": "stream",
     "text": [
      "  19   6.34835328e+09  3.54268922e+09  1.02e-02 1.52e-07  8.44e+03    17s\n"
     ]
    },
    {
     "name": "stderr",
     "output_type": "stream",
     "text": [
      "  19   6.34835328e+09  3.54268922e+09  1.02e-02 1.52e-07  8.44e+03    17s\n"
     ]
    },
    {
     "name": "stdout",
     "output_type": "stream",
     "text": [
      "  20   6.12466449e+09  3.67768268e+09  8.73e-03 1.34e-07  7.36e+03    17s\n"
     ]
    },
    {
     "name": "stderr",
     "output_type": "stream",
     "text": [
      "  20   6.12466449e+09  3.67768268e+09  8.73e-03 1.34e-07  7.36e+03    17s\n"
     ]
    },
    {
     "name": "stdout",
     "output_type": "stream",
     "text": [
      "  21   5.52979126e+09  4.01974835e+09  4.90e-03 8.90e-08  4.53e+03    17s\n"
     ]
    },
    {
     "name": "stderr",
     "output_type": "stream",
     "text": [
      "  21   5.52979126e+09  4.01974835e+09  4.90e-03 8.90e-08  4.53e+03    17s\n"
     ]
    },
    {
     "name": "stdout",
     "output_type": "stream",
     "text": [
      "  22   5.18252144e+09  4.23133541e+09  2.77e-03 6.17e-08  2.85e+03    18s\n"
     ]
    },
    {
     "name": "stderr",
     "output_type": "stream",
     "text": [
      "  22   5.18252144e+09  4.23133541e+09  2.77e-03 6.17e-08  2.85e+03    18s\n"
     ]
    },
    {
     "name": "stdout",
     "output_type": "stream",
     "text": [
      "  23   5.07054009e+09  4.32709244e+09  2.08e-03 4.93e-08  2.23e+03    18s\n"
     ]
    },
    {
     "name": "stderr",
     "output_type": "stream",
     "text": [
      "  23   5.07054009e+09  4.32709244e+09  2.08e-03 4.93e-08  2.23e+03    18s\n"
     ]
    },
    {
     "name": "stdout",
     "output_type": "stream",
     "text": [
      "  24   4.95688042e+09  4.43539119e+09  1.39e-03 3.50e-08  1.56e+03    18s\n"
     ]
    },
    {
     "name": "stderr",
     "output_type": "stream",
     "text": [
      "  24   4.95688042e+09  4.43539119e+09  1.39e-03 3.50e-08  1.56e+03    18s\n"
     ]
    },
    {
     "name": "stdout",
     "output_type": "stream",
     "text": [
      "  25   4.91344340e+09  4.47284777e+09  1.13e-03 3.01e-08  1.32e+03    19s\n"
     ]
    },
    {
     "name": "stderr",
     "output_type": "stream",
     "text": [
      "  25   4.91344340e+09  4.47284777e+09  1.13e-03 3.01e-08  1.32e+03    19s\n"
     ]
    },
    {
     "name": "stdout",
     "output_type": "stream",
     "text": [
      "  26   4.86865116e+09  4.61336308e+09  8.67e-04 7.88e-08  7.68e+02    19s\n"
     ]
    },
    {
     "name": "stderr",
     "output_type": "stream",
     "text": [
      "  26   4.86865116e+09  4.61336308e+09  8.67e-04 7.88e-08  7.68e+02    19s\n"
     ]
    },
    {
     "name": "stdout",
     "output_type": "stream",
     "text": [
      "  27   4.78231146e+09  4.65658953e+09  3.83e-04 4.88e-08  3.78e+02    19s\n"
     ]
    },
    {
     "name": "stderr",
     "output_type": "stream",
     "text": [
      "  27   4.78231146e+09  4.65658953e+09  3.83e-04 4.88e-08  3.78e+02    19s\n"
     ]
    },
    {
     "name": "stdout",
     "output_type": "stream",
     "text": [
      "  28   4.75240651e+09  4.67979240e+09  2.20e-04 1.10e-08  2.18e+02    20s\n"
     ]
    },
    {
     "name": "stderr",
     "output_type": "stream",
     "text": [
      "  28   4.75240651e+09  4.67979240e+09  2.20e-04 1.10e-08  2.18e+02    20s\n"
     ]
    },
    {
     "name": "stdout",
     "output_type": "stream",
     "text": [
      "  29   4.73428353e+09  4.69797836e+09  1.21e-04 4.02e-08  1.09e+02    20s\n"
     ]
    },
    {
     "name": "stderr",
     "output_type": "stream",
     "text": [
      "  29   4.73428353e+09  4.69797836e+09  1.21e-04 4.02e-08  1.09e+02    20s\n"
     ]
    },
    {
     "name": "stdout",
     "output_type": "stream",
     "text": [
      "  30   4.71779616e+09  4.70238460e+09  3.50e-05 3.22e-08  4.62e+01    20s\n"
     ]
    },
    {
     "name": "stderr",
     "output_type": "stream",
     "text": [
      "  30   4.71779616e+09  4.70238460e+09  3.50e-05 3.22e-08  4.62e+01    20s\n"
     ]
    },
    {
     "name": "stdout",
     "output_type": "stream",
     "text": [
      "  31   4.71265664e+09  4.70785483e+09  9.00e-06 7.59e-09  1.44e+01    21s\n"
     ]
    },
    {
     "name": "stderr",
     "output_type": "stream",
     "text": [
      "  31   4.71265664e+09  4.70785483e+09  9.00e-06 7.59e-09  1.44e+01    21s\n"
     ]
    },
    {
     "name": "stdout",
     "output_type": "stream",
     "text": [
      "  32   4.71096652e+09  4.70982446e+09  1.34e-06 2.26e-08  3.41e+00    21s\n"
     ]
    },
    {
     "name": "stderr",
     "output_type": "stream",
     "text": [
      "  32   4.71096652e+09  4.70982446e+09  1.34e-06 2.26e-08  3.41e+00    21s\n"
     ]
    },
    {
     "name": "stdout",
     "output_type": "stream",
     "text": [
      "  33   4.71077419e+09  4.71043898e+09  8.83e-06 2.37e-08  1.00e+00    21s\n"
     ]
    },
    {
     "name": "stderr",
     "output_type": "stream",
     "text": [
      "  33   4.71077419e+09  4.71043898e+09  8.83e-06 2.37e-08  1.00e+00    21s\n"
     ]
    },
    {
     "name": "stdout",
     "output_type": "stream",
     "text": [
      "  34   4.71065749e+09  4.71054755e+09  2.61e-05 1.25e-08  3.29e-01    22s\n"
     ]
    },
    {
     "name": "stderr",
     "output_type": "stream",
     "text": [
      "  34   4.71065749e+09  4.71054755e+09  2.61e-05 1.25e-08  3.29e-01    22s\n"
     ]
    },
    {
     "name": "stdout",
     "output_type": "stream",
     "text": [
      "  35   4.71061855e+09  4.71059780e+09  1.37e-05 4.77e-08  6.21e-02    22s\n"
     ]
    },
    {
     "name": "stderr",
     "output_type": "stream",
     "text": [
      "  35   4.71061855e+09  4.71059780e+09  1.37e-05 4.77e-08  6.21e-02    22s\n"
     ]
    },
    {
     "name": "stdout",
     "output_type": "stream",
     "text": [
      "  36   4.71061124e+09  4.71060496e+09  6.76e-06 1.82e-08  1.88e-02    22s\n"
     ]
    },
    {
     "name": "stderr",
     "output_type": "stream",
     "text": [
      "  36   4.71061124e+09  4.71060496e+09  6.76e-06 1.82e-08  1.88e-02    22s\n"
     ]
    },
    {
     "name": "stdout",
     "output_type": "stream",
     "text": [
      "  37   4.71060931e+09  4.71060702e+09  3.35e-06 8.91e-09  6.86e-03    23s\n"
     ]
    },
    {
     "name": "stderr",
     "output_type": "stream",
     "text": [
      "  37   4.71060931e+09  4.71060702e+09  3.35e-06 8.91e-09  6.86e-03    23s\n"
     ]
    },
    {
     "name": "stdout",
     "output_type": "stream",
     "text": [
      "  38   4.71060799e+09  4.71060775e+09  7.56e-07 2.94e-08  7.23e-04    23s\n"
     ]
    },
    {
     "name": "stderr",
     "output_type": "stream",
     "text": [
      "  38   4.71060799e+09  4.71060775e+09  7.56e-07 2.94e-08  7.23e-04    23s\n"
     ]
    },
    {
     "name": "stdout",
     "output_type": "stream",
     "text": [
      "  39   4.71060779e+09  4.71060778e+09  3.84e-08 1.22e-07  2.64e-05    23s\n"
     ]
    },
    {
     "name": "stderr",
     "output_type": "stream",
     "text": [
      "  39   4.71060779e+09  4.71060778e+09  3.84e-08 1.22e-07  2.64e-05    23s\n"
     ]
    },
    {
     "name": "stdout",
     "output_type": "stream",
     "text": [
      "  40   4.71060778e+09  4.71060778e+09  6.36e-09 1.81e-08  1.57e-07    24s\n"
     ]
    },
    {
     "name": "stderr",
     "output_type": "stream",
     "text": [
      "  40   4.71060778e+09  4.71060778e+09  6.36e-09 1.81e-08  1.57e-07    24s\n"
     ]
    },
    {
     "name": "stdout",
     "output_type": "stream",
     "text": [
      "  41   4.71060778e+09  4.71060778e+09  7.64e-10 1.15e-08  2.23e-08    24s\n"
     ]
    },
    {
     "name": "stderr",
     "output_type": "stream",
     "text": [
      "  41   4.71060778e+09  4.71060778e+09  7.64e-10 1.15e-08  2.23e-08    24s\n"
     ]
    },
    {
     "name": "stdout",
     "output_type": "stream",
     "text": [
      "  42   4.71060778e+09  4.71060778e+09  3.39e-12 4.99e-08  1.02e-09    24s\n"
     ]
    },
    {
     "name": "stderr",
     "output_type": "stream",
     "text": [
      "  42   4.71060778e+09  4.71060778e+09  3.39e-12 4.99e-08  1.02e-09    24s\n"
     ]
    },
    {
     "name": "stdout",
     "output_type": "stream",
     "text": [
      "\n"
     ]
    },
    {
     "name": "stderr",
     "output_type": "stream",
     "text": [
      "\n"
     ]
    },
    {
     "name": "stdout",
     "output_type": "stream",
     "text": [
      "Barrier solved model in 42 iterations and 24.20 seconds (10.57 work units)\n"
     ]
    },
    {
     "name": "stderr",
     "output_type": "stream",
     "text": [
      "Barrier solved model in 42 iterations and 24.20 seconds (10.57 work units)\n"
     ]
    },
    {
     "name": "stdout",
     "output_type": "stream",
     "text": [
      "Optimal objective 4.71060778e+09\n"
     ]
    },
    {
     "name": "stderr",
     "output_type": "stream",
     "text": [
      "Optimal objective 4.71060778e+09\n"
     ]
    },
    {
     "name": "stdout",
     "output_type": "stream",
     "text": [
      "\n"
     ]
    },
    {
     "name": "stderr",
     "output_type": "stream",
     "text": [
      "\n"
     ]
    },
    {
     "name": "stdout",
     "output_type": "stream",
     "text": [
      "\n"
     ]
    },
    {
     "name": "stderr",
     "output_type": "stream",
     "text": [
      "\n"
     ]
    },
    {
     "name": "stdout",
     "output_type": "stream",
     "text": [
      "Root crossover log...\n"
     ]
    },
    {
     "name": "stderr",
     "output_type": "stream",
     "text": [
      "Root crossover log...\n"
     ]
    },
    {
     "name": "stdout",
     "output_type": "stream",
     "text": [
      "\n"
     ]
    },
    {
     "name": "stderr",
     "output_type": "stream",
     "text": [
      "\n"
     ]
    },
    {
     "name": "stdout",
     "output_type": "stream",
     "text": [
      "  165435 DPushes remaining with DInf 0.0000000e+00                25s\n"
     ]
    },
    {
     "name": "stderr",
     "output_type": "stream",
     "text": [
      "  165435 DPushes remaining with DInf 0.0000000e+00                25s\n"
     ]
    },
    {
     "name": "stdout",
     "output_type": "stream",
     "text": [
      "   62108 DPushes remaining with DInf 0.0000000e+00                25s\n"
     ]
    },
    {
     "name": "stderr",
     "output_type": "stream",
     "text": [
      "   62108 DPushes remaining with DInf 0.0000000e+00                25s\n"
     ]
    },
    {
     "name": "stdout",
     "output_type": "stream",
     "text": [
      "       0 DPushes remaining with DInf 8.8134470e-06                30s\n"
     ]
    },
    {
     "name": "stderr",
     "output_type": "stream",
     "text": [
      "       0 DPushes remaining with DInf 8.8134470e-06                30s\n"
     ]
    },
    {
     "name": "stdout",
     "output_type": "stream",
     "text": [
      "\n"
     ]
    },
    {
     "name": "stderr",
     "output_type": "stream",
     "text": [
      "\n"
     ]
    },
    {
     "name": "stdout",
     "output_type": "stream",
     "text": [
      "      24 PPushes remaining with PInf 0.0000000e+00                30s\n"
     ]
    },
    {
     "name": "stderr",
     "output_type": "stream",
     "text": [
      "      24 PPushes remaining with PInf 0.0000000e+00                30s\n"
     ]
    },
    {
     "name": "stdout",
     "output_type": "stream",
     "text": [
      "       0 PPushes remaining with PInf 0.0000000e+00                30s\n"
     ]
    },
    {
     "name": "stderr",
     "output_type": "stream",
     "text": [
      "       0 PPushes remaining with PInf 0.0000000e+00                30s\n"
     ]
    },
    {
     "name": "stdout",
     "output_type": "stream",
     "text": [
      "\n"
     ]
    },
    {
     "name": "stderr",
     "output_type": "stream",
     "text": [
      "\n"
     ]
    },
    {
     "name": "stdout",
     "output_type": "stream",
     "text": [
      "  Push phase complete: Pinf 0.0000000e+00, Dinf 2.5288127e-04     30s\n"
     ]
    },
    {
     "name": "stderr",
     "output_type": "stream",
     "text": [
      "  Push phase complete: Pinf 0.0000000e+00, Dinf 2.5288127e-04     30s\n"
     ]
    },
    {
     "name": "stdout",
     "output_type": "stream",
     "text": [
      "\n"
     ]
    },
    {
     "name": "stderr",
     "output_type": "stream",
     "text": [
      "\n"
     ]
    },
    {
     "name": "stdout",
     "output_type": "stream",
     "text": [
      "\n"
     ]
    },
    {
     "name": "stderr",
     "output_type": "stream",
     "text": [
      "\n"
     ]
    },
    {
     "name": "stdout",
     "output_type": "stream",
     "text": [
      "Root simplex log...\n"
     ]
    },
    {
     "name": "stderr",
     "output_type": "stream",
     "text": [
      "Root simplex log...\n"
     ]
    },
    {
     "name": "stdout",
     "output_type": "stream",
     "text": [
      "\n"
     ]
    },
    {
     "name": "stderr",
     "output_type": "stream",
     "text": [
      "\n"
     ]
    },
    {
     "name": "stdout",
     "output_type": "stream",
     "text": [
      "Iteration    Objective       Primal Inf.    Dual Inf.      Time\n"
     ]
    },
    {
     "name": "stderr",
     "output_type": "stream",
     "text": [
      "Iteration    Objective       Primal Inf.    Dual Inf.      Time\n"
     ]
    },
    {
     "name": "stdout",
     "output_type": "stream",
     "text": [
      "   74377    4.7106078e+09   0.000000e+00   2.528780e-04     31s\n"
     ]
    },
    {
     "name": "stderr",
     "output_type": "stream",
     "text": [
      "   74377    4.7106078e+09   0.000000e+00   2.528780e-04     31s\n"
     ]
    },
    {
     "name": "stdout",
     "output_type": "stream",
     "text": [
      "   74380    4.7106078e+09   0.000000e+00   0.000000e+00     31s\n"
     ]
    },
    {
     "name": "stderr",
     "output_type": "stream",
     "text": [
      "   74380    4.7106078e+09   0.000000e+00   0.000000e+00     31s\n"
     ]
    },
    {
     "name": "stdout",
     "output_type": "stream",
     "text": [
      "   74380    4.7106078e+09   0.000000e+00   0.000000e+00     31s\n"
     ]
    },
    {
     "name": "stderr",
     "output_type": "stream",
     "text": [
      "   74380    4.7106078e+09   0.000000e+00   0.000000e+00     31s\n"
     ]
    },
    {
     "name": "stdout",
     "output_type": "stream",
     "text": [
      "Concurrent spin time: 0.01s\n"
     ]
    },
    {
     "name": "stderr",
     "output_type": "stream",
     "text": [
      "Concurrent spin time: 0.01s\n"
     ]
    },
    {
     "name": "stdout",
     "output_type": "stream",
     "text": [
      "\n"
     ]
    },
    {
     "name": "stderr",
     "output_type": "stream",
     "text": [
      "\n"
     ]
    },
    {
     "name": "stdout",
     "output_type": "stream",
     "text": [
      "Solved with barrier\n"
     ]
    },
    {
     "name": "stderr",
     "output_type": "stream",
     "text": [
      "Solved with barrier\n"
     ]
    },
    {
     "name": "stdout",
     "output_type": "stream",
     "text": [
      "\n"
     ]
    },
    {
     "name": "stderr",
     "output_type": "stream",
     "text": [
      "\n"
     ]
    },
    {
     "name": "stdout",
     "output_type": "stream",
     "text": [
      "Root relaxation: objective 4.710608e+09, 74380 iterations, 22.88 seconds (8.81 work units)\n"
     ]
    },
    {
     "name": "stderr",
     "output_type": "stream",
     "text": [
      "Root relaxation: objective 4.710608e+09, 74380 iterations, 22.88 seconds (8.81 work units)\n"
     ]
    },
    {
     "name": "stdout",
     "output_type": "stream",
     "text": [
      "\n"
     ]
    },
    {
     "name": "stderr",
     "output_type": "stream",
     "text": [
      "\n"
     ]
    },
    {
     "name": "stdout",
     "output_type": "stream",
     "text": [
      "    Nodes    |    Current Node    |     Objective Bounds      |     Work\n"
     ]
    },
    {
     "name": "stderr",
     "output_type": "stream",
     "text": [
      "    Nodes    |    Current Node    |     Objective Bounds      |     Work\n"
     ]
    },
    {
     "name": "stdout",
     "output_type": "stream",
     "text": [
      " Expl Unexpl |  Obj  Depth IntInf | Incumbent    BestBd   Gap | It/Node Time\n"
     ]
    },
    {
     "name": "stderr",
     "output_type": "stream",
     "text": [
      " Expl Unexpl |  Obj  Depth IntInf | Incumbent    BestBd   Gap | It/Node Time\n"
     ]
    },
    {
     "name": "stdout",
     "output_type": "stream",
     "text": [
      "\n"
     ]
    },
    {
     "name": "stderr",
     "output_type": "stream",
     "text": [
      "\n"
     ]
    },
    {
     "name": "stdout",
     "output_type": "stream",
     "text": [
      "*    0     0               0    4.710608e+09 4.7106e+09  0.00%     -   32s\n"
     ]
    },
    {
     "name": "stderr",
     "output_type": "stream",
     "text": [
      "*    0     0               0    4.710608e+09 4.7106e+09  0.00%     -   32s\n"
     ]
    },
    {
     "name": "stdout",
     "output_type": "stream",
     "text": [
      "\n"
     ]
    },
    {
     "name": "stderr",
     "output_type": "stream",
     "text": [
      "\n"
     ]
    },
    {
     "name": "stdout",
     "output_type": "stream",
     "text": [
      "Explored 1 nodes (74380 simplex iterations) in 34.51 seconds (15.27 work units)\n"
     ]
    },
    {
     "name": "stderr",
     "output_type": "stream",
     "text": [
      "Explored 1 nodes (74380 simplex iterations) in 34.51 seconds (15.27 work units)\n"
     ]
    },
    {
     "name": "stdout",
     "output_type": "stream",
     "text": [
      "Thread count was 12 (of 12 available processors)\n"
     ]
    },
    {
     "name": "stderr",
     "output_type": "stream",
     "text": [
      "Thread count was 12 (of 12 available processors)\n"
     ]
    },
    {
     "name": "stdout",
     "output_type": "stream",
     "text": [
      "\n"
     ]
    },
    {
     "name": "stderr",
     "output_type": "stream",
     "text": [
      "\n"
     ]
    },
    {
     "name": "stdout",
     "output_type": "stream",
     "text": [
      "Solution count 1: 4.71061e+09 \n"
     ]
    },
    {
     "name": "stderr",
     "output_type": "stream",
     "text": [
      "Solution count 1: 4.71061e+09 \n"
     ]
    },
    {
     "name": "stdout",
     "output_type": "stream",
     "text": [
      "\n"
     ]
    },
    {
     "name": "stderr",
     "output_type": "stream",
     "text": [
      "\n"
     ]
    },
    {
     "name": "stdout",
     "output_type": "stream",
     "text": [
      "Optimal solution found (tolerance 2.00e-02)\n"
     ]
    },
    {
     "name": "stderr",
     "output_type": "stream",
     "text": [
      "Optimal solution found (tolerance 2.00e-02)\n"
     ]
    },
    {
     "name": "stdout",
     "output_type": "stream",
     "text": [
      "Warning: max constraint violation (9.9717e-06) exceeds tolerance\n"
     ]
    },
    {
     "name": "stderr",
     "output_type": "stream",
     "text": [
      "Warning: max constraint violation (9.9717e-06) exceeds tolerance\n"
     ]
    },
    {
     "name": "stdout",
     "output_type": "stream",
     "text": [
      "Best objective 4.710607781837e+09, best bound 4.710607781837e+09, gap 0.0000%\n"
     ]
    },
    {
     "name": "stderr",
     "output_type": "stream",
     "text": [
      "Best objective 4.710607781837e+09, best bound 4.710607781837e+09, gap 0.0000%\n"
     ]
    },
    {
     "name": "stdout",
     "output_type": "stream",
     "text": [
      "Set parameter LogFile to value \"\"\n"
     ]
    },
    {
     "name": "stderr",
     "output_type": "stream",
     "text": [
      "Set parameter LogFile to value \"\"\n",
      "Writing results to userData\\20250922153525-1\n"
     ]
    },
    {
     "name": "stdout",
     "output_type": "stream",
     "text": [
      "# ==========================================================\n",
      "# = Solver Results                                         =\n",
      "# ==========================================================\n",
      "# ----------------------------------------------------------\n",
      "#   Problem Information\n",
      "# ----------------------------------------------------------\n",
      "Problem: \n",
      "- Name: unknown\n",
      "  Lower bound: 4710607781.837357\n",
      "  Upper bound: 4710607781.837374\n",
      "  Number of objectives: 1\n",
      "  Number of constraints: 734326\n",
      "  Number of variables: 571083\n",
      "  Number of binary variables: 36040\n",
      "  Number of integer variables: 41087\n",
      "  Number of continuous variables: 493956\n",
      "  Number of nonzeros: 1730379\n",
      "  Sense: minimize\n",
      "  Number of solutions: 1\n",
      "# ----------------------------------------------------------\n",
      "#   Solver Information\n",
      "# ----------------------------------------------------------\n",
      "Solver: \n",
      "- Name: Gurobi 12.02\n",
      "  Status: ok\n",
      "  Wallclock time: 34.61899995803833\n",
      "  Termination condition: optimal\n",
      "  Termination message: Model was solved to optimality (subject to tolerances), and an optimal solution is available.\n",
      "# ----------------------------------------------------------\n",
      "#   Solution Information\n",
      "# ----------------------------------------------------------\n",
      "Solution: \n",
      "- number of solutions: 0\n",
      "  number of solutions displayed: 0\n"
     ]
    },
    {
     "name": "stderr",
     "output_type": "stream",
     "text": [
      "Solving model completed in 101 s\n"
     ]
    }
   ],
   "source": [
    "# Run the optimization model with the baseline scenario (no ETS)\n",
    "m = adopt.ModelHub()\n",
    "m.read_data(input_data_path)\n",
    "m.quick_solve()"
   ]
  },
  {
   "cell_type": "markdown",
   "id": "c487e9dd",
   "metadata": {},
   "source": [
    "The polices of the ETS1 (POWER SECTOR CARBON PRICING)"
   ]
  },
  {
   "cell_type": "code",
   "execution_count": 14,
   "id": "e49ba392",
   "metadata": {},
   "outputs": [
    {
     "name": "stderr",
     "output_type": "stream",
     "text": [
      "--- Reading in data ---\n",
      "Input data folder has been checked successfully - no errors occurred.\n",
      "Reading data from macro_decarbonisation\n",
      "Topology read successfully\n",
      "Model Configuration read successfully\n"
     ]
    },
    {
     "name": "stdout",
     "output_type": "stream",
     "text": [
      "Implementing ETS1 carbon pricing for power sector...\n"
     ]
    },
    {
     "name": "stderr",
     "output_type": "stream",
     "text": [
      "Time series read successfully\n",
      "Node Locations read successfully\n",
      "Energy balance options read successfully\n",
      "Deriving performance data for Heat Pump...\n"
     ]
    },
    {
     "name": "stdout",
     "output_type": "stream",
     "text": [
      "Complete:  99.0 %Complete:  100 %\n"
     ]
    },
    {
     "name": "stderr",
     "output_type": "stream",
     "text": [
      "Deriving performance data for Heat Pump...\n"
     ]
    },
    {
     "name": "stdout",
     "output_type": "stream",
     "text": [
      "Complete:  99.0 %Complete:  100 %\n"
     ]
    },
    {
     "name": "stderr",
     "output_type": "stream",
     "text": [
      "Deriving performance data for Heat Pump...\n"
     ]
    },
    {
     "name": "stdout",
     "output_type": "stream",
     "text": [
      "Complete:  99.0 %Complete:  100 %\n"
     ]
    },
    {
     "name": "stderr",
     "output_type": "stream",
     "text": [
      "Deriving performance data for Heat Pump...\n"
     ]
    },
    {
     "name": "stdout",
     "output_type": "stream",
     "text": [
      "Complete:  99.0 %Complete:  100 %\n"
     ]
    },
    {
     "name": "stderr",
     "output_type": "stream",
     "text": [
      "Deriving performance data for Heat Pump...\n"
     ]
    },
    {
     "name": "stdout",
     "output_type": "stream",
     "text": [
      "Complete:  99.0 %Complete:  100 %\n"
     ]
    },
    {
     "name": "stderr",
     "output_type": "stream",
     "text": [
      "Technology data read successfully\n",
      "Network data read successfully\n",
      "Clustered data successfully\n",
      "--- Reading in data complete ---\n",
      "--- Constructing Model ---\n",
      "Constructing Investment Period period1\n",
      "Constructing Investment Period period1 completed\n",
      "\t - Constructing Network electricityOnshore\n",
      "\t\t\tgdp.bigm Transformation...\n",
      "\t\t\tgdp.bigm Transformation completed in 0 s\n",
      "\t\t - Constructing Arc northwest - northeast completed\n",
      "\t\t\tgdp.bigm Transformation...\n",
      "\t\t\tgdp.bigm Transformation completed in 0 s\n",
      "\t\t - Constructing Arc northwest - center completed\n",
      "\t\t\tgdp.bigm Transformation...\n",
      "\t\t\tgdp.bigm Transformation completed in 0 s\n",
      "\t\t - Constructing Arc northwest - south completed\n",
      "\t\t\tgdp.bigm Transformation...\n",
      "\t\t\tgdp.bigm Transformation completed in 0 s\n",
      "\t\t - Constructing Arc northwest - islands completed\n",
      "\t\t\tgdp.bigm Transformation...\n",
      "\t\t\tgdp.bigm Transformation completed in 0 s\n",
      "\t\t - Constructing Arc northeast - northwest completed\n",
      "\t\t\tgdp.bigm Transformation...\n",
      "\t\t\tgdp.bigm Transformation completed in 0 s\n",
      "\t\t - Constructing Arc northeast - center completed\n",
      "\t\t\tgdp.bigm Transformation...\n",
      "\t\t\tgdp.bigm Transformation completed in 0 s\n",
      "\t\t - Constructing Arc northeast - south completed\n",
      "\t\t\tgdp.bigm Transformation...\n",
      "\t\t\tgdp.bigm Transformation completed in 0 s\n",
      "\t\t - Constructing Arc northeast - islands completed\n",
      "\t\t\tgdp.bigm Transformation...\n",
      "\t\t\tgdp.bigm Transformation completed in 0 s\n",
      "\t\t - Constructing Arc center - northwest completed\n",
      "\t\t\tgdp.bigm Transformation...\n",
      "\t\t\tgdp.bigm Transformation completed in 0 s\n",
      "\t\t - Constructing Arc center - northeast completed\n",
      "\t\t\tgdp.bigm Transformation...\n",
      "\t\t\tgdp.bigm Transformation completed in 0 s\n",
      "\t\t - Constructing Arc center - south completed\n",
      "\t\t\tgdp.bigm Transformation...\n",
      "\t\t\tgdp.bigm Transformation completed in 0 s\n",
      "\t\t - Constructing Arc center - islands completed\n",
      "\t\t\tgdp.bigm Transformation...\n",
      "\t\t\tgdp.bigm Transformation completed in 0 s\n",
      "\t\t - Constructing Arc south - northwest completed\n",
      "\t\t\tgdp.bigm Transformation...\n",
      "\t\t\tgdp.bigm Transformation completed in 0 s\n",
      "\t\t - Constructing Arc south - northeast completed\n",
      "\t\t\tgdp.bigm Transformation...\n",
      "\t\t\tgdp.bigm Transformation completed in 0 s\n",
      "\t\t - Constructing Arc south - center completed\n",
      "\t\t\tgdp.bigm Transformation...\n",
      "\t\t\tgdp.bigm Transformation completed in 0 s\n",
      "\t\t - Constructing Arc south - islands completed\n",
      "\t\t\tgdp.bigm Transformation...\n",
      "\t\t\tgdp.bigm Transformation completed in 0 s\n",
      "\t\t - Constructing Arc islands - northwest completed\n",
      "\t\t\tgdp.bigm Transformation...\n",
      "\t\t\tgdp.bigm Transformation completed in 0 s\n",
      "\t\t - Constructing Arc islands - northeast completed\n",
      "\t\t\tgdp.bigm Transformation...\n",
      "\t\t\tgdp.bigm Transformation completed in 0 s\n",
      "\t\t - Constructing Arc islands - center completed\n",
      "\t\t\tgdp.bigm Transformation...\n",
      "\t\t\tgdp.bigm Transformation completed in 0 s\n",
      "\t\t - Constructing Arc islands - south completed\n",
      "\t - Constructing Network electricityOnshore completed\n",
      "\t\t\tgdp.bigm Transformation...\n",
      "\t\t\tgdp.bigm Transformation completed in 9 s\n",
      "\t - Constructing Network electricityOnshore_existing\n",
      "\t\t - Constructing Arc northwest - northeast completed\n",
      "\t\t - Constructing Arc northwest - center completed\n",
      "\t\t - Constructing Arc northeast - northwest completed\n",
      "\t\t - Constructing Arc northeast - center completed\n",
      "\t\t - Constructing Arc center - northwest completed\n",
      "\t\t - Constructing Arc center - northeast completed\n",
      "\t\t - Constructing Arc center - south completed\n",
      "\t\t - Constructing Arc south - center completed\n",
      "\t\t - Constructing Arc south - islands completed\n",
      "\t\t - Constructing Arc islands - south completed\n",
      "\t - Constructing Network electricityOnshore_existing completed\n",
      "\t\t\tgdp.bigm Transformation...\n",
      "\t\t\tgdp.bigm Transformation completed in 5 s\n",
      "\t - Adding Technology HeatPump_AirSourced\n",
      "\t - Adding Technology Storage_Battery\n",
      "\t\t\tgdp.bigm Transformation...\n",
      "\t\t\tgdp.bigm Transformation completed in 1 s\n",
      "\t - Adding Technology Photovoltaic\n",
      "\t - Adding Technology WindTurbine_Onshore_4000\n",
      "\t - Adding Technology Storage_H2\n",
      "\t\t\tgdp.bigm Transformation...\n",
      "\t\t\tgdp.bigm Transformation completed in 1 s\n",
      "\t - Adding Technology Boiler_Small_NG_existing\n",
      "\t - Adding Technology GasTurbine_simple_existing\n",
      "\t - Adding Technology HeatPump_AirSourced\n",
      "\t - Adding Technology Storage_Battery\n",
      "\t\t\tgdp.bigm Transformation...\n",
      "\t\t\tgdp.bigm Transformation completed in 1 s\n",
      "\t - Adding Technology Photovoltaic\n",
      "\t - Adding Technology WindTurbine_Onshore_4000\n",
      "\t - Adding Technology Storage_H2\n",
      "\t\t\tgdp.bigm Transformation...\n",
      "\t\t\tgdp.bigm Transformation completed in 1 s\n",
      "\t - Adding Technology Boiler_Small_NG_existing\n",
      "\t - Adding Technology GasTurbine_simple_existing\n",
      "\t - Adding Technology HeatPump_AirSourced\n",
      "\t - Adding Technology Storage_Battery\n",
      "\t\t\tgdp.bigm Transformation...\n",
      "\t\t\tgdp.bigm Transformation completed in 1 s\n",
      "\t - Adding Technology Photovoltaic\n",
      "\t - Adding Technology WindTurbine_Onshore_4000\n",
      "\t - Adding Technology Storage_H2\n",
      "\t\t\tgdp.bigm Transformation...\n",
      "\t\t\tgdp.bigm Transformation completed in 1 s\n",
      "\t - Adding Technology Boiler_Small_NG_existing\n",
      "\t - Adding Technology GasTurbine_simple_existing\n",
      "\t - Adding Technology HeatPump_AirSourced\n",
      "\t - Adding Technology Storage_Battery\n",
      "\t\t\tgdp.bigm Transformation...\n",
      "\t\t\tgdp.bigm Transformation completed in 2 s\n",
      "\t - Adding Technology Photovoltaic\n",
      "\t - Adding Technology WindTurbine_Onshore_4000\n",
      "\t - Adding Technology WindTurbine_Offshore_9500\n",
      "\t - Adding Technology Storage_H2\n",
      "\t\t\tgdp.bigm Transformation...\n",
      "\t\t\tgdp.bigm Transformation completed in 1 s\n",
      "\t - Adding Technology Boiler_Small_NG_existing\n",
      "\t - Adding Technology GasTurbine_simple_existing\n",
      "\t - Adding Technology HeatPump_AirSourced\n",
      "\t - Adding Technology Storage_Battery\n",
      "\t\t\tgdp.bigm Transformation...\n",
      "\t\t\tgdp.bigm Transformation completed in 1 s\n",
      "\t - Adding Technology Photovoltaic\n",
      "\t - Adding Technology WindTurbine_Onshore_4000\n",
      "\t - Adding Technology WindTurbine_Offshore_9500\n",
      "\t - Adding Technology Storage_H2\n",
      "\t\t\tgdp.bigm Transformation...\n",
      "\t\t\tgdp.bigm Transformation completed in 1 s\n",
      "\t - Adding Technology Boiler_Small_NG_existing\n",
      "\t - Adding Technology GasTurbine_simple_existing\n",
      "Constructing model completed in 333s\n",
      "Constructing balances...\n",
      "Constructing balances completed in 16s\n",
      "Set objective on cost\n",
      "Solving Model...\n"
     ]
    },
    {
     "name": "stdout",
     "output_type": "stream",
     "text": [
      "Set parameter OutputFlag to value 1\n"
     ]
    },
    {
     "name": "stderr",
     "output_type": "stream",
     "text": [
      "Set parameter OutputFlag to value 1\n"
     ]
    },
    {
     "name": "stdout",
     "output_type": "stream",
     "text": [
      "Set parameter LogFile to value \"userData\\20250829133457-1\\solver_log.txt\"\n"
     ]
    },
    {
     "name": "stderr",
     "output_type": "stream",
     "text": [
      "Set parameter LogFile to value \"userData\\20250829133457-1\\solver_log.txt\"\n"
     ]
    },
    {
     "name": "stdout",
     "output_type": "stream",
     "text": [
      "Solver log file: userData\\20250829133457-1\\solver_log.txt\n",
      "Set parameter TimeLimit to value 36000\n"
     ]
    },
    {
     "name": "stderr",
     "output_type": "stream",
     "text": [
      "Set parameter TimeLimit to value 36000\n"
     ]
    },
    {
     "name": "stdout",
     "output_type": "stream",
     "text": [
      "Set parameter MIPGap to value 0.02\n"
     ]
    },
    {
     "name": "stderr",
     "output_type": "stream",
     "text": [
      "Set parameter MIPGap to value 0.02\n"
     ]
    },
    {
     "name": "stdout",
     "output_type": "stream",
     "text": [
      "Set parameter MIPFocus to value 0\n"
     ]
    },
    {
     "name": "stderr",
     "output_type": "stream",
     "text": [
      "Set parameter MIPFocus to value 0\n"
     ]
    },
    {
     "name": "stdout",
     "output_type": "stream",
     "text": [
      "Set parameter Threads to value 0\n"
     ]
    },
    {
     "name": "stderr",
     "output_type": "stream",
     "text": [
      "Set parameter Threads to value 0\n"
     ]
    },
    {
     "name": "stdout",
     "output_type": "stream",
     "text": [
      "Set parameter NodefileStart to value 60\n"
     ]
    },
    {
     "name": "stderr",
     "output_type": "stream",
     "text": [
      "Set parameter NodefileStart to value 60\n"
     ]
    },
    {
     "name": "stdout",
     "output_type": "stream",
     "text": [
      "Set parameter Method to value -1\n"
     ]
    },
    {
     "name": "stderr",
     "output_type": "stream",
     "text": [
      "Set parameter Method to value -1\n"
     ]
    },
    {
     "name": "stdout",
     "output_type": "stream",
     "text": [
      "Set parameter Heuristics to value 0.05\n"
     ]
    },
    {
     "name": "stderr",
     "output_type": "stream",
     "text": [
      "Set parameter Heuristics to value 0.05\n"
     ]
    },
    {
     "name": "stdout",
     "output_type": "stream",
     "text": [
      "Set parameter Presolve to value -1\n"
     ]
    },
    {
     "name": "stderr",
     "output_type": "stream",
     "text": [
      "Set parameter Presolve to value -1\n"
     ]
    },
    {
     "name": "stdout",
     "output_type": "stream",
     "text": [
      "Set parameter BranchDir to value 0\n"
     ]
    },
    {
     "name": "stderr",
     "output_type": "stream",
     "text": [
      "Set parameter BranchDir to value 0\n"
     ]
    },
    {
     "name": "stdout",
     "output_type": "stream",
     "text": [
      "Set parameter LPWarmStart to value 0\n"
     ]
    },
    {
     "name": "stderr",
     "output_type": "stream",
     "text": [
      "Set parameter LPWarmStart to value 0\n"
     ]
    },
    {
     "name": "stdout",
     "output_type": "stream",
     "text": [
      "Set parameter IntFeasTol to value 1e-05\n"
     ]
    },
    {
     "name": "stderr",
     "output_type": "stream",
     "text": [
      "Set parameter IntFeasTol to value 1e-05\n"
     ]
    },
    {
     "name": "stdout",
     "output_type": "stream",
     "text": [
      "Set parameter FeasibilityTol to value 1e-06\n"
     ]
    },
    {
     "name": "stderr",
     "output_type": "stream",
     "text": [
      "Set parameter FeasibilityTol to value 1e-06\n"
     ]
    },
    {
     "name": "stdout",
     "output_type": "stream",
     "text": [
      "Set parameter Cuts to value -1\n"
     ]
    },
    {
     "name": "stderr",
     "output_type": "stream",
     "text": [
      "Set parameter Cuts to value -1\n"
     ]
    },
    {
     "name": "stdout",
     "output_type": "stream",
     "text": [
      "Set parameter NumericFocus to value 0\n"
     ]
    },
    {
     "name": "stderr",
     "output_type": "stream",
     "text": [
      "Set parameter NumericFocus to value 0\n"
     ]
    },
    {
     "name": "stdout",
     "output_type": "stream",
     "text": [
      "Gurobi Optimizer version 12.0.2 build v12.0.2rc0 (win64 - Windows 11.0 (26100.2))\n"
     ]
    },
    {
     "name": "stderr",
     "output_type": "stream",
     "text": [
      "Gurobi Optimizer version 12.0.2 build v12.0.2rc0 (win64 - Windows 11.0 (26100.2))\n"
     ]
    },
    {
     "name": "stdout",
     "output_type": "stream",
     "text": [
      "\n"
     ]
    },
    {
     "name": "stderr",
     "output_type": "stream",
     "text": [
      "\n"
     ]
    },
    {
     "name": "stdout",
     "output_type": "stream",
     "text": [
      "CPU model: 13th Gen Intel(R) Core(TM) i7-1355U, instruction set [SSE2|AVX|AVX2]\n"
     ]
    },
    {
     "name": "stderr",
     "output_type": "stream",
     "text": [
      "CPU model: 13th Gen Intel(R) Core(TM) i7-1355U, instruction set [SSE2|AVX|AVX2]\n"
     ]
    },
    {
     "name": "stdout",
     "output_type": "stream",
     "text": [
      "Thread count: 10 physical cores, 12 logical processors, using up to 12 threads\n"
     ]
    },
    {
     "name": "stderr",
     "output_type": "stream",
     "text": [
      "Thread count: 10 physical cores, 12 logical processors, using up to 12 threads\n"
     ]
    },
    {
     "name": "stdout",
     "output_type": "stream",
     "text": [
      "\n"
     ]
    },
    {
     "name": "stderr",
     "output_type": "stream",
     "text": [
      "\n"
     ]
    },
    {
     "name": "stdout",
     "output_type": "stream",
     "text": [
      "Non-default parameters:\n"
     ]
    },
    {
     "name": "stderr",
     "output_type": "stream",
     "text": [
      "Non-default parameters:\n"
     ]
    },
    {
     "name": "stdout",
     "output_type": "stream",
     "text": [
      "TimeLimit  36000\n"
     ]
    },
    {
     "name": "stderr",
     "output_type": "stream",
     "text": [
      "TimeLimit  36000\n"
     ]
    },
    {
     "name": "stdout",
     "output_type": "stream",
     "text": [
      "MIPGap  0.02\n"
     ]
    },
    {
     "name": "stderr",
     "output_type": "stream",
     "text": [
      "MIPGap  0.02\n"
     ]
    },
    {
     "name": "stdout",
     "output_type": "stream",
     "text": [
      "LPWarmStart  0\n"
     ]
    },
    {
     "name": "stderr",
     "output_type": "stream",
     "text": [
      "LPWarmStart  0\n"
     ]
    },
    {
     "name": "stdout",
     "output_type": "stream",
     "text": [
      "NodefileStart  60\n"
     ]
    },
    {
     "name": "stderr",
     "output_type": "stream",
     "text": [
      "NodefileStart  60\n"
     ]
    },
    {
     "name": "stdout",
     "output_type": "stream",
     "text": [
      "\n"
     ]
    },
    {
     "name": "stderr",
     "output_type": "stream",
     "text": [
      "\n"
     ]
    },
    {
     "name": "stdout",
     "output_type": "stream",
     "text": [
      "Optimize a model with 734326 rows, 571083 columns and 1767866 nonzeros\n"
     ]
    },
    {
     "name": "stderr",
     "output_type": "stream",
     "text": [
      "Optimize a model with 734326 rows, 571083 columns and 1767866 nonzeros\n"
     ]
    },
    {
     "name": "stdout",
     "output_type": "stream",
     "text": [
      "Model fingerprint: 0xe886142c\n"
     ]
    },
    {
     "name": "stderr",
     "output_type": "stream",
     "text": [
      "Model fingerprint: 0xe886142c\n"
     ]
    },
    {
     "name": "stdout",
     "output_type": "stream",
     "text": [
      "Variable types: 529996 continuous, 41087 integer (36040 binary)\n"
     ]
    },
    {
     "name": "stderr",
     "output_type": "stream",
     "text": [
      "Variable types: 529996 continuous, 41087 integer (36040 binary)\n"
     ]
    },
    {
     "name": "stdout",
     "output_type": "stream",
     "text": [
      "Coefficient statistics:\n"
     ]
    },
    {
     "name": "stderr",
     "output_type": "stream",
     "text": [
      "Coefficient statistics:\n"
     ]
    },
    {
     "name": "stdout",
     "output_type": "stream",
     "text": [
      "  Matrix range     [1e-06, 4e+08]\n"
     ]
    },
    {
     "name": "stderr",
     "output_type": "stream",
     "text": [
      "  Matrix range     [1e-06, 4e+08]\n"
     ]
    },
    {
     "name": "stdout",
     "output_type": "stream",
     "text": [
      "  Objective range  [1e+00, 1e+00]\n"
     ]
    },
    {
     "name": "stderr",
     "output_type": "stream",
     "text": [
      "  Objective range  [1e+00, 1e+00]\n"
     ]
    },
    {
     "name": "stdout",
     "output_type": "stream",
     "text": [
      "  Bounds range     [1e-03, 2e+12]\n"
     ]
    },
    {
     "name": "stderr",
     "output_type": "stream",
     "text": [
      "  Bounds range     [1e-03, 2e+12]\n"
     ]
    },
    {
     "name": "stdout",
     "output_type": "stream",
     "text": [
      "  RHS range        [1e+00, 4e+08]\n"
     ]
    },
    {
     "name": "stderr",
     "output_type": "stream",
     "text": [
      "  RHS range        [1e+00, 4e+08]\n"
     ]
    },
    {
     "name": "stdout",
     "output_type": "stream",
     "text": [
      "Warning: Model contains large matrix coefficient range\n"
     ]
    },
    {
     "name": "stderr",
     "output_type": "stream",
     "text": [
      "Warning: Model contains large matrix coefficient range\n"
     ]
    },
    {
     "name": "stdout",
     "output_type": "stream",
     "text": [
      "Warning: Model contains large bounds\n"
     ]
    },
    {
     "name": "stderr",
     "output_type": "stream",
     "text": [
      "Warning: Model contains large bounds\n"
     ]
    },
    {
     "name": "stdout",
     "output_type": "stream",
     "text": [
      "         Consider reformulating model or setting NumericFocus parameter\n"
     ]
    },
    {
     "name": "stderr",
     "output_type": "stream",
     "text": [
      "         Consider reformulating model or setting NumericFocus parameter\n"
     ]
    },
    {
     "name": "stdout",
     "output_type": "stream",
     "text": [
      "         to avoid numerical issues.\n"
     ]
    },
    {
     "name": "stderr",
     "output_type": "stream",
     "text": [
      "         to avoid numerical issues.\n"
     ]
    },
    {
     "name": "stdout",
     "output_type": "stream",
     "text": [
      "Presolve removed 528778 rows and 452804 columns\n"
     ]
    },
    {
     "name": "stderr",
     "output_type": "stream",
     "text": [
      "Presolve removed 528778 rows and 452804 columns\n"
     ]
    },
    {
     "name": "stdout",
     "output_type": "stream",
     "text": [
      "Presolve time: 4.32s\n"
     ]
    },
    {
     "name": "stderr",
     "output_type": "stream",
     "text": [
      "Presolve time: 4.32s\n"
     ]
    },
    {
     "name": "stdout",
     "output_type": "stream",
     "text": [
      "Presolved: 205548 rows, 118279 columns, 635078 nonzeros\n"
     ]
    },
    {
     "name": "stderr",
     "output_type": "stream",
     "text": [
      "Presolved: 205548 rows, 118279 columns, 635078 nonzeros\n"
     ]
    },
    {
     "name": "stdout",
     "output_type": "stream",
     "text": [
      "Variable types: 99658 continuous, 18621 integer (14410 binary)\n"
     ]
    },
    {
     "name": "stderr",
     "output_type": "stream",
     "text": [
      "Variable types: 99658 continuous, 18621 integer (14410 binary)\n"
     ]
    },
    {
     "name": "stdout",
     "output_type": "stream",
     "text": [
      "\n"
     ]
    },
    {
     "name": "stderr",
     "output_type": "stream",
     "text": [
      "\n"
     ]
    },
    {
     "name": "stdout",
     "output_type": "stream",
     "text": [
      "Deterministic concurrent LP optimizer: primal simplex, dual simplex, and barrier\n"
     ]
    },
    {
     "name": "stderr",
     "output_type": "stream",
     "text": [
      "Deterministic concurrent LP optimizer: primal simplex, dual simplex, and barrier\n"
     ]
    },
    {
     "name": "stdout",
     "output_type": "stream",
     "text": [
      "Showing barrier log only...\n"
     ]
    },
    {
     "name": "stderr",
     "output_type": "stream",
     "text": [
      "Showing barrier log only...\n"
     ]
    },
    {
     "name": "stdout",
     "output_type": "stream",
     "text": [
      "\n"
     ]
    },
    {
     "name": "stderr",
     "output_type": "stream",
     "text": [
      "\n"
     ]
    },
    {
     "name": "stdout",
     "output_type": "stream",
     "text": [
      "Root barrier log...\n"
     ]
    },
    {
     "name": "stderr",
     "output_type": "stream",
     "text": [
      "Root barrier log...\n"
     ]
    },
    {
     "name": "stdout",
     "output_type": "stream",
     "text": [
      "\n"
     ]
    },
    {
     "name": "stderr",
     "output_type": "stream",
     "text": [
      "\n"
     ]
    },
    {
     "name": "stdout",
     "output_type": "stream",
     "text": [
      "Ordering time: 0.57s\n"
     ]
    },
    {
     "name": "stderr",
     "output_type": "stream",
     "text": [
      "Ordering time: 0.57s\n"
     ]
    },
    {
     "name": "stdout",
     "output_type": "stream",
     "text": [
      "\n"
     ]
    },
    {
     "name": "stderr",
     "output_type": "stream",
     "text": [
      "\n"
     ]
    },
    {
     "name": "stdout",
     "output_type": "stream",
     "text": [
      "Barrier statistics:\n"
     ]
    },
    {
     "name": "stderr",
     "output_type": "stream",
     "text": [
      "Barrier statistics:\n"
     ]
    },
    {
     "name": "stdout",
     "output_type": "stream",
     "text": [
      " Dense cols : 37\n"
     ]
    },
    {
     "name": "stderr",
     "output_type": "stream",
     "text": [
      " Dense cols : 37\n"
     ]
    },
    {
     "name": "stdout",
     "output_type": "stream",
     "text": [
      " AA' NZ     : 1.417e+06\n"
     ]
    },
    {
     "name": "stderr",
     "output_type": "stream",
     "text": [
      " AA' NZ     : 1.417e+06\n"
     ]
    },
    {
     "name": "stdout",
     "output_type": "stream",
     "text": [
      " Factor NZ  : 6.077e+06 (roughly 170 MB of memory)\n"
     ]
    },
    {
     "name": "stderr",
     "output_type": "stream",
     "text": [
      " Factor NZ  : 6.077e+06 (roughly 170 MB of memory)\n"
     ]
    },
    {
     "name": "stdout",
     "output_type": "stream",
     "text": [
      " Factor Ops : 7.339e+08 (less than 1 second per iteration)\n"
     ]
    },
    {
     "name": "stderr",
     "output_type": "stream",
     "text": [
      " Factor Ops : 7.339e+08 (less than 1 second per iteration)\n"
     ]
    },
    {
     "name": "stdout",
     "output_type": "stream",
     "text": [
      " Threads    : 7\n"
     ]
    },
    {
     "name": "stderr",
     "output_type": "stream",
     "text": [
      " Threads    : 7\n"
     ]
    },
    {
     "name": "stdout",
     "output_type": "stream",
     "text": [
      "\n"
     ]
    },
    {
     "name": "stderr",
     "output_type": "stream",
     "text": [
      "\n"
     ]
    },
    {
     "name": "stdout",
     "output_type": "stream",
     "text": [
      "                  Objective                Residual\n"
     ]
    },
    {
     "name": "stderr",
     "output_type": "stream",
     "text": [
      "                  Objective                Residual\n"
     ]
    },
    {
     "name": "stdout",
     "output_type": "stream",
     "text": [
      "Iter       Primal          Dual         Primal    Dual     Compl     Time\n"
     ]
    },
    {
     "name": "stderr",
     "output_type": "stream",
     "text": [
      "Iter       Primal          Dual         Primal    Dual     Compl     Time\n"
     ]
    },
    {
     "name": "stdout",
     "output_type": "stream",
     "text": [
      "   0   1.47416240e+14 -2.09007543e+17  2.66e+06 4.96e+03  2.46e+12     8s\n"
     ]
    },
    {
     "name": "stderr",
     "output_type": "stream",
     "text": [
      "   0   1.47416240e+14 -2.09007543e+17  2.66e+06 4.96e+03  2.46e+12     8s\n"
     ]
    },
    {
     "name": "stdout",
     "output_type": "stream",
     "text": [
      "   1   1.17251368e+14 -7.25596819e+16  1.73e+06 5.51e+05  8.67e+11     8s\n"
     ]
    },
    {
     "name": "stderr",
     "output_type": "stream",
     "text": [
      "   1   1.17251368e+14 -7.25596819e+16  1.73e+06 5.51e+05  8.67e+11     8s\n"
     ]
    },
    {
     "name": "stdout",
     "output_type": "stream",
     "text": [
      "   2   9.32461059e+13 -1.92689856e+16  1.28e+06 1.12e+04  3.81e+11     8s\n"
     ]
    },
    {
     "name": "stderr",
     "output_type": "stream",
     "text": [
      "   2   9.32461059e+13 -1.92689856e+16  1.28e+06 1.12e+04  3.81e+11     8s\n"
     ]
    },
    {
     "name": "stdout",
     "output_type": "stream",
     "text": [
      "   3   1.18112157e+13 -2.39162782e+15  7.28e+04 3.04e+02  2.42e+10     8s\n"
     ]
    },
    {
     "name": "stderr",
     "output_type": "stream",
     "text": [
      "   3   1.18112157e+13 -2.39162782e+15  7.28e+04 3.04e+02  2.42e+10     8s\n"
     ]
    },
    {
     "name": "stdout",
     "output_type": "stream",
     "text": [
      "   4   7.27845591e+12 -3.21523197e+14  6.16e+03 1.10e-03  2.31e+09     9s\n"
     ]
    },
    {
     "name": "stderr",
     "output_type": "stream",
     "text": [
      "   4   7.27845591e+12 -3.21523197e+14  6.16e+03 1.10e-03  2.31e+09     9s\n"
     ]
    },
    {
     "name": "stdout",
     "output_type": "stream",
     "text": [
      "   5   6.64943208e+12 -1.26605917e+14  1.13e+03 5.56e-04  6.12e+08     9s\n"
     ]
    },
    {
     "name": "stderr",
     "output_type": "stream",
     "text": [
      "   5   6.64943208e+12 -1.26605917e+14  1.13e+03 5.56e-04  6.12e+08     9s\n"
     ]
    },
    {
     "name": "stdout",
     "output_type": "stream",
     "text": [
      "   6   5.02772789e+12 -3.57401818e+13  1.98e+02 4.30e-04  1.44e+08     9s\n"
     ]
    },
    {
     "name": "stderr",
     "output_type": "stream",
     "text": [
      "   6   5.02772789e+12 -3.57401818e+13  1.98e+02 4.30e-04  1.44e+08     9s\n"
     ]
    },
    {
     "name": "stdout",
     "output_type": "stream",
     "text": [
      "   7   3.07500840e+12 -5.42540065e+12  1.81e+01 3.67e-04  2.61e+07     9s\n"
     ]
    },
    {
     "name": "stderr",
     "output_type": "stream",
     "text": [
      "   7   3.07500840e+12 -5.42540065e+12  1.81e+01 3.67e-04  2.61e+07     9s\n"
     ]
    },
    {
     "name": "stdout",
     "output_type": "stream",
     "text": [
      "   8   5.22891902e+11 -8.49278955e+11  2.39e+00 6.98e-05  4.14e+06    10s\n"
     ]
    },
    {
     "name": "stderr",
     "output_type": "stream",
     "text": [
      "   8   5.22891902e+11 -8.49278955e+11  2.39e+00 6.98e-05  4.14e+06    10s\n"
     ]
    },
    {
     "name": "stdout",
     "output_type": "stream",
     "text": [
      "   9   2.30575518e+11 -2.10576735e+11  8.89e-01 1.73e-05  1.33e+06    10s\n"
     ]
    },
    {
     "name": "stderr",
     "output_type": "stream",
     "text": [
      "   9   2.30575518e+11 -2.10576735e+11  8.89e-01 1.73e-05  1.33e+06    10s\n"
     ]
    },
    {
     "name": "stdout",
     "output_type": "stream",
     "text": [
      "  10   1.52464294e+11 -1.81972391e+11  5.50e-01 1.51e-05  1.00e+06    10s\n"
     ]
    },
    {
     "name": "stderr",
     "output_type": "stream",
     "text": [
      "  10   1.52464294e+11 -1.81972391e+11  5.50e-01 1.51e-05  1.00e+06    10s\n"
     ]
    },
    {
     "name": "stdout",
     "output_type": "stream",
     "text": [
      "  11   1.04266357e+11 -1.25461637e+11  3.35e-01 1.08e-05  6.88e+05    10s\n"
     ]
    },
    {
     "name": "stderr",
     "output_type": "stream",
     "text": [
      "  11   1.04266357e+11 -1.25461637e+11  3.35e-01 1.08e-05  6.88e+05    10s\n"
     ]
    },
    {
     "name": "stdout",
     "output_type": "stream",
     "text": [
      "  12   7.39682321e+10 -7.72447606e+10  2.15e-01 7.13e-06  4.52e+05    10s\n"
     ]
    },
    {
     "name": "stderr",
     "output_type": "stream",
     "text": [
      "  12   7.39682321e+10 -7.72447606e+10  2.15e-01 7.13e-06  4.52e+05    10s\n"
     ]
    },
    {
     "name": "stdout",
     "output_type": "stream",
     "text": [
      "  13   4.86243997e+10 -3.91547537e+10  1.27e-01 3.92e-06  2.62e+05    10s\n"
     ]
    },
    {
     "name": "stderr",
     "output_type": "stream",
     "text": [
      "  13   4.86243997e+10 -3.91547537e+10  1.27e-01 3.92e-06  2.62e+05    10s\n"
     ]
    },
    {
     "name": "stdout",
     "output_type": "stream",
     "text": [
      "  14   3.03755286e+10 -1.49023718e+10  6.84e-02 1.83e-06  1.35e+05    11s\n"
     ]
    },
    {
     "name": "stderr",
     "output_type": "stream",
     "text": [
      "  14   3.03755286e+10 -1.49023718e+10  6.84e-02 1.83e-06  1.35e+05    11s\n"
     ]
    },
    {
     "name": "stdout",
     "output_type": "stream",
     "text": [
      "  15   1.97650144e+10 -4.67599862e+09  3.58e-02 9.51e-07  7.30e+04    11s\n"
     ]
    },
    {
     "name": "stderr",
     "output_type": "stream",
     "text": [
      "  15   1.97650144e+10 -4.67599862e+09  3.58e-02 9.51e-07  7.30e+04    11s\n"
     ]
    },
    {
     "name": "stdout",
     "output_type": "stream",
     "text": [
      "  16   1.58817301e+10 -9.07780134e+08  2.36e-02 6.59e-07  5.01e+04    11s\n"
     ]
    },
    {
     "name": "stderr",
     "output_type": "stream",
     "text": [
      "  16   1.58817301e+10 -9.07780134e+08  2.36e-02 6.59e-07  5.01e+04    11s\n"
     ]
    },
    {
     "name": "stdout",
     "output_type": "stream",
     "text": [
      "  17   1.35286319e+10  1.51598821e+09  1.64e-02 4.72e-07  3.58e+04    11s\n"
     ]
    },
    {
     "name": "stderr",
     "output_type": "stream",
     "text": [
      "  17   1.35286319e+10  1.51598821e+09  1.64e-02 4.72e-07  3.58e+04    11s\n"
     ]
    },
    {
     "name": "stdout",
     "output_type": "stream",
     "text": [
      "  18   1.17304918e+10  3.37926677e+09  1.10e-02 3.31e-07  2.49e+04    12s\n"
     ]
    },
    {
     "name": "stderr",
     "output_type": "stream",
     "text": [
      "  18   1.17304918e+10  3.37926677e+09  1.10e-02 3.31e-07  2.49e+04    12s\n"
     ]
    },
    {
     "name": "stdout",
     "output_type": "stream",
     "text": [
      "  19   1.11643364e+10  3.68055580e+09  9.41e-03 3.05e-07  2.23e+04    12s\n"
     ]
    },
    {
     "name": "stderr",
     "output_type": "stream",
     "text": [
      "  19   1.11643364e+10  3.68055580e+09  9.41e-03 3.05e-07  2.23e+04    12s\n"
     ]
    },
    {
     "name": "stdout",
     "output_type": "stream",
     "text": [
      "  20   1.03939823e+10  4.98796001e+09  7.25e-03 2.05e-07  1.61e+04    12s\n"
     ]
    },
    {
     "name": "stderr",
     "output_type": "stream",
     "text": [
      "  20   1.03939823e+10  4.98796001e+09  7.25e-03 2.05e-07  1.61e+04    12s\n"
     ]
    },
    {
     "name": "stdout",
     "output_type": "stream",
     "text": [
      "  21   9.24804389e+09  6.05822407e+09  4.10e-03 1.22e-07  9.52e+03    12s\n"
     ]
    },
    {
     "name": "stderr",
     "output_type": "stream",
     "text": [
      "  21   9.24804389e+09  6.05822407e+09  4.10e-03 1.22e-07  9.52e+03    12s\n"
     ]
    },
    {
     "name": "stdout",
     "output_type": "stream",
     "text": [
      "  22   8.64921346e+09  6.47650654e+09  2.59e-03 8.73e-08  6.48e+03    12s\n"
     ]
    },
    {
     "name": "stderr",
     "output_type": "stream",
     "text": [
      "  22   8.64921346e+09  6.47650654e+09  2.59e-03 8.73e-08  6.48e+03    12s\n"
     ]
    },
    {
     "name": "stdout",
     "output_type": "stream",
     "text": [
      "  23   8.38550656e+09  6.65822128e+09  1.97e-03 7.27e-08  5.15e+03    13s\n"
     ]
    },
    {
     "name": "stderr",
     "output_type": "stream",
     "text": [
      "  23   8.38550656e+09  6.65822128e+09  1.97e-03 7.27e-08  5.15e+03    13s\n"
     ]
    },
    {
     "name": "stdout",
     "output_type": "stream",
     "text": [
      "  24   8.25430222e+09  6.77447520e+09  1.64e-03 6.32e-08  4.41e+03    13s\n"
     ]
    },
    {
     "name": "stderr",
     "output_type": "stream",
     "text": [
      "  24   8.25430222e+09  6.77447520e+09  1.64e-03 6.32e-08  4.41e+03    13s\n"
     ]
    },
    {
     "name": "stdout",
     "output_type": "stream",
     "text": [
      "  25   8.07572378e+09  6.85165299e+09  1.22e-03 5.64e-08  3.65e+03    13s\n"
     ]
    },
    {
     "name": "stderr",
     "output_type": "stream",
     "text": [
      "  25   8.07572378e+09  6.85165299e+09  1.22e-03 5.64e-08  3.65e+03    13s\n"
     ]
    },
    {
     "name": "stdout",
     "output_type": "stream",
     "text": [
      "  26   7.99809176e+09  7.02413308e+09  1.04e-03 4.23e-08  2.90e+03    13s\n"
     ]
    },
    {
     "name": "stderr",
     "output_type": "stream",
     "text": [
      "  26   7.99809176e+09  7.02413308e+09  1.04e-03 4.23e-08  2.90e+03    13s\n"
     ]
    },
    {
     "name": "stdout",
     "output_type": "stream",
     "text": [
      "  27   7.88714890e+09  7.12919393e+09  7.89e-04 3.33e-08  2.26e+03    14s\n"
     ]
    },
    {
     "name": "stderr",
     "output_type": "stream",
     "text": [
      "  27   7.88714890e+09  7.12919393e+09  7.89e-04 3.33e-08  2.26e+03    14s\n"
     ]
    },
    {
     "name": "stdout",
     "output_type": "stream",
     "text": [
      "  28   7.78374874e+09  7.20849792e+09  5.63e-04 2.67e-08  1.71e+03    14s\n"
     ]
    },
    {
     "name": "stderr",
     "output_type": "stream",
     "text": [
      "  28   7.78374874e+09  7.20849792e+09  5.63e-04 2.67e-08  1.71e+03    14s\n"
     ]
    },
    {
     "name": "stdout",
     "output_type": "stream",
     "text": [
      "  29   7.71239344e+09  7.28809562e+09  4.10e-04 1.98e-08  1.26e+03    14s\n"
     ]
    },
    {
     "name": "stderr",
     "output_type": "stream",
     "text": [
      "  29   7.71239344e+09  7.28809562e+09  4.10e-04 1.98e-08  1.26e+03    14s\n"
     ]
    },
    {
     "name": "stdout",
     "output_type": "stream",
     "text": [
      "  30   7.69487741e+09  7.31763388e+09  3.69e-04 1.73e-08  1.12e+03    14s\n"
     ]
    },
    {
     "name": "stderr",
     "output_type": "stream",
     "text": [
      "  30   7.69487741e+09  7.31763388e+09  3.69e-04 1.73e-08  1.12e+03    14s\n"
     ]
    },
    {
     "name": "stdout",
     "output_type": "stream",
     "text": [
      "  31   7.63036262e+09  7.41714900e+09  2.25e-04 5.06e-08  6.36e+02    15s\n"
     ]
    },
    {
     "name": "stderr",
     "output_type": "stream",
     "text": [
      "  31   7.63036262e+09  7.41714900e+09  2.25e-04 5.06e-08  6.36e+02    15s\n"
     ]
    },
    {
     "name": "stdout",
     "output_type": "stream",
     "text": [
      "  32   7.59036217e+09  7.42633954e+09  1.42e-04 7.37e-08  4.89e+02    15s\n"
     ]
    },
    {
     "name": "stderr",
     "output_type": "stream",
     "text": [
      "  32   7.59036217e+09  7.42633954e+09  1.42e-04 7.37e-08  4.89e+02    15s\n"
     ]
    },
    {
     "name": "stdout",
     "output_type": "stream",
     "text": [
      "  33   7.54767596e+09  7.48683378e+09  5.21e-05 8.07e-08  1.81e+02    15s\n"
     ]
    },
    {
     "name": "stderr",
     "output_type": "stream",
     "text": [
      "  33   7.54767596e+09  7.48683378e+09  5.21e-05 8.07e-08  1.81e+02    15s\n"
     ]
    },
    {
     "name": "stdout",
     "output_type": "stream",
     "text": [
      "  34   7.52989185e+09  7.51073018e+09  1.81e-05 8.02e-09  5.71e+01    15s\n"
     ]
    },
    {
     "name": "stderr",
     "output_type": "stream",
     "text": [
      "  34   7.52989185e+09  7.51073018e+09  1.81e-05 8.02e-09  5.71e+01    15s\n"
     ]
    },
    {
     "name": "stdout",
     "output_type": "stream",
     "text": [
      "  35   7.52589955e+09  7.51270014e+09  1.15e-05 6.97e-09  3.94e+01    15s\n"
     ]
    },
    {
     "name": "stderr",
     "output_type": "stream",
     "text": [
      "  35   7.52589955e+09  7.51270014e+09  1.15e-05 6.97e-09  3.94e+01    15s\n"
     ]
    },
    {
     "name": "stdout",
     "output_type": "stream",
     "text": [
      "  36   7.52544873e+09  7.51582881e+09  1.08e-05 5.98e-09  2.87e+01    16s\n"
     ]
    },
    {
     "name": "stderr",
     "output_type": "stream",
     "text": [
      "  36   7.52544873e+09  7.51582881e+09  1.08e-05 5.98e-09  2.87e+01    16s\n"
     ]
    },
    {
     "name": "stdout",
     "output_type": "stream",
     "text": [
      "  37   7.52458842e+09  7.51663684e+09  9.30e-06 1.59e-08  2.37e+01    16s\n"
     ]
    },
    {
     "name": "stderr",
     "output_type": "stream",
     "text": [
      "  37   7.52458842e+09  7.51663684e+09  9.30e-06 1.59e-08  2.37e+01    16s\n"
     ]
    },
    {
     "name": "stdout",
     "output_type": "stream",
     "text": [
      "  38   7.52024222e+09  7.51809608e+09  2.19e-06 1.07e-08  6.40e+00    16s\n"
     ]
    },
    {
     "name": "stderr",
     "output_type": "stream",
     "text": [
      "  38   7.52024222e+09  7.51809608e+09  2.19e-06 1.07e-08  6.40e+00    16s\n"
     ]
    },
    {
     "name": "stdout",
     "output_type": "stream",
     "text": [
      "  39   7.51951201e+09  7.51866994e+09  6.24e-05 1.21e-08  2.52e+00    16s\n"
     ]
    },
    {
     "name": "stderr",
     "output_type": "stream",
     "text": [
      "  39   7.51951201e+09  7.51866994e+09  6.24e-05 1.21e-08  2.52e+00    16s\n"
     ]
    },
    {
     "name": "stdout",
     "output_type": "stream",
     "text": [
      "  40   7.51903766e+09  7.51876995e+09  4.55e-05 5.07e-08  8.00e-01    17s\n"
     ]
    },
    {
     "name": "stderr",
     "output_type": "stream",
     "text": [
      "  40   7.51903766e+09  7.51876995e+09  4.55e-05 5.07e-08  8.00e-01    17s\n"
     ]
    },
    {
     "name": "stdout",
     "output_type": "stream",
     "text": [
      "  41   7.51891168e+09  7.51880432e+09  2.70e-05 1.54e-08  3.21e-01    17s\n"
     ]
    },
    {
     "name": "stderr",
     "output_type": "stream",
     "text": [
      "  41   7.51891168e+09  7.51880432e+09  2.70e-05 1.54e-08  3.21e-01    17s\n"
     ]
    },
    {
     "name": "stdout",
     "output_type": "stream",
     "text": [
      "  42   7.51884807e+09  7.51881668e+09  1.21e-05 2.32e-08  9.39e-02    17s\n"
     ]
    },
    {
     "name": "stderr",
     "output_type": "stream",
     "text": [
      "  42   7.51884807e+09  7.51881668e+09  1.21e-05 2.32e-08  9.39e-02    17s\n"
     ]
    },
    {
     "name": "stdout",
     "output_type": "stream",
     "text": [
      "  43   7.51882794e+09  7.51882020e+09  6.65e-06 2.89e-08  2.32e-02    17s\n"
     ]
    },
    {
     "name": "stderr",
     "output_type": "stream",
     "text": [
      "  43   7.51882794e+09  7.51882020e+09  6.65e-06 2.89e-08  2.32e-02    17s\n"
     ]
    },
    {
     "name": "stdout",
     "output_type": "stream",
     "text": [
      "  44   7.51882255e+09  7.51882106e+09  1.78e-06 8.95e-08  4.46e-03    17s\n"
     ]
    },
    {
     "name": "stderr",
     "output_type": "stream",
     "text": [
      "  44   7.51882255e+09  7.51882106e+09  1.78e-06 8.95e-08  4.46e-03    17s\n"
     ]
    },
    {
     "name": "stdout",
     "output_type": "stream",
     "text": [
      "  45   7.51882143e+09  7.51882124e+09  2.18e-07 4.07e-08  5.68e-04    18s\n"
     ]
    },
    {
     "name": "stderr",
     "output_type": "stream",
     "text": [
      "  45   7.51882143e+09  7.51882124e+09  2.18e-07 4.07e-08  5.68e-04    18s\n"
     ]
    },
    {
     "name": "stdout",
     "output_type": "stream",
     "text": [
      "  46   7.51882131e+09  7.51882131e+09  4.45e-09 1.85e-08  5.45e-06    18s\n"
     ]
    },
    {
     "name": "stderr",
     "output_type": "stream",
     "text": [
      "  46   7.51882131e+09  7.51882131e+09  4.45e-09 1.85e-08  5.45e-06    18s\n"
     ]
    },
    {
     "name": "stdout",
     "output_type": "stream",
     "text": [
      "  47   7.51882131e+09  7.51882131e+09  4.76e-11 1.62e-08  6.91e-08    18s\n"
     ]
    },
    {
     "name": "stderr",
     "output_type": "stream",
     "text": [
      "  47   7.51882131e+09  7.51882131e+09  4.76e-11 1.62e-08  6.91e-08    18s\n"
     ]
    },
    {
     "name": "stdout",
     "output_type": "stream",
     "text": [
      "  48   7.51882131e+09  7.51882131e+09  2.18e-11 1.97e-08  6.02e-08    18s\n"
     ]
    },
    {
     "name": "stderr",
     "output_type": "stream",
     "text": [
      "  48   7.51882131e+09  7.51882131e+09  2.18e-11 1.97e-08  6.02e-08    18s\n"
     ]
    },
    {
     "name": "stdout",
     "output_type": "stream",
     "text": [
      "\n"
     ]
    },
    {
     "name": "stderr",
     "output_type": "stream",
     "text": [
      "\n"
     ]
    },
    {
     "name": "stdout",
     "output_type": "stream",
     "text": [
      "Barrier solved model in 48 iterations and 18.27 seconds (11.04 work units)\n"
     ]
    },
    {
     "name": "stderr",
     "output_type": "stream",
     "text": [
      "Barrier solved model in 48 iterations and 18.27 seconds (11.04 work units)\n"
     ]
    },
    {
     "name": "stdout",
     "output_type": "stream",
     "text": [
      "Optimal objective 7.51882131e+09\n"
     ]
    },
    {
     "name": "stderr",
     "output_type": "stream",
     "text": [
      "Optimal objective 7.51882131e+09\n"
     ]
    },
    {
     "name": "stdout",
     "output_type": "stream",
     "text": [
      "\n"
     ]
    },
    {
     "name": "stderr",
     "output_type": "stream",
     "text": [
      "\n"
     ]
    },
    {
     "name": "stdout",
     "output_type": "stream",
     "text": [
      "\n"
     ]
    },
    {
     "name": "stderr",
     "output_type": "stream",
     "text": [
      "\n"
     ]
    },
    {
     "name": "stdout",
     "output_type": "stream",
     "text": [
      "Root crossover log...\n"
     ]
    },
    {
     "name": "stderr",
     "output_type": "stream",
     "text": [
      "Root crossover log...\n"
     ]
    },
    {
     "name": "stdout",
     "output_type": "stream",
     "text": [
      "\n"
     ]
    },
    {
     "name": "stderr",
     "output_type": "stream",
     "text": [
      "\n"
     ]
    },
    {
     "name": "stdout",
     "output_type": "stream",
     "text": [
      "  170948 DPushes remaining with DInf 0.0000000e+00                18s\n"
     ]
    },
    {
     "name": "stderr",
     "output_type": "stream",
     "text": [
      "  170948 DPushes remaining with DInf 0.0000000e+00                18s\n"
     ]
    },
    {
     "name": "stdout",
     "output_type": "stream",
     "text": [
      "   20119 DPushes remaining with DInf 0.0000000e+00                20s\n"
     ]
    },
    {
     "name": "stderr",
     "output_type": "stream",
     "text": [
      "   20119 DPushes remaining with DInf 0.0000000e+00                20s\n"
     ]
    },
    {
     "name": "stdout",
     "output_type": "stream",
     "text": [
      "       0 DPushes remaining with DInf 0.0000000e+00                23s\n"
     ]
    },
    {
     "name": "stderr",
     "output_type": "stream",
     "text": [
      "       0 DPushes remaining with DInf 0.0000000e+00                23s\n"
     ]
    },
    {
     "name": "stdout",
     "output_type": "stream",
     "text": [
      "\n"
     ]
    },
    {
     "name": "stderr",
     "output_type": "stream",
     "text": [
      "\n"
     ]
    },
    {
     "name": "stdout",
     "output_type": "stream",
     "text": [
      "      17 PPushes remaining with PInf 0.0000000e+00                23s\n"
     ]
    },
    {
     "name": "stderr",
     "output_type": "stream",
     "text": [
      "      17 PPushes remaining with PInf 0.0000000e+00                23s\n"
     ]
    },
    {
     "name": "stdout",
     "output_type": "stream",
     "text": [
      "       0 PPushes remaining with PInf 0.0000000e+00                23s\n"
     ]
    },
    {
     "name": "stderr",
     "output_type": "stream",
     "text": [
      "       0 PPushes remaining with PInf 0.0000000e+00                23s\n"
     ]
    },
    {
     "name": "stdout",
     "output_type": "stream",
     "text": [
      "\n"
     ]
    },
    {
     "name": "stderr",
     "output_type": "stream",
     "text": [
      "\n"
     ]
    },
    {
     "name": "stdout",
     "output_type": "stream",
     "text": [
      "  Push phase complete: Pinf 0.0000000e+00, Dinf 3.2634676e-03     23s\n"
     ]
    },
    {
     "name": "stderr",
     "output_type": "stream",
     "text": [
      "  Push phase complete: Pinf 0.0000000e+00, Dinf 3.2634676e-03     23s\n"
     ]
    },
    {
     "name": "stdout",
     "output_type": "stream",
     "text": [
      "\n"
     ]
    },
    {
     "name": "stderr",
     "output_type": "stream",
     "text": [
      "\n"
     ]
    },
    {
     "name": "stdout",
     "output_type": "stream",
     "text": [
      "\n"
     ]
    },
    {
     "name": "stderr",
     "output_type": "stream",
     "text": [
      "\n"
     ]
    },
    {
     "name": "stdout",
     "output_type": "stream",
     "text": [
      "Root simplex log...\n"
     ]
    },
    {
     "name": "stderr",
     "output_type": "stream",
     "text": [
      "Root simplex log...\n"
     ]
    },
    {
     "name": "stdout",
     "output_type": "stream",
     "text": [
      "\n"
     ]
    },
    {
     "name": "stderr",
     "output_type": "stream",
     "text": [
      "\n"
     ]
    },
    {
     "name": "stdout",
     "output_type": "stream",
     "text": [
      "Iteration    Objective       Primal Inf.    Dual Inf.      Time\n"
     ]
    },
    {
     "name": "stderr",
     "output_type": "stream",
     "text": [
      "Iteration    Objective       Primal Inf.    Dual Inf.      Time\n"
     ]
    },
    {
     "name": "stdout",
     "output_type": "stream",
     "text": [
      "   69024    7.5188213e+09   0.000000e+00   3.263461e-03     23s\n"
     ]
    },
    {
     "name": "stderr",
     "output_type": "stream",
     "text": [
      "   69024    7.5188213e+09   0.000000e+00   3.263461e-03     23s\n"
     ]
    },
    {
     "name": "stdout",
     "output_type": "stream",
     "text": [
      "   69043    7.5188213e+09   0.000000e+00   0.000000e+00     23s\n"
     ]
    },
    {
     "name": "stderr",
     "output_type": "stream",
     "text": [
      "   69043    7.5188213e+09   0.000000e+00   0.000000e+00     23s\n"
     ]
    },
    {
     "name": "stdout",
     "output_type": "stream",
     "text": [
      "   69043    7.5188213e+09   0.000000e+00   0.000000e+00     23s\n"
     ]
    },
    {
     "name": "stderr",
     "output_type": "stream",
     "text": [
      "   69043    7.5188213e+09   0.000000e+00   0.000000e+00     23s\n"
     ]
    },
    {
     "name": "stdout",
     "output_type": "stream",
     "text": [
      "Concurrent spin time: 1.76s\n"
     ]
    },
    {
     "name": "stderr",
     "output_type": "stream",
     "text": [
      "Concurrent spin time: 1.76s\n"
     ]
    },
    {
     "name": "stdout",
     "output_type": "stream",
     "text": [
      "\n"
     ]
    },
    {
     "name": "stderr",
     "output_type": "stream",
     "text": [
      "\n"
     ]
    },
    {
     "name": "stdout",
     "output_type": "stream",
     "text": [
      "Solved with barrier\n"
     ]
    },
    {
     "name": "stderr",
     "output_type": "stream",
     "text": [
      "Solved with barrier\n"
     ]
    },
    {
     "name": "stdout",
     "output_type": "stream",
     "text": [
      "\n"
     ]
    },
    {
     "name": "stderr",
     "output_type": "stream",
     "text": [
      "\n"
     ]
    },
    {
     "name": "stdout",
     "output_type": "stream",
     "text": [
      "Root relaxation: objective 7.518821e+09, 69043 iterations, 19.47 seconds (8.78 work units)\n"
     ]
    },
    {
     "name": "stderr",
     "output_type": "stream",
     "text": [
      "Root relaxation: objective 7.518821e+09, 69043 iterations, 19.47 seconds (8.78 work units)\n"
     ]
    },
    {
     "name": "stdout",
     "output_type": "stream",
     "text": [
      "\n"
     ]
    },
    {
     "name": "stderr",
     "output_type": "stream",
     "text": [
      "\n"
     ]
    },
    {
     "name": "stdout",
     "output_type": "stream",
     "text": [
      "    Nodes    |    Current Node    |     Objective Bounds      |     Work\n"
     ]
    },
    {
     "name": "stderr",
     "output_type": "stream",
     "text": [
      "    Nodes    |    Current Node    |     Objective Bounds      |     Work\n"
     ]
    },
    {
     "name": "stdout",
     "output_type": "stream",
     "text": [
      " Expl Unexpl |  Obj  Depth IntInf | Incumbent    BestBd   Gap | It/Node Time\n"
     ]
    },
    {
     "name": "stderr",
     "output_type": "stream",
     "text": [
      " Expl Unexpl |  Obj  Depth IntInf | Incumbent    BestBd   Gap | It/Node Time\n"
     ]
    },
    {
     "name": "stdout",
     "output_type": "stream",
     "text": [
      "\n"
     ]
    },
    {
     "name": "stderr",
     "output_type": "stream",
     "text": [
      "\n"
     ]
    },
    {
     "name": "stdout",
     "output_type": "stream",
     "text": [
      "*    0     0               0    7.518821e+09 7.5188e+09  0.00%     -   27s\n"
     ]
    },
    {
     "name": "stderr",
     "output_type": "stream",
     "text": [
      "*    0     0               0    7.518821e+09 7.5188e+09  0.00%     -   27s\n"
     ]
    },
    {
     "name": "stdout",
     "output_type": "stream",
     "text": [
      "\n"
     ]
    },
    {
     "name": "stderr",
     "output_type": "stream",
     "text": [
      "\n"
     ]
    },
    {
     "name": "stdout",
     "output_type": "stream",
     "text": [
      "Explored 1 nodes (69043 simplex iterations) in 28.86 seconds (15.22 work units)\n"
     ]
    },
    {
     "name": "stderr",
     "output_type": "stream",
     "text": [
      "Explored 1 nodes (69043 simplex iterations) in 28.86 seconds (15.22 work units)\n"
     ]
    },
    {
     "name": "stdout",
     "output_type": "stream",
     "text": [
      "Thread count was 12 (of 12 available processors)\n"
     ]
    },
    {
     "name": "stderr",
     "output_type": "stream",
     "text": [
      "Thread count was 12 (of 12 available processors)\n"
     ]
    },
    {
     "name": "stdout",
     "output_type": "stream",
     "text": [
      "\n"
     ]
    },
    {
     "name": "stderr",
     "output_type": "stream",
     "text": [
      "\n"
     ]
    },
    {
     "name": "stdout",
     "output_type": "stream",
     "text": [
      "Solution count 1: 7.51882e+09 \n"
     ]
    },
    {
     "name": "stderr",
     "output_type": "stream",
     "text": [
      "Solution count 1: 7.51882e+09 \n"
     ]
    },
    {
     "name": "stdout",
     "output_type": "stream",
     "text": [
      "\n"
     ]
    },
    {
     "name": "stderr",
     "output_type": "stream",
     "text": [
      "\n"
     ]
    },
    {
     "name": "stdout",
     "output_type": "stream",
     "text": [
      "Optimal solution found (tolerance 2.00e-02)\n"
     ]
    },
    {
     "name": "stderr",
     "output_type": "stream",
     "text": [
      "Optimal solution found (tolerance 2.00e-02)\n"
     ]
    },
    {
     "name": "stdout",
     "output_type": "stream",
     "text": [
      "Warning: max constraint violation (1.4662e-05) exceeds tolerance\n"
     ]
    },
    {
     "name": "stderr",
     "output_type": "stream",
     "text": [
      "Warning: max constraint violation (1.4662e-05) exceeds tolerance\n"
     ]
    },
    {
     "name": "stdout",
     "output_type": "stream",
     "text": [
      "Best objective 7.518821308290e+09, best bound 7.518821308290e+09, gap 0.0000%\n"
     ]
    },
    {
     "name": "stderr",
     "output_type": "stream",
     "text": [
      "Best objective 7.518821308290e+09, best bound 7.518821308290e+09, gap 0.0000%\n"
     ]
    },
    {
     "name": "stdout",
     "output_type": "stream",
     "text": [
      "Set parameter LogFile to value \"\"\n"
     ]
    },
    {
     "name": "stderr",
     "output_type": "stream",
     "text": [
      "Set parameter LogFile to value \"\"\n",
      "Writing results to userData\\20250829133457-1\n"
     ]
    },
    {
     "name": "stdout",
     "output_type": "stream",
     "text": [
      "# ==========================================================\n",
      "# = Solver Results                                         =\n",
      "# ==========================================================\n",
      "# ----------------------------------------------------------\n",
      "#   Problem Information\n",
      "# ----------------------------------------------------------\n",
      "Problem: \n",
      "- Name: unknown\n",
      "  Lower bound: 7518821308.290333\n",
      "  Upper bound: 7518821308.290348\n",
      "  Number of objectives: 1\n",
      "  Number of constraints: 734326\n",
      "  Number of variables: 571083\n",
      "  Number of binary variables: 36040\n",
      "  Number of integer variables: 41087\n",
      "  Number of continuous variables: 493956\n",
      "  Number of nonzeros: 1767866\n",
      "  Sense: minimize\n",
      "  Number of solutions: 1\n",
      "# ----------------------------------------------------------\n",
      "#   Solver Information\n",
      "# ----------------------------------------------------------\n",
      "Solver: \n",
      "- Name: Gurobi 12.02\n",
      "  Status: ok\n",
      "  Wallclock time: 28.983999967575073\n",
      "  Termination condition: optimal\n",
      "  Termination message: Model was solved to optimality (subject to tolerances), and an optimal solution is available.\n",
      "# ----------------------------------------------------------\n",
      "#   Solution Information\n",
      "# ----------------------------------------------------------\n",
      "Solution: \n",
      "- number of solutions: 0\n",
      "  number of solutions displayed: 0\n"
     ]
    },
    {
     "name": "stderr",
     "output_type": "stream",
     "text": [
      "Solving model completed in 92 s\n"
     ]
    }
   ],
   "source": [
    "print(\"Implementing ETS1 carbon pricing for power sector...\")\n",
    "\n",
    "# ETS1 carbon price: ~85 EUR/tCO2 (2021 levels)\n",
    "carbon_price = np.ones(8760) * 85\n",
    "\n",
    "# Apply ETS1 to power sector (affects electricity generation and imports)\n",
    "for node in ['northwest', 'northeast', 'center', 'south', 'islands']:\n",
    "    carbon_cost_path = \"./macro_decarbonisation/period1/node_data/\" + node + \"/CarbonCost.csv\"\n",
    "    carbon_cost_template = pd.read_csv(carbon_cost_path, sep=';', index_col=0, header=0)\n",
    "    carbon_cost_template['price'] = carbon_price\n",
    "    carbon_cost_template = carbon_cost_template.reset_index()\n",
    "    carbon_cost_template.to_csv(carbon_cost_path, sep=';', index=False)\n",
    "\n",
    "# Run the optimization model with ETS1 scenario\n",
    "m = adopt.ModelHub()\n",
    "m.read_data(input_data_path)\n",
    "m.quick_solve()"
   ]
  },
  {
   "cell_type": "markdown",
   "id": "c57cda30",
   "metadata": {},
   "source": [
    "RUN OPTIMIZATION WITH ETS1 + ETS2 (COMPREHENSIVE CARBON PRICING)\n",
    "print(\"Implementing ETS1 + ETS2 carbon pricing\")\n"
   ]
  },
  {
   "cell_type": "code",
   "execution_count": 15,
   "id": "a1659788",
   "metadata": {},
   "outputs": [
    {
     "name": "stderr",
     "output_type": "stream",
     "text": [
      "--- Reading in data ---\n",
      "Input data folder has been checked successfully - no errors occurred.\n",
      "Reading data from macro_decarbonisation\n",
      "Topology read successfully\n",
      "Model Configuration read successfully\n",
      "Time series read successfully\n",
      "Node Locations read successfully\n",
      "Energy balance options read successfully\n",
      "Deriving performance data for Heat Pump...\n"
     ]
    },
    {
     "name": "stdout",
     "output_type": "stream",
     "text": [
      "Complete:  99.0 %Complete:  100 %\n"
     ]
    },
    {
     "name": "stderr",
     "output_type": "stream",
     "text": [
      "Deriving performance data for Heat Pump...\n"
     ]
    },
    {
     "name": "stdout",
     "output_type": "stream",
     "text": [
      "Complete:  99.0 %Complete:  100 %\n"
     ]
    },
    {
     "name": "stderr",
     "output_type": "stream",
     "text": [
      "Deriving performance data for Heat Pump...\n"
     ]
    },
    {
     "name": "stdout",
     "output_type": "stream",
     "text": [
      "Complete:  99.0 %Complete:  100 %\n"
     ]
    },
    {
     "name": "stderr",
     "output_type": "stream",
     "text": [
      "Deriving performance data for Heat Pump...\n"
     ]
    },
    {
     "name": "stdout",
     "output_type": "stream",
     "text": [
      "Complete:  99.0 %Complete:  100 %\n"
     ]
    },
    {
     "name": "stderr",
     "output_type": "stream",
     "text": [
      "Deriving performance data for Heat Pump...\n"
     ]
    },
    {
     "name": "stdout",
     "output_type": "stream",
     "text": [
      "Complete:  99.0 %Complete:  100 %\n"
     ]
    },
    {
     "name": "stderr",
     "output_type": "stream",
     "text": [
      "Technology data read successfully\n",
      "Network data read successfully\n",
      "Clustered data successfully\n",
      "--- Reading in data complete ---\n",
      "--- Constructing Model ---\n",
      "Constructing Investment Period period1\n",
      "Constructing Investment Period period1 completed\n",
      "\t - Constructing Network electricityOnshore\n",
      "\t\t\tgdp.bigm Transformation...\n",
      "\t\t\tgdp.bigm Transformation completed in 0 s\n",
      "\t\t - Constructing Arc northwest - northeast completed\n",
      "\t\t\tgdp.bigm Transformation...\n",
      "\t\t\tgdp.bigm Transformation completed in 0 s\n",
      "\t\t - Constructing Arc northwest - center completed\n",
      "\t\t\tgdp.bigm Transformation...\n",
      "\t\t\tgdp.bigm Transformation completed in 0 s\n",
      "\t\t - Constructing Arc northwest - south completed\n",
      "\t\t\tgdp.bigm Transformation...\n",
      "\t\t\tgdp.bigm Transformation completed in 0 s\n",
      "\t\t - Constructing Arc northwest - islands completed\n",
      "\t\t\tgdp.bigm Transformation...\n",
      "\t\t\tgdp.bigm Transformation completed in 0 s\n",
      "\t\t - Constructing Arc northeast - northwest completed\n",
      "\t\t\tgdp.bigm Transformation...\n",
      "\t\t\tgdp.bigm Transformation completed in 0 s\n",
      "\t\t - Constructing Arc northeast - center completed\n",
      "\t\t\tgdp.bigm Transformation...\n",
      "\t\t\tgdp.bigm Transformation completed in 0 s\n",
      "\t\t - Constructing Arc northeast - south completed\n",
      "\t\t\tgdp.bigm Transformation...\n",
      "\t\t\tgdp.bigm Transformation completed in 0 s\n",
      "\t\t - Constructing Arc northeast - islands completed\n",
      "\t\t\tgdp.bigm Transformation...\n",
      "\t\t\tgdp.bigm Transformation completed in 0 s\n",
      "\t\t - Constructing Arc center - northwest completed\n",
      "\t\t\tgdp.bigm Transformation...\n",
      "\t\t\tgdp.bigm Transformation completed in 0 s\n",
      "\t\t - Constructing Arc center - northeast completed\n",
      "\t\t\tgdp.bigm Transformation...\n",
      "\t\t\tgdp.bigm Transformation completed in 0 s\n",
      "\t\t - Constructing Arc center - south completed\n",
      "\t\t\tgdp.bigm Transformation...\n",
      "\t\t\tgdp.bigm Transformation completed in 0 s\n",
      "\t\t - Constructing Arc center - islands completed\n",
      "\t\t\tgdp.bigm Transformation...\n",
      "\t\t\tgdp.bigm Transformation completed in 0 s\n",
      "\t\t - Constructing Arc south - northwest completed\n",
      "\t\t\tgdp.bigm Transformation...\n",
      "\t\t\tgdp.bigm Transformation completed in 0 s\n",
      "\t\t - Constructing Arc south - northeast completed\n",
      "\t\t\tgdp.bigm Transformation...\n",
      "\t\t\tgdp.bigm Transformation completed in 0 s\n",
      "\t\t - Constructing Arc south - center completed\n",
      "\t\t\tgdp.bigm Transformation...\n",
      "\t\t\tgdp.bigm Transformation completed in 0 s\n",
      "\t\t - Constructing Arc south - islands completed\n",
      "\t\t\tgdp.bigm Transformation...\n",
      "\t\t\tgdp.bigm Transformation completed in 0 s\n",
      "\t\t - Constructing Arc islands - northwest completed\n",
      "\t\t\tgdp.bigm Transformation...\n",
      "\t\t\tgdp.bigm Transformation completed in 0 s\n",
      "\t\t - Constructing Arc islands - northeast completed\n",
      "\t\t\tgdp.bigm Transformation...\n",
      "\t\t\tgdp.bigm Transformation completed in 0 s\n",
      "\t\t - Constructing Arc islands - center completed\n",
      "\t\t\tgdp.bigm Transformation...\n",
      "\t\t\tgdp.bigm Transformation completed in 0 s\n",
      "\t\t - Constructing Arc islands - south completed\n",
      "\t - Constructing Network electricityOnshore completed\n",
      "\t\t\tgdp.bigm Transformation...\n",
      "\t\t\tgdp.bigm Transformation completed in 10 s\n",
      "\t - Constructing Network electricityOnshore_existing\n",
      "\t\t - Constructing Arc northwest - northeast completed\n",
      "\t\t - Constructing Arc northwest - center completed\n",
      "\t\t - Constructing Arc northeast - northwest completed\n",
      "\t\t - Constructing Arc northeast - center completed\n",
      "\t\t - Constructing Arc center - northwest completed\n",
      "\t\t - Constructing Arc center - northeast completed\n",
      "\t\t - Constructing Arc center - south completed\n",
      "\t\t - Constructing Arc south - center completed\n",
      "\t\t - Constructing Arc south - islands completed\n",
      "\t\t - Constructing Arc islands - south completed\n",
      "\t - Constructing Network electricityOnshore_existing completed\n",
      "\t\t\tgdp.bigm Transformation...\n",
      "\t\t\tgdp.bigm Transformation completed in 5 s\n",
      "\t - Adding Technology HeatPump_AirSourced\n",
      "\t - Adding Technology Storage_Battery\n",
      "\t\t\tgdp.bigm Transformation...\n",
      "\t\t\tgdp.bigm Transformation completed in 1 s\n",
      "\t - Adding Technology Photovoltaic\n",
      "\t - Adding Technology WindTurbine_Onshore_4000\n",
      "\t - Adding Technology Storage_H2\n",
      "\t\t\tgdp.bigm Transformation...\n",
      "\t\t\tgdp.bigm Transformation completed in 1 s\n",
      "\t - Adding Technology Boiler_Small_NG_existing\n",
      "\t - Adding Technology GasTurbine_simple_existing\n",
      "\t - Adding Technology HeatPump_AirSourced\n",
      "\t - Adding Technology Storage_Battery\n",
      "\t\t\tgdp.bigm Transformation...\n",
      "\t\t\tgdp.bigm Transformation completed in 1 s\n",
      "\t - Adding Technology Photovoltaic\n",
      "\t - Adding Technology WindTurbine_Onshore_4000\n",
      "\t - Adding Technology Storage_H2\n",
      "\t\t\tgdp.bigm Transformation...\n",
      "\t\t\tgdp.bigm Transformation completed in 1 s\n",
      "\t - Adding Technology Boiler_Small_NG_existing\n",
      "\t - Adding Technology GasTurbine_simple_existing\n",
      "\t - Adding Technology HeatPump_AirSourced\n",
      "\t - Adding Technology Storage_Battery\n",
      "\t\t\tgdp.bigm Transformation...\n",
      "\t\t\tgdp.bigm Transformation completed in 1 s\n",
      "\t - Adding Technology Photovoltaic\n",
      "\t - Adding Technology WindTurbine_Onshore_4000\n",
      "\t - Adding Technology Storage_H2\n",
      "\t\t\tgdp.bigm Transformation...\n",
      "\t\t\tgdp.bigm Transformation completed in 1 s\n",
      "\t - Adding Technology Boiler_Small_NG_existing\n",
      "\t - Adding Technology GasTurbine_simple_existing\n",
      "\t - Adding Technology HeatPump_AirSourced\n",
      "\t - Adding Technology Storage_Battery\n",
      "\t\t\tgdp.bigm Transformation...\n",
      "\t\t\tgdp.bigm Transformation completed in 1 s\n",
      "\t - Adding Technology Photovoltaic\n",
      "\t - Adding Technology WindTurbine_Onshore_4000\n",
      "\t - Adding Technology WindTurbine_Offshore_9500\n",
      "\t - Adding Technology Storage_H2\n",
      "\t\t\tgdp.bigm Transformation...\n",
      "\t\t\tgdp.bigm Transformation completed in 1 s\n",
      "\t - Adding Technology Boiler_Small_NG_existing\n",
      "\t - Adding Technology GasTurbine_simple_existing\n",
      "\t - Adding Technology HeatPump_AirSourced\n",
      "\t - Adding Technology Storage_Battery\n",
      "\t\t\tgdp.bigm Transformation...\n",
      "\t\t\tgdp.bigm Transformation completed in 1 s\n",
      "\t - Adding Technology Photovoltaic\n",
      "\t - Adding Technology WindTurbine_Onshore_4000\n",
      "\t - Adding Technology WindTurbine_Offshore_9500\n",
      "\t - Adding Technology Storage_H2\n",
      "\t\t\tgdp.bigm Transformation...\n",
      "\t\t\tgdp.bigm Transformation completed in 1 s\n",
      "\t - Adding Technology Boiler_Small_NG_existing\n",
      "\t - Adding Technology GasTurbine_simple_existing\n",
      "Constructing model completed in 324s\n",
      "Constructing balances...\n",
      "Constructing balances completed in 14s\n",
      "Set objective on cost\n",
      "Solving Model...\n"
     ]
    },
    {
     "name": "stdout",
     "output_type": "stream",
     "text": [
      "Set parameter OutputFlag to value 1\n"
     ]
    },
    {
     "name": "stderr",
     "output_type": "stream",
     "text": [
      "Set parameter OutputFlag to value 1\n"
     ]
    },
    {
     "name": "stdout",
     "output_type": "stream",
     "text": [
      "Set parameter LogFile to value \"userData\\20250829134246-1\\solver_log.txt\"\n"
     ]
    },
    {
     "name": "stderr",
     "output_type": "stream",
     "text": [
      "Set parameter LogFile to value \"userData\\20250829134246-1\\solver_log.txt\"\n"
     ]
    },
    {
     "name": "stdout",
     "output_type": "stream",
     "text": [
      "Solver log file: userData\\20250829134246-1\\solver_log.txt\n",
      "Set parameter TimeLimit to value 36000\n"
     ]
    },
    {
     "name": "stderr",
     "output_type": "stream",
     "text": [
      "Set parameter TimeLimit to value 36000\n"
     ]
    },
    {
     "name": "stdout",
     "output_type": "stream",
     "text": [
      "Set parameter MIPGap to value 0.02\n"
     ]
    },
    {
     "name": "stderr",
     "output_type": "stream",
     "text": [
      "Set parameter MIPGap to value 0.02\n"
     ]
    },
    {
     "name": "stdout",
     "output_type": "stream",
     "text": [
      "Set parameter MIPFocus to value 0\n"
     ]
    },
    {
     "name": "stderr",
     "output_type": "stream",
     "text": [
      "Set parameter MIPFocus to value 0\n"
     ]
    },
    {
     "name": "stdout",
     "output_type": "stream",
     "text": [
      "Set parameter Threads to value 0\n"
     ]
    },
    {
     "name": "stderr",
     "output_type": "stream",
     "text": [
      "Set parameter Threads to value 0\n"
     ]
    },
    {
     "name": "stdout",
     "output_type": "stream",
     "text": [
      "Set parameter NodefileStart to value 60\n"
     ]
    },
    {
     "name": "stderr",
     "output_type": "stream",
     "text": [
      "Set parameter NodefileStart to value 60\n"
     ]
    },
    {
     "name": "stdout",
     "output_type": "stream",
     "text": [
      "Set parameter Method to value -1\n"
     ]
    },
    {
     "name": "stderr",
     "output_type": "stream",
     "text": [
      "Set parameter Method to value -1\n"
     ]
    },
    {
     "name": "stdout",
     "output_type": "stream",
     "text": [
      "Set parameter Heuristics to value 0.05\n"
     ]
    },
    {
     "name": "stderr",
     "output_type": "stream",
     "text": [
      "Set parameter Heuristics to value 0.05\n"
     ]
    },
    {
     "name": "stdout",
     "output_type": "stream",
     "text": [
      "Set parameter Presolve to value -1\n"
     ]
    },
    {
     "name": "stderr",
     "output_type": "stream",
     "text": [
      "Set parameter Presolve to value -1\n"
     ]
    },
    {
     "name": "stdout",
     "output_type": "stream",
     "text": [
      "Set parameter BranchDir to value 0\n"
     ]
    },
    {
     "name": "stderr",
     "output_type": "stream",
     "text": [
      "Set parameter BranchDir to value 0\n"
     ]
    },
    {
     "name": "stdout",
     "output_type": "stream",
     "text": [
      "Set parameter LPWarmStart to value 0\n"
     ]
    },
    {
     "name": "stderr",
     "output_type": "stream",
     "text": [
      "Set parameter LPWarmStart to value 0\n"
     ]
    },
    {
     "name": "stdout",
     "output_type": "stream",
     "text": [
      "Set parameter IntFeasTol to value 1e-05\n"
     ]
    },
    {
     "name": "stderr",
     "output_type": "stream",
     "text": [
      "Set parameter IntFeasTol to value 1e-05\n"
     ]
    },
    {
     "name": "stdout",
     "output_type": "stream",
     "text": [
      "Set parameter FeasibilityTol to value 1e-06\n"
     ]
    },
    {
     "name": "stderr",
     "output_type": "stream",
     "text": [
      "Set parameter FeasibilityTol to value 1e-06\n"
     ]
    },
    {
     "name": "stdout",
     "output_type": "stream",
     "text": [
      "Set parameter Cuts to value -1\n"
     ]
    },
    {
     "name": "stderr",
     "output_type": "stream",
     "text": [
      "Set parameter Cuts to value -1\n"
     ]
    },
    {
     "name": "stdout",
     "output_type": "stream",
     "text": [
      "Set parameter NumericFocus to value 0\n"
     ]
    },
    {
     "name": "stderr",
     "output_type": "stream",
     "text": [
      "Set parameter NumericFocus to value 0\n"
     ]
    },
    {
     "name": "stdout",
     "output_type": "stream",
     "text": [
      "Gurobi Optimizer version 12.0.2 build v12.0.2rc0 (win64 - Windows 11.0 (26100.2))\n"
     ]
    },
    {
     "name": "stderr",
     "output_type": "stream",
     "text": [
      "Gurobi Optimizer version 12.0.2 build v12.0.2rc0 (win64 - Windows 11.0 (26100.2))\n"
     ]
    },
    {
     "name": "stdout",
     "output_type": "stream",
     "text": [
      "\n"
     ]
    },
    {
     "name": "stderr",
     "output_type": "stream",
     "text": [
      "\n"
     ]
    },
    {
     "name": "stdout",
     "output_type": "stream",
     "text": [
      "CPU model: 13th Gen Intel(R) Core(TM) i7-1355U, instruction set [SSE2|AVX|AVX2]\n"
     ]
    },
    {
     "name": "stderr",
     "output_type": "stream",
     "text": [
      "CPU model: 13th Gen Intel(R) Core(TM) i7-1355U, instruction set [SSE2|AVX|AVX2]\n"
     ]
    },
    {
     "name": "stdout",
     "output_type": "stream",
     "text": [
      "Thread count: 10 physical cores, 12 logical processors, using up to 12 threads\n"
     ]
    },
    {
     "name": "stderr",
     "output_type": "stream",
     "text": [
      "Thread count: 10 physical cores, 12 logical processors, using up to 12 threads\n"
     ]
    },
    {
     "name": "stdout",
     "output_type": "stream",
     "text": [
      "\n"
     ]
    },
    {
     "name": "stderr",
     "output_type": "stream",
     "text": [
      "\n"
     ]
    },
    {
     "name": "stdout",
     "output_type": "stream",
     "text": [
      "Non-default parameters:\n"
     ]
    },
    {
     "name": "stderr",
     "output_type": "stream",
     "text": [
      "Non-default parameters:\n"
     ]
    },
    {
     "name": "stdout",
     "output_type": "stream",
     "text": [
      "TimeLimit  36000\n"
     ]
    },
    {
     "name": "stderr",
     "output_type": "stream",
     "text": [
      "TimeLimit  36000\n"
     ]
    },
    {
     "name": "stdout",
     "output_type": "stream",
     "text": [
      "MIPGap  0.02\n"
     ]
    },
    {
     "name": "stderr",
     "output_type": "stream",
     "text": [
      "MIPGap  0.02\n"
     ]
    },
    {
     "name": "stdout",
     "output_type": "stream",
     "text": [
      "LPWarmStart  0\n"
     ]
    },
    {
     "name": "stderr",
     "output_type": "stream",
     "text": [
      "LPWarmStart  0\n"
     ]
    },
    {
     "name": "stdout",
     "output_type": "stream",
     "text": [
      "NodefileStart  60\n"
     ]
    },
    {
     "name": "stderr",
     "output_type": "stream",
     "text": [
      "NodefileStart  60\n"
     ]
    },
    {
     "name": "stdout",
     "output_type": "stream",
     "text": [
      "\n"
     ]
    },
    {
     "name": "stderr",
     "output_type": "stream",
     "text": [
      "\n"
     ]
    },
    {
     "name": "stdout",
     "output_type": "stream",
     "text": [
      "Optimize a model with 734326 rows, 571083 columns and 1767857 nonzeros\n"
     ]
    },
    {
     "name": "stderr",
     "output_type": "stream",
     "text": [
      "Optimize a model with 734326 rows, 571083 columns and 1767857 nonzeros\n"
     ]
    },
    {
     "name": "stdout",
     "output_type": "stream",
     "text": [
      "Model fingerprint: 0xfd052790\n"
     ]
    },
    {
     "name": "stderr",
     "output_type": "stream",
     "text": [
      "Model fingerprint: 0xfd052790\n"
     ]
    },
    {
     "name": "stdout",
     "output_type": "stream",
     "text": [
      "Variable types: 529996 continuous, 41087 integer (36040 binary)\n"
     ]
    },
    {
     "name": "stderr",
     "output_type": "stream",
     "text": [
      "Variable types: 529996 continuous, 41087 integer (36040 binary)\n"
     ]
    },
    {
     "name": "stdout",
     "output_type": "stream",
     "text": [
      "Coefficient statistics:\n"
     ]
    },
    {
     "name": "stderr",
     "output_type": "stream",
     "text": [
      "Coefficient statistics:\n"
     ]
    },
    {
     "name": "stdout",
     "output_type": "stream",
     "text": [
      "  Matrix range     [1e-06, 4e+08]\n"
     ]
    },
    {
     "name": "stderr",
     "output_type": "stream",
     "text": [
      "  Matrix range     [1e-06, 4e+08]\n"
     ]
    },
    {
     "name": "stdout",
     "output_type": "stream",
     "text": [
      "  Objective range  [1e+00, 1e+00]\n"
     ]
    },
    {
     "name": "stderr",
     "output_type": "stream",
     "text": [
      "  Objective range  [1e+00, 1e+00]\n"
     ]
    },
    {
     "name": "stdout",
     "output_type": "stream",
     "text": [
      "  Bounds range     [1e-03, 2e+12]\n"
     ]
    },
    {
     "name": "stderr",
     "output_type": "stream",
     "text": [
      "  Bounds range     [1e-03, 2e+12]\n"
     ]
    },
    {
     "name": "stdout",
     "output_type": "stream",
     "text": [
      "  RHS range        [1e+00, 4e+08]\n"
     ]
    },
    {
     "name": "stderr",
     "output_type": "stream",
     "text": [
      "  RHS range        [1e+00, 4e+08]\n"
     ]
    },
    {
     "name": "stdout",
     "output_type": "stream",
     "text": [
      "Warning: Model contains large matrix coefficient range\n"
     ]
    },
    {
     "name": "stderr",
     "output_type": "stream",
     "text": [
      "Warning: Model contains large matrix coefficient range\n"
     ]
    },
    {
     "name": "stdout",
     "output_type": "stream",
     "text": [
      "Warning: Model contains large bounds\n"
     ]
    },
    {
     "name": "stderr",
     "output_type": "stream",
     "text": [
      "Warning: Model contains large bounds\n"
     ]
    },
    {
     "name": "stdout",
     "output_type": "stream",
     "text": [
      "         Consider reformulating model or setting NumericFocus parameter\n"
     ]
    },
    {
     "name": "stderr",
     "output_type": "stream",
     "text": [
      "         Consider reformulating model or setting NumericFocus parameter\n"
     ]
    },
    {
     "name": "stdout",
     "output_type": "stream",
     "text": [
      "         to avoid numerical issues.\n"
     ]
    },
    {
     "name": "stderr",
     "output_type": "stream",
     "text": [
      "         to avoid numerical issues.\n"
     ]
    },
    {
     "name": "stdout",
     "output_type": "stream",
     "text": [
      "Presolve removed 528787 rows and 452813 columns\n"
     ]
    },
    {
     "name": "stderr",
     "output_type": "stream",
     "text": [
      "Presolve removed 528787 rows and 452813 columns\n"
     ]
    },
    {
     "name": "stdout",
     "output_type": "stream",
     "text": [
      "Presolve time: 4.26s\n"
     ]
    },
    {
     "name": "stderr",
     "output_type": "stream",
     "text": [
      "Presolve time: 4.26s\n"
     ]
    },
    {
     "name": "stdout",
     "output_type": "stream",
     "text": [
      "Presolved: 205539 rows, 118270 columns, 635051 nonzeros\n"
     ]
    },
    {
     "name": "stderr",
     "output_type": "stream",
     "text": [
      "Presolved: 205539 rows, 118270 columns, 635051 nonzeros\n"
     ]
    },
    {
     "name": "stdout",
     "output_type": "stream",
     "text": [
      "Variable types: 99637 continuous, 18633 integer (14410 binary)\n"
     ]
    },
    {
     "name": "stderr",
     "output_type": "stream",
     "text": [
      "Variable types: 99637 continuous, 18633 integer (14410 binary)\n"
     ]
    },
    {
     "name": "stdout",
     "output_type": "stream",
     "text": [
      "\n"
     ]
    },
    {
     "name": "stderr",
     "output_type": "stream",
     "text": [
      "\n"
     ]
    },
    {
     "name": "stdout",
     "output_type": "stream",
     "text": [
      "Deterministic concurrent LP optimizer: primal simplex, dual simplex, and barrier\n"
     ]
    },
    {
     "name": "stderr",
     "output_type": "stream",
     "text": [
      "Deterministic concurrent LP optimizer: primal simplex, dual simplex, and barrier\n"
     ]
    },
    {
     "name": "stdout",
     "output_type": "stream",
     "text": [
      "Showing barrier log only...\n"
     ]
    },
    {
     "name": "stderr",
     "output_type": "stream",
     "text": [
      "Showing barrier log only...\n"
     ]
    },
    {
     "name": "stdout",
     "output_type": "stream",
     "text": [
      "\n"
     ]
    },
    {
     "name": "stderr",
     "output_type": "stream",
     "text": [
      "\n"
     ]
    },
    {
     "name": "stdout",
     "output_type": "stream",
     "text": [
      "Root barrier log...\n"
     ]
    },
    {
     "name": "stderr",
     "output_type": "stream",
     "text": [
      "Root barrier log...\n"
     ]
    },
    {
     "name": "stdout",
     "output_type": "stream",
     "text": [
      "\n"
     ]
    },
    {
     "name": "stderr",
     "output_type": "stream",
     "text": [
      "\n"
     ]
    },
    {
     "name": "stdout",
     "output_type": "stream",
     "text": [
      "Ordering time: 0.57s\n"
     ]
    },
    {
     "name": "stderr",
     "output_type": "stream",
     "text": [
      "Ordering time: 0.57s\n"
     ]
    },
    {
     "name": "stdout",
     "output_type": "stream",
     "text": [
      "\n"
     ]
    },
    {
     "name": "stderr",
     "output_type": "stream",
     "text": [
      "\n"
     ]
    },
    {
     "name": "stdout",
     "output_type": "stream",
     "text": [
      "Barrier statistics:\n"
     ]
    },
    {
     "name": "stderr",
     "output_type": "stream",
     "text": [
      "Barrier statistics:\n"
     ]
    },
    {
     "name": "stdout",
     "output_type": "stream",
     "text": [
      " Dense cols : 37\n"
     ]
    },
    {
     "name": "stderr",
     "output_type": "stream",
     "text": [
      " Dense cols : 37\n"
     ]
    },
    {
     "name": "stdout",
     "output_type": "stream",
     "text": [
      " AA' NZ     : 1.398e+06\n"
     ]
    },
    {
     "name": "stderr",
     "output_type": "stream",
     "text": [
      " AA' NZ     : 1.398e+06\n"
     ]
    },
    {
     "name": "stdout",
     "output_type": "stream",
     "text": [
      " Factor NZ  : 5.940e+06 (roughly 170 MB of memory)\n"
     ]
    },
    {
     "name": "stderr",
     "output_type": "stream",
     "text": [
      " Factor NZ  : 5.940e+06 (roughly 170 MB of memory)\n"
     ]
    },
    {
     "name": "stdout",
     "output_type": "stream",
     "text": [
      " Factor Ops : 6.439e+08 (less than 1 second per iteration)\n"
     ]
    },
    {
     "name": "stderr",
     "output_type": "stream",
     "text": [
      " Factor Ops : 6.439e+08 (less than 1 second per iteration)\n"
     ]
    },
    {
     "name": "stdout",
     "output_type": "stream",
     "text": [
      " Threads    : 7\n"
     ]
    },
    {
     "name": "stderr",
     "output_type": "stream",
     "text": [
      " Threads    : 7\n"
     ]
    },
    {
     "name": "stdout",
     "output_type": "stream",
     "text": [
      "\n"
     ]
    },
    {
     "name": "stderr",
     "output_type": "stream",
     "text": [
      "\n"
     ]
    },
    {
     "name": "stdout",
     "output_type": "stream",
     "text": [
      "                  Objective                Residual\n"
     ]
    },
    {
     "name": "stderr",
     "output_type": "stream",
     "text": [
      "                  Objective                Residual\n"
     ]
    },
    {
     "name": "stdout",
     "output_type": "stream",
     "text": [
      "Iter       Primal          Dual         Primal    Dual     Compl     Time\n"
     ]
    },
    {
     "name": "stderr",
     "output_type": "stream",
     "text": [
      "Iter       Primal          Dual         Primal    Dual     Compl     Time\n"
     ]
    },
    {
     "name": "stdout",
     "output_type": "stream",
     "text": [
      "   0   1.59204133e+14 -2.13992913e+17  2.59e+06 4.52e+03  2.51e+12     8s\n"
     ]
    },
    {
     "name": "stderr",
     "output_type": "stream",
     "text": [
      "   0   1.59204133e+14 -2.13992913e+17  2.59e+06 4.52e+03  2.51e+12     8s\n"
     ]
    },
    {
     "name": "stdout",
     "output_type": "stream",
     "text": [
      "   1   1.25806708e+14 -7.47001946e+16  1.68e+06 5.74e+05  8.92e+11     8s\n"
     ]
    },
    {
     "name": "stderr",
     "output_type": "stream",
     "text": [
      "   1   1.25806708e+14 -7.47001946e+16  1.68e+06 5.74e+05  8.92e+11     8s\n"
     ]
    },
    {
     "name": "stdout",
     "output_type": "stream",
     "text": [
      "   2   9.96666079e+13 -1.98353503e+16  1.25e+06 1.18e+04  3.91e+11     8s\n"
     ]
    },
    {
     "name": "stderr",
     "output_type": "stream",
     "text": [
      "   2   9.96666079e+13 -1.98353503e+16  1.25e+06 1.18e+04  3.91e+11     8s\n"
     ]
    },
    {
     "name": "stdout",
     "output_type": "stream",
     "text": [
      "   3   1.33601916e+13 -2.83432712e+15  8.67e+04 4.46e+02  2.98e+10     8s\n"
     ]
    },
    {
     "name": "stderr",
     "output_type": "stream",
     "text": [
      "   3   1.33601916e+13 -2.83432712e+15  8.67e+04 4.46e+02  2.98e+10     8s\n"
     ]
    },
    {
     "name": "stdout",
     "output_type": "stream",
     "text": [
      "   4   7.11775085e+12 -3.11732006e+14  4.88e+03 4.55e-04  2.06e+09     9s\n"
     ]
    },
    {
     "name": "stderr",
     "output_type": "stream",
     "text": [
      "   4   7.11775085e+12 -3.11732006e+14  4.88e+03 4.55e-04  2.06e+09     9s\n"
     ]
    },
    {
     "name": "stdout",
     "output_type": "stream",
     "text": [
      "   5   6.13586181e+12 -7.93750189e+13  2.33e+02 9.55e-04  2.97e+08     9s\n"
     ]
    },
    {
     "name": "stderr",
     "output_type": "stream",
     "text": [
      "   5   6.13586181e+12 -7.93750189e+13  2.33e+02 9.55e-04  2.97e+08     9s\n"
     ]
    },
    {
     "name": "stdout",
     "output_type": "stream",
     "text": [
      "   6   3.84915554e+12 -1.65416740e+13  1.66e+01 1.04e-03  6.18e+07     9s\n"
     ]
    },
    {
     "name": "stderr",
     "output_type": "stream",
     "text": [
      "   6   3.84915554e+12 -1.65416740e+13  1.66e+01 1.04e-03  6.18e+07     9s\n"
     ]
    },
    {
     "name": "stdout",
     "output_type": "stream",
     "text": [
      "   7   1.56265886e+12 -2.64258092e+12  2.94e+00 4.62e-04  1.26e+07     9s\n"
     ]
    },
    {
     "name": "stderr",
     "output_type": "stream",
     "text": [
      "   7   1.56265886e+12 -2.64258092e+12  2.94e+00 4.62e-04  1.26e+07     9s\n"
     ]
    },
    {
     "name": "stdout",
     "output_type": "stream",
     "text": [
      "   8   4.19522817e+11 -4.91578011e+11  8.77e-01 9.15e-04  2.73e+06    10s\n"
     ]
    },
    {
     "name": "stderr",
     "output_type": "stream",
     "text": [
      "   8   4.19522817e+11 -4.91578011e+11  8.77e-01 9.15e-04  2.73e+06    10s\n"
     ]
    },
    {
     "name": "stdout",
     "output_type": "stream",
     "text": [
      "   9   1.86991531e+11 -1.76617120e+11  3.41e-01 9.33e-05  1.09e+06    10s\n"
     ]
    },
    {
     "name": "stderr",
     "output_type": "stream",
     "text": [
      "   9   1.86991531e+11 -1.76617120e+11  3.41e-01 9.33e-05  1.09e+06    10s\n"
     ]
    },
    {
     "name": "stdout",
     "output_type": "stream",
     "text": [
      "  10   1.44228143e+11 -9.75079660e+10  2.49e-01 6.77e-05  7.22e+05    10s\n"
     ]
    },
    {
     "name": "stderr",
     "output_type": "stream",
     "text": [
      "  10   1.44228143e+11 -9.75079660e+10  2.49e-01 6.77e-05  7.22e+05    10s\n"
     ]
    },
    {
     "name": "stdout",
     "output_type": "stream",
     "text": [
      "  11   1.21021479e+11 -7.10511696e+10  2.01e-01 4.66e-05  5.74e+05    10s\n"
     ]
    },
    {
     "name": "stderr",
     "output_type": "stream",
     "text": [
      "  11   1.21021479e+11 -7.10511696e+10  2.01e-01 4.66e-05  5.74e+05    10s\n"
     ]
    },
    {
     "name": "stdout",
     "output_type": "stream",
     "text": [
      "  12   8.17019996e+10 -5.63975584e+10  1.25e-01 3.71e-05  4.12e+05    10s\n"
     ]
    },
    {
     "name": "stderr",
     "output_type": "stream",
     "text": [
      "  12   8.17019996e+10 -5.63975584e+10  1.25e-01 3.71e-05  4.12e+05    10s\n"
     ]
    },
    {
     "name": "stdout",
     "output_type": "stream",
     "text": [
      "  13   4.10652582e+10 -2.59801303e+10  5.22e-02 1.71e-05  2.00e+05    11s\n"
     ]
    },
    {
     "name": "stderr",
     "output_type": "stream",
     "text": [
      "  13   4.10652582e+10 -2.59801303e+10  5.22e-02 1.71e-05  2.00e+05    11s\n"
     ]
    },
    {
     "name": "stdout",
     "output_type": "stream",
     "text": [
      "  14   2.49362431e+10 -5.02412526e+09  2.61e-02 4.14e-06  8.93e+04    11s\n"
     ]
    },
    {
     "name": "stderr",
     "output_type": "stream",
     "text": [
      "  14   2.49362431e+10 -5.02412526e+09  2.61e-02 4.14e-06  8.93e+04    11s\n"
     ]
    },
    {
     "name": "stdout",
     "output_type": "stream",
     "text": [
      "  15   1.82647847e+10  2.31514431e+07  1.55e-02 2.73e-06  5.44e+04    11s\n"
     ]
    },
    {
     "name": "stderr",
     "output_type": "stream",
     "text": [
      "  15   1.82647847e+10  2.31514431e+07  1.55e-02 2.73e-06  5.44e+04    11s\n"
     ]
    },
    {
     "name": "stdout",
     "output_type": "stream",
     "text": [
      "  16   1.52566906e+10  2.14349448e+09  1.06e-02 2.09e-06  3.91e+04    11s\n"
     ]
    },
    {
     "name": "stderr",
     "output_type": "stream",
     "text": [
      "  16   1.52566906e+10  2.14349448e+09  1.06e-02 2.09e-06  3.91e+04    11s\n"
     ]
    },
    {
     "name": "stdout",
     "output_type": "stream",
     "text": [
      "  17   1.36488735e+10  3.71722593e+09  8.09e-03 1.58e-06  2.96e+04    11s\n"
     ]
    },
    {
     "name": "stderr",
     "output_type": "stream",
     "text": [
      "  17   1.36488735e+10  3.71722593e+09  8.09e-03 1.58e-06  2.96e+04    11s\n"
     ]
    },
    {
     "name": "stdout",
     "output_type": "stream",
     "text": [
      "  18   1.25283648e+10  4.92427984e+09  6.38e-03 1.12e-06  2.27e+04    12s\n"
     ]
    },
    {
     "name": "stderr",
     "output_type": "stream",
     "text": [
      "  18   1.25283648e+10  4.92427984e+09  6.38e-03 1.12e-06  2.27e+04    12s\n"
     ]
    },
    {
     "name": "stdout",
     "output_type": "stream",
     "text": [
      "  19   1.08899302e+10  5.40043173e+09  3.82e-03 9.67e-07  1.64e+04    12s\n"
     ]
    },
    {
     "name": "stderr",
     "output_type": "stream",
     "text": [
      "  19   1.08899302e+10  5.40043173e+09  3.82e-03 9.67e-07  1.64e+04    12s\n"
     ]
    },
    {
     "name": "stdout",
     "output_type": "stream",
     "text": [
      "  20   9.90200910e+09  6.35579321e+09  2.40e-03 6.35e-07  1.06e+04    12s\n"
     ]
    },
    {
     "name": "stderr",
     "output_type": "stream",
     "text": [
      "  20   9.90200910e+09  6.35579321e+09  2.40e-03 6.35e-07  1.06e+04    12s\n"
     ]
    },
    {
     "name": "stdout",
     "output_type": "stream",
     "text": [
      "  21   9.25702245e+09  6.88277068e+09  1.50e-03 4.44e-07  7.07e+03    12s\n"
     ]
    },
    {
     "name": "stderr",
     "output_type": "stream",
     "text": [
      "  21   9.25702245e+09  6.88277068e+09  1.50e-03 4.44e-07  7.07e+03    12s\n"
     ]
    },
    {
     "name": "stdout",
     "output_type": "stream",
     "text": [
      "  22   8.92638404e+09  7.22811199e+09  1.07e-03 3.17e-07  5.06e+03    13s\n"
     ]
    },
    {
     "name": "stderr",
     "output_type": "stream",
     "text": [
      "  22   8.92638404e+09  7.22811199e+09  1.07e-03 3.17e-07  5.06e+03    13s\n"
     ]
    },
    {
     "name": "stdout",
     "output_type": "stream",
     "text": [
      "  23   8.65774835e+09  7.32272795e+09  7.28e-04 2.88e-07  3.98e+03    13s\n"
     ]
    },
    {
     "name": "stderr",
     "output_type": "stream",
     "text": [
      "  23   8.65774835e+09  7.32272795e+09  7.28e-04 2.88e-07  3.98e+03    13s\n"
     ]
    },
    {
     "name": "stdout",
     "output_type": "stream",
     "text": [
      "  24   8.62858700e+09  7.42900456e+09  6.89e-04 2.43e-07  3.57e+03    13s\n"
     ]
    },
    {
     "name": "stderr",
     "output_type": "stream",
     "text": [
      "  24   8.62858700e+09  7.42900456e+09  6.89e-04 2.43e-07  3.57e+03    13s\n"
     ]
    },
    {
     "name": "stdout",
     "output_type": "stream",
     "text": [
      "  25   8.51161175e+09  7.56842359e+09  5.42e-04 1.92e-07  2.81e+03    13s\n"
     ]
    },
    {
     "name": "stderr",
     "output_type": "stream",
     "text": [
      "  25   8.51161175e+09  7.56842359e+09  5.42e-04 1.92e-07  2.81e+03    13s\n"
     ]
    },
    {
     "name": "stdout",
     "output_type": "stream",
     "text": [
      "  26   8.44327471e+09  7.68141528e+09  4.59e-04 1.53e-07  2.27e+03    14s\n"
     ]
    },
    {
     "name": "stderr",
     "output_type": "stream",
     "text": [
      "  26   8.44327471e+09  7.68141528e+09  4.59e-04 1.53e-07  2.27e+03    14s\n"
     ]
    },
    {
     "name": "stdout",
     "output_type": "stream",
     "text": [
      "  27   8.33789116e+09  7.83222265e+09  3.29e-04 9.69e-08  1.51e+03    14s\n"
     ]
    },
    {
     "name": "stderr",
     "output_type": "stream",
     "text": [
      "  27   8.33789116e+09  7.83222265e+09  3.29e-04 9.69e-08  1.51e+03    14s\n"
     ]
    },
    {
     "name": "stdout",
     "output_type": "stream",
     "text": [
      "  28   8.26263436e+09  7.91089274e+09  2.43e-04 1.09e-07  1.05e+03    14s\n"
     ]
    },
    {
     "name": "stderr",
     "output_type": "stream",
     "text": [
      "  28   8.26263436e+09  7.91089274e+09  2.43e-04 1.09e-07  1.05e+03    14s\n"
     ]
    },
    {
     "name": "stdout",
     "output_type": "stream",
     "text": [
      "  29   8.18228967e+09  7.94869253e+09  1.52e-04 6.63e-08  6.96e+02    14s\n"
     ]
    },
    {
     "name": "stderr",
     "output_type": "stream",
     "text": [
      "  29   8.18228967e+09  7.94869253e+09  1.52e-04 6.63e-08  6.96e+02    14s\n"
     ]
    },
    {
     "name": "stdout",
     "output_type": "stream",
     "text": [
      "  30   8.15557326e+09  7.96627163e+09  1.21e-04 5.65e-08  5.64e+02    15s\n"
     ]
    },
    {
     "name": "stderr",
     "output_type": "stream",
     "text": [
      "  30   8.15557326e+09  7.96627163e+09  1.21e-04 5.65e-08  5.64e+02    15s\n"
     ]
    },
    {
     "name": "stdout",
     "output_type": "stream",
     "text": [
      "  31   8.12162924e+09  7.99593274e+09  8.21e-05 5.17e-08  3.75e+02    15s\n"
     ]
    },
    {
     "name": "stderr",
     "output_type": "stream",
     "text": [
      "  31   8.12162924e+09  7.99593274e+09  8.21e-05 5.17e-08  3.75e+02    15s\n"
     ]
    },
    {
     "name": "stdout",
     "output_type": "stream",
     "text": [
      "  32   8.09046274e+09  8.00839069e+09  4.71e-05 4.11e-08  2.44e+02    15s\n"
     ]
    },
    {
     "name": "stderr",
     "output_type": "stream",
     "text": [
      "  32   8.09046274e+09  8.00839069e+09  4.71e-05 4.11e-08  2.44e+02    15s\n"
     ]
    },
    {
     "name": "stdout",
     "output_type": "stream",
     "text": [
      "  33   8.06580573e+09  8.03974750e+09  1.87e-05 5.23e-08  7.77e+01    15s\n"
     ]
    },
    {
     "name": "stderr",
     "output_type": "stream",
     "text": [
      "  33   8.06580573e+09  8.03974750e+09  1.87e-05 5.23e-08  7.77e+01    15s\n"
     ]
    },
    {
     "name": "stdout",
     "output_type": "stream",
     "text": [
      "  34   8.05599684e+09  8.04158790e+09  8.42e-06 3.19e-08  4.29e+01    16s\n"
     ]
    },
    {
     "name": "stderr",
     "output_type": "stream",
     "text": [
      "  34   8.05599684e+09  8.04158790e+09  8.42e-06 3.19e-08  4.29e+01    16s\n"
     ]
    },
    {
     "name": "stdout",
     "output_type": "stream",
     "text": [
      "  35   8.05227333e+09  8.04475515e+09  4.65e-06 1.30e-08  2.24e+01    16s\n"
     ]
    },
    {
     "name": "stderr",
     "output_type": "stream",
     "text": [
      "  35   8.05227333e+09  8.04475515e+09  4.65e-06 1.30e-08  2.24e+01    16s\n"
     ]
    },
    {
     "name": "stdout",
     "output_type": "stream",
     "text": [
      "  36   8.04946390e+09  8.04641405e+09  3.18e-06 1.77e-08  9.09e+00    16s\n"
     ]
    },
    {
     "name": "stderr",
     "output_type": "stream",
     "text": [
      "  36   8.04946390e+09  8.04641405e+09  3.18e-06 1.77e-08  9.09e+00    16s\n"
     ]
    },
    {
     "name": "stdout",
     "output_type": "stream",
     "text": [
      "  37   8.04899245e+09  8.04643537e+09  2.98e-06 1.72e-08  7.62e+00    16s\n"
     ]
    },
    {
     "name": "stderr",
     "output_type": "stream",
     "text": [
      "  37   8.04899245e+09  8.04643537e+09  2.98e-06 1.72e-08  7.62e+00    16s\n"
     ]
    },
    {
     "name": "stdout",
     "output_type": "stream",
     "text": [
      "  38   8.04873310e+09  8.04677399e+09  4.45e-06 1.35e-08  5.84e+00    17s\n"
     ]
    },
    {
     "name": "stderr",
     "output_type": "stream",
     "text": [
      "  38   8.04873310e+09  8.04677399e+09  4.45e-06 1.35e-08  5.84e+00    17s\n"
     ]
    },
    {
     "name": "stdout",
     "output_type": "stream",
     "text": [
      "  39   8.04834355e+09  8.04721278e+09  4.49e-05 3.17e-08  3.38e+00    17s\n"
     ]
    },
    {
     "name": "stderr",
     "output_type": "stream",
     "text": [
      "  39   8.04834355e+09  8.04721278e+09  4.49e-05 3.17e-08  3.38e+00    17s\n"
     ]
    },
    {
     "name": "stdout",
     "output_type": "stream",
     "text": [
      "  40   8.04771101e+09  8.04727891e+09  9.26e-05 3.12e-08  1.29e+00    17s\n"
     ]
    },
    {
     "name": "stderr",
     "output_type": "stream",
     "text": [
      "  40   8.04771101e+09  8.04727891e+09  9.26e-05 3.12e-08  1.29e+00    17s\n"
     ]
    },
    {
     "name": "stdout",
     "output_type": "stream",
     "text": [
      "  41   8.04751822e+09  8.04735729e+09  5.07e-05 1.72e-08  4.81e-01    18s\n"
     ]
    },
    {
     "name": "stderr",
     "output_type": "stream",
     "text": [
      "  41   8.04751822e+09  8.04735729e+09  5.07e-05 1.72e-08  4.81e-01    18s\n"
     ]
    },
    {
     "name": "stdout",
     "output_type": "stream",
     "text": [
      "  42   8.04744784e+09  8.04738874e+09  2.52e-05 8.19e-08  1.77e-01    18s\n"
     ]
    },
    {
     "name": "stderr",
     "output_type": "stream",
     "text": [
      "  42   8.04744784e+09  8.04738874e+09  2.52e-05 8.19e-08  1.77e-01    18s\n"
     ]
    },
    {
     "name": "stdout",
     "output_type": "stream",
     "text": [
      "  43   8.04741585e+09  8.04739544e+09  1.05e-05 3.65e-08  6.10e-02    18s\n"
     ]
    },
    {
     "name": "stderr",
     "output_type": "stream",
     "text": [
      "  43   8.04741585e+09  8.04739544e+09  1.05e-05 3.65e-08  6.10e-02    18s\n"
     ]
    },
    {
     "name": "stdout",
     "output_type": "stream",
     "text": [
      "  44   8.04740323e+09  8.04739672e+09  5.12e-06 2.70e-08  1.95e-02    18s\n"
     ]
    },
    {
     "name": "stderr",
     "output_type": "stream",
     "text": [
      "  44   8.04740323e+09  8.04739672e+09  5.12e-06 2.70e-08  1.95e-02    18s\n"
     ]
    },
    {
     "name": "stdout",
     "output_type": "stream",
     "text": [
      "  45   8.04740005e+09  8.04739789e+09  1.98e-06 2.00e-08  6.44e-03    18s\n"
     ]
    },
    {
     "name": "stderr",
     "output_type": "stream",
     "text": [
      "  45   8.04740005e+09  8.04739789e+09  1.98e-06 2.00e-08  6.44e-03    18s\n"
     ]
    },
    {
     "name": "stdout",
     "output_type": "stream",
     "text": [
      "  46   8.04739860e+09  8.04739828e+09  4.85e-07 1.82e-08  9.50e-04    19s\n"
     ]
    },
    {
     "name": "stderr",
     "output_type": "stream",
     "text": [
      "  46   8.04739860e+09  8.04739828e+09  4.85e-07 1.82e-08  9.50e-04    19s\n"
     ]
    },
    {
     "name": "stdout",
     "output_type": "stream",
     "text": [
      "  47   8.04739843e+09  8.04739840e+09  5.82e-08 1.75e-08  9.65e-05    19s\n"
     ]
    },
    {
     "name": "stderr",
     "output_type": "stream",
     "text": [
      "  47   8.04739843e+09  8.04739840e+09  5.82e-08 1.75e-08  9.65e-05    19s\n"
     ]
    },
    {
     "name": "stdout",
     "output_type": "stream",
     "text": [
      "  48   8.04739841e+09  8.04739841e+09  1.84e-08 1.72e-08  1.39e-06    19s\n"
     ]
    },
    {
     "name": "stderr",
     "output_type": "stream",
     "text": [
      "  48   8.04739841e+09  8.04739841e+09  1.84e-08 1.72e-08  1.39e-06    19s\n"
     ]
    },
    {
     "name": "stdout",
     "output_type": "stream",
     "text": [
      "  49   8.04739841e+09  8.04739841e+09  2.23e-12 1.27e-08  7.12e-08    19s\n"
     ]
    },
    {
     "name": "stderr",
     "output_type": "stream",
     "text": [
      "  49   8.04739841e+09  8.04739841e+09  2.23e-12 1.27e-08  7.12e-08    19s\n"
     ]
    },
    {
     "name": "stdout",
     "output_type": "stream",
     "text": [
      "  50   8.04739841e+09  8.04739841e+09  3.54e-12 1.26e-08  8.03e-08    20s\n"
     ]
    },
    {
     "name": "stderr",
     "output_type": "stream",
     "text": [
      "  50   8.04739841e+09  8.04739841e+09  3.54e-12 1.26e-08  8.03e-08    20s\n"
     ]
    },
    {
     "name": "stdout",
     "output_type": "stream",
     "text": [
      "\n"
     ]
    },
    {
     "name": "stderr",
     "output_type": "stream",
     "text": [
      "\n"
     ]
    },
    {
     "name": "stdout",
     "output_type": "stream",
     "text": [
      "Barrier solved model in 50 iterations and 19.58 seconds (11.35 work units)\n"
     ]
    },
    {
     "name": "stderr",
     "output_type": "stream",
     "text": [
      "Barrier solved model in 50 iterations and 19.58 seconds (11.35 work units)\n"
     ]
    },
    {
     "name": "stdout",
     "output_type": "stream",
     "text": [
      "Optimal objective 8.04739841e+09\n"
     ]
    },
    {
     "name": "stderr",
     "output_type": "stream",
     "text": [
      "Optimal objective 8.04739841e+09\n"
     ]
    },
    {
     "name": "stdout",
     "output_type": "stream",
     "text": [
      "\n"
     ]
    },
    {
     "name": "stderr",
     "output_type": "stream",
     "text": [
      "\n"
     ]
    },
    {
     "name": "stdout",
     "output_type": "stream",
     "text": [
      "\n"
     ]
    },
    {
     "name": "stderr",
     "output_type": "stream",
     "text": [
      "\n"
     ]
    },
    {
     "name": "stdout",
     "output_type": "stream",
     "text": [
      "Root crossover log...\n"
     ]
    },
    {
     "name": "stderr",
     "output_type": "stream",
     "text": [
      "Root crossover log...\n"
     ]
    },
    {
     "name": "stdout",
     "output_type": "stream",
     "text": [
      "\n"
     ]
    },
    {
     "name": "stderr",
     "output_type": "stream",
     "text": [
      "\n"
     ]
    },
    {
     "name": "stdout",
     "output_type": "stream",
     "text": [
      "  131557 DPushes remaining with DInf 4.5736945e-05                20s\n"
     ]
    },
    {
     "name": "stderr",
     "output_type": "stream",
     "text": [
      "  131557 DPushes remaining with DInf 4.5736945e-05                20s\n"
     ]
    },
    {
     "name": "stdout",
     "output_type": "stream",
     "text": [
      "   30263 DPushes remaining with DInf 4.4067229e-05                20s\n"
     ]
    },
    {
     "name": "stderr",
     "output_type": "stream",
     "text": [
      "   30263 DPushes remaining with DInf 4.4067229e-05                20s\n"
     ]
    },
    {
     "name": "stdout",
     "output_type": "stream",
     "text": [
      "       0 DPushes remaining with DInf 4.4067229e-05                22s\n"
     ]
    },
    {
     "name": "stderr",
     "output_type": "stream",
     "text": [
      "       0 DPushes remaining with DInf 4.4067229e-05                22s\n"
     ]
    },
    {
     "name": "stdout",
     "output_type": "stream",
     "text": [
      "\n"
     ]
    },
    {
     "name": "stderr",
     "output_type": "stream",
     "text": [
      "\n"
     ]
    },
    {
     "name": "stdout",
     "output_type": "stream",
     "text": [
      "       5 PPushes remaining with PInf 0.0000000e+00                22s\n"
     ]
    },
    {
     "name": "stderr",
     "output_type": "stream",
     "text": [
      "       5 PPushes remaining with PInf 0.0000000e+00                22s\n"
     ]
    },
    {
     "name": "stdout",
     "output_type": "stream",
     "text": [
      "       0 PPushes remaining with PInf 0.0000000e+00                22s\n"
     ]
    },
    {
     "name": "stderr",
     "output_type": "stream",
     "text": [
      "       0 PPushes remaining with PInf 0.0000000e+00                22s\n"
     ]
    },
    {
     "name": "stdout",
     "output_type": "stream",
     "text": [
      "\n"
     ]
    },
    {
     "name": "stderr",
     "output_type": "stream",
     "text": [
      "\n"
     ]
    },
    {
     "name": "stdout",
     "output_type": "stream",
     "text": [
      "  Push phase complete: Pinf 0.0000000e+00, Dinf 4.4074950e-05     22s\n"
     ]
    },
    {
     "name": "stderr",
     "output_type": "stream",
     "text": [
      "  Push phase complete: Pinf 0.0000000e+00, Dinf 4.4074950e-05     22s\n"
     ]
    },
    {
     "name": "stdout",
     "output_type": "stream",
     "text": [
      "\n"
     ]
    },
    {
     "name": "stderr",
     "output_type": "stream",
     "text": [
      "\n"
     ]
    },
    {
     "name": "stdout",
     "output_type": "stream",
     "text": [
      "\n"
     ]
    },
    {
     "name": "stderr",
     "output_type": "stream",
     "text": [
      "\n"
     ]
    },
    {
     "name": "stdout",
     "output_type": "stream",
     "text": [
      "Root simplex log...\n"
     ]
    },
    {
     "name": "stderr",
     "output_type": "stream",
     "text": [
      "Root simplex log...\n"
     ]
    },
    {
     "name": "stdout",
     "output_type": "stream",
     "text": [
      "\n"
     ]
    },
    {
     "name": "stderr",
     "output_type": "stream",
     "text": [
      "\n"
     ]
    },
    {
     "name": "stdout",
     "output_type": "stream",
     "text": [
      "Iteration    Objective       Primal Inf.    Dual Inf.      Time\n"
     ]
    },
    {
     "name": "stderr",
     "output_type": "stream",
     "text": [
      "Iteration    Objective       Primal Inf.    Dual Inf.      Time\n"
     ]
    },
    {
     "name": "stdout",
     "output_type": "stream",
     "text": [
      "   67700    8.0473984e+09   0.000000e+00   4.406723e-05     22s\n"
     ]
    },
    {
     "name": "stderr",
     "output_type": "stream",
     "text": [
      "   67700    8.0473984e+09   0.000000e+00   4.406723e-05     22s\n"
     ]
    },
    {
     "name": "stdout",
     "output_type": "stream",
     "text": [
      "   67710    8.0473984e+09   0.000000e+00   0.000000e+00     22s\n"
     ]
    },
    {
     "name": "stderr",
     "output_type": "stream",
     "text": [
      "   67710    8.0473984e+09   0.000000e+00   0.000000e+00     22s\n"
     ]
    },
    {
     "name": "stdout",
     "output_type": "stream",
     "text": [
      "   67710    8.0473984e+09   0.000000e+00   0.000000e+00     22s\n"
     ]
    },
    {
     "name": "stderr",
     "output_type": "stream",
     "text": [
      "   67710    8.0473984e+09   0.000000e+00   0.000000e+00     22s\n"
     ]
    },
    {
     "name": "stdout",
     "output_type": "stream",
     "text": [
      "Concurrent spin time: 0.01s\n"
     ]
    },
    {
     "name": "stderr",
     "output_type": "stream",
     "text": [
      "Concurrent spin time: 0.01s\n"
     ]
    },
    {
     "name": "stdout",
     "output_type": "stream",
     "text": [
      "\n"
     ]
    },
    {
     "name": "stderr",
     "output_type": "stream",
     "text": [
      "\n"
     ]
    },
    {
     "name": "stdout",
     "output_type": "stream",
     "text": [
      "Solved with barrier\n"
     ]
    },
    {
     "name": "stderr",
     "output_type": "stream",
     "text": [
      "Solved with barrier\n"
     ]
    },
    {
     "name": "stdout",
     "output_type": "stream",
     "text": [
      "\n"
     ]
    },
    {
     "name": "stderr",
     "output_type": "stream",
     "text": [
      "\n"
     ]
    },
    {
     "name": "stdout",
     "output_type": "stream",
     "text": [
      "Root relaxation: objective 8.047398e+09, 67710 iterations, 16.81 seconds (6.66 work units)\n"
     ]
    },
    {
     "name": "stderr",
     "output_type": "stream",
     "text": [
      "Root relaxation: objective 8.047398e+09, 67710 iterations, 16.81 seconds (6.66 work units)\n"
     ]
    },
    {
     "name": "stdout",
     "output_type": "stream",
     "text": [
      "\n"
     ]
    },
    {
     "name": "stderr",
     "output_type": "stream",
     "text": [
      "\n"
     ]
    },
    {
     "name": "stdout",
     "output_type": "stream",
     "text": [
      "    Nodes    |    Current Node    |     Objective Bounds      |     Work\n"
     ]
    },
    {
     "name": "stderr",
     "output_type": "stream",
     "text": [
      "    Nodes    |    Current Node    |     Objective Bounds      |     Work\n"
     ]
    },
    {
     "name": "stdout",
     "output_type": "stream",
     "text": [
      " Expl Unexpl |  Obj  Depth IntInf | Incumbent    BestBd   Gap | It/Node Time\n"
     ]
    },
    {
     "name": "stderr",
     "output_type": "stream",
     "text": [
      " Expl Unexpl |  Obj  Depth IntInf | Incumbent    BestBd   Gap | It/Node Time\n"
     ]
    },
    {
     "name": "stdout",
     "output_type": "stream",
     "text": [
      "\n"
     ]
    },
    {
     "name": "stderr",
     "output_type": "stream",
     "text": [
      "\n"
     ]
    },
    {
     "name": "stdout",
     "output_type": "stream",
     "text": [
      "*    0     0               0    8.047398e+09 8.0474e+09  0.00%     -   24s\n"
     ]
    },
    {
     "name": "stderr",
     "output_type": "stream",
     "text": [
      "*    0     0               0    8.047398e+09 8.0474e+09  0.00%     -   24s\n"
     ]
    },
    {
     "name": "stdout",
     "output_type": "stream",
     "text": [
      "\n"
     ]
    },
    {
     "name": "stderr",
     "output_type": "stream",
     "text": [
      "\n"
     ]
    },
    {
     "name": "stdout",
     "output_type": "stream",
     "text": [
      "Explored 1 nodes (67710 simplex iterations) in 25.28 seconds (13.08 work units)\n"
     ]
    },
    {
     "name": "stderr",
     "output_type": "stream",
     "text": [
      "Explored 1 nodes (67710 simplex iterations) in 25.28 seconds (13.08 work units)\n"
     ]
    },
    {
     "name": "stdout",
     "output_type": "stream",
     "text": [
      "Thread count was 12 (of 12 available processors)\n"
     ]
    },
    {
     "name": "stderr",
     "output_type": "stream",
     "text": [
      "Thread count was 12 (of 12 available processors)\n"
     ]
    },
    {
     "name": "stdout",
     "output_type": "stream",
     "text": [
      "\n"
     ]
    },
    {
     "name": "stderr",
     "output_type": "stream",
     "text": [
      "\n"
     ]
    },
    {
     "name": "stdout",
     "output_type": "stream",
     "text": [
      "Solution count 1: 8.0474e+09 \n"
     ]
    },
    {
     "name": "stderr",
     "output_type": "stream",
     "text": [
      "Solution count 1: 8.0474e+09 \n"
     ]
    },
    {
     "name": "stdout",
     "output_type": "stream",
     "text": [
      "\n"
     ]
    },
    {
     "name": "stderr",
     "output_type": "stream",
     "text": [
      "\n"
     ]
    },
    {
     "name": "stdout",
     "output_type": "stream",
     "text": [
      "Optimal solution found (tolerance 2.00e-02)\n"
     ]
    },
    {
     "name": "stderr",
     "output_type": "stream",
     "text": [
      "Optimal solution found (tolerance 2.00e-02)\n"
     ]
    },
    {
     "name": "stdout",
     "output_type": "stream",
     "text": [
      "Warning: max constraint violation (7.9031e-06) exceeds tolerance\n"
     ]
    },
    {
     "name": "stderr",
     "output_type": "stream",
     "text": [
      "Warning: max constraint violation (7.9031e-06) exceeds tolerance\n"
     ]
    },
    {
     "name": "stdout",
     "output_type": "stream",
     "text": [
      "Best objective 8.047398408353e+09, best bound 8.047398408353e+09, gap 0.0000%\n"
     ]
    },
    {
     "name": "stderr",
     "output_type": "stream",
     "text": [
      "Best objective 8.047398408353e+09, best bound 8.047398408353e+09, gap 0.0000%\n"
     ]
    },
    {
     "name": "stdout",
     "output_type": "stream",
     "text": [
      "Set parameter LogFile to value \"\"\n"
     ]
    },
    {
     "name": "stderr",
     "output_type": "stream",
     "text": [
      "Set parameter LogFile to value \"\"\n",
      "Writing results to userData\\20250829134246-1\n"
     ]
    },
    {
     "name": "stdout",
     "output_type": "stream",
     "text": [
      "# ==========================================================\n",
      "# = Solver Results                                         =\n",
      "# ==========================================================\n",
      "# ----------------------------------------------------------\n",
      "#   Problem Information\n",
      "# ----------------------------------------------------------\n",
      "Problem: \n",
      "- Name: unknown\n",
      "  Lower bound: 8047398408.353289\n",
      "  Upper bound: 8047398408.353291\n",
      "  Number of objectives: 1\n",
      "  Number of constraints: 734326\n",
      "  Number of variables: 571083\n",
      "  Number of binary variables: 36040\n",
      "  Number of integer variables: 41087\n",
      "  Number of continuous variables: 493956\n",
      "  Number of nonzeros: 1767857\n",
      "  Sense: minimize\n",
      "  Number of solutions: 1\n",
      "# ----------------------------------------------------------\n",
      "#   Solver Information\n",
      "# ----------------------------------------------------------\n",
      "Solver: \n",
      "- Name: Gurobi 12.02\n",
      "  Status: ok\n",
      "  Wallclock time: 25.39800000190735\n",
      "  Termination condition: optimal\n",
      "  Termination message: Model was solved to optimality (subject to tolerances), and an optimal solution is available.\n",
      "# ----------------------------------------------------------\n",
      "#   Solution Information\n",
      "# ----------------------------------------------------------\n",
      "Solution: \n",
      "- number of solutions: 0\n",
      "  number of solutions displayed: 0\n"
     ]
    },
    {
     "name": "stderr",
     "output_type": "stream",
     "text": [
      "Solving model completed in 96 s\n"
     ]
    }
   ],
   "source": [
    "# ETS2 carbon price: ~50 EUR/tCO2 (projected for buildings/heating)\n",
    "# Combined effect: higher carbon pricing across all sectors\n",
    "carbon_price = np.ones(8760) * 120  # Higher combined effect\n",
    "\n",
    "# Apply combined ETS1+ETS2 carbon pricing\n",
    "for node in ['northwest', 'northeast', 'center', 'south', 'islands']:\n",
    "    carbon_cost_path = \"./macro_decarbonisation/period1/node_data/\" + node + \"/CarbonCost.csv\"\n",
    "    carbon_cost_template = pd.read_csv(carbon_cost_path, sep=';', index_col=0, header=0)\n",
    "    carbon_cost_template['price'] = carbon_price\n",
    "    carbon_cost_template = carbon_cost_template.reset_index()\n",
    "    carbon_cost_template.to_csv(carbon_cost_path, sep=';', index=False)\n",
    "\n",
    "# Run the optimization model with ETS1+ETS2 scenario\n",
    "m = adopt.ModelHub()\n",
    "m.read_data(input_data_path)\n",
    "m.quick_solve()\n"
   ]
  }
 ],
 "metadata": {
  "kernelspec": {
   "display_name": "Python 3",
   "language": "python",
   "name": "python3"
  },
  "language_info": {
   "codemirror_mode": {
    "name": "ipython",
    "version": 3
   },
   "file_extension": ".py",
   "mimetype": "text/x-python",
   "name": "python",
   "nbconvert_exporter": "python",
   "pygments_lexer": "ipython3",
   "version": "3.13.3"
  }
 },
 "nbformat": 4,
 "nbformat_minor": 5
}
