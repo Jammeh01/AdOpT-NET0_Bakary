{
 "cells": [
  {
   "cell_type": "code",
   "execution_count": 1,
   "id": "ddb29647",
   "metadata": {},
   "outputs": [],
   "source": [
    "import pandas as pd\n",
    "from pathlib import Path\n",
    "import json\n",
    "import adopt_net0 as adopt\n",
    "import pandas as pd"
   ]
  },
  {
   "cell_type": "code",
   "execution_count": 3,
   "id": "f09b67d5",
   "metadata": {},
   "outputs": [],
   "source": [
    "def import_hydro_inflows(input_data_path):\n",
    "    data_path = Path(\"./Hydro/hydro inflow.xlsx\")\n",
    "    hydro_inflows =  pd.read_excel(data_path, sheet_name=\"MacroRegion_Weekly_GWh\", index_col=0)\n",
    "    nodes = hydro_inflows.columns.tolist()\n",
    "    hydro_inflows_hourly = pd.DataFrame(index=range(0, 8760), columns=nodes)\n",
    "\n",
    "    for node in nodes:\n",
    "        for week in range(0,52):\n",
    "            start_hour = week * 168\n",
    "            end_hour = (week + 1) * 168\n",
    "            #convert from GWh to MWh\n",
    "            hydro_inflows_hourly.loc[start_hour:end_hour - 1, node] = hydro_inflows.loc[week+1, node]*1000/168\n",
    "            hydro_inflows_hourly.loc[8736:8760, node] = hydro_inflows.loc[52, node]\n",
    "\n",
    "\n",
    "    for node in nodes:\n",
    "        climate_data_file = (\n",
    "                input_data_path / \"period1\" / \"node_data\" / node / \"ClimateData.csv\"\n",
    "        )\n",
    "        climate_data = pd.read_csv(climate_data_file)\n",
    "        climate_data[\"Hydro_Reservoir_existing_inflow\"] = hydro_inflows_hourly[node].values\n",
    "        climate_data.to_csv(climate_data_file, index=False, sep=\";\")"
   ]
  }
 ],
 "metadata": {
  "kernelspec": {
   "display_name": "Python 3",
   "language": "python",
   "name": "python3"
  },
  "language_info": {
   "codemirror_mode": {
    "name": "ipython",
    "version": 3
   },
   "file_extension": ".py",
   "mimetype": "text/x-python",
   "name": "python",
   "nbconvert_exporter": "python",
   "pygments_lexer": "ipython3",
   "version": "3.13.3"
  }
 },
 "nbformat": 4,
 "nbformat_minor": 5
}
