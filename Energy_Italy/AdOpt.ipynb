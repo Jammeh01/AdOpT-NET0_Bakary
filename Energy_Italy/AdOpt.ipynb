{
 "cells": [
  {
   "cell_type": "markdown",
   "id": "14bbd679",
   "metadata": {},
   "source": [
    "\n",
    "Italy Energy System Optimization - Brownfield Analysis with ETS1 and ETS2\n",
    "==========================================================================\n",
    "\n",
    "This script creates an energy system optimization model for Italy as a whole system,\n",
    "studying the effects of ETS1 (EU Emissions Trading System) and ETS2 (new ETS for \n",
    "buildings and transport) on the optimal design and operation of energy technologies.\n",
    "\n",
    "The analysis includes:\n",
    "1. Baseline optimization without ETS\n",
    "2. Optimization with ETS1 only\n",
    "3. Optimization with both ETS1 and ETS2\n",
    "4. Comparative analysis of results"
   ]
  },
  {
   "cell_type": "code",
   "execution_count": 89,
   "id": "9f927204",
   "metadata": {},
   "outputs": [
    {
     "name": "stdout",
     "output_type": "stream",
     "text": [
      "Files already exist: macro_decarbonisation\\Topology.json macro_decarbonisation\\ConfigModel.json\n"
     ]
    }
   ],
   "source": [
    "import adopt_net0 as adopt\n",
    "import json\n",
    "from pathlib import Path\n",
    "import os\n",
    "import pandas as pd\n",
    "import numpy as np\n",
    "\n",
    "# Create folders \n",
    "results_data_path = Path(\"./userData\")\n",
    "results_data_path.mkdir(parents=True, exist_ok=True)\n",
    "\n",
    "# create input data path and optimization templates \n",
    "input_data_path = Path(\"./macro_decarbonisation\")\n",
    "input_data_path.mkdir(parents=True, exist_ok=True)\n",
    "\n",
    "# Create template input JSONs\n",
    "adopt.create_optimization_templates(input_data_path)"
   ]
  },
  {
   "cell_type": "code",
   "execution_count": 90,
   "id": "3c95bdc6",
   "metadata": {},
   "outputs": [],
   "source": [
    "results_data_path = Path(\"./results_macroperspective\")\n",
    "scenario_name = \"baseline_no_ETS\""
   ]
  },
  {
   "cell_type": "code",
   "execution_count": 91,
   "id": "25e4836c",
   "metadata": {},
   "outputs": [],
   "source": [
    "# Load json template\n",
    "with open(input_data_path / \"Topology.json\", \"r\") as json_file:\n",
    "    topology = json.load(json_file)\n",
    "# Nodes\n",
    "topology[\"nodes\"] = [\"northwest\", \"northeast\", \"center\", \"south\", \"islands\"]\n",
    "# Carriers: The Carries/ Vectors we have in the CGE model are gas, oil, electricity \n",
    "topology[\"carriers\"] = [\"electricity\", \"heat\", \"gas\", \"hydrogen\"]\n",
    "# Investment periods:\n",
    "topology[\"investment_periods\"] = [\"period1\"]\n",
    "# Save json template\n",
    "with open(input_data_path / \"Topology.json\", \"w\") as json_file:\n",
    "    json.dump(topology, json_file, indent=4)"
   ]
  },
  {
   "cell_type": "code",
   "execution_count": 92,
   "id": "c4100f58",
   "metadata": {},
   "outputs": [],
   "source": [
    "# load json template\n",
    "with open(input_data_path / \"ConfigModel.json\", \"r\") as json_file:\n",
    "    configuration = json.load(json_file)\n",
    "# Set time aggregation settings:\n",
    "configuration[\"optimization\"][\"typicaldays\"][\"N\"][\"value\"] = 30 \n",
    "configuration[\"optimization\"][\"typicaldays\"][\"method\"][\"value\"] = 1\n",
    "# Set MILP gap\n",
    "configuration[\"solveroptions\"][\"mipgap\"][\"value\"] = 0.02\n",
    "# save json template\n",
    "with open(input_data_path / \"ConfigModel.json\", \"w\") as json_file:\n",
    "    json.dump(configuration, json_file, indent=4)"
   ]
  },
  {
   "cell_type": "code",
   "execution_count": 93,
   "id": "c1f37c82",
   "metadata": {},
   "outputs": [
    {
     "name": "stdout",
     "output_type": "stream",
     "text": [
      "CO2Railway\n",
      "CO2Ship\n",
      "CO2Truck\n",
      "CO2_Pipeline\n",
      "electricityOffshore\n",
      "electricityOnshore\n",
      "electricitySimple\n",
      "heat\n",
      "hydrogenPipelineOffshore\n",
      "hydrogenPipelineOnshore\n",
      "hydrogenRailway\n",
      "hydrogenShip\n",
      "hydrogenSimple\n",
      "hydrogenTruck\n",
      "CO2_Compressor\n",
      "MEA_large\n",
      "MEA_medium\n",
      "MEA_small\n",
      "DAC_Adsorption\n",
      "dac_adsorption_performanc\n",
      "Boiler_El\n",
      "Boiler_Industrial_NG\n",
      "Boiler_Small_H2\n",
      "Boiler_Small_NG\n",
      "Furnace_H2\n",
      "Furnace_NG\n",
      "HeatPump_AirSourced\n",
      "HeatPump_GroundSourced\n",
      "HeatPump_SeaWaterSourced\n",
      "HeatPump_WaterSourced\n",
      "Hydro_Reservoir\n",
      "PumpedHydro_Closed\n",
      "PumpedHydro_Open\n",
      "CrackerFurnace\n",
      "CrackerFurnace_Electric\n",
      "EthyleneCompression\n",
      "EthyleneCompression_Electric\n",
      "EthyleneSeparation\n",
      "SteamReformer\n",
      "SteamReformer_CCS\n",
      "CombinedCycle_fixed_size\n",
      "GasTurbine_H2_10\n",
      "GasTurbine_H2_100\n",
      "GasTurbine_H2_250\n",
      "GasTurbine_H2_400\n",
      "GasTurbine_NG_10\n",
      "GasTurbine_NG_100\n",
      "GasTurbine_NG_250\n",
      "GasTurbine_NG_400\n",
      "GasTurbine_simple\n",
      "GasTurbine_simple_CCS\n",
      "SteamTurbine\n",
      "GT_fitting_dat\n",
      "HP_fitting_dat\n",
      "MP_fitting_dat\n",
      "Photovoltaic\n",
      "SolarThermal\n",
      "WindTurbine_Offshore_11000\n",
      "WindTurbine_Offshore_6000\n",
      "WindTurbine_Offshore_9500\n",
      "WindTurbine_Onshore_1500\n",
      "WindTurbine_Onshore_2500\n",
      "WindTurbine_Onshore_4000\n",
      "WT_dat\n",
      "PermanentStorage_CO2_simple\n",
      "Storage_Battery\n",
      "Storage_Ethylene\n",
      "Storage_H2\n",
      "Storage_H2_Cavern\n",
      "Storage_HotWater\n",
      "Storage_NG\n",
      "Storage_PCM\n",
      "TemporaryStorage_CO2\n"
     ]
    }
   ],
   "source": [
    "adopt.create_input_data_folder_template(input_data_path)\n",
    "\n",
    "# Define node locations based on actual Italian regional energy centers (2021 data)\n",
    "# Actual coordinates of major Italian energy hubs (based on Terna grid structure)\n",
    "node_location = pd.read_csv(input_data_path / \"NodeLocations.csv\", sep=';', index_col=0, header=0)\n",
    "node_lon = {'northwest': 9.2, 'northeast': 11.9,'center': 12.5, 'south': 14.8, 'islands': 12.5}  #longitude in degrees\n",
    "node_lat = {'northwest': 45.4, 'northeast': 45.5, 'center': 42.8, 'south': 40.8, 'islands': 38.0}  # latitude in degrees\n",
    "node_alt = {'northwest': 120, 'northeast': 50, 'center': 250, 'south': 200, 'islands': 0}    # Elevation in meters #this neeed also needed to be changhe to 0 the alti. of Islands.\n",
    "for node in ['northwest', 'northeast', 'center', 'south', 'islands']:\n",
    "    node_location.at[node, 'lon'] = node_lon[node]\n",
    "    node_location.at[node, 'lat'] = node_lat[node]\n",
    "    node_location.at[node, 'alt'] = node_alt[node]\n",
    "\n",
    "node_location = node_location.reset_index()\n",
    "node_location.to_csv(input_data_path / \"NodeLocations.csv\", sep=';', index=False)\n",
    "\n",
    "adopt.show_available_technologies()"
   ]
  },
  {
   "cell_type": "code",
   "execution_count": 94,
   "id": "554d4d61",
   "metadata": {},
   "outputs": [],
   "source": [
    "# Add required technologies for node 'North' (We will be changing this and also adding new technologies like CCS)      (Waste-to-energy)\n",
    "\n",
    "#Northwest technological configuration\n",
    "with open(input_data_path / \"period1\" / \"node_data\" / \"northwest\" / \"Technologies.json\", \"r\") as json_file:\n",
    "    technologies = json.load(json_file)\n",
    "technologies[\"new\"] = [\"HeatPump_AirSourced\", \"Storage_Battery\", \"Photovoltaic\", \"WindTurbine_Onshore_4000\", \"Storage_H2\"]           \n",
    "technologies[\"existing\"] = {\"GasTurbine_simple\": 12000, \"Boiler_Small_NG\": 4500, \"Photovoltaic\": 3200, \"WindTurbine_Onshore_4000\": 800}    \n",
    "\n",
    "with open(input_data_path / \"period1\" / \"node_data\" / \"northwest\" / \"Technologies.json\", \"w\") as json_file:\n",
    "    json.dump(technologies, json_file, indent=4)\n",
    "\n",
    "\n",
    "# NorthEast technological configuration\n",
    "with open(input_data_path / \"period1\" / \"node_data\" / \"northeast\" / \"Technologies.json\", \"r\") as json_file:\n",
    "    technologies = json.load(json_file)\n",
    "technologies[\"new\"] = [\"HeatPump_AirSourced\", \"Storage_Battery\", \"Photovoltaic\", \"WindTurbine_Onshore_4000\", \"Storage_H2\"]           \n",
    "technologies[\"existing\"] = {\"GasTurbine_simple\": 8500, \"Boiler_Small_NG\": 3800, \"Photovoltaic\": 2800, \"WindTurbine_Onshore_4000\": 600}      \n",
    "\n",
    "with open(input_data_path / \"period1\" / \"node_data\" / \"northeast\" / \"Technologies.json\", \"w\") as json_file:\n",
    "    json.dump(technologies, json_file, indent=4)\n",
    "\n",
    "\n",
    "#Center technological configuration\n",
    "with open(input_data_path / \"period1\" / \"node_data\" / \"center\" / \"Technologies.json\", \"r\") as json_file:\n",
    "    technologies = json.load(json_file)\n",
    "technologies[\"new\"] = [\"HeatPump_AirSourced\", \"Storage_Battery\", \"Photovoltaic\", \"WindTurbine_Onshore_4000\", \"Storage_H2\"]           \n",
    "technologies[\"existing\"] = {\"GasTurbine_simple\": 9200, \"Boiler_Small_NG\": 3200, \"Photovoltaic\": 3800, \"WindTurbine_Onshore_4000\": 1400}     \n",
    "\n",
    "with open(input_data_path / \"period1\" / \"node_data\" / \"center\" / \"Technologies.json\", \"w\") as json_file:\n",
    "    json.dump(technologies, json_file, indent=4)\n",
    "\n",
    "\n",
    "# Add required technologies for node 'south'\n",
    "with open(input_data_path / \"period1\" / \"node_data\" / \"south\" / \"Technologies.json\", \"r\") as json_file:\n",
    "    technologies = json.load(json_file)\n",
    "technologies[\"new\"] = [\"HeatPump_AirSourced\", \"Storage_Battery\", \"Photovoltaic\", \"WindTurbine_Onshore_4000\", \"WindTurbine_Offshore_9500\", \"Storage_H2\"]  #WindTurbine_offshore  and also municipality boilers\n",
    "technologies[\"existing\"] = {\"GasTurbine_simple\": 7800, \"Boiler_Small_NG\": 2400, \"Photovoltaic\": 6200, \"WindTurbine_Onshore_4000\": 3800}  #MWth and MWe\n",
    "\n",
    "with open(input_data_path / \"period1\" / \"node_data\" / \"south\" / \"Technologies.json\", \"w\") as json_file:\n",
    "    json.dump(technologies, json_file, indent=4)\n",
    "\n",
    "\n",
    "#ISlands technological configuration\n",
    "with open(input_data_path / \"period1\" / \"node_data\" / \"islands\" / \"Technologies.json\", \"r\") as json_file:\n",
    "    technologies = json.load(json_file)\n",
    "technologies[\"new\"] = [\"HeatPump_AirSourced\", \"Storage_Battery\", \"Photovoltaic\", \"WindTurbine_Onshore_4000\", \"WindTurbine_Offshore_9500\", \"Storage_H2\"]  #WindTurbine_offshore  and also municipality boilers\n",
    "technologies[\"existing\"] = {\"GasTurbine_simple\": 3200, \"Boiler_Small_NG\": 800, \"Photovoltaic\": 2600, \"WindTurbine_Onshore_4000\": 2100} #MWth and MWe\n",
    "\n",
    "with open(input_data_path / \"period1\" / \"node_data\" / \"islands\" / \"Technologies.json\", \"w\") as json_file:\n",
    "    json.dump(technologies, json_file, indent=4)\n",
    "\n",
    "\n",
    "# Copy over technology files\n",
    "adopt.copy_technology_data(input_data_path)"
   ]
  },
  {
   "cell_type": "code",
   "execution_count": 95,
   "id": "f632b8b2",
   "metadata": {},
   "outputs": [],
   "source": [
    "adopt.show_available_networks()"
   ]
  },
  {
   "cell_type": "code",
   "execution_count": 81,
   "id": "74d93856",
   "metadata": {},
   "outputs": [],
   "source": [
    "# Add networks (here we will add an onshore electricity network, liket the one in the case study as an example)\n",
    "with open(input_data_path / \"period1\" / \"Networks.json\", \"r\") as json_file:\n",
    "    networks = json.load(json_file)\n",
    "networks[\"new\"] = [\"electricityOnshore\"]\n",
    "networks[\"existing\"] = [\"electricityOnshore\"]\n",
    "\n",
    "with open(input_data_path / \"period1\" / \"Networks.json\", \"w\") as json_file:\n",
    "    json.dump(networks, json_file, indent=4)"
   ]
  },
  {
   "cell_type": "code",
   "execution_count": 82,
   "id": "7e787845",
   "metadata": {},
   "outputs": [
    {
     "name": "stdout",
     "output_type": "stream",
     "text": [
      "Existing network\n",
      "Connection:            northwest  northeast  center  south  islands\n",
      "northwest          0          1       1      0        0\n",
      "northeast          1          0       1      0        0\n",
      "center             1          1       0      1        0\n",
      "south              0          0       1      0        1\n",
      "islands            0          0       0      1        0\n",
      "Distance:            northwest  northeast  center  south  islands\n",
      "northwest          0        350     450      0        0\n",
      "northeast        350          0     420      0        0\n",
      "center           450        420       0    380        0\n",
      "south              0          0     380      0      180\n",
      "islands            0          0       0    180        0\n",
      "Size:            northwest  northeast  center  south  islands\n",
      "northwest          0       6500    8200      0        0\n",
      "northeast       6500          0    5800      0        0\n",
      "center          8200       5800       0   6800        0\n",
      "south              0          0    6800      0     1000\n",
      "islands            0          0       0   1000        0\n",
      "New network\n",
      "Max size per arc:            northwest  northeast  center  south  islands\n",
      "northwest          0      10000   12000   8000        0\n",
      "northeast      10000          0    8000   7000        0\n",
      "center         12000       8000       0  10000     5000\n",
      "south           8000       7000   10000      0     2000\n",
      "islands            0          0    5000   2000        0\n",
      "Connection:            northwest  northeast  center  south  islands\n",
      "northwest          0          1       1      1        1\n",
      "northeast          1          0       1      1        1\n",
      "center             1          1       0      1        1\n",
      "south              1          1       1      0        1\n",
      "islands            1          1       1      1        0\n",
      "Distance:            northwest  northeast  center  south  islands\n",
      "northwest          0        350     450    750      950\n",
      "northeast        350          0     420    680      880\n",
      "center           450        420       0    380      520\n",
      "south            750        680     380      0      180\n",
      "islands          950        880     520    180        0\n"
     ]
    }
   ],
   "source": [
    "# === Make a new folder for the existing network (We can also create the dataframe for this and import it.)\n",
    "os.makedirs(input_data_path / \"period1\" / \"network_topology\" / \"existing\" / \"electricityOnshore\", exist_ok=True)\n",
    "\n",
    "print(\"Existing network\")\n",
    "\n",
    "# === Connection (Existing)\n",
    "connection = pd.read_csv(input_data_path / \"period1\" / \"network_topology\" / \"existing\" / \"connection.csv\", sep=\";\", index_col=0)\n",
    "connection.loc[\"northwest\", \"northeast\"] = 1\n",
    "connection.loc[\"northeast\", \"northwest\"] = 1\n",
    "connection.loc[\"northwest\", \"center\"] = 1\n",
    "connection.loc[\"center\", \"northwest\"] = 1\n",
    "connection.loc[\"northeast\", \"center\"] = 1\n",
    "connection.loc[\"center\", \"northeast\"] = 1\n",
    "connection.loc[\"center\", \"south\"] = 1\n",
    "connection.loc[\"south\", \"center\"] = 1\n",
    "connection.loc[\"south\", \"islands\"] = 1  # Sicily connection\n",
    "connection.loc[\"islands\", \"south\"] = 1\n",
    "connection.to_csv(input_data_path / \"period1\" / \"network_topology\" / \"existing\" / \"electricityOnshore\" / \"connection.csv\", sep=\";\")\n",
    "print(\"Connection:\", connection)\n",
    "\n",
    "# Delete the original template\n",
    "os.remove(input_data_path / \"period1\" / \"network_topology\" / \"existing\" / \"connection.csv\")\n",
    "\n",
    "# === Distance (Existing)\n",
    "distance = pd.read_csv(input_data_path / \"period1\" / \"network_topology\" / \"existing\" / \"distance.csv\", sep=\";\", index_col=0)\n",
    "distance.loc[\"northwest\", \"northeast\"] = 350  # milan-venice corridor \n",
    "distance.loc[\"northeast\", \"northwest\"] = 350\n",
    "distance.loc[\"northwest\", \"center\"] = 450    # Milan-Rome corridor \n",
    "distance.loc[\"center\", \"northwest\"] = 450\n",
    "distance.loc[\"northeast\", \"center\"] = 420     # Venice-Rome corridor\n",
    "distance.loc[\"center\", \"northeast\"] = 420\n",
    "distance.loc[\"center\", \"south\"] = 380         # Rome-Naples corridor\n",
    "distance.loc[\"south\", \"center\"] = 380\n",
    "distance.loc[\"south\", \"islands\"] = 180        #sicily cables (SA.PE.I + SA.CO.I)\n",
    "distance.loc[\"islands\", \"south\"] = 180\n",
    "distance.to_csv(input_data_path / \"period1\" / \"network_topology\" / \"existing\" / \"electricityOnshore\" / \"distance.csv\", sep=\";\")\n",
    "print(\"Distance:\", distance)\n",
    "\n",
    "# Delete the original template\n",
    "os.remove(input_data_path / \"period1\" / \"network_topology\" / \"existing\" / \"distance.csv\")\n",
    "\n",
    "# === Size (Existing)\n",
    "size = pd.read_csv(input_data_path / \"period1\" / \"network_topology\" / \"existing\" / \"size.csv\", sep=\";\", index_col=0)\n",
    "size.loc[\"northwest\", \"northeast\"] = 6500   # Po Valley 380kV lines\n",
    "size.loc[\"northeast\", \"northwest\"] = 6500\n",
    "size.loc[\"northwest\", \"center\"] = 8200     # North-Central 380kV corridor\n",
    "size.loc[\"center\", \"northwest\"] = 8200\n",
    "size.loc[\"northeast\", \"center\"] = 5800     # Adriatic corridor\n",
    "size.loc[\"center\", \"northeast\"] = 5800\n",
    "size.loc[\"center\", \"south\"] = 6800        # Central-South lines\n",
    "size.loc[\"south\", \"center\"] = 6800\n",
    "size.loc[\"south\", \"islands\"] = 1000       # Sicily cables (SA.PE.I 500MW + SA.CO.I 500MW)\n",
    "size.loc[\"islands\", \"south\"] = 1000\n",
    "size.to_csv(input_data_path / \"period1\" / \"network_topology\" / \"existing\" / \"electricityOnshore\" / \"size.csv\", sep=\";\")\n",
    "print(\"Size:\", size)\n",
    "\n",
    "# Delete the original template\n",
    "os.remove(input_data_path / \"period1\" / \"network_topology\" / \"existing\" / \"size.csv\")\n",
    "\n",
    "\n",
    "print(\"New network\")\n",
    "# === Make a new folder for the new network\n",
    "os.makedirs(input_data_path / \"period1\" / \"network_topology\" / \"new\" / \"electricityOnshore\", exist_ok=True)\n",
    "\n",
    "# === Max Size Arc (New)\n",
    "arc_size = pd.read_csv(input_data_path / \"period1\" / \"network_topology\" / \"new\" / \"size_max_arcs.csv\", sep=\";\", index_col=0)\n",
    "arc_size.loc[\"northwest\", \"northeast\"] = 10000  # Po Valley reinforcement\n",
    "arc_size.loc[\"northeast\", \"northwest\"] = 10000\n",
    "arc_size.loc[\"northwest\", \"center\"] = 12000   # North-Central reinforcement\n",
    "arc_size.loc[\"center\", \"northwest\"] = 12000\n",
    "arc_size.loc[\"northeast\", \"center\"] = 8000  # Adriatic reinforcement\n",
    "arc_size.loc[\"center\", \"northeast\"] = 8000\n",
    "arc_size.loc[\"center\", \"south\"] = 10000    # Central-South reinforcement\n",
    "arc_size.loc[\"south\", \"center\"] = 10000\n",
    "arc_size.loc[\"south\", \"islands\"] = 2000    # Additional island connections\n",
    "arc_size.loc[\"islands\", \"south\"] = 2000\n",
    "arc_size.loc[\"northwest\", \"south\"] = 8000  # Direct North-South bypass\n",
    "arc_size.loc[\"south\", \"northwest\"] = 8000\n",
    "arc_size.loc[\"northeast\", \"south\"] = 7000  # Northeast-South direct\n",
    "arc_size.loc[\"south\", \"northeast\"] = 7000\n",
    "arc_size.loc[\"center\", \"islands\"] = 5000   # Central-Islands direct\n",
    "arc_size.loc[\"islands\", \"center\"] = 5000\n",
    "arc_size.to_csv(input_data_path / \"period1\" / \"network_topology\" / \"new\" / \"electricityOnshore\" / \"size_max_arcs.csv\", sep=\";\")\n",
    "print(\"Max size per arc:\", arc_size)\n",
    "\n",
    "# === Connection (New)\n",
    "connection = pd.read_csv(input_data_path / \"period1\" / \"network_topology\" / \"new\" / \"connection.csv\", sep=\";\", index_col=0)\n",
    "connection.loc[\"northwest\", \"northeast\"] = 1\n",
    "connection.loc[\"northeast\", \"northwest\"] = 1\n",
    "connection.loc[\"northwest\", \"center\"] = 1\n",
    "connection.loc[\"center\", \"northwest\"] = 1\n",
    "connection.loc[\"northeast\", \"center\"] = 1\n",
    "connection.loc[\"center\", \"northeast\"] = 1\n",
    "connection.loc[\"center\", \"south\"] = 1\n",
    "connection.loc[\"south\", \"center\"] = 1\n",
    "connection.loc[\"south\", \"islands\"] = 1\n",
    "connection.loc[\"islands\", \"south\"] = 1\n",
    "connection.loc[\"northwest\", \"south\"] = 1\n",
    "connection.loc[\"south\", \"northwest\"] = 1\n",
    "connection.loc[\"northwest\", \"islands\"] = 1\n",
    "connection.loc[\"islands\", \"northwest\"] = 1\n",
    "connection.loc[\"northeast\", \"south\"] = 1\n",
    "connection.loc[\"south\", \"northeast\"] = 1\n",
    "connection.loc[\"northeast\", \"islands\"] = 1\n",
    "connection.loc[\"islands\", \"northeast\"] = 1\n",
    "connection.loc[\"center\", \"islands\"] = 1\n",
    "connection.loc[\"islands\", \"center\"] = 1\n",
    "connection.to_csv(input_data_path / \"period1\" / \"network_topology\" / \"new\" / \"electricityOnshore\" / \"connection.csv\", sep=\";\")\n",
    "print(\"Connection:\", connection)\n",
    "\n",
    "# Delete connection template\n",
    "os.remove(input_data_path / \"period1\" / \"network_topology\" / \"new\" / \"connection.csv\")\n",
    "\n",
    "# === Distance (New)\n",
    "distance = pd.read_csv(input_data_path / \"period1\" / \"network_topology\" / \"new\" / \"distance.csv\", sep=\";\", index_col=0)\n",
    "distance.loc[\"northwest\", \"northeast\"] = 350   # Turin/Milan to Venice/Trieste\n",
    "distance.loc[\"northeast\", \"northwest\"] = 350\n",
    "distance.loc[\"northwest\", \"center\"] = 450      # Turin/Milan to Rome\n",
    "distance.loc[\"center\", \"northwest\"] = 450\n",
    "distance.loc[\"northwest\", \"south\"] = 750       # Turin/Milan to Naples/Bari\n",
    "distance.loc[\"south\", \"northwest\"] = 750\n",
    "distance.loc[\"northwest\", \"islands\"] = 950    # Turin/Milan to Palermo/Cagliari\n",
    "distance.loc[\"islands\", \"northwest\"] = 950\n",
    "distance.loc[\"northeast\", \"center\"] = 420      # Venice to Rome\n",
    "distance.loc[\"center\", \"northeast\"] = 420\n",
    "distance.loc[\"northeast\", \"south\"] = 680       # Venice to Naples/Bari\n",
    "distance.loc[\"south\", \"northeast\"] = 680\n",
    "distance.loc[\"northeast\", \"islands\"] = 880    # Venice to Palermo/Cagliari\n",
    "distance.loc[\"islands\", \"northeast\"] = 880\n",
    "distance.loc[\"center\", \"south\"] = 380          # Rome to Naples\n",
    "distance.loc[\"south\", \"center\"] = 380\n",
    "distance.loc[\"center\", \"islands\"] = 520        # Rome to Palermo/Cagliari\n",
    "distance.loc[\"islands\", \"center\"] = 520\n",
    "distance.loc[\"south\", \"islands\"] = 180         # Naples/Bari to Palermo/Cagliari\n",
    "distance.loc[\"islands\", \"south\"] = 180\n",
    "distance.to_csv(input_data_path / \"period1\" / \"network_topology\" / \"new\" / \"electricityOnshore\" / \"distance.csv\", sep=\";\")\n",
    "print(\"Distance:\", distance)\n",
    "\n",
    "# Delete distance template\n",
    "os.remove(input_data_path / \"period1\" / \"network_topology\" / \"new\" / \"distance.csv\")\n",
    "\n",
    "# Delete size_max_arcs template\n",
    "os.remove(input_data_path / \"period1\" / \"network_topology\" / \"new\" / \"size_max_arcs.csv\")"
   ]
  },
  {
   "cell_type": "code",
   "execution_count": 83,
   "id": "5f7397e6",
   "metadata": {},
   "outputs": [],
   "source": [
    "adopt.copy_network_data(input_data_path)\n",
    "\n",
    "with open(input_data_path / \"period1\" / \"network_data\"/ \"electricityOnshore.json\", \"r\") as json_file:\n",
    "    network_data = json.load(json_file)\n",
    "\n",
    "network_data[\"Economics\"][\"gamma2\"] = 50000\n",
    "network_data[\"Economics\"][\"gamma4\"] = 400\n",
    "\n",
    "with open(input_data_path / \"period1\" / \"network_data\"/ \"electricityOnshore.json\", \"w\") as json_file:\n",
    "    json.dump(network_data, json_file, indent=4)"
   ]
  },
  {
   "cell_type": "code",
   "execution_count": 84,
   "id": "dd69be31",
   "metadata": {},
   "outputs": [
    {
     "name": "stdout",
     "output_type": "stream",
     "text": [
      "Importing Climate Data...\n",
      "Importing Climate Data successful\n",
      "Importing Climate Data...\n",
      "Importing Climate Data successful\n",
      "Importing Climate Data...\n",
      "Importing Climate Data successful\n",
      "Importing Climate Data...\n",
      "Importing Climate Data successful\n",
      "Importing Climate Data...\n",
      "Importing Climate Data successful\n"
     ]
    }
   ],
   "source": [
    "# Demand profiles and import constraints based on 2021 Italian energy data\n",
    "\n",
    "# Regional distribution based on CGE model\n",
    "regional_annual_demand = {\n",
    "    'northwest': 8514320.4,   # MWh (Lombardy + Piedmont industrial)\n",
    "    'northeast': 6808202.8,   # MWh (Veneto + Emilia industrial/agricultural)\n",
    "    'center': 5209481.4,      # MWh (Lazio + Tuscany + others)\n",
    "    'south': 3908721.5,       # MWh (Campania + Puglia + others)\n",
    "    'islands': 1805076.4      # MWh (Sicily + Sardinia)\n",
    "    }\n",
    "    \n",
    "# Create hourly profiles (simplified seasonal/daily patterns)\n",
    "hours = np.arange(8760)\n",
    "base_profile = np.ones(8760)\n",
    "\n",
    "# We add seasonal variation (winter heating, summer cooling)\n",
    "seasonal = 0.15 * np.sin(2 * np.pi * hours / 8760 - np.pi/2)\n",
    "\n",
    "# We add daily variation (peak during day, low at night)\n",
    "daily = 0.3 * np.sin(2 * np.pi * (hours % 24) / 24 - np.pi/2)\n",
    "    \n",
    "hourly_data = {}\n",
    "for node in ['northwest', 'northeast', 'center', 'south', 'islands']:\n",
    "    # Electricity demand profile\n",
    "    el_profile = base_profile + seasonal + daily\n",
    "    el_profile = el_profile / np.mean(el_profile) * regional_annual_demand[node] / 8760\n",
    "        \n",
    "    # Heat demand (higher in north, seasonal pattern)\n",
    "    heat_multiplier = {'northwest': 0.4, 'northeast': 0.35, 'center': 0.25, 'south': 0.15, 'islands': 0.1}\n",
    "    heat_seasonal = 0.6 * np.maximum(0, -np.sin(2 * np.pi * hours / 8760 - np.pi/2))\n",
    "    heat_profile = (base_profile * 0.2 + heat_seasonal) * heat_multiplier[node] * regional_annual_demand[node] / 8760\n",
    "        \n",
    "    hourly_data[node] = pd.DataFrame({\n",
    "       'electricity': el_profile,\n",
    "       'heat': heat_profile\n",
    "        })\n",
    "\n",
    "# Fill carrier demand data for each region\n",
    "for node in ['northwest', 'northeast', 'center', 'south', 'islands']:\n",
    "    if 'hourly_data' in locals():\n",
    "        el_demand = hourly_data[node]['electricity']\n",
    "        heat_demand = hourly_data[node]['heat']\n",
    "    else:\n",
    "        el_demand = hourly_data[node].iloc[:, 1]\n",
    "        heat_demand = hourly_data[node].iloc[:, ]\n",
    "    \n",
    "    adopt.fill_carrier_data(input_data_path, value_or_data=el_demand, columns=['Demand'], carriers=['electricity'], nodes=[node])\n",
    "    adopt.fill_carrier_data(input_data_path, value_or_data=heat_demand, columns=['Demand'], carriers=['heat'], nodes=[node])\n",
    "\n",
    "\n",
    "# 2021 Italian energy import data and cross-border capacities\n",
    "import_constraints = {\n",
    "    'northwest': {\n",
    "        'gas_limit': 15000,      # High gas imports via Alpine pipelines (TAP, etc.)\n",
    "        'electricity_limit': 4000,  # Imports from France/Switzerland\n",
    "        'electricity_price': 120,   # EUR/MWh average 2021\n",
    "        'gas_price': 28             # EUR/MWh average 2021\n",
    "    },\n",
    "    'northeast': {\n",
    "        'gas_limit': 8000,       # Gas from Eastern Europe\n",
    "        'electricity_limit': 2000,  # Imports from Austria/Slovenia\n",
    "        'electricity_price': 115,\n",
    "        'gas_price': 30\n",
    "    },\n",
    "    'center': {\n",
    "        'gas_limit': 5000,       # Limited direct gas imports\n",
    "        'electricity_limit': 1000,  # Limited cross-border\n",
    "        'electricity_price': 125,\n",
    "        'gas_price': 32\n",
    "    },\n",
    "    'south': {\n",
    "        'gas_limit': 12000,      # TAP pipeline, LNG terminals\n",
    "        'electricity_limit': 500,   # Limited cross-border\n",
    "        'electricity_price': 130,\n",
    "        'gas_price': 29\n",
    "    },\n",
    "    'islands': {\n",
    "        'gas_limit': 3000,       # LNG terminals (limited)\n",
    "        'electricity_limit': 0,     # No direct imports (island systems)\n",
    "        'electricity_price': 150,   # Higher island prices\n",
    "        'gas_price': 35\n",
    "    }\n",
    "}\n",
    "\n",
    "# Apply import constraints and pricing\n",
    "for node in ['northwest', 'northeast', 'center', 'south', 'islands']:\n",
    "    constraints = import_constraints[node]\n",
    "    \n",
    "    # Set import limits (MW for electricity, MW equivalent for gas)\n",
    "    adopt.fill_carrier_data(input_data_path, value_or_data=constraints['gas_limit'], \n",
    "                           columns=['Import limit'], carriers=['gas'], nodes=[node])\n",
    "    adopt.fill_carrier_data(input_data_path, value_or_data=constraints['electricity_limit'], \n",
    "                           columns=['Import limit'], carriers=['electricity'], nodes=[node])\n",
    "    \n",
    "    # Set import prices (EUR/MWh)\n",
    "    adopt.fill_carrier_data(input_data_path, value_or_data=constraints['gas_price'], \n",
    "                           columns=['Import price'], carriers=['gas'], nodes=[node])\n",
    "    adopt.fill_carrier_data(input_data_path, value_or_data=constraints['electricity_price'], \n",
    "                           columns=['Import price'], carriers=['electricity'], nodes=[node])\n",
    "    \n",
    "    # Set emission factors\n",
    "    adopt.fill_carrier_data(input_data_path, value_or_data=0.35, \n",
    "                           columns=['Import emission factor'], carriers=['electricity'], nodes=[node])\n",
    "    adopt.fill_carrier_data(input_data_path, value_or_data=0.2, \n",
    "                           columns=['Import emission factor'], carriers=['gas'], nodes=[node])\n",
    "\n",
    "# Load climate data for renewable resource assessment\n",
    "adopt.load_climate_data_from_api(input_data_path)\n"
   ]
  },
  {
   "cell_type": "code",
   "execution_count": 85,
   "id": "e808a55e",
   "metadata": {},
   "outputs": [
    {
     "name": "stderr",
     "output_type": "stream",
     "text": [
      "--- Reading in data ---\n",
      "Input data folder has been checked successfully - no errors occurred.\n",
      "Reading data from macro_decarbonisation\n",
      "Topology read successfully\n",
      "Model Configuration read successfully\n",
      "Time series read successfully\n",
      "Node Locations read successfully\n",
      "Energy balance options read successfully\n",
      "Deriving performance data for Heat Pump...\n"
     ]
    },
    {
     "name": "stdout",
     "output_type": "stream",
     "text": [
      "Complete:  99.0 %Complete:  100 %\n"
     ]
    },
    {
     "name": "stderr",
     "output_type": "stream",
     "text": [
      "c:\\Python\\Lib\\site-packages\\adopt_net0\\components\\technologies\\genericTechnologies\\res.py:206: UserWarning: TurbineName not in csv, standard WindTurbine_Onshore_1500 selected.\n",
      "  warnings.warn(\n",
      "Deriving performance data for Heat Pump...\n"
     ]
    },
    {
     "name": "stdout",
     "output_type": "stream",
     "text": [
      "Complete:  99.0 %Complete:  100 %\n"
     ]
    },
    {
     "name": "stderr",
     "output_type": "stream",
     "text": [
      "c:\\Python\\Lib\\site-packages\\adopt_net0\\components\\technologies\\genericTechnologies\\res.py:206: UserWarning: TurbineName not in csv, standard WindTurbine_Onshore_1500 selected.\n",
      "  warnings.warn(\n",
      "Deriving performance data for Heat Pump...\n"
     ]
    },
    {
     "name": "stdout",
     "output_type": "stream",
     "text": [
      "Complete:  99.0 %Complete:  100 %\n"
     ]
    },
    {
     "name": "stderr",
     "output_type": "stream",
     "text": [
      "c:\\Python\\Lib\\site-packages\\adopt_net0\\components\\technologies\\genericTechnologies\\res.py:206: UserWarning: TurbineName not in csv, standard WindTurbine_Onshore_1500 selected.\n",
      "  warnings.warn(\n",
      "Deriving performance data for Heat Pump...\n"
     ]
    },
    {
     "name": "stdout",
     "output_type": "stream",
     "text": [
      "Complete:  99.0 %Complete:  100 %\n"
     ]
    },
    {
     "name": "stderr",
     "output_type": "stream",
     "text": [
      "c:\\Python\\Lib\\site-packages\\adopt_net0\\components\\technologies\\genericTechnologies\\res.py:206: UserWarning: TurbineName not in csv, standard WindTurbine_Onshore_1500 selected.\n",
      "  warnings.warn(\n",
      "Deriving performance data for Heat Pump...\n"
     ]
    },
    {
     "name": "stdout",
     "output_type": "stream",
     "text": [
      "Complete:  99.0 %Complete:  100 %\n"
     ]
    },
    {
     "name": "stderr",
     "output_type": "stream",
     "text": [
      "c:\\Python\\Lib\\site-packages\\adopt_net0\\components\\technologies\\genericTechnologies\\res.py:206: UserWarning: TurbineName not in csv, standard WindTurbine_Onshore_1500 selected.\n",
      "  warnings.warn(\n",
      "Technology data read successfully\n",
      "Network data read successfully\n",
      "c:\\Python\\Lib\\site-packages\\tsam\\timeseriesaggregation.py:1123: UserWarning: Something went wrong... At least one minimal value of the aggregated time series exceeds the minimal value the input time series for: {('time_series', 'center', 'CarrierData', 'heat', 'Demand'): -3.552713678800501e-15}. To silence the warning set the 'numericalTolerance' to a higher value.\n",
      "  warnings.warn(\n",
      "Clustered data successfully\n",
      "--- Reading in data complete ---\n",
      "--- Constructing Model ---\n",
      "Constructing Investment Period period1\n",
      "Constructing Investment Period period1 completed\n",
      "\t - Constructing Network electricityOnshore\n",
      "\t\t\tgdp.bigm Transformation...\n",
      "\t\t\tgdp.bigm Transformation completed in 0 s\n",
      "\t\t - Constructing Arc northwest - northeast completed\n",
      "\t\t\tgdp.bigm Transformation...\n",
      "\t\t\tgdp.bigm Transformation completed in 0 s\n",
      "\t\t - Constructing Arc northwest - center completed\n",
      "\t\t\tgdp.bigm Transformation...\n",
      "\t\t\tgdp.bigm Transformation completed in 0 s\n",
      "\t\t - Constructing Arc northwest - south completed\n",
      "\t\t\tgdp.bigm Transformation...\n",
      "\t\t\tgdp.bigm Transformation completed in 0 s\n",
      "\t\t - Constructing Arc northwest - islands completed\n",
      "\t\t\tgdp.bigm Transformation...\n",
      "\t\t\tgdp.bigm Transformation completed in 0 s\n",
      "\t\t - Constructing Arc northeast - northwest completed\n",
      "\t\t\tgdp.bigm Transformation...\n",
      "\t\t\tgdp.bigm Transformation completed in 0 s\n",
      "\t\t - Constructing Arc northeast - center completed\n",
      "\t\t\tgdp.bigm Transformation...\n",
      "\t\t\tgdp.bigm Transformation completed in 0 s\n",
      "\t\t - Constructing Arc northeast - south completed\n",
      "\t\t\tgdp.bigm Transformation...\n",
      "\t\t\tgdp.bigm Transformation completed in 0 s\n",
      "\t\t - Constructing Arc northeast - islands completed\n",
      "\t\t\tgdp.bigm Transformation...\n",
      "\t\t\tgdp.bigm Transformation completed in 0 s\n",
      "\t\t - Constructing Arc center - northwest completed\n",
      "\t\t\tgdp.bigm Transformation...\n",
      "\t\t\tgdp.bigm Transformation completed in 0 s\n",
      "\t\t - Constructing Arc center - northeast completed\n",
      "\t\t\tgdp.bigm Transformation...\n",
      "\t\t\tgdp.bigm Transformation completed in 0 s\n",
      "\t\t - Constructing Arc center - south completed\n",
      "\t\t\tgdp.bigm Transformation...\n",
      "\t\t\tgdp.bigm Transformation completed in 0 s\n",
      "\t\t - Constructing Arc center - islands completed\n",
      "\t\t\tgdp.bigm Transformation...\n",
      "\t\t\tgdp.bigm Transformation completed in 0 s\n",
      "\t\t - Constructing Arc south - northwest completed\n",
      "\t\t\tgdp.bigm Transformation...\n",
      "\t\t\tgdp.bigm Transformation completed in 0 s\n",
      "\t\t - Constructing Arc south - northeast completed\n",
      "\t\t\tgdp.bigm Transformation...\n",
      "\t\t\tgdp.bigm Transformation completed in 0 s\n",
      "\t\t - Constructing Arc south - center completed\n",
      "\t\t\tgdp.bigm Transformation...\n",
      "\t\t\tgdp.bigm Transformation completed in 0 s\n",
      "\t\t - Constructing Arc south - islands completed\n",
      "\t\t\tgdp.bigm Transformation...\n",
      "\t\t\tgdp.bigm Transformation completed in 0 s\n",
      "\t\t - Constructing Arc islands - northwest completed\n",
      "\t\t\tgdp.bigm Transformation...\n",
      "\t\t\tgdp.bigm Transformation completed in 0 s\n",
      "\t\t - Constructing Arc islands - northeast completed\n",
      "\t\t\tgdp.bigm Transformation...\n",
      "\t\t\tgdp.bigm Transformation completed in 0 s\n",
      "\t\t - Constructing Arc islands - center completed\n",
      "\t\t\tgdp.bigm Transformation...\n",
      "\t\t\tgdp.bigm Transformation completed in 0 s\n",
      "\t\t - Constructing Arc islands - south completed\n",
      "\t - Constructing Network electricityOnshore completed\n",
      "\t\t\tgdp.bigm Transformation...\n",
      "\t\t\tgdp.bigm Transformation completed in 17 s\n",
      "\t - Constructing Network electricityOnshore_existing\n",
      "\t\t - Constructing Arc northwest - northeast completed\n",
      "\t\t - Constructing Arc northwest - center completed\n",
      "\t\t - Constructing Arc northeast - northwest completed\n",
      "\t\t - Constructing Arc northeast - center completed\n",
      "\t\t - Constructing Arc center - northwest completed\n",
      "\t\t - Constructing Arc center - northeast completed\n",
      "\t\t - Constructing Arc center - south completed\n",
      "\t\t - Constructing Arc south - center completed\n",
      "\t\t - Constructing Arc south - islands completed\n",
      "\t\t - Constructing Arc islands - south completed\n",
      "\t - Constructing Network electricityOnshore_existing completed\n",
      "\t\t\tgdp.bigm Transformation...\n",
      "\t\t\tgdp.bigm Transformation completed in 5 s\n",
      "\t - Adding Technology HeatPump_AirSourced\n",
      "\t - Adding Technology Storage_Battery\n",
      "\t\t\tgdp.bigm Transformation...\n",
      "\t\t\tgdp.bigm Transformation completed in 1 s\n",
      "\t - Adding Technology Photovoltaic\n",
      "\t - Adding Technology WindTurbine_Onshore_4000\n",
      "\t - Adding Technology Storage_H2\n",
      "\t\t\tgdp.bigm Transformation...\n",
      "\t\t\tgdp.bigm Transformation completed in 1 s\n",
      "\t - Adding Technology GasTurbine_simple_existing\n",
      "\t - Adding Technology Boiler_Small_NG_existing\n",
      "\t - Adding Technology Photovoltaic_existing\n",
      "\t - Adding Technology WindTurbine_Onshore_4000_existing\n",
      "\t - Adding Technology HeatPump_AirSourced\n",
      "\t - Adding Technology Storage_Battery\n",
      "\t\t\tgdp.bigm Transformation...\n",
      "\t\t\tgdp.bigm Transformation completed in 1 s\n",
      "\t - Adding Technology Photovoltaic\n",
      "\t - Adding Technology WindTurbine_Onshore_4000\n",
      "\t - Adding Technology Storage_H2\n",
      "\t\t\tgdp.bigm Transformation...\n",
      "\t\t\tgdp.bigm Transformation completed in 1 s\n",
      "\t - Adding Technology GasTurbine_simple_existing\n",
      "\t - Adding Technology Boiler_Small_NG_existing\n",
      "\t - Adding Technology Photovoltaic_existing\n",
      "\t - Adding Technology WindTurbine_Onshore_4000_existing\n",
      "\t - Adding Technology HeatPump_AirSourced\n",
      "\t - Adding Technology Storage_Battery\n",
      "\t\t\tgdp.bigm Transformation...\n",
      "\t\t\tgdp.bigm Transformation completed in 1 s\n",
      "\t - Adding Technology Photovoltaic\n",
      "\t - Adding Technology WindTurbine_Onshore_4000\n",
      "\t - Adding Technology Storage_H2\n",
      "\t\t\tgdp.bigm Transformation...\n",
      "\t\t\tgdp.bigm Transformation completed in 1 s\n",
      "\t - Adding Technology GasTurbine_simple_existing\n",
      "\t - Adding Technology Boiler_Small_NG_existing\n",
      "\t - Adding Technology Photovoltaic_existing\n",
      "\t - Adding Technology WindTurbine_Onshore_4000_existing\n",
      "\t - Adding Technology HeatPump_AirSourced\n",
      "\t - Adding Technology Storage_Battery\n",
      "\t\t\tgdp.bigm Transformation...\n",
      "\t\t\tgdp.bigm Transformation completed in 1 s\n",
      "\t - Adding Technology Photovoltaic\n",
      "\t - Adding Technology WindTurbine_Onshore_4000\n",
      "\t - Adding Technology WindTurbine_Offshore_9500\n",
      "\t - Adding Technology Storage_H2\n",
      "\t\t\tgdp.bigm Transformation...\n",
      "\t\t\tgdp.bigm Transformation completed in 1 s\n",
      "\t - Adding Technology GasTurbine_simple_existing\n",
      "\t - Adding Technology Boiler_Small_NG_existing\n",
      "\t - Adding Technology Photovoltaic_existing\n",
      "\t - Adding Technology WindTurbine_Onshore_4000_existing\n",
      "\t - Adding Technology HeatPump_AirSourced\n",
      "\t - Adding Technology Storage_Battery\n",
      "\t\t\tgdp.bigm Transformation...\n",
      "\t\t\tgdp.bigm Transformation completed in 1 s\n",
      "\t - Adding Technology Photovoltaic\n",
      "\t - Adding Technology WindTurbine_Onshore_4000\n",
      "\t - Adding Technology WindTurbine_Offshore_9500\n",
      "\t - Adding Technology Storage_H2\n",
      "\t\t\tgdp.bigm Transformation...\n",
      "\t\t\tgdp.bigm Transformation completed in 2 s\n",
      "\t - Adding Technology GasTurbine_simple_existing\n",
      "\t - Adding Technology Boiler_Small_NG_existing\n",
      "\t - Adding Technology Photovoltaic_existing\n",
      "\t - Adding Technology WindTurbine_Onshore_4000_existing\n",
      "Constructing model completed in 501s\n",
      "Constructing balances...\n",
      "Constructing balances completed in 26s\n",
      "Set objective on cost\n",
      "Solving Model...\n"
     ]
    },
    {
     "name": "stdout",
     "output_type": "stream",
     "text": [
      "Set parameter OutputFlag to value 1\n"
     ]
    },
    {
     "name": "stderr",
     "output_type": "stream",
     "text": [
      "Set parameter OutputFlag to value 1\n"
     ]
    },
    {
     "name": "stdout",
     "output_type": "stream",
     "text": [
      "Set parameter LogFile to value \"userData\\20250922164929-1\\solver_log.txt\"\n"
     ]
    },
    {
     "name": "stderr",
     "output_type": "stream",
     "text": [
      "Set parameter LogFile to value \"userData\\20250922164929-1\\solver_log.txt\"\n"
     ]
    },
    {
     "name": "stdout",
     "output_type": "stream",
     "text": [
      "Solver log file: userData\\20250922164929-1\\solver_log.txt\n",
      "Set parameter TimeLimit to value 36000\n"
     ]
    },
    {
     "name": "stderr",
     "output_type": "stream",
     "text": [
      "Set parameter TimeLimit to value 36000\n"
     ]
    },
    {
     "name": "stdout",
     "output_type": "stream",
     "text": [
      "Set parameter MIPGap to value 0.02\n"
     ]
    },
    {
     "name": "stderr",
     "output_type": "stream",
     "text": [
      "Set parameter MIPGap to value 0.02\n"
     ]
    },
    {
     "name": "stdout",
     "output_type": "stream",
     "text": [
      "Set parameter MIPFocus to value 0\n"
     ]
    },
    {
     "name": "stderr",
     "output_type": "stream",
     "text": [
      "Set parameter MIPFocus to value 0\n"
     ]
    },
    {
     "name": "stdout",
     "output_type": "stream",
     "text": [
      "Set parameter Threads to value 0\n"
     ]
    },
    {
     "name": "stderr",
     "output_type": "stream",
     "text": [
      "Set parameter Threads to value 0\n"
     ]
    },
    {
     "name": "stdout",
     "output_type": "stream",
     "text": [
      "Set parameter NodefileStart to value 60\n"
     ]
    },
    {
     "name": "stderr",
     "output_type": "stream",
     "text": [
      "Set parameter NodefileStart to value 60\n"
     ]
    },
    {
     "name": "stdout",
     "output_type": "stream",
     "text": [
      "Set parameter Method to value -1\n"
     ]
    },
    {
     "name": "stderr",
     "output_type": "stream",
     "text": [
      "Set parameter Method to value -1\n"
     ]
    },
    {
     "name": "stdout",
     "output_type": "stream",
     "text": [
      "Set parameter Heuristics to value 0.05\n"
     ]
    },
    {
     "name": "stderr",
     "output_type": "stream",
     "text": [
      "Set parameter Heuristics to value 0.05\n"
     ]
    },
    {
     "name": "stdout",
     "output_type": "stream",
     "text": [
      "Set parameter Presolve to value -1\n"
     ]
    },
    {
     "name": "stderr",
     "output_type": "stream",
     "text": [
      "Set parameter Presolve to value -1\n"
     ]
    },
    {
     "name": "stdout",
     "output_type": "stream",
     "text": [
      "Set parameter BranchDir to value 0\n"
     ]
    },
    {
     "name": "stderr",
     "output_type": "stream",
     "text": [
      "Set parameter BranchDir to value 0\n"
     ]
    },
    {
     "name": "stdout",
     "output_type": "stream",
     "text": [
      "Set parameter LPWarmStart to value 0\n"
     ]
    },
    {
     "name": "stderr",
     "output_type": "stream",
     "text": [
      "Set parameter LPWarmStart to value 0\n"
     ]
    },
    {
     "name": "stdout",
     "output_type": "stream",
     "text": [
      "Set parameter IntFeasTol to value 1e-05\n"
     ]
    },
    {
     "name": "stderr",
     "output_type": "stream",
     "text": [
      "Set parameter IntFeasTol to value 1e-05\n"
     ]
    },
    {
     "name": "stdout",
     "output_type": "stream",
     "text": [
      "Set parameter FeasibilityTol to value 1e-06\n"
     ]
    },
    {
     "name": "stderr",
     "output_type": "stream",
     "text": [
      "Set parameter FeasibilityTol to value 1e-06\n"
     ]
    },
    {
     "name": "stdout",
     "output_type": "stream",
     "text": [
      "Set parameter Cuts to value -1\n"
     ]
    },
    {
     "name": "stderr",
     "output_type": "stream",
     "text": [
      "Set parameter Cuts to value -1\n"
     ]
    },
    {
     "name": "stdout",
     "output_type": "stream",
     "text": [
      "Set parameter NumericFocus to value 0\n"
     ]
    },
    {
     "name": "stderr",
     "output_type": "stream",
     "text": [
      "Set parameter NumericFocus to value 0\n"
     ]
    },
    {
     "name": "stdout",
     "output_type": "stream",
     "text": [
      "Gurobi Optimizer version 12.0.2 build v12.0.2rc0 (win64 - Windows 11.0 (26100.2))\n"
     ]
    },
    {
     "name": "stderr",
     "output_type": "stream",
     "text": [
      "Gurobi Optimizer version 12.0.2 build v12.0.2rc0 (win64 - Windows 11.0 (26100.2))\n"
     ]
    },
    {
     "name": "stdout",
     "output_type": "stream",
     "text": [
      "\n"
     ]
    },
    {
     "name": "stderr",
     "output_type": "stream",
     "text": [
      "\n"
     ]
    },
    {
     "name": "stdout",
     "output_type": "stream",
     "text": [
      "CPU model: 13th Gen Intel(R) Core(TM) i7-1355U, instruction set [SSE2|AVX|AVX2]\n"
     ]
    },
    {
     "name": "stderr",
     "output_type": "stream",
     "text": [
      "CPU model: 13th Gen Intel(R) Core(TM) i7-1355U, instruction set [SSE2|AVX|AVX2]\n"
     ]
    },
    {
     "name": "stdout",
     "output_type": "stream",
     "text": [
      "Thread count: 10 physical cores, 12 logical processors, using up to 12 threads\n"
     ]
    },
    {
     "name": "stderr",
     "output_type": "stream",
     "text": [
      "Thread count: 10 physical cores, 12 logical processors, using up to 12 threads\n"
     ]
    },
    {
     "name": "stdout",
     "output_type": "stream",
     "text": [
      "\n"
     ]
    },
    {
     "name": "stderr",
     "output_type": "stream",
     "text": [
      "\n"
     ]
    },
    {
     "name": "stdout",
     "output_type": "stream",
     "text": [
      "Non-default parameters:\n"
     ]
    },
    {
     "name": "stderr",
     "output_type": "stream",
     "text": [
      "Non-default parameters:\n"
     ]
    },
    {
     "name": "stdout",
     "output_type": "stream",
     "text": [
      "TimeLimit  36000\n"
     ]
    },
    {
     "name": "stderr",
     "output_type": "stream",
     "text": [
      "TimeLimit  36000\n"
     ]
    },
    {
     "name": "stdout",
     "output_type": "stream",
     "text": [
      "MIPGap  0.02\n"
     ]
    },
    {
     "name": "stderr",
     "output_type": "stream",
     "text": [
      "MIPGap  0.02\n"
     ]
    },
    {
     "name": "stdout",
     "output_type": "stream",
     "text": [
      "LPWarmStart  0\n"
     ]
    },
    {
     "name": "stderr",
     "output_type": "stream",
     "text": [
      "LPWarmStart  0\n"
     ]
    },
    {
     "name": "stdout",
     "output_type": "stream",
     "text": [
      "NodefileStart  60\n"
     ]
    },
    {
     "name": "stderr",
     "output_type": "stream",
     "text": [
      "NodefileStart  60\n"
     ]
    },
    {
     "name": "stdout",
     "output_type": "stream",
     "text": [
      "\n"
     ]
    },
    {
     "name": "stderr",
     "output_type": "stream",
     "text": [
      "\n"
     ]
    },
    {
     "name": "stdout",
     "output_type": "stream",
     "text": [
      "Optimize a model with 781176 rows, 617933 columns and 1832414 nonzeros\n"
     ]
    },
    {
     "name": "stderr",
     "output_type": "stream",
     "text": [
      "Optimize a model with 781176 rows, 617933 columns and 1832414 nonzeros\n"
     ]
    },
    {
     "name": "stdout",
     "output_type": "stream",
     "text": [
      "Model fingerprint: 0xf081833c\n"
     ]
    },
    {
     "name": "stderr",
     "output_type": "stream",
     "text": [
      "Model fingerprint: 0xf081833c\n"
     ]
    },
    {
     "name": "stdout",
     "output_type": "stream",
     "text": [
      "Variable types: 573246 continuous, 44687 integer (36040 binary)\n"
     ]
    },
    {
     "name": "stderr",
     "output_type": "stream",
     "text": [
      "Variable types: 573246 continuous, 44687 integer (36040 binary)\n"
     ]
    },
    {
     "name": "stdout",
     "output_type": "stream",
     "text": [
      "Coefficient statistics:\n"
     ]
    },
    {
     "name": "stderr",
     "output_type": "stream",
     "text": [
      "Coefficient statistics:\n"
     ]
    },
    {
     "name": "stdout",
     "output_type": "stream",
     "text": [
      "  Matrix range     [1e-06, 3e+08]\n"
     ]
    },
    {
     "name": "stderr",
     "output_type": "stream",
     "text": [
      "  Matrix range     [1e-06, 3e+08]\n"
     ]
    },
    {
     "name": "stdout",
     "output_type": "stream",
     "text": [
      "  Objective range  [1e+00, 1e+00]\n"
     ]
    },
    {
     "name": "stderr",
     "output_type": "stream",
     "text": [
      "  Objective range  [1e+00, 1e+00]\n"
     ]
    },
    {
     "name": "stdout",
     "output_type": "stream",
     "text": [
      "  Bounds range     [1e-03, 2e+12]\n"
     ]
    },
    {
     "name": "stderr",
     "output_type": "stream",
     "text": [
      "  Bounds range     [1e-03, 2e+12]\n"
     ]
    },
    {
     "name": "stdout",
     "output_type": "stream",
     "text": [
      "  RHS range        [1e-01, 2e+09]\n"
     ]
    },
    {
     "name": "stderr",
     "output_type": "stream",
     "text": [
      "  RHS range        [1e-01, 2e+09]\n"
     ]
    },
    {
     "name": "stdout",
     "output_type": "stream",
     "text": [
      "Warning: Model contains large matrix coefficient range\n"
     ]
    },
    {
     "name": "stderr",
     "output_type": "stream",
     "text": [
      "Warning: Model contains large matrix coefficient range\n"
     ]
    },
    {
     "name": "stdout",
     "output_type": "stream",
     "text": [
      "Warning: Model contains large rhs\n"
     ]
    },
    {
     "name": "stderr",
     "output_type": "stream",
     "text": [
      "Warning: Model contains large rhs\n"
     ]
    },
    {
     "name": "stdout",
     "output_type": "stream",
     "text": [
      "Warning: Model contains large bounds\n"
     ]
    },
    {
     "name": "stderr",
     "output_type": "stream",
     "text": [
      "Warning: Model contains large bounds\n"
     ]
    },
    {
     "name": "stdout",
     "output_type": "stream",
     "text": [
      "         Consider reformulating model or setting NumericFocus parameter\n"
     ]
    },
    {
     "name": "stderr",
     "output_type": "stream",
     "text": [
      "         Consider reformulating model or setting NumericFocus parameter\n"
     ]
    },
    {
     "name": "stdout",
     "output_type": "stream",
     "text": [
      "         to avoid numerical issues.\n"
     ]
    },
    {
     "name": "stderr",
     "output_type": "stream",
     "text": [
      "         to avoid numerical issues.\n"
     ]
    },
    {
     "name": "stdout",
     "output_type": "stream",
     "text": [
      "Presolve removed 582202 rows and 499104 columns (presolve time = 5s)...\n"
     ]
    },
    {
     "name": "stderr",
     "output_type": "stream",
     "text": [
      "Presolve removed 582202 rows and 499104 columns (presolve time = 5s)...\n"
     ]
    },
    {
     "name": "stdout",
     "output_type": "stream",
     "text": [
      "Presolve removed 582237 rows and 499128 columns\n"
     ]
    },
    {
     "name": "stderr",
     "output_type": "stream",
     "text": [
      "Presolve removed 582237 rows and 499128 columns\n"
     ]
    },
    {
     "name": "stdout",
     "output_type": "stream",
     "text": [
      "Presolve time: 5.70s\n"
     ]
    },
    {
     "name": "stderr",
     "output_type": "stream",
     "text": [
      "Presolve time: 5.70s\n"
     ]
    },
    {
     "name": "stdout",
     "output_type": "stream",
     "text": [
      "Presolved: 198939 rows, 118805 columns, 623110 nonzeros\n"
     ]
    },
    {
     "name": "stderr",
     "output_type": "stream",
     "text": [
      "Presolved: 198939 rows, 118805 columns, 623110 nonzeros\n"
     ]
    },
    {
     "name": "stdout",
     "output_type": "stream",
     "text": [
      "Variable types: 97546 continuous, 21259 integer (12968 binary)\n"
     ]
    },
    {
     "name": "stderr",
     "output_type": "stream",
     "text": [
      "Variable types: 97546 continuous, 21259 integer (12968 binary)\n"
     ]
    },
    {
     "name": "stdout",
     "output_type": "stream",
     "text": [
      "\n"
     ]
    },
    {
     "name": "stderr",
     "output_type": "stream",
     "text": [
      "\n"
     ]
    },
    {
     "name": "stdout",
     "output_type": "stream",
     "text": [
      "Deterministic concurrent LP optimizer: primal simplex, dual simplex, and barrier\n"
     ]
    },
    {
     "name": "stderr",
     "output_type": "stream",
     "text": [
      "Deterministic concurrent LP optimizer: primal simplex, dual simplex, and barrier\n"
     ]
    },
    {
     "name": "stdout",
     "output_type": "stream",
     "text": [
      "Showing barrier log only...\n"
     ]
    },
    {
     "name": "stderr",
     "output_type": "stream",
     "text": [
      "Showing barrier log only...\n"
     ]
    },
    {
     "name": "stdout",
     "output_type": "stream",
     "text": [
      "\n"
     ]
    },
    {
     "name": "stderr",
     "output_type": "stream",
     "text": [
      "\n"
     ]
    },
    {
     "name": "stdout",
     "output_type": "stream",
     "text": [
      "Root barrier log...\n"
     ]
    },
    {
     "name": "stderr",
     "output_type": "stream",
     "text": [
      "Root barrier log...\n"
     ]
    },
    {
     "name": "stdout",
     "output_type": "stream",
     "text": [
      "\n"
     ]
    },
    {
     "name": "stderr",
     "output_type": "stream",
     "text": [
      "\n"
     ]
    },
    {
     "name": "stdout",
     "output_type": "stream",
     "text": [
      "Ordering time: 0.60s\n"
     ]
    },
    {
     "name": "stderr",
     "output_type": "stream",
     "text": [
      "Ordering time: 0.60s\n"
     ]
    },
    {
     "name": "stdout",
     "output_type": "stream",
     "text": [
      "\n"
     ]
    },
    {
     "name": "stderr",
     "output_type": "stream",
     "text": [
      "\n"
     ]
    },
    {
     "name": "stdout",
     "output_type": "stream",
     "text": [
      "Barrier statistics:\n"
     ]
    },
    {
     "name": "stderr",
     "output_type": "stream",
     "text": [
      "Barrier statistics:\n"
     ]
    },
    {
     "name": "stdout",
     "output_type": "stream",
     "text": [
      " Dense cols : 35\n"
     ]
    },
    {
     "name": "stderr",
     "output_type": "stream",
     "text": [
      " Dense cols : 35\n"
     ]
    },
    {
     "name": "stdout",
     "output_type": "stream",
     "text": [
      " AA' NZ     : 1.408e+06\n"
     ]
    },
    {
     "name": "stderr",
     "output_type": "stream",
     "text": [
      " AA' NZ     : 1.408e+06\n"
     ]
    },
    {
     "name": "stdout",
     "output_type": "stream",
     "text": [
      " Factor NZ  : 5.538e+06 (roughly 160 MB of memory)\n"
     ]
    },
    {
     "name": "stderr",
     "output_type": "stream",
     "text": [
      " Factor NZ  : 5.538e+06 (roughly 160 MB of memory)\n"
     ]
    },
    {
     "name": "stdout",
     "output_type": "stream",
     "text": [
      " Factor Ops : 4.916e+08 (less than 1 second per iteration)\n"
     ]
    },
    {
     "name": "stderr",
     "output_type": "stream",
     "text": [
      " Factor Ops : 4.916e+08 (less than 1 second per iteration)\n"
     ]
    },
    {
     "name": "stdout",
     "output_type": "stream",
     "text": [
      " Threads    : 7\n"
     ]
    },
    {
     "name": "stderr",
     "output_type": "stream",
     "text": [
      " Threads    : 7\n"
     ]
    },
    {
     "name": "stdout",
     "output_type": "stream",
     "text": [
      "\n"
     ]
    },
    {
     "name": "stderr",
     "output_type": "stream",
     "text": [
      "\n"
     ]
    },
    {
     "name": "stdout",
     "output_type": "stream",
     "text": [
      "                  Objective                Residual\n"
     ]
    },
    {
     "name": "stderr",
     "output_type": "stream",
     "text": [
      "                  Objective                Residual\n"
     ]
    },
    {
     "name": "stdout",
     "output_type": "stream",
     "text": [
      "Iter       Primal          Dual         Primal    Dual     Compl     Time\n"
     ]
    },
    {
     "name": "stderr",
     "output_type": "stream",
     "text": [
      "Iter       Primal          Dual         Primal    Dual     Compl     Time\n"
     ]
    },
    {
     "name": "stdout",
     "output_type": "stream",
     "text": [
      "   0   8.62373132e+13 -1.32121921e+17  3.27e+06 3.03e+03  1.53e+12    11s\n"
     ]
    },
    {
     "name": "stderr",
     "output_type": "stream",
     "text": [
      "   0   8.62373132e+13 -1.32121921e+17  3.27e+06 3.03e+03  1.53e+12    11s\n"
     ]
    },
    {
     "name": "stdout",
     "output_type": "stream",
     "text": [
      "   1   7.62387107e+13 -4.41615761e+16  2.25e+06 3.02e+05  5.52e+11    11s\n"
     ]
    },
    {
     "name": "stderr",
     "output_type": "stream",
     "text": [
      "   1   7.62387107e+13 -4.41615761e+16  2.25e+06 3.02e+05  5.52e+11    11s\n"
     ]
    },
    {
     "name": "stdout",
     "output_type": "stream",
     "text": [
      "   2   6.35916138e+13 -1.25595840e+16  1.59e+06 1.28e+04  2.66e+11    11s\n"
     ]
    },
    {
     "name": "stderr",
     "output_type": "stream",
     "text": [
      "   2   6.35916138e+13 -1.25595840e+16  1.59e+06 1.28e+04  2.66e+11    11s\n"
     ]
    },
    {
     "name": "stdout",
     "output_type": "stream",
     "text": [
      "   3   1.93310943e+13 -3.46311070e+15  3.17e+05 7.97e+01  5.38e+10    12s\n"
     ]
    },
    {
     "name": "stderr",
     "output_type": "stream",
     "text": [
      "   3   1.93310943e+13 -3.46311070e+15  3.17e+05 7.97e+01  5.38e+10    12s\n"
     ]
    },
    {
     "name": "stdout",
     "output_type": "stream",
     "text": [
      "   4   7.99794161e+12 -4.58589956e+14  2.32e+04 4.66e-04  4.38e+09    12s\n"
     ]
    },
    {
     "name": "stderr",
     "output_type": "stream",
     "text": [
      "   4   7.99794161e+12 -4.58589956e+14  2.32e+04 4.66e-04  4.38e+09    12s\n"
     ]
    },
    {
     "name": "stdout",
     "output_type": "stream",
     "text": [
      "   5   7.19434675e+12 -1.86699314e+14  5.54e+03 3.02e-04  1.24e+09    12s\n"
     ]
    },
    {
     "name": "stderr",
     "output_type": "stream",
     "text": [
      "   5   7.19434675e+12 -1.86699314e+14  5.54e+03 3.02e-04  1.24e+09    12s\n"
     ]
    },
    {
     "name": "stdout",
     "output_type": "stream",
     "text": [
      "   6   5.30674193e+12 -7.69195828e+13  1.98e+03 3.63e-04  4.43e+08    13s\n"
     ]
    },
    {
     "name": "stderr",
     "output_type": "stream",
     "text": [
      "   6   5.30674193e+12 -7.69195828e+13  1.98e+03 3.63e-04  4.43e+08    13s\n"
     ]
    },
    {
     "name": "stdout",
     "output_type": "stream",
     "text": [
      "   7   4.18002720e+12 -2.08363823e+13  4.07e+02 1.94e-03  1.03e+08    13s\n"
     ]
    },
    {
     "name": "stderr",
     "output_type": "stream",
     "text": [
      "   7   4.18002720e+12 -2.08363823e+13  4.07e+02 1.94e-03  1.03e+08    13s\n"
     ]
    },
    {
     "name": "stdout",
     "output_type": "stream",
     "text": [
      "   8   1.34563657e+12 -2.71012832e+12  3.41e+01 2.49e-03  1.33e+07    13s\n"
     ]
    },
    {
     "name": "stderr",
     "output_type": "stream",
     "text": [
      "   8   1.34563657e+12 -2.71012832e+12  3.41e+01 2.49e-03  1.33e+07    13s\n"
     ]
    },
    {
     "name": "stdout",
     "output_type": "stream",
     "text": [
      "   9   3.04255663e+11 -4.55944215e+11  6.39e+00 3.62e-04  2.38e+06    14s\n"
     ]
    },
    {
     "name": "stderr",
     "output_type": "stream",
     "text": [
      "   9   3.04255663e+11 -4.55944215e+11  6.39e+00 3.62e-04  2.38e+06    14s\n"
     ]
    },
    {
     "name": "stdout",
     "output_type": "stream",
     "text": [
      "  10   1.83228134e+11 -1.60618803e+11  3.55e+00 1.35e-04  1.07e+06    14s\n"
     ]
    },
    {
     "name": "stderr",
     "output_type": "stream",
     "text": [
      "  10   1.83228134e+11 -1.60618803e+11  3.55e+00 1.35e-04  1.07e+06    14s\n"
     ]
    },
    {
     "name": "stdout",
     "output_type": "stream",
     "text": [
      "  11   1.19715936e+11 -1.15234944e+11  2.16e+00 9.83e-05  7.24e+05    15s\n"
     ]
    },
    {
     "name": "stderr",
     "output_type": "stream",
     "text": [
      "  11   1.19715936e+11 -1.15234944e+11  2.16e+00 9.83e-05  7.24e+05    15s\n"
     ]
    },
    {
     "name": "stdout",
     "output_type": "stream",
     "text": [
      "  12   7.00616733e+10 -7.83535587e+10  1.19e+00 6.75e-05  4.54e+05    15s\n"
     ]
    },
    {
     "name": "stderr",
     "output_type": "stream",
     "text": [
      "  12   7.00616733e+10 -7.83535587e+10  1.19e+00 6.75e-05  4.54e+05    15s\n"
     ]
    },
    {
     "name": "stdout",
     "output_type": "stream",
     "text": [
      "  13   3.21563406e+10 -5.38961053e+10  4.68e-01 4.58e-05  2.60e+05    15s\n"
     ]
    },
    {
     "name": "stderr",
     "output_type": "stream",
     "text": [
      "  13   3.21563406e+10 -5.38961053e+10  4.68e-01 4.58e-05  2.60e+05    15s\n"
     ]
    },
    {
     "name": "stdout",
     "output_type": "stream",
     "text": [
      "  14   2.02657066e+10 -2.55917770e+10  2.66e-01 2.20e-05  1.39e+05    16s\n"
     ]
    },
    {
     "name": "stderr",
     "output_type": "stream",
     "text": [
      "  14   2.02657066e+10 -2.55917770e+10  2.66e-01 2.20e-05  1.39e+05    16s\n"
     ]
    },
    {
     "name": "stdout",
     "output_type": "stream",
     "text": [
      "  15   9.67509264e+09 -1.08588344e+10  9.88e-02 9.65e-06  6.18e+04    16s\n"
     ]
    },
    {
     "name": "stderr",
     "output_type": "stream",
     "text": [
      "  15   9.67509264e+09 -1.08588344e+10  9.88e-02 9.65e-06  6.18e+04    16s\n"
     ]
    },
    {
     "name": "stdout",
     "output_type": "stream",
     "text": [
      "  16   5.92629676e+09 -4.08071519e+09  4.86e-02 4.39e-06  3.01e+04    17s\n"
     ]
    },
    {
     "name": "stderr",
     "output_type": "stream",
     "text": [
      "  16   5.92629676e+09 -4.08071519e+09  4.86e-02 4.39e-06  3.01e+04    17s\n"
     ]
    },
    {
     "name": "stdout",
     "output_type": "stream",
     "text": [
      "  17   4.30494884e+09 -2.64925692e+09  2.87e-02 3.26e-06  2.09e+04    17s\n"
     ]
    },
    {
     "name": "stderr",
     "output_type": "stream",
     "text": [
      "  17   4.30494884e+09 -2.64925692e+09  2.87e-02 3.26e-06  2.09e+04    17s\n"
     ]
    },
    {
     "name": "stdout",
     "output_type": "stream",
     "text": [
      "  18   3.38062034e+09 -1.08865981e+09  1.79e-02 2.07e-06  1.34e+04    17s\n"
     ]
    },
    {
     "name": "stderr",
     "output_type": "stream",
     "text": [
      "  18   3.38062034e+09 -1.08865981e+09  1.79e-02 2.07e-06  1.34e+04    17s\n"
     ]
    },
    {
     "name": "stdout",
     "output_type": "stream",
     "text": [
      "  19   2.45710270e+09 -2.41942959e+08  7.34e-03 1.44e-06  8.09e+03    18s\n"
     ]
    },
    {
     "name": "stderr",
     "output_type": "stream",
     "text": [
      "  19   2.45710270e+09 -2.41942959e+08  7.34e-03 1.44e-06  8.09e+03    18s\n"
     ]
    },
    {
     "name": "stdout",
     "output_type": "stream",
     "text": [
      "  20   2.10973728e+09  4.46593652e+08  3.56e-03 9.26e-07  4.98e+03    18s\n"
     ]
    },
    {
     "name": "stderr",
     "output_type": "stream",
     "text": [
      "  20   2.10973728e+09  4.46593652e+08  3.56e-03 9.26e-07  4.98e+03    18s\n"
     ]
    },
    {
     "name": "stdout",
     "output_type": "stream",
     "text": [
      "  21   1.94936968e+09  9.09809920e+08  2.01e-03 6.03e-07  3.11e+03    19s\n"
     ]
    },
    {
     "name": "stderr",
     "output_type": "stream",
     "text": [
      "  21   1.94936968e+09  9.09809920e+08  2.01e-03 6.03e-07  3.11e+03    19s\n"
     ]
    },
    {
     "name": "stdout",
     "output_type": "stream",
     "text": [
      "  22   1.87503919e+09  1.06767358e+09  1.34e-03 4.81e-07  2.41e+03    19s\n"
     ]
    },
    {
     "name": "stderr",
     "output_type": "stream",
     "text": [
      "  22   1.87503919e+09  1.06767358e+09  1.34e-03 4.81e-07  2.41e+03    19s\n"
     ]
    },
    {
     "name": "stdout",
     "output_type": "stream",
     "text": [
      "  23   1.82077343e+09  1.24562623e+09  8.78e-04 3.47e-07  1.72e+03    20s\n"
     ]
    },
    {
     "name": "stderr",
     "output_type": "stream",
     "text": [
      "  23   1.82077343e+09  1.24562623e+09  8.78e-04 3.47e-07  1.72e+03    20s\n"
     ]
    },
    {
     "name": "stdout",
     "output_type": "stream",
     "text": [
      "  24   1.78077507e+09  1.38085683e+09  5.57e-04 2.45e-07  1.19e+03    20s\n"
     ]
    },
    {
     "name": "stderr",
     "output_type": "stream",
     "text": [
      "  24   1.78077507e+09  1.38085683e+09  5.57e-04 2.45e-07  1.19e+03    20s\n"
     ]
    },
    {
     "name": "stdout",
     "output_type": "stream",
     "text": [
      "  25   1.75940909e+09  1.45022809e+09  4.06e-04 1.96e-07  9.24e+02    21s\n"
     ]
    },
    {
     "name": "stderr",
     "output_type": "stream",
     "text": [
      "  25   1.75940909e+09  1.45022809e+09  4.06e-04 1.96e-07  9.24e+02    21s\n"
     ]
    },
    {
     "name": "stdout",
     "output_type": "stream",
     "text": [
      "  26   1.74206499e+09  1.53349163e+09  2.79e-04 1.31e-07  6.23e+02    21s\n"
     ]
    },
    {
     "name": "stderr",
     "output_type": "stream",
     "text": [
      "  26   1.74206499e+09  1.53349163e+09  2.79e-04 1.31e-07  6.23e+02    21s\n"
     ]
    },
    {
     "name": "stdout",
     "output_type": "stream",
     "text": [
      "  27   1.72701368e+09  1.58078804e+09  1.74e-04 9.39e-08  4.37e+02    22s\n"
     ]
    },
    {
     "name": "stderr",
     "output_type": "stream",
     "text": [
      "  27   1.72701368e+09  1.58078804e+09  1.74e-04 9.39e-08  4.37e+02    22s\n"
     ]
    },
    {
     "name": "stdout",
     "output_type": "stream",
     "text": [
      "  28   1.71499176e+09  1.66889358e+09  9.44e-05 2.42e-08  1.38e+02    22s\n"
     ]
    },
    {
     "name": "stderr",
     "output_type": "stream",
     "text": [
      "  28   1.71499176e+09  1.66889358e+09  9.44e-05 2.42e-08  1.38e+02    22s\n"
     ]
    },
    {
     "name": "stdout",
     "output_type": "stream",
     "text": [
      "  29   1.71376110e+09  1.66972961e+09  8.78e-05 2.35e-08  1.32e+02    23s\n"
     ]
    },
    {
     "name": "stderr",
     "output_type": "stream",
     "text": [
      "  29   1.71376110e+09  1.66972961e+09  8.78e-05 2.35e-08  1.32e+02    23s\n"
     ]
    },
    {
     "name": "stdout",
     "output_type": "stream",
     "text": [
      "  30   1.71106901e+09  1.67637816e+09  7.38e-05 1.77e-08  1.04e+02    23s\n"
     ]
    },
    {
     "name": "stderr",
     "output_type": "stream",
     "text": [
      "  30   1.71106901e+09  1.67637816e+09  7.38e-05 1.77e-08  1.04e+02    23s\n"
     ]
    },
    {
     "name": "stdout",
     "output_type": "stream",
     "text": [
      "  31   1.70602041e+09  1.68166813e+09  4.57e-05 1.31e-08  7.29e+01    23s\n"
     ]
    },
    {
     "name": "stderr",
     "output_type": "stream",
     "text": [
      "  31   1.70602041e+09  1.68166813e+09  4.57e-05 1.31e-08  7.29e+01    23s\n"
     ]
    },
    {
     "name": "stdout",
     "output_type": "stream",
     "text": [
      "  32   1.70504978e+09  1.68331606e+09  4.07e-05 1.17e-08  6.50e+01    24s\n"
     ]
    },
    {
     "name": "stderr",
     "output_type": "stream",
     "text": [
      "  32   1.70504978e+09  1.68331606e+09  4.07e-05 1.17e-08  6.50e+01    24s\n"
     ]
    },
    {
     "name": "stdout",
     "output_type": "stream",
     "text": [
      "  33   1.70349256e+09  1.68523418e+09  3.27e-05 2.53e-08  5.46e+01    24s\n"
     ]
    },
    {
     "name": "stderr",
     "output_type": "stream",
     "text": [
      "  33   1.70349256e+09  1.68523418e+09  3.27e-05 2.53e-08  5.46e+01    24s\n"
     ]
    },
    {
     "name": "stdout",
     "output_type": "stream",
     "text": [
      "  34   1.70228522e+09  1.68711405e+09  2.65e-05 8.41e-09  4.54e+01    25s\n"
     ]
    },
    {
     "name": "stderr",
     "output_type": "stream",
     "text": [
      "  34   1.70228522e+09  1.68711405e+09  2.65e-05 8.41e-09  4.54e+01    25s\n"
     ]
    },
    {
     "name": "stdout",
     "output_type": "stream",
     "text": [
      "  35   1.70078025e+09  1.69001223e+09  1.89e-05 5.98e-09  3.22e+01    25s\n"
     ]
    },
    {
     "name": "stderr",
     "output_type": "stream",
     "text": [
      "  35   1.70078025e+09  1.69001223e+09  1.89e-05 5.98e-09  3.22e+01    25s\n"
     ]
    },
    {
     "name": "stdout",
     "output_type": "stream",
     "text": [
      "  36   1.70006337e+09  1.69166945e+09  1.53e-05 2.64e-08  2.51e+01    25s\n"
     ]
    },
    {
     "name": "stderr",
     "output_type": "stream",
     "text": [
      "  36   1.70006337e+09  1.69166945e+09  1.53e-05 2.64e-08  2.51e+01    25s\n"
     ]
    },
    {
     "name": "stdout",
     "output_type": "stream",
     "text": [
      "  37   1.69983754e+09  1.69185922e+09  1.42e-05 1.98e-08  2.39e+01    26s\n"
     ]
    },
    {
     "name": "stderr",
     "output_type": "stream",
     "text": [
      "  37   1.69983754e+09  1.69185922e+09  1.42e-05 1.98e-08  2.39e+01    26s\n"
     ]
    },
    {
     "name": "stdout",
     "output_type": "stream",
     "text": [
      "  38   1.69958701e+09  1.69401731e+09  1.30e-05 1.05e-08  1.67e+01    26s\n"
     ]
    },
    {
     "name": "stderr",
     "output_type": "stream",
     "text": [
      "  38   1.69958701e+09  1.69401731e+09  1.30e-05 1.05e-08  1.67e+01    26s\n"
     ]
    },
    {
     "name": "stdout",
     "output_type": "stream",
     "text": [
      "  39   1.69750945e+09  1.69677818e+09  2.62e-06 8.29e-08  2.20e+00    27s\n"
     ]
    },
    {
     "name": "stderr",
     "output_type": "stream",
     "text": [
      "  39   1.69750945e+09  1.69677818e+09  2.62e-06 8.29e-08  2.20e+00    27s\n"
     ]
    },
    {
     "name": "stdout",
     "output_type": "stream",
     "text": [
      "  40   1.69744760e+09  1.69681747e+09  2.35e-06 6.21e-08  1.90e+00    27s\n"
     ]
    },
    {
     "name": "stderr",
     "output_type": "stream",
     "text": [
      "  40   1.69744760e+09  1.69681747e+09  2.35e-06 6.21e-08  1.90e+00    27s\n"
     ]
    },
    {
     "name": "stdout",
     "output_type": "stream",
     "text": [
      "  41   1.69734469e+09  1.69682367e+09  2.07e-06 7.10e-08  1.57e+00    27s\n"
     ]
    },
    {
     "name": "stderr",
     "output_type": "stream",
     "text": [
      "  41   1.69734469e+09  1.69682367e+09  2.07e-06 7.10e-08  1.57e+00    27s\n"
     ]
    },
    {
     "name": "stdout",
     "output_type": "stream",
     "text": [
      "  42   1.69716197e+09  1.69685289e+09  4.13e-05 2.11e-08  9.30e-01    28s\n"
     ]
    },
    {
     "name": "stderr",
     "output_type": "stream",
     "text": [
      "  42   1.69716197e+09  1.69685289e+09  4.13e-05 2.11e-08  9.30e-01    28s\n"
     ]
    },
    {
     "name": "stdout",
     "output_type": "stream",
     "text": [
      "  43   1.69713398e+09  1.69685884e+09  3.68e-05 4.62e-08  8.28e-01    29s\n"
     ]
    },
    {
     "name": "stderr",
     "output_type": "stream",
     "text": [
      "  43   1.69713398e+09  1.69685884e+09  3.68e-05 4.62e-08  8.28e-01    29s\n"
     ]
    },
    {
     "name": "stdout",
     "output_type": "stream",
     "text": [
      "  44   1.69697557e+09  1.69689760e+09  8.40e-05 9.47e-08  2.35e-01    29s\n"
     ]
    },
    {
     "name": "stderr",
     "output_type": "stream",
     "text": [
      "  44   1.69697557e+09  1.69689760e+09  8.40e-05 9.47e-08  2.35e-01    29s\n"
     ]
    },
    {
     "name": "stdout",
     "output_type": "stream",
     "text": [
      "  45   1.69691869e+09  1.69690914e+09  1.31e-05 4.02e-08  2.88e-02    30s\n"
     ]
    },
    {
     "name": "stderr",
     "output_type": "stream",
     "text": [
      "  45   1.69691869e+09  1.69690914e+09  1.31e-05 4.02e-08  2.88e-02    30s\n"
     ]
    },
    {
     "name": "stdout",
     "output_type": "stream",
     "text": [
      "  46   1.69691245e+09  1.69691076e+09  3.44e-06 4.67e-08  5.10e-03    30s\n"
     ]
    },
    {
     "name": "stderr",
     "output_type": "stream",
     "text": [
      "  46   1.69691245e+09  1.69691076e+09  3.44e-06 4.67e-08  5.10e-03    30s\n"
     ]
    },
    {
     "name": "stdout",
     "output_type": "stream",
     "text": [
      "  47   1.69691146e+09  1.69691107e+09  9.53e-07 7.93e-09  1.18e-03    31s\n"
     ]
    },
    {
     "name": "stderr",
     "output_type": "stream",
     "text": [
      "  47   1.69691146e+09  1.69691107e+09  9.53e-07 7.93e-09  1.18e-03    31s\n"
     ]
    },
    {
     "name": "stdout",
     "output_type": "stream",
     "text": [
      "  48   1.69691122e+09  1.69691114e+09  1.97e-07 1.62e-08  2.31e-04    31s\n"
     ]
    },
    {
     "name": "stderr",
     "output_type": "stream",
     "text": [
      "  48   1.69691122e+09  1.69691114e+09  1.97e-07 1.62e-08  2.31e-04    31s\n"
     ]
    },
    {
     "name": "stdout",
     "output_type": "stream",
     "text": [
      "  49   1.69691117e+09  1.69691116e+09  2.21e-08 7.71e-09  1.91e-05    31s\n"
     ]
    },
    {
     "name": "stderr",
     "output_type": "stream",
     "text": [
      "  49   1.69691117e+09  1.69691116e+09  2.21e-08 7.71e-09  1.91e-05    31s\n"
     ]
    },
    {
     "name": "stdout",
     "output_type": "stream",
     "text": [
      "  50   1.69691116e+09  1.69691116e+09  1.10e-09 2.41e-08  4.49e-07    32s\n"
     ]
    },
    {
     "name": "stderr",
     "output_type": "stream",
     "text": [
      "  50   1.69691116e+09  1.69691116e+09  1.10e-09 2.41e-08  4.49e-07    32s\n"
     ]
    },
    {
     "name": "stdout",
     "output_type": "stream",
     "text": [
      "  51   1.69691116e+09  1.69691116e+09  7.66e-11 7.53e-09  6.79e-08    32s\n"
     ]
    },
    {
     "name": "stderr",
     "output_type": "stream",
     "text": [
      "  51   1.69691116e+09  1.69691116e+09  7.66e-11 7.53e-09  6.79e-08    32s\n"
     ]
    },
    {
     "name": "stdout",
     "output_type": "stream",
     "text": [
      "  52   1.69691116e+09  1.69691116e+09  3.93e-11 1.30e-08  2.98e-08    32s\n"
     ]
    },
    {
     "name": "stderr",
     "output_type": "stream",
     "text": [
      "  52   1.69691116e+09  1.69691116e+09  3.93e-11 1.30e-08  2.98e-08    32s\n"
     ]
    },
    {
     "name": "stdout",
     "output_type": "stream",
     "text": [
      "  53   1.69691116e+09  1.69691116e+09  4.55e-13 2.20e-08  1.07e-09    33s\n"
     ]
    },
    {
     "name": "stderr",
     "output_type": "stream",
     "text": [
      "  53   1.69691116e+09  1.69691116e+09  4.55e-13 2.20e-08  1.07e-09    33s\n"
     ]
    },
    {
     "name": "stdout",
     "output_type": "stream",
     "text": [
      "\n"
     ]
    },
    {
     "name": "stderr",
     "output_type": "stream",
     "text": [
      "\n"
     ]
    },
    {
     "name": "stdout",
     "output_type": "stream",
     "text": [
      "Barrier solved model in 53 iterations and 33.01 seconds (11.84 work units)\n"
     ]
    },
    {
     "name": "stderr",
     "output_type": "stream",
     "text": [
      "Barrier solved model in 53 iterations and 33.01 seconds (11.84 work units)\n"
     ]
    },
    {
     "name": "stdout",
     "output_type": "stream",
     "text": [
      "Optimal objective 1.69691116e+09\n"
     ]
    },
    {
     "name": "stderr",
     "output_type": "stream",
     "text": [
      "Optimal objective 1.69691116e+09\n"
     ]
    },
    {
     "name": "stdout",
     "output_type": "stream",
     "text": [
      "\n"
     ]
    },
    {
     "name": "stderr",
     "output_type": "stream",
     "text": [
      "\n"
     ]
    },
    {
     "name": "stdout",
     "output_type": "stream",
     "text": [
      "\n"
     ]
    },
    {
     "name": "stderr",
     "output_type": "stream",
     "text": [
      "\n"
     ]
    },
    {
     "name": "stdout",
     "output_type": "stream",
     "text": [
      "Root crossover log...\n"
     ]
    },
    {
     "name": "stderr",
     "output_type": "stream",
     "text": [
      "Root crossover log...\n"
     ]
    },
    {
     "name": "stdout",
     "output_type": "stream",
     "text": [
      "\n"
     ]
    },
    {
     "name": "stderr",
     "output_type": "stream",
     "text": [
      "\n"
     ]
    },
    {
     "name": "stdout",
     "output_type": "stream",
     "text": [
      "  162418 DPushes remaining with DInf 0.0000000e+00                34s\n"
     ]
    },
    {
     "name": "stderr",
     "output_type": "stream",
     "text": [
      "  162418 DPushes remaining with DInf 0.0000000e+00                34s\n"
     ]
    },
    {
     "name": "stdout",
     "output_type": "stream",
     "text": [
      "   34231 DPushes remaining with DInf 0.0000000e+00                35s\n"
     ]
    },
    {
     "name": "stderr",
     "output_type": "stream",
     "text": [
      "   34231 DPushes remaining with DInf 0.0000000e+00                35s\n"
     ]
    },
    {
     "name": "stdout",
     "output_type": "stream",
     "text": [
      "   12082 DPushes remaining with DInf 1.1824844e-06                40s\n"
     ]
    },
    {
     "name": "stderr",
     "output_type": "stream",
     "text": [
      "   12082 DPushes remaining with DInf 1.1824844e-06                40s\n"
     ]
    },
    {
     "name": "stdout",
     "output_type": "stream",
     "text": [
      "       0 DPushes remaining with DInf 1.7626864e-05                42s\n"
     ]
    },
    {
     "name": "stderr",
     "output_type": "stream",
     "text": [
      "       0 DPushes remaining with DInf 1.7626864e-05                42s\n"
     ]
    },
    {
     "name": "stdout",
     "output_type": "stream",
     "text": [
      "\n"
     ]
    },
    {
     "name": "stderr",
     "output_type": "stream",
     "text": [
      "\n"
     ]
    },
    {
     "name": "stdout",
     "output_type": "stream",
     "text": [
      "      34 PPushes remaining with PInf 0.0000000e+00                42s\n"
     ]
    },
    {
     "name": "stderr",
     "output_type": "stream",
     "text": [
      "      34 PPushes remaining with PInf 0.0000000e+00                42s\n"
     ]
    },
    {
     "name": "stdout",
     "output_type": "stream",
     "text": [
      "       0 PPushes remaining with PInf 0.0000000e+00                42s\n"
     ]
    },
    {
     "name": "stderr",
     "output_type": "stream",
     "text": [
      "       0 PPushes remaining with PInf 0.0000000e+00                42s\n"
     ]
    },
    {
     "name": "stdout",
     "output_type": "stream",
     "text": [
      "\n"
     ]
    },
    {
     "name": "stderr",
     "output_type": "stream",
     "text": [
      "\n"
     ]
    },
    {
     "name": "stdout",
     "output_type": "stream",
     "text": [
      "  Push phase complete: Pinf 0.0000000e+00, Dinf 4.2507904e-03     42s\n"
     ]
    },
    {
     "name": "stderr",
     "output_type": "stream",
     "text": [
      "  Push phase complete: Pinf 0.0000000e+00, Dinf 4.2507904e-03     42s\n"
     ]
    },
    {
     "name": "stdout",
     "output_type": "stream",
     "text": [
      "\n"
     ]
    },
    {
     "name": "stderr",
     "output_type": "stream",
     "text": [
      "\n"
     ]
    },
    {
     "name": "stdout",
     "output_type": "stream",
     "text": [
      "\n"
     ]
    },
    {
     "name": "stderr",
     "output_type": "stream",
     "text": [
      "\n"
     ]
    },
    {
     "name": "stdout",
     "output_type": "stream",
     "text": [
      "Root simplex log...\n"
     ]
    },
    {
     "name": "stderr",
     "output_type": "stream",
     "text": [
      "Root simplex log...\n"
     ]
    },
    {
     "name": "stdout",
     "output_type": "stream",
     "text": [
      "\n"
     ]
    },
    {
     "name": "stderr",
     "output_type": "stream",
     "text": [
      "\n"
     ]
    },
    {
     "name": "stdout",
     "output_type": "stream",
     "text": [
      "Iteration    Objective       Primal Inf.    Dual Inf.      Time\n"
     ]
    },
    {
     "name": "stderr",
     "output_type": "stream",
     "text": [
      "Iteration    Objective       Primal Inf.    Dual Inf.      Time\n"
     ]
    },
    {
     "name": "stdout",
     "output_type": "stream",
     "text": [
      "   79507    1.6969112e+09   0.000000e+00   4.250787e-03     42s\n"
     ]
    },
    {
     "name": "stderr",
     "output_type": "stream",
     "text": [
      "   79507    1.6969112e+09   0.000000e+00   4.250787e-03     42s\n"
     ]
    },
    {
     "name": "stdout",
     "output_type": "stream",
     "text": [
      "   79516    1.6969112e+09   0.000000e+00   0.000000e+00     42s\n"
     ]
    },
    {
     "name": "stderr",
     "output_type": "stream",
     "text": [
      "   79516    1.6969112e+09   0.000000e+00   0.000000e+00     42s\n"
     ]
    },
    {
     "name": "stdout",
     "output_type": "stream",
     "text": [
      "   79516    1.6969112e+09   0.000000e+00   0.000000e+00     43s\n"
     ]
    },
    {
     "name": "stderr",
     "output_type": "stream",
     "text": [
      "   79516    1.6969112e+09   0.000000e+00   0.000000e+00     43s\n"
     ]
    },
    {
     "name": "stdout",
     "output_type": "stream",
     "text": [
      "Concurrent spin time: 2.49s\n"
     ]
    },
    {
     "name": "stderr",
     "output_type": "stream",
     "text": [
      "Concurrent spin time: 2.49s\n"
     ]
    },
    {
     "name": "stdout",
     "output_type": "stream",
     "text": [
      "\n"
     ]
    },
    {
     "name": "stderr",
     "output_type": "stream",
     "text": [
      "\n"
     ]
    },
    {
     "name": "stdout",
     "output_type": "stream",
     "text": [
      "Solved with barrier\n"
     ]
    },
    {
     "name": "stderr",
     "output_type": "stream",
     "text": [
      "Solved with barrier\n"
     ]
    },
    {
     "name": "stdout",
     "output_type": "stream",
     "text": [
      "\n"
     ]
    },
    {
     "name": "stderr",
     "output_type": "stream",
     "text": [
      "\n"
     ]
    },
    {
     "name": "stdout",
     "output_type": "stream",
     "text": [
      "Root relaxation: objective 1.696911e+09, 79516 iterations, 35.25 seconds (10.40 work units)\n"
     ]
    },
    {
     "name": "stderr",
     "output_type": "stream",
     "text": [
      "Root relaxation: objective 1.696911e+09, 79516 iterations, 35.25 seconds (10.40 work units)\n"
     ]
    },
    {
     "name": "stdout",
     "output_type": "stream",
     "text": [
      "\n"
     ]
    },
    {
     "name": "stderr",
     "output_type": "stream",
     "text": [
      "\n"
     ]
    },
    {
     "name": "stdout",
     "output_type": "stream",
     "text": [
      "    Nodes    |    Current Node    |     Objective Bounds      |     Work\n"
     ]
    },
    {
     "name": "stderr",
     "output_type": "stream",
     "text": [
      "    Nodes    |    Current Node    |     Objective Bounds      |     Work\n"
     ]
    },
    {
     "name": "stdout",
     "output_type": "stream",
     "text": [
      " Expl Unexpl |  Obj  Depth IntInf | Incumbent    BestBd   Gap | It/Node Time\n"
     ]
    },
    {
     "name": "stderr",
     "output_type": "stream",
     "text": [
      " Expl Unexpl |  Obj  Depth IntInf | Incumbent    BestBd   Gap | It/Node Time\n"
     ]
    },
    {
     "name": "stdout",
     "output_type": "stream",
     "text": [
      "\n"
     ]
    },
    {
     "name": "stderr",
     "output_type": "stream",
     "text": [
      "\n"
     ]
    },
    {
     "name": "stdout",
     "output_type": "stream",
     "text": [
      "     0     0 1.6969e+09    0  100          - 1.6969e+09      -     -   44s\n"
     ]
    },
    {
     "name": "stderr",
     "output_type": "stream",
     "text": [
      "     0     0 1.6969e+09    0  100          - 1.6969e+09      -     -   44s\n"
     ]
    },
    {
     "name": "stdout",
     "output_type": "stream",
     "text": [
      "H    0     0                    1.715563e+09 1.6969e+09  1.09%     -   48s\n"
     ]
    },
    {
     "name": "stderr",
     "output_type": "stream",
     "text": [
      "H    0     0                    1.715563e+09 1.6969e+09  1.09%     -   48s\n"
     ]
    },
    {
     "name": "stdout",
     "output_type": "stream",
     "text": [
      "\n"
     ]
    },
    {
     "name": "stderr",
     "output_type": "stream",
     "text": [
      "\n"
     ]
    },
    {
     "name": "stdout",
     "output_type": "stream",
     "text": [
      "Explored 1 nodes (79516 simplex iterations) in 48.99 seconds (17.77 work units)\n"
     ]
    },
    {
     "name": "stderr",
     "output_type": "stream",
     "text": [
      "Explored 1 nodes (79516 simplex iterations) in 48.99 seconds (17.77 work units)\n"
     ]
    },
    {
     "name": "stdout",
     "output_type": "stream",
     "text": [
      "Thread count was 12 (of 12 available processors)\n"
     ]
    },
    {
     "name": "stderr",
     "output_type": "stream",
     "text": [
      "Thread count was 12 (of 12 available processors)\n"
     ]
    },
    {
     "name": "stdout",
     "output_type": "stream",
     "text": [
      "\n"
     ]
    },
    {
     "name": "stderr",
     "output_type": "stream",
     "text": [
      "\n"
     ]
    },
    {
     "name": "stdout",
     "output_type": "stream",
     "text": [
      "Solution count 1: 1.71556e+09 \n"
     ]
    },
    {
     "name": "stderr",
     "output_type": "stream",
     "text": [
      "Solution count 1: 1.71556e+09 \n"
     ]
    },
    {
     "name": "stdout",
     "output_type": "stream",
     "text": [
      "\n"
     ]
    },
    {
     "name": "stderr",
     "output_type": "stream",
     "text": [
      "\n"
     ]
    },
    {
     "name": "stdout",
     "output_type": "stream",
     "text": [
      "Optimal solution found (tolerance 2.00e-02)\n"
     ]
    },
    {
     "name": "stderr",
     "output_type": "stream",
     "text": [
      "Optimal solution found (tolerance 2.00e-02)\n"
     ]
    },
    {
     "name": "stdout",
     "output_type": "stream",
     "text": [
      "Warning: max constraint violation (2.4047e-06) exceeds tolerance\n"
     ]
    },
    {
     "name": "stderr",
     "output_type": "stream",
     "text": [
      "Warning: max constraint violation (2.4047e-06) exceeds tolerance\n"
     ]
    },
    {
     "name": "stdout",
     "output_type": "stream",
     "text": [
      "Best objective 1.715562564310e+09, best bound 1.696911164704e+09, gap 1.0872%\n"
     ]
    },
    {
     "name": "stderr",
     "output_type": "stream",
     "text": [
      "Best objective 1.715562564310e+09, best bound 1.696911164704e+09, gap 1.0872%\n"
     ]
    },
    {
     "name": "stdout",
     "output_type": "stream",
     "text": [
      "Set parameter LogFile to value \"\"\n"
     ]
    },
    {
     "name": "stderr",
     "output_type": "stream",
     "text": [
      "Set parameter LogFile to value \"\"\n",
      "Writing results to userData\\20250922164929-1\n"
     ]
    },
    {
     "name": "stdout",
     "output_type": "stream",
     "text": [
      "# ==========================================================\n",
      "# = Solver Results                                         =\n",
      "# ==========================================================\n",
      "# ----------------------------------------------------------\n",
      "#   Problem Information\n",
      "# ----------------------------------------------------------\n",
      "Problem: \n",
      "- Name: unknown\n",
      "  Lower bound: 1696911164.7036994\n",
      "  Upper bound: 1715562564.3095412\n",
      "  Number of objectives: 1\n",
      "  Number of constraints: 781176\n",
      "  Number of variables: 617933\n",
      "  Number of binary variables: 36040\n",
      "  Number of integer variables: 44687\n",
      "  Number of continuous variables: 537206\n",
      "  Number of nonzeros: 1832414\n",
      "  Sense: minimize\n",
      "  Number of solutions: 1\n",
      "# ----------------------------------------------------------\n",
      "#   Solver Information\n",
      "# ----------------------------------------------------------\n",
      "Solver: \n",
      "- Name: Gurobi 12.02\n",
      "  Status: ok\n",
      "  Wallclock time: 49.18499994277954\n",
      "  Termination condition: optimal\n",
      "  Termination message: Model was solved to optimality (subject to tolerances), and an optimal solution is available.\n",
      "# ----------------------------------------------------------\n",
      "#   Solution Information\n",
      "# ----------------------------------------------------------\n",
      "Solution: \n",
      "- number of solutions: 0\n",
      "  number of solutions displayed: 0\n"
     ]
    },
    {
     "name": "stderr",
     "output_type": "stream",
     "text": [
      "Solving model completed in 162 s\n"
     ]
    }
   ],
   "source": [
    "# Run the optimization model with the baseline scenario (no ETS)\n",
    "m = adopt.ModelHub()\n",
    "m.read_data(input_data_path)\n",
    "m.quick_solve()"
   ]
  },
  {
   "cell_type": "markdown",
   "id": "1217f1d5",
   "metadata": {},
   "source": [
    "# Mathematical Formulation for Italian Regional Energy Demand Profiles\n",
    "\n",
    "## 1. Electricity Demand Profile\n",
    "\n",
    "For each region $r \\in \\{northwest, northeast, center, south, islands\\}$ and hour $t \\in \\{0, 1, ..., 8759\\}$:\n",
    "\n",
    "### Base Formula:\n",
    "$$D_{r,t}^{el} = \\frac{D_r^{annual}}{8760} \\cdot [1 + S_t + H_t]$$\n",
    "\n",
    "Where:\n",
    "- $D_{r,t}^{el}$ = Electricity demand in region $r$ at hour $t$ [MWh]\n",
    "- $D_r^{annual}$ = Annual electricity demand in region $r$ [MWh]\n",
    "- $S_t$ = Seasonal variation component\n",
    "- $H_t$ = Daily (hourly) variation component\n",
    "\n",
    "### Seasonal Variation:\n",
    "$$S_t = 0.15 \\cdot \\sin\\left(\\frac{2\\pi t}{8760} - \\frac{\\pi}{2}\\right)$$\n",
    "\n",
    "### Daily Variation:\n",
    "$$H_t = 0.3 \\cdot \\sin\\left(\\frac{2\\pi (t \\bmod 24)}{24} - \\frac{\\pi}{2}\\right)$$\n",
    "\n",
    "### Regional Annual Demands (2021 data):\n",
    "- $D_{northwest}^{annual} = 8514320,4$ MWh (Lombardy + Piedmont industrial) \n",
    "- $D_{northeast}^{annual} = 6808202,8$ MWh (Veneto + Emilia industrial/agricultural)  \n",
    "- $D_{center}^{annual} = 5209481,4$ MWh (Lazio + Tuscany + others)\n",
    "- $D_{south}^{annual} = 3908721,5$ MWh (Campania + Puglia + others)\n",
    "- $D_{islands}^{annual} = 1805076,4$ MWh (Sicily + Sardinia)\n",
    "\n",
    "**Total Italian consumption**: $\\sum_{r} D_r^{annual} = 318,000$ MWh = 318 TWh\n",
    "\n",
    "## 2. Heat Demand Profile\n",
    "\n",
    "### Base Formula:\n",
    "$$D_{r,t}^{heat} = \\frac{D_r^{annual}}{8760} \\cdot \\alpha_r \\cdot [0.2 + S_t^{heat}]$$\n",
    "\n",
    "Where:\n",
    "- $D_{r,t}^{heat}$ = Heat demand in region $r$ at hour $t$ [MWh]\n",
    "- $\\alpha_r$ = Regional heat multiplier (climate-dependent)\n",
    "- $S_t^{heat}$ = Seasonal heating pattern\n",
    "\n",
    "### Regional Heat Multipliers:\n",
    "- $\\alpha_{northwest} = 0.4$ (High heating demand - Po Valley)\n",
    "- $\\alpha_{northeast} = 0.35$ (Moderate-high heating - Continental climate)\n",
    "- $\\alpha_{center} = 0.25$ (Moderate heating - Central Italy)\n",
    "- $\\alpha_{south} = 0.15$ (Low heating - Mediterranean climate)\n",
    "- $\\alpha_{islands} = 0.1$ (Very low heating - Island climate)\n",
    "\n",
    "### Seasonal Heating Pattern:\n",
    "$$S_t^{heat} = 0.6 \\cdot \\max\\left(0, -\\sin\\left(\\frac{2\\pi t}{8760} - \\frac{\\pi}{2}\\right)\\right)$$\n",
    "\n",
    "This creates a winter-peaked heating demand with zero heating in summer months.\n",
    "\n",
    "## 3. Import Constraints and Pricing\n",
    "\n",
    "### Gas Import Limits:\n",
    "$$\\sum_{t=1}^{8760} I_{r,t}^{gas} \\leq L_r^{gas} \\quad \\forall r$$\n",
    "\n",
    "Where:\n",
    "- $I_{r,t}^{gas}$ = Gas imports to region $r$ at hour $t$ [MW]\n",
    "- $L_r^{gas}$ = Annual gas import limit for region $r$ [MW]\n",
    "\n",
    "Regional gas import limits:\n",
    "- $L_{northwest}^{gas} = 15,000$ MW (Alpine pipelines)\n",
    "- $L_{northeast}^{gas} = 8,000$ MW (Eastern Europe)\n",
    "- $L_{center}^{gas} = 5,000$ MW (Limited direct imports)\n",
    "- $L_{south}^{gas} = 12,000$ MW (TAP pipeline, LNG)\n",
    "- $L_{islands}^{gas} = 3,000$ MW (LNG terminals)\n",
    "\n",
    "### Electricity Import Limits:\n",
    "$$I_{r,t}^{el} \\leq L_r^{el} \\quad \\forall r, t$$\n",
    "\n",
    "Where:\n",
    "- $I_{r,t}^{el}$ = Electricity imports to region $r$ at hour $t$ [MW]\n",
    "- $L_r^{el}$ = Electricity import capacity for region $r$ [MW]\n",
    "\n",
    "Regional electricity import capacities:\n",
    "- $L_{northwest}^{el} = 4,000$ MW (France/Switzerland)\n",
    "- $L_{northeast}^{el} = 2,000$ MW (Austria/Slovenia)\n",
    "- $L_{center}^{el} = 1,000$ MW (Limited cross-border)\n",
    "- $L_{south}^{el} = 500$ MW (Limited cross-border)\n",
    "- $L_{islands}^{el} = 0$ MW (No direct imports)\n",
    "\n",
    "### Import Pricing:\n",
    "$$C_{r,t}^{import} = P_r^{gas} \\cdot I_{r,t}^{gas} + P_r^{el} \\cdot I_{r,t}^{el}$$\n",
    "\n",
    "Where regional prices (2021 averages):\n",
    "- Gas prices: $P_{northwest}^{gas} = 28$, $P_{northeast}^{gas} = 30$, $P_{center}^{gas} = 32$, $P_{south}^{gas} = 29$, $P_{islands}^{gas} = 35$ EUR/MWh\n",
    "- Electricity prices: $P_{northwest}^{el} = 120$, $P_{northeast}^{el} = 115$, $P_{center}^{el} = 125$, $P_{south}^{el} = 130$, $P_{islands}^{el} = 150$ EUR/MWh\n",
    "\n",
    "## 4. Emission Factors\n",
    "\n",
    "### Import Emissions:\n",
    "$$E_{r,t}^{import} = \\epsilon^{gas} \\cdot I_{r,t}^{gas} + \\epsilon^{el} \\cdot I_{r,t}^{el}$$\n",
    "\n",
    "Where:\n",
    "- $\\epsilon^{gas} = 0.2$ tCO₂/MWh (natural gas emission factor)\n",
    "- $\\epsilon^{el} = 0.35$ tCO₂/MWh (average EU electricity grid emission factor)\n",
    "\n",
    "## 5. Model Integration\n",
    "\n",
    "In the optimization model, these demand profiles become constraints:\n",
    "\n",
    "### Energy Balance Constraint:\n",
    "$$\\sum_{j \\in J_r} P_{j,r,t} + I_{r,t}^{el} + \\sum_{k \\neq r} F_{k,r,t}^{el} = D_{r,t}^{el} + \\sum_{k \\neq r} F_{r,k,t}^{el} \\quad \\forall r,t$$\n",
    "\n",
    "Where:\n",
    "- $P_{j,r,t}$ = Power generation from technology $j$ in region $r$ at time $t$\n",
    "- $F_{r,k,t}^{el}$ = Electricity flow from region $r$ to region $k$ at time $t$\n",
    "- $J_r$ = Set of electricity generation technologies in region $r$\n",
    "\n",
    "### Heat Balance Constraint:\n",
    "$$\\sum_{j \\in H_r} Q_{j,r,t} = D_{r,t}^{heat} \\quad \\forall r,t$$\n",
    "\n",
    "Where:\n",
    "- $Q_{j,r,t}$ = Heat generation from technology $j$ in region $r$ at time $t$\n",
    "- $H_r$ = Set of heat generation technologies in region $r$\n",
    "\n",
    "This mathematical framework ensures that the Italian energy system model captures:\n",
    "1. **Realistic regional variations** in demand patterns\n",
    "2. **Seasonal and daily cycles** consistent with Italian climate and lifestyle\n",
    "3. **Import constraints** reflecting actual cross-border infrastructure\n",
    "4. **Economic and environmental costs** of energy imports"
   ]
  },
  {
   "cell_type": "markdown",
   "id": "c487e9dd",
   "metadata": {},
   "source": [
    "The polices of the ETS1 (POWER SECTOR CARBON PRICING)"
   ]
  },
  {
   "cell_type": "code",
   "execution_count": null,
   "id": "e49ba392",
   "metadata": {},
   "outputs": [
    {
     "name": "stdout",
     "output_type": "stream",
     "text": [
      "Implementing ETS1 carbon pricing for power sector...\n"
     ]
    },
    {
     "name": "stderr",
     "output_type": "stream",
     "text": [
      "--- Reading in data ---\n",
      "Input data folder has been checked successfully - no errors occurred.\n",
      "Reading data from macro_decarbonisation\n",
      "Topology read successfully\n",
      "Model Configuration read successfully\n",
      "Time series read successfully\n",
      "Node Locations read successfully\n",
      "Energy balance options read successfully\n",
      "Deriving performance data for Heat Pump...\n"
     ]
    },
    {
     "name": "stdout",
     "output_type": "stream",
     "text": [
      "Complete:  99.0 %Complete:  100 %\n"
     ]
    },
    {
     "name": "stderr",
     "output_type": "stream",
     "text": [
      "Deriving performance data for Heat Pump...\n"
     ]
    },
    {
     "name": "stdout",
     "output_type": "stream",
     "text": [
      "Complete:  99.0 %Complete:  100 %\n"
     ]
    },
    {
     "name": "stderr",
     "output_type": "stream",
     "text": [
      "Deriving performance data for Heat Pump...\n"
     ]
    },
    {
     "name": "stdout",
     "output_type": "stream",
     "text": [
      "Complete:  99.0 %Complete:  100 %\n"
     ]
    },
    {
     "name": "stderr",
     "output_type": "stream",
     "text": [
      "Deriving performance data for Heat Pump...\n"
     ]
    },
    {
     "name": "stdout",
     "output_type": "stream",
     "text": [
      "Complete:  99.0 %Complete:  100 %\n"
     ]
    },
    {
     "name": "stderr",
     "output_type": "stream",
     "text": [
      "Deriving performance data for Heat Pump...\n"
     ]
    },
    {
     "name": "stdout",
     "output_type": "stream",
     "text": [
      "Complete:  99.0 %Complete:  100 %\n"
     ]
    },
    {
     "name": "stderr",
     "output_type": "stream",
     "text": [
      "Technology data read successfully\n",
      "Network data read successfully\n",
      "Clustered data successfully\n",
      "--- Reading in data complete ---\n",
      "--- Constructing Model ---\n",
      "Constructing Investment Period period1\n",
      "Constructing Investment Period period1 completed\n",
      "\t - Constructing Network electricityOnshore\n",
      "\t\t\tgdp.bigm Transformation...\n",
      "\t\t\tgdp.bigm Transformation completed in 0 s\n",
      "\t\t - Constructing Arc northwest - northeast completed\n",
      "\t\t\tgdp.bigm Transformation...\n",
      "\t\t\tgdp.bigm Transformation completed in 0 s\n",
      "\t\t - Constructing Arc northwest - center completed\n",
      "\t\t\tgdp.bigm Transformation...\n",
      "\t\t\tgdp.bigm Transformation completed in 0 s\n",
      "\t\t - Constructing Arc northwest - south completed\n",
      "\t\t\tgdp.bigm Transformation...\n",
      "\t\t\tgdp.bigm Transformation completed in 0 s\n",
      "\t\t - Constructing Arc northwest - islands completed\n",
      "\t\t\tgdp.bigm Transformation...\n",
      "\t\t\tgdp.bigm Transformation completed in 0 s\n",
      "\t\t - Constructing Arc northeast - northwest completed\n",
      "\t\t\tgdp.bigm Transformation...\n",
      "\t\t\tgdp.bigm Transformation completed in 0 s\n",
      "\t\t - Constructing Arc northeast - center completed\n",
      "\t\t\tgdp.bigm Transformation...\n",
      "\t\t\tgdp.bigm Transformation completed in 0 s\n",
      "\t\t - Constructing Arc northeast - south completed\n",
      "\t\t\tgdp.bigm Transformation...\n",
      "\t\t\tgdp.bigm Transformation completed in 0 s\n",
      "\t\t - Constructing Arc northeast - islands completed\n",
      "\t\t\tgdp.bigm Transformation...\n",
      "\t\t\tgdp.bigm Transformation completed in 0 s\n",
      "\t\t - Constructing Arc center - northwest completed\n",
      "\t\t\tgdp.bigm Transformation...\n",
      "\t\t\tgdp.bigm Transformation completed in 0 s\n",
      "\t\t - Constructing Arc center - northeast completed\n",
      "\t\t\tgdp.bigm Transformation...\n",
      "\t\t\tgdp.bigm Transformation completed in 0 s\n",
      "\t\t - Constructing Arc center - south completed\n",
      "\t\t\tgdp.bigm Transformation...\n",
      "\t\t\tgdp.bigm Transformation completed in 0 s\n",
      "\t\t - Constructing Arc center - islands completed\n",
      "\t\t\tgdp.bigm Transformation...\n",
      "\t\t\tgdp.bigm Transformation completed in 0 s\n",
      "\t\t - Constructing Arc south - northwest completed\n",
      "\t\t\tgdp.bigm Transformation...\n",
      "\t\t\tgdp.bigm Transformation completed in 0 s\n",
      "\t\t - Constructing Arc south - northeast completed\n",
      "\t\t\tgdp.bigm Transformation...\n",
      "\t\t\tgdp.bigm Transformation completed in 0 s\n",
      "\t\t - Constructing Arc south - center completed\n",
      "\t\t\tgdp.bigm Transformation...\n",
      "\t\t\tgdp.bigm Transformation completed in 0 s\n",
      "\t\t - Constructing Arc south - islands completed\n",
      "\t\t\tgdp.bigm Transformation...\n",
      "\t\t\tgdp.bigm Transformation completed in 0 s\n",
      "\t\t - Constructing Arc islands - northwest completed\n",
      "\t\t\tgdp.bigm Transformation...\n",
      "\t\t\tgdp.bigm Transformation completed in 0 s\n",
      "\t\t - Constructing Arc islands - northeast completed\n",
      "\t\t\tgdp.bigm Transformation...\n",
      "\t\t\tgdp.bigm Transformation completed in 0 s\n",
      "\t\t - Constructing Arc islands - center completed\n",
      "\t\t\tgdp.bigm Transformation...\n",
      "\t\t\tgdp.bigm Transformation completed in 0 s\n",
      "\t\t - Constructing Arc islands - south completed\n",
      "\t - Constructing Network electricityOnshore completed\n",
      "\t\t\tgdp.bigm Transformation...\n",
      "\t\t\tgdp.bigm Transformation completed in 12 s\n",
      "\t - Constructing Network electricityOnshore_existing\n",
      "\t\t - Constructing Arc northwest - northeast completed\n",
      "\t\t - Constructing Arc northwest - center completed\n",
      "\t\t - Constructing Arc northeast - northwest completed\n",
      "\t\t - Constructing Arc northeast - center completed\n",
      "\t\t - Constructing Arc center - northwest completed\n",
      "\t\t - Constructing Arc center - northeast completed\n",
      "\t\t - Constructing Arc center - south completed\n",
      "\t\t - Constructing Arc south - center completed\n",
      "\t\t - Constructing Arc south - islands completed\n",
      "\t\t - Constructing Arc islands - south completed\n",
      "\t - Constructing Network electricityOnshore_existing completed\n",
      "\t\t\tgdp.bigm Transformation...\n",
      "\t\t\tgdp.bigm Transformation completed in 7 s\n",
      "\t - Adding Technology HeatPump_AirSourced\n",
      "\t - Adding Technology Storage_Battery\n",
      "\t\t\tgdp.bigm Transformation...\n",
      "\t\t\tgdp.bigm Transformation completed in 1 s\n",
      "\t - Adding Technology Photovoltaic\n",
      "\t - Adding Technology WindTurbine_Onshore_4000\n",
      "\t - Adding Technology Storage_H2\n",
      "\t\t\tgdp.bigm Transformation...\n",
      "\t\t\tgdp.bigm Transformation completed in 1 s\n",
      "\t - Adding Technology Boiler_Small_NG_existing\n",
      "\t - Adding Technology GasTurbine_simple_existing\n",
      "\t - Adding Technology HeatPump_AirSourced\n",
      "\t - Adding Technology Storage_Battery\n",
      "\t\t\tgdp.bigm Transformation...\n",
      "\t\t\tgdp.bigm Transformation completed in 1 s\n",
      "\t - Adding Technology Photovoltaic\n",
      "\t - Adding Technology WindTurbine_Onshore_4000\n",
      "\t - Adding Technology Storage_H2\n",
      "\t\t\tgdp.bigm Transformation...\n",
      "\t\t\tgdp.bigm Transformation completed in 1 s\n",
      "\t - Adding Technology Boiler_Small_NG_existing\n",
      "\t - Adding Technology GasTurbine_simple_existing\n",
      "\t - Adding Technology HeatPump_AirSourced\n",
      "\t - Adding Technology Storage_Battery\n",
      "\t\t\tgdp.bigm Transformation...\n",
      "\t\t\tgdp.bigm Transformation completed in 1 s\n",
      "\t - Adding Technology Photovoltaic\n",
      "\t - Adding Technology WindTurbine_Onshore_4000\n",
      "\t - Adding Technology Storage_H2\n",
      "\t\t\tgdp.bigm Transformation...\n",
      "\t\t\tgdp.bigm Transformation completed in 1 s\n",
      "\t - Adding Technology Boiler_Small_NG_existing\n",
      "\t - Adding Technology GasTurbine_simple_existing\n",
      "\t - Adding Technology HeatPump_AirSourced\n",
      "\t - Adding Technology Storage_Battery\n",
      "\t\t\tgdp.bigm Transformation...\n",
      "\t\t\tgdp.bigm Transformation completed in 1 s\n",
      "\t - Adding Technology Photovoltaic\n",
      "\t - Adding Technology WindTurbine_Onshore_4000\n",
      "\t - Adding Technology WindTurbine_Offshore_9500\n",
      "\t - Adding Technology Storage_H2\n",
      "\t\t\tgdp.bigm Transformation...\n",
      "\t\t\tgdp.bigm Transformation completed in 1 s\n",
      "\t - Adding Technology Boiler_Small_NG_existing\n",
      "\t - Adding Technology GasTurbine_simple_existing\n",
      "\t - Adding Technology HeatPump_AirSourced\n",
      "\t - Adding Technology Storage_Battery\n",
      "\t\t\tgdp.bigm Transformation...\n",
      "\t\t\tgdp.bigm Transformation completed in 1 s\n",
      "\t - Adding Technology Photovoltaic\n",
      "\t - Adding Technology WindTurbine_Onshore_4000\n",
      "\t - Adding Technology WindTurbine_Offshore_9500\n",
      "\t - Adding Technology Storage_H2\n",
      "\t\t\tgdp.bigm Transformation...\n",
      "\t\t\tgdp.bigm Transformation completed in 1 s\n",
      "\t - Adding Technology Boiler_Small_NG_existing\n",
      "\t - Adding Technology GasTurbine_simple_existing\n",
      "Constructing model completed in 336s\n",
      "Constructing balances...\n",
      "Constructing balances completed in 14s\n",
      "Set objective on cost\n",
      "Solving Model...\n"
     ]
    },
    {
     "name": "stdout",
     "output_type": "stream",
     "text": [
      "Set parameter OutputFlag to value 1\n"
     ]
    },
    {
     "name": "stderr",
     "output_type": "stream",
     "text": [
      "Set parameter OutputFlag to value 1\n"
     ]
    },
    {
     "name": "stdout",
     "output_type": "stream",
     "text": [
      "Set parameter LogFile to value \"userData\\20250918003546-1\\solver_log.txt\"\n"
     ]
    },
    {
     "name": "stderr",
     "output_type": "stream",
     "text": [
      "Set parameter LogFile to value \"userData\\20250918003546-1\\solver_log.txt\"\n"
     ]
    },
    {
     "name": "stdout",
     "output_type": "stream",
     "text": [
      "Solver log file: userData\\20250918003546-1\\solver_log.txt\n",
      "Set parameter TimeLimit to value 36000\n"
     ]
    },
    {
     "name": "stderr",
     "output_type": "stream",
     "text": [
      "Set parameter TimeLimit to value 36000\n"
     ]
    },
    {
     "name": "stdout",
     "output_type": "stream",
     "text": [
      "Set parameter MIPGap to value 0.02\n"
     ]
    },
    {
     "name": "stderr",
     "output_type": "stream",
     "text": [
      "Set parameter MIPGap to value 0.02\n"
     ]
    },
    {
     "name": "stdout",
     "output_type": "stream",
     "text": [
      "Set parameter MIPFocus to value 0\n"
     ]
    },
    {
     "name": "stderr",
     "output_type": "stream",
     "text": [
      "Set parameter MIPFocus to value 0\n"
     ]
    },
    {
     "name": "stdout",
     "output_type": "stream",
     "text": [
      "Set parameter Threads to value 0\n"
     ]
    },
    {
     "name": "stderr",
     "output_type": "stream",
     "text": [
      "Set parameter Threads to value 0\n"
     ]
    },
    {
     "name": "stdout",
     "output_type": "stream",
     "text": [
      "Set parameter NodefileStart to value 60\n"
     ]
    },
    {
     "name": "stderr",
     "output_type": "stream",
     "text": [
      "Set parameter NodefileStart to value 60\n"
     ]
    },
    {
     "name": "stdout",
     "output_type": "stream",
     "text": [
      "Set parameter Method to value -1\n"
     ]
    },
    {
     "name": "stderr",
     "output_type": "stream",
     "text": [
      "Set parameter Method to value -1\n"
     ]
    },
    {
     "name": "stdout",
     "output_type": "stream",
     "text": [
      "Set parameter Heuristics to value 0.05\n"
     ]
    },
    {
     "name": "stderr",
     "output_type": "stream",
     "text": [
      "Set parameter Heuristics to value 0.05\n"
     ]
    },
    {
     "name": "stdout",
     "output_type": "stream",
     "text": [
      "Set parameter Presolve to value -1\n"
     ]
    },
    {
     "name": "stderr",
     "output_type": "stream",
     "text": [
      "Set parameter Presolve to value -1\n"
     ]
    },
    {
     "name": "stdout",
     "output_type": "stream",
     "text": [
      "Set parameter BranchDir to value 0\n"
     ]
    },
    {
     "name": "stderr",
     "output_type": "stream",
     "text": [
      "Set parameter BranchDir to value 0\n"
     ]
    },
    {
     "name": "stdout",
     "output_type": "stream",
     "text": [
      "Set parameter LPWarmStart to value 0\n"
     ]
    },
    {
     "name": "stderr",
     "output_type": "stream",
     "text": [
      "Set parameter LPWarmStart to value 0\n"
     ]
    },
    {
     "name": "stdout",
     "output_type": "stream",
     "text": [
      "Set parameter IntFeasTol to value 1e-05\n"
     ]
    },
    {
     "name": "stderr",
     "output_type": "stream",
     "text": [
      "Set parameter IntFeasTol to value 1e-05\n"
     ]
    },
    {
     "name": "stdout",
     "output_type": "stream",
     "text": [
      "Set parameter FeasibilityTol to value 1e-06\n"
     ]
    },
    {
     "name": "stderr",
     "output_type": "stream",
     "text": [
      "Set parameter FeasibilityTol to value 1e-06\n"
     ]
    },
    {
     "name": "stdout",
     "output_type": "stream",
     "text": [
      "Set parameter Cuts to value -1\n"
     ]
    },
    {
     "name": "stderr",
     "output_type": "stream",
     "text": [
      "Set parameter Cuts to value -1\n"
     ]
    },
    {
     "name": "stdout",
     "output_type": "stream",
     "text": [
      "Set parameter NumericFocus to value 0\n"
     ]
    },
    {
     "name": "stderr",
     "output_type": "stream",
     "text": [
      "Set parameter NumericFocus to value 0\n"
     ]
    },
    {
     "name": "stdout",
     "output_type": "stream",
     "text": [
      "Gurobi Optimizer version 12.0.2 build v12.0.2rc0 (win64 - Windows 11.0 (26100.2))\n"
     ]
    },
    {
     "name": "stderr",
     "output_type": "stream",
     "text": [
      "Gurobi Optimizer version 12.0.2 build v12.0.2rc0 (win64 - Windows 11.0 (26100.2))\n"
     ]
    },
    {
     "name": "stdout",
     "output_type": "stream",
     "text": [
      "\n"
     ]
    },
    {
     "name": "stderr",
     "output_type": "stream",
     "text": [
      "\n"
     ]
    },
    {
     "name": "stdout",
     "output_type": "stream",
     "text": [
      "CPU model: 13th Gen Intel(R) Core(TM) i7-1355U, instruction set [SSE2|AVX|AVX2]\n"
     ]
    },
    {
     "name": "stderr",
     "output_type": "stream",
     "text": [
      "CPU model: 13th Gen Intel(R) Core(TM) i7-1355U, instruction set [SSE2|AVX|AVX2]\n"
     ]
    },
    {
     "name": "stdout",
     "output_type": "stream",
     "text": [
      "Thread count: 10 physical cores, 12 logical processors, using up to 12 threads\n"
     ]
    },
    {
     "name": "stderr",
     "output_type": "stream",
     "text": [
      "Thread count: 10 physical cores, 12 logical processors, using up to 12 threads\n"
     ]
    },
    {
     "name": "stdout",
     "output_type": "stream",
     "text": [
      "\n"
     ]
    },
    {
     "name": "stderr",
     "output_type": "stream",
     "text": [
      "\n"
     ]
    },
    {
     "name": "stdout",
     "output_type": "stream",
     "text": [
      "Non-default parameters:\n"
     ]
    },
    {
     "name": "stderr",
     "output_type": "stream",
     "text": [
      "Non-default parameters:\n"
     ]
    },
    {
     "name": "stdout",
     "output_type": "stream",
     "text": [
      "TimeLimit  36000\n"
     ]
    },
    {
     "name": "stderr",
     "output_type": "stream",
     "text": [
      "TimeLimit  36000\n"
     ]
    },
    {
     "name": "stdout",
     "output_type": "stream",
     "text": [
      "MIPGap  0.02\n"
     ]
    },
    {
     "name": "stderr",
     "output_type": "stream",
     "text": [
      "MIPGap  0.02\n"
     ]
    },
    {
     "name": "stdout",
     "output_type": "stream",
     "text": [
      "LPWarmStart  0\n"
     ]
    },
    {
     "name": "stderr",
     "output_type": "stream",
     "text": [
      "LPWarmStart  0\n"
     ]
    },
    {
     "name": "stdout",
     "output_type": "stream",
     "text": [
      "NodefileStart  60\n"
     ]
    },
    {
     "name": "stderr",
     "output_type": "stream",
     "text": [
      "NodefileStart  60\n"
     ]
    },
    {
     "name": "stdout",
     "output_type": "stream",
     "text": [
      "\n"
     ]
    },
    {
     "name": "stderr",
     "output_type": "stream",
     "text": [
      "\n"
     ]
    },
    {
     "name": "stdout",
     "output_type": "stream",
     "text": [
      "Optimize a model with 734326 rows, 571083 columns and 1767783 nonzeros\n"
     ]
    },
    {
     "name": "stderr",
     "output_type": "stream",
     "text": [
      "Optimize a model with 734326 rows, 571083 columns and 1767783 nonzeros\n"
     ]
    },
    {
     "name": "stdout",
     "output_type": "stream",
     "text": [
      "Model fingerprint: 0x9e28d536\n"
     ]
    },
    {
     "name": "stderr",
     "output_type": "stream",
     "text": [
      "Model fingerprint: 0x9e28d536\n"
     ]
    },
    {
     "name": "stdout",
     "output_type": "stream",
     "text": [
      "Variable types: 529996 continuous, 41087 integer (36040 binary)\n"
     ]
    },
    {
     "name": "stderr",
     "output_type": "stream",
     "text": [
      "Variable types: 529996 continuous, 41087 integer (36040 binary)\n"
     ]
    },
    {
     "name": "stdout",
     "output_type": "stream",
     "text": [
      "Coefficient statistics:\n"
     ]
    },
    {
     "name": "stderr",
     "output_type": "stream",
     "text": [
      "Coefficient statistics:\n"
     ]
    },
    {
     "name": "stdout",
     "output_type": "stream",
     "text": [
      "  Matrix range     [1e-06, 4e+08]\n"
     ]
    },
    {
     "name": "stderr",
     "output_type": "stream",
     "text": [
      "  Matrix range     [1e-06, 4e+08]\n"
     ]
    },
    {
     "name": "stdout",
     "output_type": "stream",
     "text": [
      "  Objective range  [1e+00, 1e+00]\n"
     ]
    },
    {
     "name": "stderr",
     "output_type": "stream",
     "text": [
      "  Objective range  [1e+00, 1e+00]\n"
     ]
    },
    {
     "name": "stdout",
     "output_type": "stream",
     "text": [
      "  Bounds range     [1e-03, 2e+12]\n"
     ]
    },
    {
     "name": "stderr",
     "output_type": "stream",
     "text": [
      "  Bounds range     [1e-03, 2e+12]\n"
     ]
    },
    {
     "name": "stdout",
     "output_type": "stream",
     "text": [
      "  RHS range        [1e+00, 4e+08]\n"
     ]
    },
    {
     "name": "stderr",
     "output_type": "stream",
     "text": [
      "  RHS range        [1e+00, 4e+08]\n"
     ]
    },
    {
     "name": "stdout",
     "output_type": "stream",
     "text": [
      "Warning: Model contains large matrix coefficient range\n"
     ]
    },
    {
     "name": "stderr",
     "output_type": "stream",
     "text": [
      "Warning: Model contains large matrix coefficient range\n"
     ]
    },
    {
     "name": "stdout",
     "output_type": "stream",
     "text": [
      "Warning: Model contains large bounds\n"
     ]
    },
    {
     "name": "stderr",
     "output_type": "stream",
     "text": [
      "Warning: Model contains large bounds\n"
     ]
    },
    {
     "name": "stdout",
     "output_type": "stream",
     "text": [
      "         Consider reformulating model or setting NumericFocus parameter\n"
     ]
    },
    {
     "name": "stderr",
     "output_type": "stream",
     "text": [
      "         Consider reformulating model or setting NumericFocus parameter\n"
     ]
    },
    {
     "name": "stdout",
     "output_type": "stream",
     "text": [
      "         to avoid numerical issues.\n"
     ]
    },
    {
     "name": "stderr",
     "output_type": "stream",
     "text": [
      "         to avoid numerical issues.\n"
     ]
    },
    {
     "name": "stdout",
     "output_type": "stream",
     "text": [
      "Presolve removed 528861 rows and 452887 columns\n"
     ]
    },
    {
     "name": "stderr",
     "output_type": "stream",
     "text": [
      "Presolve removed 528861 rows and 452887 columns\n"
     ]
    },
    {
     "name": "stdout",
     "output_type": "stream",
     "text": [
      "Presolve time: 4.12s\n"
     ]
    },
    {
     "name": "stderr",
     "output_type": "stream",
     "text": [
      "Presolve time: 4.12s\n"
     ]
    },
    {
     "name": "stdout",
     "output_type": "stream",
     "text": [
      "Presolved: 205465 rows, 118196 columns, 634829 nonzeros\n"
     ]
    },
    {
     "name": "stderr",
     "output_type": "stream",
     "text": [
      "Presolved: 205465 rows, 118196 columns, 634829 nonzeros\n"
     ]
    },
    {
     "name": "stdout",
     "output_type": "stream",
     "text": [
      "Variable types: 99638 continuous, 18558 integer (14410 binary)\n"
     ]
    },
    {
     "name": "stderr",
     "output_type": "stream",
     "text": [
      "Variable types: 99638 continuous, 18558 integer (14410 binary)\n"
     ]
    },
    {
     "name": "stdout",
     "output_type": "stream",
     "text": [
      "\n"
     ]
    },
    {
     "name": "stderr",
     "output_type": "stream",
     "text": [
      "\n"
     ]
    },
    {
     "name": "stdout",
     "output_type": "stream",
     "text": [
      "Deterministic concurrent LP optimizer: primal simplex, dual simplex, and barrier\n"
     ]
    },
    {
     "name": "stderr",
     "output_type": "stream",
     "text": [
      "Deterministic concurrent LP optimizer: primal simplex, dual simplex, and barrier\n"
     ]
    },
    {
     "name": "stdout",
     "output_type": "stream",
     "text": [
      "Showing barrier log only...\n"
     ]
    },
    {
     "name": "stderr",
     "output_type": "stream",
     "text": [
      "Showing barrier log only...\n"
     ]
    },
    {
     "name": "stdout",
     "output_type": "stream",
     "text": [
      "\n"
     ]
    },
    {
     "name": "stderr",
     "output_type": "stream",
     "text": [
      "\n"
     ]
    },
    {
     "name": "stdout",
     "output_type": "stream",
     "text": [
      "Root barrier log...\n"
     ]
    },
    {
     "name": "stderr",
     "output_type": "stream",
     "text": [
      "Root barrier log...\n"
     ]
    },
    {
     "name": "stdout",
     "output_type": "stream",
     "text": [
      "\n"
     ]
    },
    {
     "name": "stderr",
     "output_type": "stream",
     "text": [
      "\n"
     ]
    },
    {
     "name": "stdout",
     "output_type": "stream",
     "text": [
      "Ordering time: 0.68s\n"
     ]
    },
    {
     "name": "stderr",
     "output_type": "stream",
     "text": [
      "Ordering time: 0.68s\n"
     ]
    },
    {
     "name": "stdout",
     "output_type": "stream",
     "text": [
      "\n"
     ]
    },
    {
     "name": "stderr",
     "output_type": "stream",
     "text": [
      "\n"
     ]
    },
    {
     "name": "stdout",
     "output_type": "stream",
     "text": [
      "Barrier statistics:\n"
     ]
    },
    {
     "name": "stderr",
     "output_type": "stream",
     "text": [
      "Barrier statistics:\n"
     ]
    },
    {
     "name": "stdout",
     "output_type": "stream",
     "text": [
      " Dense cols : 37\n"
     ]
    },
    {
     "name": "stderr",
     "output_type": "stream",
     "text": [
      " Dense cols : 37\n"
     ]
    },
    {
     "name": "stdout",
     "output_type": "stream",
     "text": [
      " AA' NZ     : 1.439e+06\n"
     ]
    },
    {
     "name": "stderr",
     "output_type": "stream",
     "text": [
      " AA' NZ     : 1.439e+06\n"
     ]
    },
    {
     "name": "stdout",
     "output_type": "stream",
     "text": [
      " Factor NZ  : 6.112e+06 (roughly 170 MB of memory)\n"
     ]
    },
    {
     "name": "stderr",
     "output_type": "stream",
     "text": [
      " Factor NZ  : 6.112e+06 (roughly 170 MB of memory)\n"
     ]
    },
    {
     "name": "stdout",
     "output_type": "stream",
     "text": [
      " Factor Ops : 6.863e+08 (less than 1 second per iteration)\n"
     ]
    },
    {
     "name": "stderr",
     "output_type": "stream",
     "text": [
      " Factor Ops : 6.863e+08 (less than 1 second per iteration)\n"
     ]
    },
    {
     "name": "stdout",
     "output_type": "stream",
     "text": [
      " Threads    : 7\n"
     ]
    },
    {
     "name": "stderr",
     "output_type": "stream",
     "text": [
      " Threads    : 7\n"
     ]
    },
    {
     "name": "stdout",
     "output_type": "stream",
     "text": [
      "\n"
     ]
    },
    {
     "name": "stderr",
     "output_type": "stream",
     "text": [
      "\n"
     ]
    },
    {
     "name": "stdout",
     "output_type": "stream",
     "text": [
      "                  Objective                Residual\n"
     ]
    },
    {
     "name": "stderr",
     "output_type": "stream",
     "text": [
      "                  Objective                Residual\n"
     ]
    },
    {
     "name": "stdout",
     "output_type": "stream",
     "text": [
      "Iter       Primal          Dual         Primal    Dual     Compl     Time\n"
     ]
    },
    {
     "name": "stderr",
     "output_type": "stream",
     "text": [
      "Iter       Primal          Dual         Primal    Dual     Compl     Time\n"
     ]
    },
    {
     "name": "stdout",
     "output_type": "stream",
     "text": [
      "   0   1.48697841e+14 -2.14016204e+17  2.70e+06 6.01e+03  2.53e+12     9s\n"
     ]
    },
    {
     "name": "stderr",
     "output_type": "stream",
     "text": [
      "   0   1.48697841e+14 -2.14016204e+17  2.70e+06 6.01e+03  2.53e+12     9s\n"
     ]
    },
    {
     "name": "stdout",
     "output_type": "stream",
     "text": [
      "   1   1.18362078e+14 -7.79328694e+16  1.76e+06 6.40e+05  9.25e+11     9s\n"
     ]
    },
    {
     "name": "stderr",
     "output_type": "stream",
     "text": [
      "   1   1.18362078e+14 -7.79328694e+16  1.76e+06 6.40e+05  9.25e+11     9s\n"
     ]
    },
    {
     "name": "stdout",
     "output_type": "stream",
     "text": [
      "   2   9.58831770e+13 -2.17597006e+16  1.31e+06 2.26e+04  4.28e+11    10s\n"
     ]
    },
    {
     "name": "stderr",
     "output_type": "stream",
     "text": [
      "   2   9.58831770e+13 -2.17597006e+16  1.31e+06 2.26e+04  4.28e+11    10s\n"
     ]
    },
    {
     "name": "stdout",
     "output_type": "stream",
     "text": [
      "   3   1.40921054e+13 -5.07686524e+15  9.90e+04 3.33e+02  4.08e+10    10s\n"
     ]
    },
    {
     "name": "stderr",
     "output_type": "stream",
     "text": [
      "   3   1.40921054e+13 -5.07686524e+15  9.90e+04 3.33e+02  4.08e+10    10s\n"
     ]
    },
    {
     "name": "stdout",
     "output_type": "stream",
     "text": [
      "   4   7.56739136e+12 -5.48648611e+14  6.88e+03 3.41e-03  3.30e+09    10s\n"
     ]
    },
    {
     "name": "stderr",
     "output_type": "stream",
     "text": [
      "   4   7.56739136e+12 -5.48648611e+14  6.88e+03 3.41e-03  3.30e+09    10s\n"
     ]
    },
    {
     "name": "stdout",
     "output_type": "stream",
     "text": [
      "   5   7.12308518e+12 -1.84081939e+14  1.30e+03 1.07e-03  8.48e+08    10s\n"
     ]
    },
    {
     "name": "stderr",
     "output_type": "stream",
     "text": [
      "   5   7.12308518e+12 -1.84081939e+14  1.30e+03 1.07e-03  8.48e+08    10s\n"
     ]
    },
    {
     "name": "stdout",
     "output_type": "stream",
     "text": [
      "   6   5.68939451e+12 -6.13311156e+13  1.24e+02 4.36e-04  2.17e+08    10s\n"
     ]
    },
    {
     "name": "stderr",
     "output_type": "stream",
     "text": [
      "   6   5.68939451e+12 -6.13311156e+13  1.24e+02 4.36e-04  2.17e+08    10s\n"
     ]
    },
    {
     "name": "stdout",
     "output_type": "stream",
     "text": [
      "   7   4.67598604e+12 -1.52573796e+13  1.05e+01 1.31e-03  6.00e+07    11s\n"
     ]
    },
    {
     "name": "stderr",
     "output_type": "stream",
     "text": [
      "   7   4.67598604e+12 -1.52573796e+13  1.05e+01 1.31e-03  6.00e+07    11s\n"
     ]
    },
    {
     "name": "stdout",
     "output_type": "stream",
     "text": [
      "   8   2.36936963e+12 -1.46855150e+12  1.79e+00 2.15e-04  1.15e+07    11s\n"
     ]
    },
    {
     "name": "stderr",
     "output_type": "stream",
     "text": [
      "   8   2.36936963e+12 -1.46855150e+12  1.79e+00 2.15e-04  1.15e+07    11s\n"
     ]
    },
    {
     "name": "stdout",
     "output_type": "stream",
     "text": [
      "   9   5.74890624e+11 -4.09487585e+11  4.03e-01 6.34e-05  2.94e+06    11s\n"
     ]
    },
    {
     "name": "stderr",
     "output_type": "stream",
     "text": [
      "   9   5.74890624e+11 -4.09487585e+11  4.03e-01 6.34e-05  2.94e+06    11s\n"
     ]
    },
    {
     "name": "stdout",
     "output_type": "stream",
     "text": [
      "  10   3.68450360e+11 -2.29817577e+11  2.49e-01 3.59e-05  1.78e+06    11s\n"
     ]
    },
    {
     "name": "stderr",
     "output_type": "stream",
     "text": [
      "  10   3.68450360e+11 -2.29817577e+11  2.49e-01 3.59e-05  1.78e+06    11s\n"
     ]
    },
    {
     "name": "stdout",
     "output_type": "stream",
     "text": [
      "  11   3.03422562e+11 -1.44219840e+11  2.02e-01 2.29e-05  1.34e+06    12s\n"
     ]
    },
    {
     "name": "stderr",
     "output_type": "stream",
     "text": [
      "  11   3.03422562e+11 -1.44219840e+11  2.02e-01 2.29e-05  1.34e+06    12s\n"
     ]
    },
    {
     "name": "stdout",
     "output_type": "stream",
     "text": [
      "  12   2.28556044e+11 -9.85773706e+10  1.49e-01 1.51e-05  9.76e+05    12s\n"
     ]
    },
    {
     "name": "stderr",
     "output_type": "stream",
     "text": [
      "  12   2.28556044e+11 -9.85773706e+10  1.49e-01 1.51e-05  9.76e+05    12s\n"
     ]
    },
    {
     "name": "stdout",
     "output_type": "stream",
     "text": [
      "  13   1.23232018e+11 -6.19346019e+10  7.54e-02 9.50e-06  5.52e+05    12s\n"
     ]
    },
    {
     "name": "stderr",
     "output_type": "stream",
     "text": [
      "  13   1.23232018e+11 -6.19346019e+10  7.54e-02 9.50e-06  5.52e+05    12s\n"
     ]
    },
    {
     "name": "stdout",
     "output_type": "stream",
     "text": [
      "  14   5.83150225e+10 -2.93191956e+10  3.12e-02 4.92e-06  2.61e+05    12s\n"
     ]
    },
    {
     "name": "stderr",
     "output_type": "stream",
     "text": [
      "  14   5.83150225e+10 -2.93191956e+10  3.12e-02 4.92e-06  2.61e+05    12s\n"
     ]
    },
    {
     "name": "stdout",
     "output_type": "stream",
     "text": [
      "  15   2.89404287e+10 -1.53983116e+10  1.22e-02 2.79e-06  1.32e+05    12s\n"
     ]
    },
    {
     "name": "stderr",
     "output_type": "stream",
     "text": [
      "  15   2.89404287e+10 -1.53983116e+10  1.22e-02 2.79e-06  1.32e+05    12s\n"
     ]
    },
    {
     "name": "stdout",
     "output_type": "stream",
     "text": [
      "  16   2.17105347e+10 -6.62791064e+09  7.97e-03 1.62e-06  8.44e+04    13s\n"
     ]
    },
    {
     "name": "stderr",
     "output_type": "stream",
     "text": [
      "  16   2.17105347e+10 -6.62791064e+09  7.97e-03 1.62e-06  8.44e+04    13s\n"
     ]
    },
    {
     "name": "stdout",
     "output_type": "stream",
     "text": [
      "  17   1.51287386e+10 -2.57366547e+09  4.10e-03 1.15e-06  5.27e+04    13s\n"
     ]
    },
    {
     "name": "stderr",
     "output_type": "stream",
     "text": [
      "  17   1.51287386e+10 -2.57366547e+09  4.10e-03 1.15e-06  5.27e+04    13s\n"
     ]
    },
    {
     "name": "stdout",
     "output_type": "stream",
     "text": [
      "  18   1.29945224e+10 -6.90984368e+08  2.77e-03 9.48e-07  4.07e+04    13s\n"
     ]
    },
    {
     "name": "stderr",
     "output_type": "stream",
     "text": [
      "  18   1.29945224e+10 -6.90984368e+08  2.77e-03 9.48e-07  4.07e+04    13s\n"
     ]
    },
    {
     "name": "stdout",
     "output_type": "stream",
     "text": [
      "  19   1.17292163e+10  6.94401741e+08  1.97e-03 8.01e-07  3.28e+04    13s\n"
     ]
    },
    {
     "name": "stderr",
     "output_type": "stream",
     "text": [
      "  19   1.17292163e+10  6.94401741e+08  1.97e-03 8.01e-07  3.28e+04    13s\n"
     ]
    },
    {
     "name": "stdout",
     "output_type": "stream",
     "text": [
      "  20   1.03785963e+10  2.39676938e+09  1.20e-03 6.08e-07  2.38e+04    13s\n"
     ]
    },
    {
     "name": "stderr",
     "output_type": "stream",
     "text": [
      "  20   1.03785963e+10  2.39676938e+09  1.20e-03 6.08e-07  2.38e+04    13s\n"
     ]
    },
    {
     "name": "stdout",
     "output_type": "stream",
     "text": [
      "  21   9.63666965e+09  4.67244270e+09  8.50e-04 3.42e-07  1.48e+04    14s\n"
     ]
    },
    {
     "name": "stderr",
     "output_type": "stream",
     "text": [
      "  21   9.63666965e+09  4.67244270e+09  8.50e-04 3.42e-07  1.48e+04    14s\n"
     ]
    },
    {
     "name": "stdout",
     "output_type": "stream",
     "text": [
      "  22   8.79394635e+09  5.87688086e+09  4.74e-04 2.01e-07  8.68e+03    14s\n"
     ]
    },
    {
     "name": "stderr",
     "output_type": "stream",
     "text": [
      "  22   8.79394635e+09  5.87688086e+09  4.74e-04 2.01e-07  8.68e+03    14s\n"
     ]
    },
    {
     "name": "stdout",
     "output_type": "stream",
     "text": [
      "  23   8.28077479e+09  6.38425903e+09  2.67e-04 1.41e-07  5.64e+03    14s\n"
     ]
    },
    {
     "name": "stderr",
     "output_type": "stream",
     "text": [
      "  23   8.28077479e+09  6.38425903e+09  2.67e-04 1.41e-07  5.64e+03    14s\n"
     ]
    },
    {
     "name": "stdout",
     "output_type": "stream",
     "text": [
      "  24   8.09218301e+09  6.50497964e+09  1.98e-04 1.27e-07  4.72e+03    14s\n"
     ]
    },
    {
     "name": "stderr",
     "output_type": "stream",
     "text": [
      "  24   8.09218301e+09  6.50497964e+09  1.98e-04 1.27e-07  4.72e+03    14s\n"
     ]
    },
    {
     "name": "stdout",
     "output_type": "stream",
     "text": [
      "  25   7.98242512e+09  6.76674113e+09  1.58e-04 9.38e-08  3.62e+03    14s\n"
     ]
    },
    {
     "name": "stderr",
     "output_type": "stream",
     "text": [
      "  25   7.98242512e+09  6.76674113e+09  1.58e-04 9.38e-08  3.62e+03    14s\n"
     ]
    },
    {
     "name": "stdout",
     "output_type": "stream",
     "text": [
      "  26   7.85384645e+09  6.85968591e+09  1.11e-04 8.23e-08  2.96e+03    15s\n"
     ]
    },
    {
     "name": "stderr",
     "output_type": "stream",
     "text": [
      "  26   7.85384645e+09  6.85968591e+09  1.11e-04 8.23e-08  2.96e+03    15s\n"
     ]
    },
    {
     "name": "stdout",
     "output_type": "stream",
     "text": [
      "  27   7.80659417e+09  7.08516311e+09  9.49e-05 5.46e-08  2.15e+03    15s\n"
     ]
    },
    {
     "name": "stderr",
     "output_type": "stream",
     "text": [
      "  27   7.80659417e+09  7.08516311e+09  9.49e-05 5.46e-08  2.15e+03    15s\n"
     ]
    },
    {
     "name": "stdout",
     "output_type": "stream",
     "text": [
      "  28   7.76600362e+09  7.18867261e+09  8.11e-05 4.13e-08  1.72e+03    15s\n"
     ]
    },
    {
     "name": "stderr",
     "output_type": "stream",
     "text": [
      "  28   7.76600362e+09  7.18867261e+09  8.11e-05 4.13e-08  1.72e+03    15s\n"
     ]
    },
    {
     "name": "stdout",
     "output_type": "stream",
     "text": [
      "  29   7.69742702e+09  7.25644169e+09  5.84e-05 3.28e-08  1.31e+03    15s\n"
     ]
    },
    {
     "name": "stderr",
     "output_type": "stream",
     "text": [
      "  29   7.69742702e+09  7.25644169e+09  5.84e-05 3.28e-08  1.31e+03    15s\n"
     ]
    },
    {
     "name": "stdout",
     "output_type": "stream",
     "text": [
      "  30   7.60903398e+09  7.39935669e+09  2.90e-05 7.38e-08  6.24e+02    15s\n"
     ]
    },
    {
     "name": "stderr",
     "output_type": "stream",
     "text": [
      "  30   7.60903398e+09  7.39935669e+09  2.90e-05 7.38e-08  6.24e+02    15s\n"
     ]
    },
    {
     "name": "stdout",
     "output_type": "stream",
     "text": [
      "  31   7.57275481e+09  7.44479922e+09  1.76e-05 7.15e-08  3.81e+02    16s\n"
     ]
    },
    {
     "name": "stderr",
     "output_type": "stream",
     "text": [
      "  31   7.57275481e+09  7.44479922e+09  1.76e-05 7.15e-08  3.81e+02    16s\n"
     ]
    },
    {
     "name": "stdout",
     "output_type": "stream",
     "text": [
      "  32   7.54210039e+09  7.46900392e+09  7.55e-06 7.87e-08  2.17e+02    16s\n"
     ]
    },
    {
     "name": "stderr",
     "output_type": "stream",
     "text": [
      "  32   7.54210039e+09  7.46900392e+09  7.55e-06 7.87e-08  2.17e+02    16s\n"
     ]
    },
    {
     "name": "stdout",
     "output_type": "stream",
     "text": [
      "  33   7.53230273e+09  7.48007630e+09  4.67e-06 5.66e-08  1.55e+02    16s\n"
     ]
    },
    {
     "name": "stderr",
     "output_type": "stream",
     "text": [
      "  33   7.53230273e+09  7.48007630e+09  4.67e-06 5.66e-08  1.55e+02    16s\n"
     ]
    },
    {
     "name": "stdout",
     "output_type": "stream",
     "text": [
      "  34   7.52839320e+09  7.48609964e+09  3.54e-06 3.63e-08  1.26e+02    16s\n"
     ]
    },
    {
     "name": "stderr",
     "output_type": "stream",
     "text": [
      "  34   7.52839320e+09  7.48609964e+09  3.54e-06 3.63e-08  1.26e+02    16s\n"
     ]
    },
    {
     "name": "stdout",
     "output_type": "stream",
     "text": [
      "  35   7.52283974e+09  7.49681960e+09  1.98e-06 4.74e-08  7.74e+01    16s\n"
     ]
    },
    {
     "name": "stderr",
     "output_type": "stream",
     "text": [
      "  35   7.52283974e+09  7.49681960e+09  1.98e-06 4.74e-08  7.74e+01    16s\n"
     ]
    },
    {
     "name": "stdout",
     "output_type": "stream",
     "text": [
      "  36   7.51825849e+09  7.50958111e+09  2.06e-06 2.95e-08  2.58e+01    17s\n"
     ]
    },
    {
     "name": "stderr",
     "output_type": "stream",
     "text": [
      "  36   7.51825849e+09  7.50958111e+09  2.06e-06 2.95e-08  2.58e+01    17s\n"
     ]
    },
    {
     "name": "stdout",
     "output_type": "stream",
     "text": [
      "  37   7.51790399e+09  7.51021949e+09  2.24e-06 3.03e-08  2.29e+01    17s\n"
     ]
    },
    {
     "name": "stderr",
     "output_type": "stream",
     "text": [
      "  37   7.51790399e+09  7.51021949e+09  2.24e-06 3.03e-08  2.29e+01    17s\n"
     ]
    },
    {
     "name": "stdout",
     "output_type": "stream",
     "text": [
      "  38   7.51719514e+09  7.51119381e+09  3.95e-05 4.14e-08  1.79e+01    17s\n"
     ]
    },
    {
     "name": "stderr",
     "output_type": "stream",
     "text": [
      "  38   7.51719514e+09  7.51119381e+09  3.95e-05 4.14e-08  1.79e+01    17s\n"
     ]
    },
    {
     "name": "stdout",
     "output_type": "stream",
     "text": [
      "  39   7.51688035e+09  7.51376547e+09  3.55e-05 6.72e-08  9.29e+00    17s\n"
     ]
    },
    {
     "name": "stderr",
     "output_type": "stream",
     "text": [
      "  39   7.51688035e+09  7.51376547e+09  3.55e-05 6.72e-08  9.29e+00    17s\n"
     ]
    },
    {
     "name": "stdout",
     "output_type": "stream",
     "text": [
      "  40   7.51615571e+09  7.51444905e+09  7.75e-05 4.15e-08  5.09e+00    18s\n"
     ]
    },
    {
     "name": "stderr",
     "output_type": "stream",
     "text": [
      "  40   7.51615571e+09  7.51444905e+09  7.75e-05 4.15e-08  5.09e+00    18s\n"
     ]
    },
    {
     "name": "stdout",
     "output_type": "stream",
     "text": [
      "  41   7.51511874e+09  7.51478806e+09  4.88e-05 6.05e-08  9.87e-01    18s\n"
     ]
    },
    {
     "name": "stderr",
     "output_type": "stream",
     "text": [
      "  41   7.51511874e+09  7.51478806e+09  4.88e-05 6.05e-08  9.87e-01    18s\n"
     ]
    },
    {
     "name": "stdout",
     "output_type": "stream",
     "text": [
      "  42   7.51495075e+09  7.51487413e+09  1.40e-05 3.91e-08  2.29e-01    18s\n"
     ]
    },
    {
     "name": "stderr",
     "output_type": "stream",
     "text": [
      "  42   7.51495075e+09  7.51487413e+09  1.40e-05 3.91e-08  2.29e-01    18s\n"
     ]
    },
    {
     "name": "stdout",
     "output_type": "stream",
     "text": [
      "  43   7.51490917e+09  7.51489167e+09  3.27e-06 4.25e-08  5.22e-02    18s\n"
     ]
    },
    {
     "name": "stderr",
     "output_type": "stream",
     "text": [
      "  43   7.51490917e+09  7.51489167e+09  3.27e-06 4.25e-08  5.22e-02    18s\n"
     ]
    },
    {
     "name": "stdout",
     "output_type": "stream",
     "text": [
      "  44   7.51490393e+09  7.51489805e+09  1.48e-06 5.20e-08  1.76e-02    19s\n"
     ]
    },
    {
     "name": "stderr",
     "output_type": "stream",
     "text": [
      "  44   7.51490393e+09  7.51489805e+09  1.48e-06 5.20e-08  1.76e-02    19s\n"
     ]
    },
    {
     "name": "stdout",
     "output_type": "stream",
     "text": [
      "  45   7.51490135e+09  7.51489987e+09  4.71e-07 4.14e-08  4.42e-03    19s\n"
     ]
    },
    {
     "name": "stderr",
     "output_type": "stream",
     "text": [
      "  45   7.51490135e+09  7.51489987e+09  4.71e-07 4.14e-08  4.42e-03    19s\n"
     ]
    },
    {
     "name": "stdout",
     "output_type": "stream",
     "text": [
      "  46   7.51490047e+09  7.51490033e+09  6.47e-08 4.98e-08  4.35e-04    19s\n"
     ]
    },
    {
     "name": "stderr",
     "output_type": "stream",
     "text": [
      "  46   7.51490047e+09  7.51490033e+09  6.47e-08 4.98e-08  4.35e-04    19s\n"
     ]
    },
    {
     "name": "stdout",
     "output_type": "stream",
     "text": [
      "  47   7.51490037e+09  7.51490036e+09  1.72e-08 5.87e-08  7.80e-06    19s\n"
     ]
    },
    {
     "name": "stderr",
     "output_type": "stream",
     "text": [
      "  47   7.51490037e+09  7.51490036e+09  1.72e-08 5.87e-08  7.80e-06    19s\n"
     ]
    },
    {
     "name": "stdout",
     "output_type": "stream",
     "text": [
      "  48   7.51490036e+09  7.51490036e+09  1.27e-10 4.61e-08  7.07e-08    20s\n"
     ]
    },
    {
     "name": "stderr",
     "output_type": "stream",
     "text": [
      "  48   7.51490036e+09  7.51490036e+09  1.27e-10 4.61e-08  7.07e-08    20s\n"
     ]
    },
    {
     "name": "stdout",
     "output_type": "stream",
     "text": [
      "  49   7.51490036e+09  7.51490036e+09  5.83e-13 4.59e-08  8.72e-08    20s\n"
     ]
    },
    {
     "name": "stderr",
     "output_type": "stream",
     "text": [
      "  49   7.51490036e+09  7.51490036e+09  5.83e-13 4.59e-08  8.72e-08    20s\n"
     ]
    },
    {
     "name": "stdout",
     "output_type": "stream",
     "text": [
      "\n"
     ]
    },
    {
     "name": "stderr",
     "output_type": "stream",
     "text": [
      "\n"
     ]
    },
    {
     "name": "stdout",
     "output_type": "stream",
     "text": [
      "Barrier solved model in 49 iterations and 19.98 seconds (11.35 work units)\n"
     ]
    },
    {
     "name": "stderr",
     "output_type": "stream",
     "text": [
      "Barrier solved model in 49 iterations and 19.98 seconds (11.35 work units)\n"
     ]
    },
    {
     "name": "stdout",
     "output_type": "stream",
     "text": [
      "Optimal objective 7.51490036e+09\n"
     ]
    },
    {
     "name": "stderr",
     "output_type": "stream",
     "text": [
      "Optimal objective 7.51490036e+09\n"
     ]
    },
    {
     "name": "stdout",
     "output_type": "stream",
     "text": [
      "\n"
     ]
    },
    {
     "name": "stderr",
     "output_type": "stream",
     "text": [
      "\n"
     ]
    },
    {
     "name": "stdout",
     "output_type": "stream",
     "text": [
      "\n"
     ]
    },
    {
     "name": "stderr",
     "output_type": "stream",
     "text": [
      "\n"
     ]
    },
    {
     "name": "stdout",
     "output_type": "stream",
     "text": [
      "Root crossover log...\n"
     ]
    },
    {
     "name": "stderr",
     "output_type": "stream",
     "text": [
      "Root crossover log...\n"
     ]
    },
    {
     "name": "stdout",
     "output_type": "stream",
     "text": [
      "\n"
     ]
    },
    {
     "name": "stderr",
     "output_type": "stream",
     "text": [
      "\n"
     ]
    },
    {
     "name": "stdout",
     "output_type": "stream",
     "text": [
      "  131476 DPushes remaining with DInf 4.5893968e-05                20s\n"
     ]
    },
    {
     "name": "stderr",
     "output_type": "stream",
     "text": [
      "  131476 DPushes remaining with DInf 4.5893968e-05                20s\n"
     ]
    },
    {
     "name": "stdout",
     "output_type": "stream",
     "text": [
      "       0 DPushes remaining with DInf 4.4067229e-05                21s\n"
     ]
    },
    {
     "name": "stderr",
     "output_type": "stream",
     "text": [
      "       0 DPushes remaining with DInf 4.4067229e-05                21s\n"
     ]
    },
    {
     "name": "stdout",
     "output_type": "stream",
     "text": [
      "\n"
     ]
    },
    {
     "name": "stderr",
     "output_type": "stream",
     "text": [
      "\n"
     ]
    },
    {
     "name": "stdout",
     "output_type": "stream",
     "text": [
      "       5 PPushes remaining with PInf 0.0000000e+00                21s\n"
     ]
    },
    {
     "name": "stderr",
     "output_type": "stream",
     "text": [
      "       5 PPushes remaining with PInf 0.0000000e+00                21s\n"
     ]
    },
    {
     "name": "stdout",
     "output_type": "stream",
     "text": [
      "       0 PPushes remaining with PInf 0.0000000e+00                21s\n"
     ]
    },
    {
     "name": "stderr",
     "output_type": "stream",
     "text": [
      "       0 PPushes remaining with PInf 0.0000000e+00                21s\n"
     ]
    },
    {
     "name": "stdout",
     "output_type": "stream",
     "text": [
      "\n"
     ]
    },
    {
     "name": "stderr",
     "output_type": "stream",
     "text": [
      "\n"
     ]
    },
    {
     "name": "stdout",
     "output_type": "stream",
     "text": [
      "  Push phase complete: Pinf 0.0000000e+00, Dinf 4.4073685e-05     21s\n"
     ]
    },
    {
     "name": "stderr",
     "output_type": "stream",
     "text": [
      "  Push phase complete: Pinf 0.0000000e+00, Dinf 4.4073685e-05     21s\n"
     ]
    },
    {
     "name": "stdout",
     "output_type": "stream",
     "text": [
      "\n"
     ]
    },
    {
     "name": "stderr",
     "output_type": "stream",
     "text": [
      "\n"
     ]
    },
    {
     "name": "stdout",
     "output_type": "stream",
     "text": [
      "\n"
     ]
    },
    {
     "name": "stderr",
     "output_type": "stream",
     "text": [
      "\n"
     ]
    },
    {
     "name": "stdout",
     "output_type": "stream",
     "text": [
      "Root simplex log...\n"
     ]
    },
    {
     "name": "stderr",
     "output_type": "stream",
     "text": [
      "Root simplex log...\n"
     ]
    },
    {
     "name": "stdout",
     "output_type": "stream",
     "text": [
      "\n"
     ]
    },
    {
     "name": "stderr",
     "output_type": "stream",
     "text": [
      "\n"
     ]
    },
    {
     "name": "stdout",
     "output_type": "stream",
     "text": [
      "Iteration    Objective       Primal Inf.    Dual Inf.      Time\n"
     ]
    },
    {
     "name": "stderr",
     "output_type": "stream",
     "text": [
      "Iteration    Objective       Primal Inf.    Dual Inf.      Time\n"
     ]
    },
    {
     "name": "stdout",
     "output_type": "stream",
     "text": [
      "   67946    7.5149004e+09   0.000000e+00   4.406723e-05     22s\n"
     ]
    },
    {
     "name": "stderr",
     "output_type": "stream",
     "text": [
      "   67946    7.5149004e+09   0.000000e+00   4.406723e-05     22s\n"
     ]
    },
    {
     "name": "stdout",
     "output_type": "stream",
     "text": [
      "   67956    7.5149004e+09   0.000000e+00   0.000000e+00     22s\n"
     ]
    },
    {
     "name": "stderr",
     "output_type": "stream",
     "text": [
      "   67956    7.5149004e+09   0.000000e+00   0.000000e+00     22s\n"
     ]
    },
    {
     "name": "stdout",
     "output_type": "stream",
     "text": [
      "   67956    7.5149004e+09   0.000000e+00   0.000000e+00     22s\n"
     ]
    },
    {
     "name": "stderr",
     "output_type": "stream",
     "text": [
      "   67956    7.5149004e+09   0.000000e+00   0.000000e+00     22s\n"
     ]
    },
    {
     "name": "stdout",
     "output_type": "stream",
     "text": [
      "Concurrent spin time: 1.52s\n"
     ]
    },
    {
     "name": "stderr",
     "output_type": "stream",
     "text": [
      "Concurrent spin time: 1.52s\n"
     ]
    },
    {
     "name": "stdout",
     "output_type": "stream",
     "text": [
      "\n"
     ]
    },
    {
     "name": "stderr",
     "output_type": "stream",
     "text": [
      "\n"
     ]
    },
    {
     "name": "stdout",
     "output_type": "stream",
     "text": [
      "Solved with barrier\n"
     ]
    },
    {
     "name": "stderr",
     "output_type": "stream",
     "text": [
      "Solved with barrier\n"
     ]
    },
    {
     "name": "stdout",
     "output_type": "stream",
     "text": [
      "\n"
     ]
    },
    {
     "name": "stderr",
     "output_type": "stream",
     "text": [
      "\n"
     ]
    },
    {
     "name": "stdout",
     "output_type": "stream",
     "text": [
      "Root relaxation: objective 7.514900e+09, 67956 iterations, 17.38 seconds (6.58 work units)\n"
     ]
    },
    {
     "name": "stderr",
     "output_type": "stream",
     "text": [
      "Root relaxation: objective 7.514900e+09, 67956 iterations, 17.38 seconds (6.58 work units)\n"
     ]
    },
    {
     "name": "stdout",
     "output_type": "stream",
     "text": [
      "\n"
     ]
    },
    {
     "name": "stderr",
     "output_type": "stream",
     "text": [
      "\n"
     ]
    },
    {
     "name": "stdout",
     "output_type": "stream",
     "text": [
      "    Nodes    |    Current Node    |     Objective Bounds      |     Work\n"
     ]
    },
    {
     "name": "stderr",
     "output_type": "stream",
     "text": [
      "    Nodes    |    Current Node    |     Objective Bounds      |     Work\n"
     ]
    },
    {
     "name": "stdout",
     "output_type": "stream",
     "text": [
      " Expl Unexpl |  Obj  Depth IntInf | Incumbent    BestBd   Gap | It/Node Time\n"
     ]
    },
    {
     "name": "stderr",
     "output_type": "stream",
     "text": [
      " Expl Unexpl |  Obj  Depth IntInf | Incumbent    BestBd   Gap | It/Node Time\n"
     ]
    },
    {
     "name": "stdout",
     "output_type": "stream",
     "text": [
      "\n"
     ]
    },
    {
     "name": "stderr",
     "output_type": "stream",
     "text": [
      "\n"
     ]
    },
    {
     "name": "stdout",
     "output_type": "stream",
     "text": [
      "*    0     0               0    7.514900e+09 7.5149e+09  0.00%     -   24s\n"
     ]
    },
    {
     "name": "stderr",
     "output_type": "stream",
     "text": [
      "*    0     0               0    7.514900e+09 7.5149e+09  0.00%     -   24s\n"
     ]
    },
    {
     "name": "stdout",
     "output_type": "stream",
     "text": [
      "\n"
     ]
    },
    {
     "name": "stderr",
     "output_type": "stream",
     "text": [
      "\n"
     ]
    },
    {
     "name": "stdout",
     "output_type": "stream",
     "text": [
      "Explored 1 nodes (67956 simplex iterations) in 26.36 seconds (13.04 work units)\n"
     ]
    },
    {
     "name": "stderr",
     "output_type": "stream",
     "text": [
      "Explored 1 nodes (67956 simplex iterations) in 26.36 seconds (13.04 work units)\n"
     ]
    },
    {
     "name": "stdout",
     "output_type": "stream",
     "text": [
      "Thread count was 12 (of 12 available processors)\n"
     ]
    },
    {
     "name": "stderr",
     "output_type": "stream",
     "text": [
      "Thread count was 12 (of 12 available processors)\n"
     ]
    },
    {
     "name": "stdout",
     "output_type": "stream",
     "text": [
      "\n"
     ]
    },
    {
     "name": "stderr",
     "output_type": "stream",
     "text": [
      "\n"
     ]
    },
    {
     "name": "stdout",
     "output_type": "stream",
     "text": [
      "Solution count 1: 7.5149e+09 \n"
     ]
    },
    {
     "name": "stderr",
     "output_type": "stream",
     "text": [
      "Solution count 1: 7.5149e+09 \n"
     ]
    },
    {
     "name": "stdout",
     "output_type": "stream",
     "text": [
      "\n"
     ]
    },
    {
     "name": "stderr",
     "output_type": "stream",
     "text": [
      "\n"
     ]
    },
    {
     "name": "stdout",
     "output_type": "stream",
     "text": [
      "Optimal solution found (tolerance 2.00e-02)\n"
     ]
    },
    {
     "name": "stderr",
     "output_type": "stream",
     "text": [
      "Optimal solution found (tolerance 2.00e-02)\n"
     ]
    },
    {
     "name": "stdout",
     "output_type": "stream",
     "text": [
      "Warning: max constraint violation (6.1941e-06) exceeds tolerance\n"
     ]
    },
    {
     "name": "stderr",
     "output_type": "stream",
     "text": [
      "Warning: max constraint violation (6.1941e-06) exceeds tolerance\n"
     ]
    },
    {
     "name": "stdout",
     "output_type": "stream",
     "text": [
      "Best objective 7.514900364396e+09, best bound 7.514900364396e+09, gap 0.0000%\n"
     ]
    },
    {
     "name": "stderr",
     "output_type": "stream",
     "text": [
      "Best objective 7.514900364396e+09, best bound 7.514900364396e+09, gap 0.0000%\n"
     ]
    },
    {
     "name": "stdout",
     "output_type": "stream",
     "text": [
      "Set parameter LogFile to value \"\"\n"
     ]
    },
    {
     "name": "stderr",
     "output_type": "stream",
     "text": [
      "Set parameter LogFile to value \"\"\n",
      "Writing results to userData\\20250918003546-1\n"
     ]
    },
    {
     "name": "stdout",
     "output_type": "stream",
     "text": [
      "# ==========================================================\n",
      "# = Solver Results                                         =\n",
      "# ==========================================================\n",
      "# ----------------------------------------------------------\n",
      "#   Problem Information\n",
      "# ----------------------------------------------------------\n",
      "Problem: \n",
      "- Name: unknown\n",
      "  Lower bound: 7514900364.396171\n",
      "  Upper bound: 7514900364.396171\n",
      "  Number of objectives: 1\n",
      "  Number of constraints: 734326\n",
      "  Number of variables: 571083\n",
      "  Number of binary variables: 36040\n",
      "  Number of integer variables: 41087\n",
      "  Number of continuous variables: 493956\n",
      "  Number of nonzeros: 1767783\n",
      "  Sense: minimize\n",
      "  Number of solutions: 1\n",
      "# ----------------------------------------------------------\n",
      "#   Solver Information\n",
      "# ----------------------------------------------------------\n",
      "Solver: \n",
      "- Name: Gurobi 12.02\n",
      "  Status: ok\n",
      "  Wallclock time: 26.463000059127808\n",
      "  Termination condition: optimal\n",
      "  Termination message: Model was solved to optimality (subject to tolerances), and an optimal solution is available.\n",
      "# ----------------------------------------------------------\n",
      "#   Solution Information\n",
      "# ----------------------------------------------------------\n",
      "Solution: \n",
      "- number of solutions: 0\n",
      "  number of solutions displayed: 0\n"
     ]
    },
    {
     "name": "stderr",
     "output_type": "stream",
     "text": [
      "Solving model completed in 82 s\n"
     ]
    }
   ],
   "source": [
    "print(\"Implementing ETS1 carbon pricing for power sector...\")\n",
    "\n",
    "# ETS1 carbon price: ~85 EUR/tCO2 (2021 levels)\n",
    "carbon_price = np.ones(8760) * 85\n",
    "\n",
    "# Apply ETS1 to power sector (affects electricity generation and imports)\n",
    "for node in ['northwest', 'northeast', 'center', 'south', 'islands']:\n",
    "    carbon_cost_path = \"./macro_decarbonisation/period1/node_data/\" + node + \"/CarbonCost.csv\"\n",
    "    carbon_cost_template = pd.read_csv(carbon_cost_path, sep=';', index_col=0, header=0)\n",
    "    carbon_cost_template['price'] = carbon_price\n",
    "    carbon_cost_template = carbon_cost_template.reset_index()\n",
    "    carbon_cost_template.to_csv(carbon_cost_path, sep=';', index=False)\n",
    "\n",
    "# Run the optimization model with ETS1 scenario\n",
    "m = adopt.ModelHub()\n",
    "m.read_data(input_data_path)\n",
    "m.quick_solve()"
   ]
  },
  {
   "cell_type": "markdown",
   "id": "c57cda30",
   "metadata": {},
   "source": [
    "RUN OPTIMIZATION WITH ETS1 + ETS2 (COMPREHENSIVE CARBON PRICING)\n",
    "print(\"Implementing ETS1 + ETS2 carbon pricing\")\n"
   ]
  },
  {
   "cell_type": "code",
   "execution_count": null,
   "id": "a1659788",
   "metadata": {},
   "outputs": [
    {
     "name": "stderr",
     "output_type": "stream",
     "text": [
      "--- Reading in data ---\n",
      "Input data folder has been checked successfully - no errors occurred.\n",
      "Reading data from macro_decarbonisation\n",
      "Topology read successfully\n",
      "Model Configuration read successfully\n",
      "Time series read successfully\n",
      "Node Locations read successfully\n",
      "Energy balance options read successfully\n",
      "Deriving performance data for Heat Pump...\n"
     ]
    },
    {
     "name": "stdout",
     "output_type": "stream",
     "text": [
      "Complete:  99.0 %Complete:  100 %\n"
     ]
    },
    {
     "name": "stderr",
     "output_type": "stream",
     "text": [
      "Deriving performance data for Heat Pump...\n"
     ]
    },
    {
     "name": "stdout",
     "output_type": "stream",
     "text": [
      "Complete:  99.0 %Complete:  100 %\n"
     ]
    },
    {
     "name": "stderr",
     "output_type": "stream",
     "text": [
      "Deriving performance data for Heat Pump...\n"
     ]
    },
    {
     "name": "stdout",
     "output_type": "stream",
     "text": [
      "Complete:  99.0 %Complete:  100 %\n"
     ]
    },
    {
     "name": "stderr",
     "output_type": "stream",
     "text": [
      "Deriving performance data for Heat Pump...\n"
     ]
    },
    {
     "name": "stdout",
     "output_type": "stream",
     "text": [
      "Complete:  99.0 %Complete:  100 %\n"
     ]
    },
    {
     "name": "stderr",
     "output_type": "stream",
     "text": [
      "Deriving performance data for Heat Pump...\n"
     ]
    },
    {
     "name": "stdout",
     "output_type": "stream",
     "text": [
      "Complete:  99.0 %Complete:  100 %\n"
     ]
    },
    {
     "name": "stderr",
     "output_type": "stream",
     "text": [
      "Technology data read successfully\n",
      "Network data read successfully\n",
      "Clustered data successfully\n",
      "--- Reading in data complete ---\n",
      "--- Constructing Model ---\n",
      "Constructing Investment Period period1\n",
      "Constructing Investment Period period1 completed\n",
      "\t - Constructing Network electricityOnshore\n",
      "\t\t\tgdp.bigm Transformation...\n",
      "\t\t\tgdp.bigm Transformation completed in 0 s\n",
      "\t\t - Constructing Arc northwest - northeast completed\n",
      "\t\t\tgdp.bigm Transformation...\n",
      "\t\t\tgdp.bigm Transformation completed in 0 s\n",
      "\t\t - Constructing Arc northwest - center completed\n",
      "\t\t\tgdp.bigm Transformation...\n",
      "\t\t\tgdp.bigm Transformation completed in 0 s\n",
      "\t\t - Constructing Arc northwest - south completed\n",
      "\t\t\tgdp.bigm Transformation...\n",
      "\t\t\tgdp.bigm Transformation completed in 0 s\n",
      "\t\t - Constructing Arc northwest - islands completed\n",
      "\t\t\tgdp.bigm Transformation...\n",
      "\t\t\tgdp.bigm Transformation completed in 0 s\n",
      "\t\t - Constructing Arc northeast - northwest completed\n",
      "\t\t\tgdp.bigm Transformation...\n",
      "\t\t\tgdp.bigm Transformation completed in 0 s\n",
      "\t\t - Constructing Arc northeast - center completed\n",
      "\t\t\tgdp.bigm Transformation...\n",
      "\t\t\tgdp.bigm Transformation completed in 0 s\n",
      "\t\t - Constructing Arc northeast - south completed\n",
      "\t\t\tgdp.bigm Transformation...\n",
      "\t\t\tgdp.bigm Transformation completed in 0 s\n",
      "\t\t - Constructing Arc northeast - islands completed\n",
      "\t\t\tgdp.bigm Transformation...\n",
      "\t\t\tgdp.bigm Transformation completed in 0 s\n",
      "\t\t - Constructing Arc center - northwest completed\n",
      "\t\t\tgdp.bigm Transformation...\n",
      "\t\t\tgdp.bigm Transformation completed in 0 s\n",
      "\t\t - Constructing Arc center - northeast completed\n",
      "\t\t\tgdp.bigm Transformation...\n",
      "\t\t\tgdp.bigm Transformation completed in 0 s\n",
      "\t\t - Constructing Arc center - south completed\n",
      "\t\t\tgdp.bigm Transformation...\n",
      "\t\t\tgdp.bigm Transformation completed in 0 s\n",
      "\t\t - Constructing Arc center - islands completed\n",
      "\t\t\tgdp.bigm Transformation...\n",
      "\t\t\tgdp.bigm Transformation completed in 0 s\n",
      "\t\t - Constructing Arc south - northwest completed\n",
      "\t\t\tgdp.bigm Transformation...\n",
      "\t\t\tgdp.bigm Transformation completed in 0 s\n",
      "\t\t - Constructing Arc south - northeast completed\n",
      "\t\t\tgdp.bigm Transformation...\n",
      "\t\t\tgdp.bigm Transformation completed in 0 s\n",
      "\t\t - Constructing Arc south - center completed\n",
      "\t\t\tgdp.bigm Transformation...\n",
      "\t\t\tgdp.bigm Transformation completed in 0 s\n",
      "\t\t - Constructing Arc south - islands completed\n",
      "\t\t\tgdp.bigm Transformation...\n",
      "\t\t\tgdp.bigm Transformation completed in 0 s\n",
      "\t\t - Constructing Arc islands - northwest completed\n",
      "\t\t\tgdp.bigm Transformation...\n",
      "\t\t\tgdp.bigm Transformation completed in 0 s\n",
      "\t\t - Constructing Arc islands - northeast completed\n",
      "\t\t\tgdp.bigm Transformation...\n",
      "\t\t\tgdp.bigm Transformation completed in 0 s\n",
      "\t\t - Constructing Arc islands - center completed\n",
      "\t\t\tgdp.bigm Transformation...\n",
      "\t\t\tgdp.bigm Transformation completed in 0 s\n",
      "\t\t - Constructing Arc islands - south completed\n",
      "\t - Constructing Network electricityOnshore completed\n",
      "\t\t\tgdp.bigm Transformation...\n",
      "\t\t\tgdp.bigm Transformation completed in 13 s\n",
      "\t - Constructing Network electricityOnshore_existing\n",
      "\t\t - Constructing Arc northwest - northeast completed\n",
      "\t\t - Constructing Arc northwest - center completed\n",
      "\t\t - Constructing Arc northeast - northwest completed\n",
      "\t\t - Constructing Arc northeast - center completed\n",
      "\t\t - Constructing Arc center - northwest completed\n",
      "\t\t - Constructing Arc center - northeast completed\n",
      "\t\t - Constructing Arc center - south completed\n",
      "\t\t - Constructing Arc south - center completed\n",
      "\t\t - Constructing Arc south - islands completed\n",
      "\t\t - Constructing Arc islands - south completed\n",
      "\t - Constructing Network electricityOnshore_existing completed\n",
      "\t\t\tgdp.bigm Transformation...\n",
      "\t\t\tgdp.bigm Transformation completed in 10 s\n",
      "\t - Adding Technology HeatPump_AirSourced\n",
      "\t - Adding Technology Storage_Battery\n",
      "\t\t\tgdp.bigm Transformation...\n",
      "\t\t\tgdp.bigm Transformation completed in 1 s\n",
      "\t - Adding Technology Photovoltaic\n",
      "\t - Adding Technology WindTurbine_Onshore_4000\n",
      "\t - Adding Technology Storage_H2\n",
      "\t\t\tgdp.bigm Transformation...\n",
      "\t\t\tgdp.bigm Transformation completed in 1 s\n",
      "\t - Adding Technology Boiler_Small_NG_existing\n",
      "\t - Adding Technology GasTurbine_simple_existing\n",
      "\t - Adding Technology HeatPump_AirSourced\n",
      "\t - Adding Technology Storage_Battery\n",
      "\t\t\tgdp.bigm Transformation...\n",
      "\t\t\tgdp.bigm Transformation completed in 1 s\n",
      "\t - Adding Technology Photovoltaic\n",
      "\t - Adding Technology WindTurbine_Onshore_4000\n",
      "\t - Adding Technology Storage_H2\n",
      "\t\t\tgdp.bigm Transformation...\n",
      "\t\t\tgdp.bigm Transformation completed in 1 s\n",
      "\t - Adding Technology Boiler_Small_NG_existing\n",
      "\t - Adding Technology GasTurbine_simple_existing\n",
      "\t - Adding Technology HeatPump_AirSourced\n",
      "\t - Adding Technology Storage_Battery\n",
      "\t\t\tgdp.bigm Transformation...\n",
      "\t\t\tgdp.bigm Transformation completed in 1 s\n",
      "\t - Adding Technology Photovoltaic\n",
      "\t - Adding Technology WindTurbine_Onshore_4000\n",
      "\t - Adding Technology Storage_H2\n",
      "\t\t\tgdp.bigm Transformation...\n",
      "\t\t\tgdp.bigm Transformation completed in 1 s\n",
      "\t - Adding Technology Boiler_Small_NG_existing\n",
      "\t - Adding Technology GasTurbine_simple_existing\n",
      "\t - Adding Technology HeatPump_AirSourced\n",
      "\t - Adding Technology Storage_Battery\n",
      "\t\t\tgdp.bigm Transformation...\n",
      "\t\t\tgdp.bigm Transformation completed in 1 s\n",
      "\t - Adding Technology Photovoltaic\n",
      "\t - Adding Technology WindTurbine_Onshore_4000\n",
      "\t - Adding Technology WindTurbine_Offshore_9500\n",
      "\t - Adding Technology Storage_H2\n",
      "\t\t\tgdp.bigm Transformation...\n",
      "\t\t\tgdp.bigm Transformation completed in 1 s\n",
      "\t - Adding Technology Boiler_Small_NG_existing\n",
      "\t - Adding Technology GasTurbine_simple_existing\n",
      "\t - Adding Technology HeatPump_AirSourced\n",
      "\t - Adding Technology Storage_Battery\n",
      "\t\t\tgdp.bigm Transformation...\n",
      "\t\t\tgdp.bigm Transformation completed in 1 s\n",
      "\t - Adding Technology Photovoltaic\n",
      "\t - Adding Technology WindTurbine_Onshore_4000\n",
      "\t - Adding Technology WindTurbine_Offshore_9500\n",
      "\t - Adding Technology Storage_H2\n",
      "\t\t\tgdp.bigm Transformation...\n",
      "\t\t\tgdp.bigm Transformation completed in 1 s\n",
      "\t - Adding Technology Boiler_Small_NG_existing\n",
      "\t - Adding Technology GasTurbine_simple_existing\n",
      "Constructing model completed in 324s\n",
      "Constructing balances...\n",
      "Constructing balances completed in 13s\n",
      "Set objective on cost\n",
      "Solving Model...\n"
     ]
    },
    {
     "name": "stdout",
     "output_type": "stream",
     "text": [
      "Set parameter OutputFlag to value 1\n"
     ]
    },
    {
     "name": "stderr",
     "output_type": "stream",
     "text": [
      "Set parameter OutputFlag to value 1\n"
     ]
    },
    {
     "name": "stdout",
     "output_type": "stream",
     "text": [
      "Set parameter LogFile to value \"userData\\20250918004319-1\\solver_log.txt\"\n"
     ]
    },
    {
     "name": "stderr",
     "output_type": "stream",
     "text": [
      "Set parameter LogFile to value \"userData\\20250918004319-1\\solver_log.txt\"\n"
     ]
    },
    {
     "name": "stdout",
     "output_type": "stream",
     "text": [
      "Solver log file: userData\\20250918004319-1\\solver_log.txt\n",
      "Set parameter TimeLimit to value 36000\n"
     ]
    },
    {
     "name": "stderr",
     "output_type": "stream",
     "text": [
      "Set parameter TimeLimit to value 36000\n"
     ]
    },
    {
     "name": "stdout",
     "output_type": "stream",
     "text": [
      "Set parameter MIPGap to value 0.02\n"
     ]
    },
    {
     "name": "stderr",
     "output_type": "stream",
     "text": [
      "Set parameter MIPGap to value 0.02\n"
     ]
    },
    {
     "name": "stdout",
     "output_type": "stream",
     "text": [
      "Set parameter MIPFocus to value 0\n"
     ]
    },
    {
     "name": "stderr",
     "output_type": "stream",
     "text": [
      "Set parameter MIPFocus to value 0\n"
     ]
    },
    {
     "name": "stdout",
     "output_type": "stream",
     "text": [
      "Set parameter Threads to value 0\n"
     ]
    },
    {
     "name": "stderr",
     "output_type": "stream",
     "text": [
      "Set parameter Threads to value 0\n"
     ]
    },
    {
     "name": "stdout",
     "output_type": "stream",
     "text": [
      "Set parameter NodefileStart to value 60\n"
     ]
    },
    {
     "name": "stderr",
     "output_type": "stream",
     "text": [
      "Set parameter NodefileStart to value 60\n"
     ]
    },
    {
     "name": "stdout",
     "output_type": "stream",
     "text": [
      "Set parameter Method to value -1\n"
     ]
    },
    {
     "name": "stderr",
     "output_type": "stream",
     "text": [
      "Set parameter Method to value -1\n"
     ]
    },
    {
     "name": "stdout",
     "output_type": "stream",
     "text": [
      "Set parameter Heuristics to value 0.05\n"
     ]
    },
    {
     "name": "stderr",
     "output_type": "stream",
     "text": [
      "Set parameter Heuristics to value 0.05\n"
     ]
    },
    {
     "name": "stdout",
     "output_type": "stream",
     "text": [
      "Set parameter Presolve to value -1\n"
     ]
    },
    {
     "name": "stderr",
     "output_type": "stream",
     "text": [
      "Set parameter Presolve to value -1\n"
     ]
    },
    {
     "name": "stdout",
     "output_type": "stream",
     "text": [
      "Set parameter BranchDir to value 0\n"
     ]
    },
    {
     "name": "stderr",
     "output_type": "stream",
     "text": [
      "Set parameter BranchDir to value 0\n"
     ]
    },
    {
     "name": "stdout",
     "output_type": "stream",
     "text": [
      "Set parameter LPWarmStart to value 0\n"
     ]
    },
    {
     "name": "stderr",
     "output_type": "stream",
     "text": [
      "Set parameter LPWarmStart to value 0\n"
     ]
    },
    {
     "name": "stdout",
     "output_type": "stream",
     "text": [
      "Set parameter IntFeasTol to value 1e-05\n"
     ]
    },
    {
     "name": "stderr",
     "output_type": "stream",
     "text": [
      "Set parameter IntFeasTol to value 1e-05\n"
     ]
    },
    {
     "name": "stdout",
     "output_type": "stream",
     "text": [
      "Set parameter FeasibilityTol to value 1e-06\n"
     ]
    },
    {
     "name": "stderr",
     "output_type": "stream",
     "text": [
      "Set parameter FeasibilityTol to value 1e-06\n"
     ]
    },
    {
     "name": "stdout",
     "output_type": "stream",
     "text": [
      "Set parameter Cuts to value -1\n"
     ]
    },
    {
     "name": "stderr",
     "output_type": "stream",
     "text": [
      "Set parameter Cuts to value -1\n"
     ]
    },
    {
     "name": "stdout",
     "output_type": "stream",
     "text": [
      "Set parameter NumericFocus to value 0\n"
     ]
    },
    {
     "name": "stderr",
     "output_type": "stream",
     "text": [
      "Set parameter NumericFocus to value 0\n"
     ]
    },
    {
     "name": "stdout",
     "output_type": "stream",
     "text": [
      "Gurobi Optimizer version 12.0.2 build v12.0.2rc0 (win64 - Windows 11.0 (26100.2))\n"
     ]
    },
    {
     "name": "stderr",
     "output_type": "stream",
     "text": [
      "Gurobi Optimizer version 12.0.2 build v12.0.2rc0 (win64 - Windows 11.0 (26100.2))\n"
     ]
    },
    {
     "name": "stdout",
     "output_type": "stream",
     "text": [
      "\n"
     ]
    },
    {
     "name": "stderr",
     "output_type": "stream",
     "text": [
      "\n"
     ]
    },
    {
     "name": "stdout",
     "output_type": "stream",
     "text": [
      "CPU model: 13th Gen Intel(R) Core(TM) i7-1355U, instruction set [SSE2|AVX|AVX2]\n"
     ]
    },
    {
     "name": "stderr",
     "output_type": "stream",
     "text": [
      "CPU model: 13th Gen Intel(R) Core(TM) i7-1355U, instruction set [SSE2|AVX|AVX2]\n"
     ]
    },
    {
     "name": "stdout",
     "output_type": "stream",
     "text": [
      "Thread count: 10 physical cores, 12 logical processors, using up to 12 threads\n"
     ]
    },
    {
     "name": "stderr",
     "output_type": "stream",
     "text": [
      "Thread count: 10 physical cores, 12 logical processors, using up to 12 threads\n"
     ]
    },
    {
     "name": "stdout",
     "output_type": "stream",
     "text": [
      "\n"
     ]
    },
    {
     "name": "stderr",
     "output_type": "stream",
     "text": [
      "\n"
     ]
    },
    {
     "name": "stdout",
     "output_type": "stream",
     "text": [
      "Non-default parameters:\n"
     ]
    },
    {
     "name": "stderr",
     "output_type": "stream",
     "text": [
      "Non-default parameters:\n"
     ]
    },
    {
     "name": "stdout",
     "output_type": "stream",
     "text": [
      "TimeLimit  36000\n"
     ]
    },
    {
     "name": "stderr",
     "output_type": "stream",
     "text": [
      "TimeLimit  36000\n"
     ]
    },
    {
     "name": "stdout",
     "output_type": "stream",
     "text": [
      "MIPGap  0.02\n"
     ]
    },
    {
     "name": "stderr",
     "output_type": "stream",
     "text": [
      "MIPGap  0.02\n"
     ]
    },
    {
     "name": "stdout",
     "output_type": "stream",
     "text": [
      "LPWarmStart  0\n"
     ]
    },
    {
     "name": "stderr",
     "output_type": "stream",
     "text": [
      "LPWarmStart  0\n"
     ]
    },
    {
     "name": "stdout",
     "output_type": "stream",
     "text": [
      "NodefileStart  60\n"
     ]
    },
    {
     "name": "stderr",
     "output_type": "stream",
     "text": [
      "NodefileStart  60\n"
     ]
    },
    {
     "name": "stdout",
     "output_type": "stream",
     "text": [
      "\n"
     ]
    },
    {
     "name": "stderr",
     "output_type": "stream",
     "text": [
      "\n"
     ]
    },
    {
     "name": "stdout",
     "output_type": "stream",
     "text": [
      "Optimize a model with 734326 rows, 571083 columns and 1767890 nonzeros\n"
     ]
    },
    {
     "name": "stderr",
     "output_type": "stream",
     "text": [
      "Optimize a model with 734326 rows, 571083 columns and 1767890 nonzeros\n"
     ]
    },
    {
     "name": "stdout",
     "output_type": "stream",
     "text": [
      "Model fingerprint: 0xff8eb95c\n"
     ]
    },
    {
     "name": "stderr",
     "output_type": "stream",
     "text": [
      "Model fingerprint: 0xff8eb95c\n"
     ]
    },
    {
     "name": "stdout",
     "output_type": "stream",
     "text": [
      "Variable types: 529996 continuous, 41087 integer (36040 binary)\n"
     ]
    },
    {
     "name": "stderr",
     "output_type": "stream",
     "text": [
      "Variable types: 529996 continuous, 41087 integer (36040 binary)\n"
     ]
    },
    {
     "name": "stdout",
     "output_type": "stream",
     "text": [
      "Coefficient statistics:\n"
     ]
    },
    {
     "name": "stderr",
     "output_type": "stream",
     "text": [
      "Coefficient statistics:\n"
     ]
    },
    {
     "name": "stdout",
     "output_type": "stream",
     "text": [
      "  Matrix range     [1e-06, 4e+08]\n"
     ]
    },
    {
     "name": "stderr",
     "output_type": "stream",
     "text": [
      "  Matrix range     [1e-06, 4e+08]\n"
     ]
    },
    {
     "name": "stdout",
     "output_type": "stream",
     "text": [
      "  Objective range  [1e+00, 1e+00]\n"
     ]
    },
    {
     "name": "stderr",
     "output_type": "stream",
     "text": [
      "  Objective range  [1e+00, 1e+00]\n"
     ]
    },
    {
     "name": "stdout",
     "output_type": "stream",
     "text": [
      "  Bounds range     [1e-03, 2e+12]\n"
     ]
    },
    {
     "name": "stderr",
     "output_type": "stream",
     "text": [
      "  Bounds range     [1e-03, 2e+12]\n"
     ]
    },
    {
     "name": "stdout",
     "output_type": "stream",
     "text": [
      "  RHS range        [1e+00, 4e+08]\n"
     ]
    },
    {
     "name": "stderr",
     "output_type": "stream",
     "text": [
      "  RHS range        [1e+00, 4e+08]\n"
     ]
    },
    {
     "name": "stdout",
     "output_type": "stream",
     "text": [
      "Warning: Model contains large matrix coefficient range\n"
     ]
    },
    {
     "name": "stderr",
     "output_type": "stream",
     "text": [
      "Warning: Model contains large matrix coefficient range\n"
     ]
    },
    {
     "name": "stdout",
     "output_type": "stream",
     "text": [
      "Warning: Model contains large bounds\n"
     ]
    },
    {
     "name": "stderr",
     "output_type": "stream",
     "text": [
      "Warning: Model contains large bounds\n"
     ]
    },
    {
     "name": "stdout",
     "output_type": "stream",
     "text": [
      "         Consider reformulating model or setting NumericFocus parameter\n"
     ]
    },
    {
     "name": "stderr",
     "output_type": "stream",
     "text": [
      "         Consider reformulating model or setting NumericFocus parameter\n"
     ]
    },
    {
     "name": "stdout",
     "output_type": "stream",
     "text": [
      "         to avoid numerical issues.\n"
     ]
    },
    {
     "name": "stderr",
     "output_type": "stream",
     "text": [
      "         to avoid numerical issues.\n"
     ]
    },
    {
     "name": "stdout",
     "output_type": "stream",
     "text": [
      "Presolve removed 528754 rows and 452780 columns\n"
     ]
    },
    {
     "name": "stderr",
     "output_type": "stream",
     "text": [
      "Presolve removed 528754 rows and 452780 columns\n"
     ]
    },
    {
     "name": "stdout",
     "output_type": "stream",
     "text": [
      "Presolve time: 3.23s\n"
     ]
    },
    {
     "name": "stderr",
     "output_type": "stream",
     "text": [
      "Presolve time: 3.23s\n"
     ]
    },
    {
     "name": "stdout",
     "output_type": "stream",
     "text": [
      "Presolved: 205572 rows, 118303 columns, 635150 nonzeros\n"
     ]
    },
    {
     "name": "stderr",
     "output_type": "stream",
     "text": [
      "Presolved: 205572 rows, 118303 columns, 635150 nonzeros\n"
     ]
    },
    {
     "name": "stdout",
     "output_type": "stream",
     "text": [
      "Variable types: 99612 continuous, 18691 integer (14410 binary)\n"
     ]
    },
    {
     "name": "stderr",
     "output_type": "stream",
     "text": [
      "Variable types: 99612 continuous, 18691 integer (14410 binary)\n"
     ]
    },
    {
     "name": "stdout",
     "output_type": "stream",
     "text": [
      "\n"
     ]
    },
    {
     "name": "stderr",
     "output_type": "stream",
     "text": [
      "\n"
     ]
    },
    {
     "name": "stdout",
     "output_type": "stream",
     "text": [
      "Deterministic concurrent LP optimizer: primal simplex, dual simplex, and barrier\n"
     ]
    },
    {
     "name": "stderr",
     "output_type": "stream",
     "text": [
      "Deterministic concurrent LP optimizer: primal simplex, dual simplex, and barrier\n"
     ]
    },
    {
     "name": "stdout",
     "output_type": "stream",
     "text": [
      "Showing barrier log only...\n"
     ]
    },
    {
     "name": "stderr",
     "output_type": "stream",
     "text": [
      "Showing barrier log only...\n"
     ]
    },
    {
     "name": "stdout",
     "output_type": "stream",
     "text": [
      "\n"
     ]
    },
    {
     "name": "stderr",
     "output_type": "stream",
     "text": [
      "\n"
     ]
    },
    {
     "name": "stdout",
     "output_type": "stream",
     "text": [
      "Root barrier log...\n"
     ]
    },
    {
     "name": "stderr",
     "output_type": "stream",
     "text": [
      "Root barrier log...\n"
     ]
    },
    {
     "name": "stdout",
     "output_type": "stream",
     "text": [
      "\n"
     ]
    },
    {
     "name": "stderr",
     "output_type": "stream",
     "text": [
      "\n"
     ]
    },
    {
     "name": "stdout",
     "output_type": "stream",
     "text": [
      "Ordering time: 0.33s\n"
     ]
    },
    {
     "name": "stderr",
     "output_type": "stream",
     "text": [
      "Ordering time: 0.33s\n"
     ]
    },
    {
     "name": "stdout",
     "output_type": "stream",
     "text": [
      "\n"
     ]
    },
    {
     "name": "stderr",
     "output_type": "stream",
     "text": [
      "\n"
     ]
    },
    {
     "name": "stdout",
     "output_type": "stream",
     "text": [
      "Barrier statistics:\n"
     ]
    },
    {
     "name": "stderr",
     "output_type": "stream",
     "text": [
      "Barrier statistics:\n"
     ]
    },
    {
     "name": "stdout",
     "output_type": "stream",
     "text": [
      " Dense cols : 37\n"
     ]
    },
    {
     "name": "stderr",
     "output_type": "stream",
     "text": [
      " Dense cols : 37\n"
     ]
    },
    {
     "name": "stdout",
     "output_type": "stream",
     "text": [
      " AA' NZ     : 1.400e+06\n"
     ]
    },
    {
     "name": "stderr",
     "output_type": "stream",
     "text": [
      " AA' NZ     : 1.400e+06\n"
     ]
    },
    {
     "name": "stdout",
     "output_type": "stream",
     "text": [
      " Factor NZ  : 6.262e+06 (roughly 170 MB of memory)\n"
     ]
    },
    {
     "name": "stderr",
     "output_type": "stream",
     "text": [
      " Factor NZ  : 6.262e+06 (roughly 170 MB of memory)\n"
     ]
    },
    {
     "name": "stdout",
     "output_type": "stream",
     "text": [
      " Factor Ops : 8.267e+08 (less than 1 second per iteration)\n"
     ]
    },
    {
     "name": "stderr",
     "output_type": "stream",
     "text": [
      " Factor Ops : 8.267e+08 (less than 1 second per iteration)\n"
     ]
    },
    {
     "name": "stdout",
     "output_type": "stream",
     "text": [
      " Threads    : 7\n"
     ]
    },
    {
     "name": "stderr",
     "output_type": "stream",
     "text": [
      " Threads    : 7\n"
     ]
    },
    {
     "name": "stdout",
     "output_type": "stream",
     "text": [
      "\n"
     ]
    },
    {
     "name": "stderr",
     "output_type": "stream",
     "text": [
      "\n"
     ]
    },
    {
     "name": "stdout",
     "output_type": "stream",
     "text": [
      "                  Objective                Residual\n"
     ]
    },
    {
     "name": "stderr",
     "output_type": "stream",
     "text": [
      "                  Objective                Residual\n"
     ]
    },
    {
     "name": "stdout",
     "output_type": "stream",
     "text": [
      "Iter       Primal          Dual         Primal    Dual     Compl     Time\n"
     ]
    },
    {
     "name": "stderr",
     "output_type": "stream",
     "text": [
      "Iter       Primal          Dual         Primal    Dual     Compl     Time\n"
     ]
    },
    {
     "name": "stdout",
     "output_type": "stream",
     "text": [
      "   0   1.58880741e+14 -2.02706729e+17  2.67e+06 5.67e+03  2.38e+12     6s\n"
     ]
    },
    {
     "name": "stderr",
     "output_type": "stream",
     "text": [
      "   0   1.58880741e+14 -2.02706729e+17  2.67e+06 5.67e+03  2.38e+12     6s\n"
     ]
    },
    {
     "name": "stdout",
     "output_type": "stream",
     "text": [
      "   1   1.25598362e+14 -6.93022144e+16  1.74e+06 5.10e+05  8.32e+11     6s\n"
     ]
    },
    {
     "name": "stderr",
     "output_type": "stream",
     "text": [
      "   1   1.25598362e+14 -6.93022144e+16  1.74e+06 5.10e+05  8.32e+11     6s\n"
     ]
    },
    {
     "name": "stdout",
     "output_type": "stream",
     "text": [
      "   2   1.00389205e+14 -1.91368970e+16  1.29e+06 1.58e+04  3.78e+11     7s\n"
     ]
    },
    {
     "name": "stderr",
     "output_type": "stream",
     "text": [
      "   2   1.00389205e+14 -1.91368970e+16  1.29e+06 1.58e+04  3.78e+11     7s\n"
     ]
    },
    {
     "name": "stdout",
     "output_type": "stream",
     "text": [
      "   3   1.30699579e+13 -2.83700106e+15  8.32e+04 3.05e+02  2.77e+10     7s\n"
     ]
    },
    {
     "name": "stderr",
     "output_type": "stream",
     "text": [
      "   3   1.30699579e+13 -2.83700106e+15  8.32e+04 3.05e+02  2.77e+10     7s\n"
     ]
    },
    {
     "name": "stdout",
     "output_type": "stream",
     "text": [
      "   4   7.38625005e+12 -3.75341931e+14  5.94e+03 2.88e-03  2.41e+09     7s\n"
     ]
    },
    {
     "name": "stderr",
     "output_type": "stream",
     "text": [
      "   4   7.38625005e+12 -3.75341931e+14  5.94e+03 2.88e-03  2.41e+09     7s\n"
     ]
    },
    {
     "name": "stdout",
     "output_type": "stream",
     "text": [
      "   5   6.89254420e+12 -1.42016361e+14  1.15e+03 8.33e-04  6.64e+08     7s\n"
     ]
    },
    {
     "name": "stderr",
     "output_type": "stream",
     "text": [
      "   5   6.89254420e+12 -1.42016361e+14  1.15e+03 8.33e-04  6.64e+08     7s\n"
     ]
    },
    {
     "name": "stdout",
     "output_type": "stream",
     "text": [
      "   6   4.87053543e+12 -4.10919675e+13  2.54e+02 6.97e-04  1.67e+08     7s\n"
     ]
    },
    {
     "name": "stderr",
     "output_type": "stream",
     "text": [
      "   6   4.87053543e+12 -4.10919675e+13  2.54e+02 6.97e-04  1.67e+08     7s\n"
     ]
    },
    {
     "name": "stdout",
     "output_type": "stream",
     "text": [
      "   7   3.93235234e+12 -8.78789149e+12  9.73e+01 1.84e-04  4.35e+07     7s\n"
     ]
    },
    {
     "name": "stderr",
     "output_type": "stream",
     "text": [
      "   7   3.93235234e+12 -8.78789149e+12  9.73e+01 1.84e-04  4.35e+07     7s\n"
     ]
    },
    {
     "name": "stdout",
     "output_type": "stream",
     "text": [
      "   8   4.03960314e+11 -1.20930101e+12  8.48e+00 5.82e-04  5.06e+06     7s\n"
     ]
    },
    {
     "name": "stderr",
     "output_type": "stream",
     "text": [
      "   8   4.03960314e+11 -1.20930101e+12  8.48e+00 5.82e-04  5.06e+06     7s\n"
     ]
    },
    {
     "name": "stdout",
     "output_type": "stream",
     "text": [
      "   9   2.04900072e+11 -2.91755890e+11  3.63e+00 1.46e-04  1.57e+06     8s\n"
     ]
    },
    {
     "name": "stderr",
     "output_type": "stream",
     "text": [
      "   9   2.04900072e+11 -2.91755890e+11  3.63e+00 1.46e-04  1.57e+06     8s\n"
     ]
    },
    {
     "name": "stdout",
     "output_type": "stream",
     "text": [
      "  10   1.47803471e+11 -1.97650039e+11  2.46e+00 9.67e-05  1.08e+06     8s\n"
     ]
    },
    {
     "name": "stderr",
     "output_type": "stream",
     "text": [
      "  10   1.47803471e+11 -1.97650039e+11  2.46e+00 9.67e-05  1.08e+06     8s\n"
     ]
    },
    {
     "name": "stdout",
     "output_type": "stream",
     "text": [
      "  11   9.94492622e+10 -1.50916546e+11  1.47e+00 7.38e-05  7.76e+05     8s\n"
     ]
    },
    {
     "name": "stderr",
     "output_type": "stream",
     "text": [
      "  11   9.94492622e+10 -1.50916546e+11  1.47e+00 7.38e-05  7.76e+05     8s\n"
     ]
    },
    {
     "name": "stdout",
     "output_type": "stream",
     "text": [
      "  12   7.85993738e+10 -1.13148955e+11  1.08e+00 5.74e-05  5.92e+05     8s\n"
     ]
    },
    {
     "name": "stderr",
     "output_type": "stream",
     "text": [
      "  12   7.85993738e+10 -1.13148955e+11  1.08e+00 5.74e-05  5.92e+05     8s\n"
     ]
    },
    {
     "name": "stdout",
     "output_type": "stream",
     "text": [
      "  13   4.92057964e+10 -6.15928864e+10  5.87e-01 3.28e-05  3.39e+05     8s\n"
     ]
    },
    {
     "name": "stderr",
     "output_type": "stream",
     "text": [
      "  13   4.92057964e+10 -6.15928864e+10  5.87e-01 3.28e-05  3.39e+05     8s\n"
     ]
    },
    {
     "name": "stdout",
     "output_type": "stream",
     "text": [
      "  14   2.50853990e+10 -3.04446662e+10  2.13e-01 1.73e-05  1.68e+05     8s\n"
     ]
    },
    {
     "name": "stderr",
     "output_type": "stream",
     "text": [
      "  14   2.50853990e+10 -3.04446662e+10  2.13e-01 1.73e-05  1.68e+05     8s\n"
     ]
    },
    {
     "name": "stdout",
     "output_type": "stream",
     "text": [
      "  15   1.79011056e+10 -1.13962315e+10  1.12e-01 8.71e-06  8.83e+04     9s\n"
     ]
    },
    {
     "name": "stderr",
     "output_type": "stream",
     "text": [
      "  15   1.79011056e+10 -1.13962315e+10  1.12e-01 8.71e-06  8.83e+04     9s\n"
     ]
    },
    {
     "name": "stdout",
     "output_type": "stream",
     "text": [
      "  16   1.59912127e+10 -6.44747922e+09  8.71e-02 6.52e-06  6.76e+04     9s\n"
     ]
    },
    {
     "name": "stderr",
     "output_type": "stream",
     "text": [
      "  16   1.59912127e+10 -6.44747922e+09  8.71e-02 6.52e-06  6.76e+04     9s\n"
     ]
    },
    {
     "name": "stdout",
     "output_type": "stream",
     "text": [
      "  17   1.45122961e+10 -2.85301159e+09  6.76e-02 4.91e-06  5.23e+04     9s\n"
     ]
    },
    {
     "name": "stderr",
     "output_type": "stream",
     "text": [
      "  17   1.45122961e+10 -2.85301159e+09  6.76e-02 4.91e-06  5.23e+04     9s\n"
     ]
    },
    {
     "name": "stdout",
     "output_type": "stream",
     "text": [
      "  18   1.23806015e+10 -1.35030073e+08  4.04e-02 3.68e-06  3.76e+04     9s\n"
     ]
    },
    {
     "name": "stderr",
     "output_type": "stream",
     "text": [
      "  18   1.23806015e+10 -1.35030073e+08  4.04e-02 3.68e-06  3.76e+04     9s\n"
     ]
    },
    {
     "name": "stdout",
     "output_type": "stream",
     "text": [
      "  19   1.13360389e+10  9.81649407e+08  2.89e-02 3.19e-06  3.10e+04     9s\n"
     ]
    },
    {
     "name": "stderr",
     "output_type": "stream",
     "text": [
      "  19   1.13360389e+10  9.81649407e+08  2.89e-02 3.19e-06  3.10e+04     9s\n"
     ]
    },
    {
     "name": "stdout",
     "output_type": "stream",
     "text": [
      "  20   9.78193660e+09  3.40929497e+09  1.37e-02 2.11e-06  1.91e+04    10s\n"
     ]
    },
    {
     "name": "stderr",
     "output_type": "stream",
     "text": [
      "  20   9.78193660e+09  3.40929497e+09  1.37e-02 2.11e-06  1.91e+04    10s\n"
     ]
    },
    {
     "name": "stdout",
     "output_type": "stream",
     "text": [
      "  21   9.20845692e+09  5.02848759e+09  8.34e-03 1.38e-06  1.25e+04    10s\n"
     ]
    },
    {
     "name": "stderr",
     "output_type": "stream",
     "text": [
      "  21   9.20845692e+09  5.02848759e+09  8.34e-03 1.38e-06  1.25e+04    10s\n"
     ]
    },
    {
     "name": "stdout",
     "output_type": "stream",
     "text": [
      "  22   8.95648722e+09  5.23538793e+09  6.35e-03 1.30e-06  1.11e+04    10s\n"
     ]
    },
    {
     "name": "stderr",
     "output_type": "stream",
     "text": [
      "  22   8.95648722e+09  5.23538793e+09  6.35e-03 1.30e-06  1.11e+04    10s\n"
     ]
    },
    {
     "name": "stdout",
     "output_type": "stream",
     "text": [
      "  23   8.86602964e+09  5.68842864e+09  5.65e-03 1.09e-06  9.49e+03    11s\n"
     ]
    },
    {
     "name": "stderr",
     "output_type": "stream",
     "text": [
      "  23   8.86602964e+09  5.68842864e+09  5.65e-03 1.09e-06  9.49e+03    11s\n"
     ]
    },
    {
     "name": "stdout",
     "output_type": "stream",
     "text": [
      "  24   8.76194260e+09  5.85650418e+09  4.85e-03 1.01e-06  8.67e+03    11s\n"
     ]
    },
    {
     "name": "stderr",
     "output_type": "stream",
     "text": [
      "  24   8.76194260e+09  5.85650418e+09  4.85e-03 1.01e-06  8.67e+03    11s\n"
     ]
    },
    {
     "name": "stdout",
     "output_type": "stream",
     "text": [
      "  25   8.53746694e+09  6.57869554e+09  3.15e-03 6.84e-07  5.85e+03    11s\n"
     ]
    },
    {
     "name": "stderr",
     "output_type": "stream",
     "text": [
      "  25   8.53746694e+09  6.57869554e+09  3.15e-03 6.84e-07  5.85e+03    11s\n"
     ]
    },
    {
     "name": "stdout",
     "output_type": "stream",
     "text": [
      "  26   8.31111398e+09  7.12589817e+09  1.55e-03 4.31e-07  3.53e+03    11s\n"
     ]
    },
    {
     "name": "stderr",
     "output_type": "stream",
     "text": [
      "  26   8.31111398e+09  7.12589817e+09  1.55e-03 4.31e-07  3.53e+03    11s\n"
     ]
    },
    {
     "name": "stdout",
     "output_type": "stream",
     "text": [
      "  27   8.26030139e+09  7.39530846e+09  1.22e-03 3.11e-07  2.58e+03    12s\n"
     ]
    },
    {
     "name": "stderr",
     "output_type": "stream",
     "text": [
      "  27   8.26030139e+09  7.39530846e+09  1.22e-03 3.11e-07  2.58e+03    12s\n"
     ]
    },
    {
     "name": "stdout",
     "output_type": "stream",
     "text": [
      "  28   8.18763921e+09  7.54296707e+09  7.83e-04 2.41e-07  1.92e+03    12s\n"
     ]
    },
    {
     "name": "stderr",
     "output_type": "stream",
     "text": [
      "  28   8.18763921e+09  7.54296707e+09  7.83e-04 2.41e-07  1.92e+03    12s\n"
     ]
    },
    {
     "name": "stdout",
     "output_type": "stream",
     "text": [
      "  29   8.17195988e+09  7.57335361e+09  6.82e-04 2.26e-07  1.78e+03    12s\n"
     ]
    },
    {
     "name": "stderr",
     "output_type": "stream",
     "text": [
      "  29   8.17195988e+09  7.57335361e+09  6.82e-04 2.26e-07  1.78e+03    12s\n"
     ]
    },
    {
     "name": "stdout",
     "output_type": "stream",
     "text": [
      "  30   8.13869483e+09  7.74279376e+09  4.73e-04 1.44e-07  1.18e+03    12s\n"
     ]
    },
    {
     "name": "stderr",
     "output_type": "stream",
     "text": [
      "  30   8.13869483e+09  7.74279376e+09  4.73e-04 1.44e-07  1.18e+03    12s\n"
     ]
    },
    {
     "name": "stdout",
     "output_type": "stream",
     "text": [
      "  31   8.10387519e+09  7.88599421e+09  2.72e-04 7.48e-08  6.50e+02    12s\n"
     ]
    },
    {
     "name": "stderr",
     "output_type": "stream",
     "text": [
      "  31   8.10387519e+09  7.88599421e+09  2.72e-04 7.48e-08  6.50e+02    12s\n"
     ]
    },
    {
     "name": "stdout",
     "output_type": "stream",
     "text": [
      "  32   8.07261470e+09  8.00874003e+09  1.11e-04 1.75e-08  1.91e+02    13s\n"
     ]
    },
    {
     "name": "stderr",
     "output_type": "stream",
     "text": [
      "  32   8.07261470e+09  8.00874003e+09  1.11e-04 1.75e-08  1.91e+02    13s\n"
     ]
    },
    {
     "name": "stdout",
     "output_type": "stream",
     "text": [
      "  33   8.06159229e+09  8.02305810e+09  6.10e-05 1.09e-08  1.15e+02    13s\n"
     ]
    },
    {
     "name": "stderr",
     "output_type": "stream",
     "text": [
      "  33   8.06159229e+09  8.02305810e+09  6.10e-05 1.09e-08  1.15e+02    13s\n"
     ]
    },
    {
     "name": "stdout",
     "output_type": "stream",
     "text": [
      "  34   8.05969780e+09  8.02869287e+09  5.25e-05 8.34e-09  9.26e+01    13s\n"
     ]
    },
    {
     "name": "stderr",
     "output_type": "stream",
     "text": [
      "  34   8.05969780e+09  8.02869287e+09  5.25e-05 8.34e-09  9.26e+01    13s\n"
     ]
    },
    {
     "name": "stdout",
     "output_type": "stream",
     "text": [
      "  35   8.05468334e+09  8.04108133e+09  3.07e-05 1.96e-08  4.08e+01    13s\n"
     ]
    },
    {
     "name": "stderr",
     "output_type": "stream",
     "text": [
      "  35   8.05468334e+09  8.04108133e+09  3.07e-05 1.96e-08  4.08e+01    13s\n"
     ]
    },
    {
     "name": "stdout",
     "output_type": "stream",
     "text": [
      "  36   8.04812169e+09  8.04535625e+09  3.91e-06 6.52e-09  8.26e+00    13s\n"
     ]
    },
    {
     "name": "stderr",
     "output_type": "stream",
     "text": [
      "  36   8.04812169e+09  8.04535625e+09  3.91e-06 6.52e-09  8.26e+00    13s\n"
     ]
    },
    {
     "name": "stdout",
     "output_type": "stream",
     "text": [
      "  37   8.04743786e+09  8.04649879e+09  1.58e-05 1.07e-08  2.81e+00    14s\n"
     ]
    },
    {
     "name": "stderr",
     "output_type": "stream",
     "text": [
      "  37   8.04743786e+09  8.04649879e+09  1.58e-05 1.07e-08  2.81e+00    14s\n"
     ]
    },
    {
     "name": "stdout",
     "output_type": "stream",
     "text": [
      "  38   8.04713122e+09  8.04684429e+09  3.58e-05 2.95e-08  8.58e-01    14s\n"
     ]
    },
    {
     "name": "stderr",
     "output_type": "stream",
     "text": [
      "  38   8.04713122e+09  8.04684429e+09  3.58e-05 2.95e-08  8.58e-01    14s\n"
     ]
    },
    {
     "name": "stdout",
     "output_type": "stream",
     "text": [
      "  39   8.04700353e+09  8.04694340e+09  2.48e-05 2.64e-08  1.80e-01    14s\n"
     ]
    },
    {
     "name": "stderr",
     "output_type": "stream",
     "text": [
      "  39   8.04700353e+09  8.04694340e+09  2.48e-05 2.64e-08  1.80e-01    14s\n"
     ]
    },
    {
     "name": "stdout",
     "output_type": "stream",
     "text": [
      "  40   8.04697699e+09  8.04696856e+09  8.23e-06 2.47e-08  2.52e-02    15s\n"
     ]
    },
    {
     "name": "stderr",
     "output_type": "stream",
     "text": [
      "  40   8.04697699e+09  8.04696856e+09  8.23e-06 2.47e-08  2.52e-02    15s\n"
     ]
    },
    {
     "name": "stdout",
     "output_type": "stream",
     "text": [
      "  41   8.04697357e+09  8.04697310e+09  1.47e-06 2.75e-08  1.39e-03    15s\n"
     ]
    },
    {
     "name": "stderr",
     "output_type": "stream",
     "text": [
      "  41   8.04697357e+09  8.04697310e+09  1.47e-06 2.75e-08  1.39e-03    15s\n"
     ]
    },
    {
     "name": "stdout",
     "output_type": "stream",
     "text": [
      "  42   8.04697333e+09  8.04697331e+09  8.68e-08 4.89e-08  6.13e-05    15s\n"
     ]
    },
    {
     "name": "stderr",
     "output_type": "stream",
     "text": [
      "  42   8.04697333e+09  8.04697331e+09  8.68e-08 4.89e-08  6.13e-05    15s\n"
     ]
    },
    {
     "name": "stdout",
     "output_type": "stream",
     "text": [
      "  43   8.04697332e+09  8.04697332e+09  7.52e-09 2.99e-08  1.07e-06    15s\n"
     ]
    },
    {
     "name": "stderr",
     "output_type": "stream",
     "text": [
      "  43   8.04697332e+09  8.04697332e+09  7.52e-09 2.99e-08  1.07e-06    15s\n"
     ]
    },
    {
     "name": "stdout",
     "output_type": "stream",
     "text": [
      "  44   8.04697332e+09  8.04697332e+09  9.09e-12 3.50e-08  6.55e-08    16s\n"
     ]
    },
    {
     "name": "stderr",
     "output_type": "stream",
     "text": [
      "  44   8.04697332e+09  8.04697332e+09  9.09e-12 3.50e-08  6.55e-08    16s\n"
     ]
    },
    {
     "name": "stdout",
     "output_type": "stream",
     "text": [
      "  45   8.04697332e+09  8.04697332e+09  3.92e-12 1.54e-08  2.58e-08    16s\n"
     ]
    },
    {
     "name": "stderr",
     "output_type": "stream",
     "text": [
      "  45   8.04697332e+09  8.04697332e+09  3.92e-12 1.54e-08  2.58e-08    16s\n"
     ]
    },
    {
     "name": "stdout",
     "output_type": "stream",
     "text": [
      "  46   8.04697332e+09  8.04697332e+09  3.97e-13 1.32e-08  8.46e-10    16s\n"
     ]
    },
    {
     "name": "stderr",
     "output_type": "stream",
     "text": [
      "  46   8.04697332e+09  8.04697332e+09  3.97e-13 1.32e-08  8.46e-10    16s\n"
     ]
    },
    {
     "name": "stdout",
     "output_type": "stream",
     "text": [
      "\n"
     ]
    },
    {
     "name": "stderr",
     "output_type": "stream",
     "text": [
      "\n"
     ]
    },
    {
     "name": "stdout",
     "output_type": "stream",
     "text": [
      "Barrier solved model in 46 iterations and 15.99 seconds (10.95 work units)\n"
     ]
    },
    {
     "name": "stderr",
     "output_type": "stream",
     "text": [
      "Barrier solved model in 46 iterations and 15.99 seconds (10.95 work units)\n"
     ]
    },
    {
     "name": "stdout",
     "output_type": "stream",
     "text": [
      "Optimal objective 8.04697332e+09\n"
     ]
    },
    {
     "name": "stderr",
     "output_type": "stream",
     "text": [
      "Optimal objective 8.04697332e+09\n"
     ]
    },
    {
     "name": "stdout",
     "output_type": "stream",
     "text": [
      "\n"
     ]
    },
    {
     "name": "stderr",
     "output_type": "stream",
     "text": [
      "\n"
     ]
    },
    {
     "name": "stdout",
     "output_type": "stream",
     "text": [
      "\n"
     ]
    },
    {
     "name": "stderr",
     "output_type": "stream",
     "text": [
      "\n"
     ]
    },
    {
     "name": "stdout",
     "output_type": "stream",
     "text": [
      "Root crossover log...\n"
     ]
    },
    {
     "name": "stderr",
     "output_type": "stream",
     "text": [
      "Root crossover log...\n"
     ]
    },
    {
     "name": "stdout",
     "output_type": "stream",
     "text": [
      "\n"
     ]
    },
    {
     "name": "stderr",
     "output_type": "stream",
     "text": [
      "\n"
     ]
    },
    {
     "name": "stdout",
     "output_type": "stream",
     "text": [
      "  168118 DPushes remaining with DInf 0.0000000e+00                16s\n"
     ]
    },
    {
     "name": "stderr",
     "output_type": "stream",
     "text": [
      "  168118 DPushes remaining with DInf 0.0000000e+00                16s\n"
     ]
    },
    {
     "name": "stdout",
     "output_type": "stream",
     "text": [
      "   12245 DPushes remaining with DInf 1.6668882e-04                20s\n"
     ]
    },
    {
     "name": "stderr",
     "output_type": "stream",
     "text": [
      "   12245 DPushes remaining with DInf 1.6668882e-04                20s\n"
     ]
    },
    {
     "name": "stdout",
     "output_type": "stream",
     "text": [
      "       0 DPushes remaining with DInf 8.8134471e-06                21s\n"
     ]
    },
    {
     "name": "stderr",
     "output_type": "stream",
     "text": [
      "       0 DPushes remaining with DInf 8.8134471e-06                21s\n"
     ]
    },
    {
     "name": "stdout",
     "output_type": "stream",
     "text": [
      "\n"
     ]
    },
    {
     "name": "stderr",
     "output_type": "stream",
     "text": [
      "\n"
     ]
    },
    {
     "name": "stdout",
     "output_type": "stream",
     "text": [
      "      48 PPushes remaining with PInf 0.0000000e+00                21s\n"
     ]
    },
    {
     "name": "stderr",
     "output_type": "stream",
     "text": [
      "      48 PPushes remaining with PInf 0.0000000e+00                21s\n"
     ]
    },
    {
     "name": "stdout",
     "output_type": "stream",
     "text": [
      "       0 PPushes remaining with PInf 0.0000000e+00                21s\n"
     ]
    },
    {
     "name": "stderr",
     "output_type": "stream",
     "text": [
      "       0 PPushes remaining with PInf 0.0000000e+00                21s\n"
     ]
    },
    {
     "name": "stdout",
     "output_type": "stream",
     "text": [
      "\n"
     ]
    },
    {
     "name": "stderr",
     "output_type": "stream",
     "text": [
      "\n"
     ]
    },
    {
     "name": "stdout",
     "output_type": "stream",
     "text": [
      "  Push phase complete: Pinf 0.0000000e+00, Dinf 4.2207712e-04     21s\n"
     ]
    },
    {
     "name": "stderr",
     "output_type": "stream",
     "text": [
      "  Push phase complete: Pinf 0.0000000e+00, Dinf 4.2207712e-04     21s\n"
     ]
    },
    {
     "name": "stdout",
     "output_type": "stream",
     "text": [
      "\n"
     ]
    },
    {
     "name": "stderr",
     "output_type": "stream",
     "text": [
      "\n"
     ]
    },
    {
     "name": "stdout",
     "output_type": "stream",
     "text": [
      "\n"
     ]
    },
    {
     "name": "stderr",
     "output_type": "stream",
     "text": [
      "\n"
     ]
    },
    {
     "name": "stdout",
     "output_type": "stream",
     "text": [
      "Root simplex log...\n"
     ]
    },
    {
     "name": "stderr",
     "output_type": "stream",
     "text": [
      "Root simplex log...\n"
     ]
    },
    {
     "name": "stdout",
     "output_type": "stream",
     "text": [
      "\n"
     ]
    },
    {
     "name": "stderr",
     "output_type": "stream",
     "text": [
      "\n"
     ]
    },
    {
     "name": "stdout",
     "output_type": "stream",
     "text": [
      "Iteration    Objective       Primal Inf.    Dual Inf.      Time\n"
     ]
    },
    {
     "name": "stderr",
     "output_type": "stream",
     "text": [
      "Iteration    Objective       Primal Inf.    Dual Inf.      Time\n"
     ]
    },
    {
     "name": "stdout",
     "output_type": "stream",
     "text": [
      "   77759    8.0469733e+09   0.000000e+00   4.220711e-04     21s\n"
     ]
    },
    {
     "name": "stderr",
     "output_type": "stream",
     "text": [
      "   77759    8.0469733e+09   0.000000e+00   4.220711e-04     21s\n"
     ]
    },
    {
     "name": "stdout",
     "output_type": "stream",
     "text": [
      "   77778    8.0469733e+09   0.000000e+00   0.000000e+00     22s\n"
     ]
    },
    {
     "name": "stderr",
     "output_type": "stream",
     "text": [
      "   77778    8.0469733e+09   0.000000e+00   0.000000e+00     22s\n"
     ]
    },
    {
     "name": "stdout",
     "output_type": "stream",
     "text": [
      "   77778    8.0469733e+09   0.000000e+00   0.000000e+00     22s\n"
     ]
    },
    {
     "name": "stderr",
     "output_type": "stream",
     "text": [
      "   77778    8.0469733e+09   0.000000e+00   0.000000e+00     22s\n"
     ]
    },
    {
     "name": "stdout",
     "output_type": "stream",
     "text": [
      "Concurrent spin time: 0.06s\n"
     ]
    },
    {
     "name": "stderr",
     "output_type": "stream",
     "text": [
      "Concurrent spin time: 0.06s\n"
     ]
    },
    {
     "name": "stdout",
     "output_type": "stream",
     "text": [
      "\n"
     ]
    },
    {
     "name": "stderr",
     "output_type": "stream",
     "text": [
      "\n"
     ]
    },
    {
     "name": "stdout",
     "output_type": "stream",
     "text": [
      "Solved with barrier\n"
     ]
    },
    {
     "name": "stderr",
     "output_type": "stream",
     "text": [
      "Solved with barrier\n"
     ]
    },
    {
     "name": "stdout",
     "output_type": "stream",
     "text": [
      "\n"
     ]
    },
    {
     "name": "stderr",
     "output_type": "stream",
     "text": [
      "\n"
     ]
    },
    {
     "name": "stdout",
     "output_type": "stream",
     "text": [
      "Root relaxation: objective 8.046973e+09, 77778 iterations, 17.52 seconds (9.32 work units)\n"
     ]
    },
    {
     "name": "stderr",
     "output_type": "stream",
     "text": [
      "Root relaxation: objective 8.046973e+09, 77778 iterations, 17.52 seconds (9.32 work units)\n"
     ]
    },
    {
     "name": "stdout",
     "output_type": "stream",
     "text": [
      "\n"
     ]
    },
    {
     "name": "stderr",
     "output_type": "stream",
     "text": [
      "\n"
     ]
    },
    {
     "name": "stdout",
     "output_type": "stream",
     "text": [
      "    Nodes    |    Current Node    |     Objective Bounds      |     Work\n"
     ]
    },
    {
     "name": "stderr",
     "output_type": "stream",
     "text": [
      "    Nodes    |    Current Node    |     Objective Bounds      |     Work\n"
     ]
    },
    {
     "name": "stdout",
     "output_type": "stream",
     "text": [
      " Expl Unexpl |  Obj  Depth IntInf | Incumbent    BestBd   Gap | It/Node Time\n"
     ]
    },
    {
     "name": "stderr",
     "output_type": "stream",
     "text": [
      " Expl Unexpl |  Obj  Depth IntInf | Incumbent    BestBd   Gap | It/Node Time\n"
     ]
    },
    {
     "name": "stdout",
     "output_type": "stream",
     "text": [
      "\n"
     ]
    },
    {
     "name": "stderr",
     "output_type": "stream",
     "text": [
      "\n"
     ]
    },
    {
     "name": "stdout",
     "output_type": "stream",
     "text": [
      "*    0     0               0    8.046973e+09 8.0470e+09  0.00%     -   23s\n"
     ]
    },
    {
     "name": "stderr",
     "output_type": "stream",
     "text": [
      "*    0     0               0    8.046973e+09 8.0470e+09  0.00%     -   23s\n"
     ]
    },
    {
     "name": "stdout",
     "output_type": "stream",
     "text": [
      "\n"
     ]
    },
    {
     "name": "stderr",
     "output_type": "stream",
     "text": [
      "\n"
     ]
    },
    {
     "name": "stdout",
     "output_type": "stream",
     "text": [
      "Explored 1 nodes (77778 simplex iterations) in 24.41 seconds (15.74 work units)\n"
     ]
    },
    {
     "name": "stderr",
     "output_type": "stream",
     "text": [
      "Explored 1 nodes (77778 simplex iterations) in 24.41 seconds (15.74 work units)\n"
     ]
    },
    {
     "name": "stdout",
     "output_type": "stream",
     "text": [
      "Thread count was 12 (of 12 available processors)\n"
     ]
    },
    {
     "name": "stderr",
     "output_type": "stream",
     "text": [
      "Thread count was 12 (of 12 available processors)\n"
     ]
    },
    {
     "name": "stdout",
     "output_type": "stream",
     "text": [
      "\n"
     ]
    },
    {
     "name": "stderr",
     "output_type": "stream",
     "text": [
      "\n"
     ]
    },
    {
     "name": "stdout",
     "output_type": "stream",
     "text": [
      "Solution count 1: 8.04697e+09 \n"
     ]
    },
    {
     "name": "stderr",
     "output_type": "stream",
     "text": [
      "Solution count 1: 8.04697e+09 \n"
     ]
    },
    {
     "name": "stdout",
     "output_type": "stream",
     "text": [
      "\n"
     ]
    },
    {
     "name": "stderr",
     "output_type": "stream",
     "text": [
      "\n"
     ]
    },
    {
     "name": "stdout",
     "output_type": "stream",
     "text": [
      "Optimal solution found (tolerance 2.00e-02)\n"
     ]
    },
    {
     "name": "stderr",
     "output_type": "stream",
     "text": [
      "Optimal solution found (tolerance 2.00e-02)\n"
     ]
    },
    {
     "name": "stdout",
     "output_type": "stream",
     "text": [
      "Warning: max constraint violation (1.7080e-06) exceeds tolerance\n"
     ]
    },
    {
     "name": "stderr",
     "output_type": "stream",
     "text": [
      "Warning: max constraint violation (1.7080e-06) exceeds tolerance\n"
     ]
    },
    {
     "name": "stdout",
     "output_type": "stream",
     "text": [
      "Best objective 8.046973318389e+09, best bound 8.046973318389e+09, gap 0.0000%\n"
     ]
    },
    {
     "name": "stderr",
     "output_type": "stream",
     "text": [
      "Best objective 8.046973318389e+09, best bound 8.046973318389e+09, gap 0.0000%\n"
     ]
    },
    {
     "name": "stdout",
     "output_type": "stream",
     "text": [
      "Set parameter LogFile to value \"\"\n"
     ]
    },
    {
     "name": "stderr",
     "output_type": "stream",
     "text": [
      "Set parameter LogFile to value \"\"\n",
      "Writing results to userData\\20250918004319-1\n"
     ]
    },
    {
     "name": "stdout",
     "output_type": "stream",
     "text": [
      "# ==========================================================\n",
      "# = Solver Results                                         =\n",
      "# ==========================================================\n",
      "# ----------------------------------------------------------\n",
      "#   Problem Information\n",
      "# ----------------------------------------------------------\n",
      "Problem: \n",
      "- Name: unknown\n",
      "  Lower bound: 8046973318.38896\n",
      "  Upper bound: 8046973318.38896\n",
      "  Number of objectives: 1\n",
      "  Number of constraints: 734326\n",
      "  Number of variables: 571083\n",
      "  Number of binary variables: 36040\n",
      "  Number of integer variables: 41087\n",
      "  Number of continuous variables: 493956\n",
      "  Number of nonzeros: 1767890\n",
      "  Sense: minimize\n",
      "  Number of solutions: 1\n",
      "# ----------------------------------------------------------\n",
      "#   Solver Information\n",
      "# ----------------------------------------------------------\n",
      "Solver: \n",
      "- Name: Gurobi 12.02\n",
      "  Status: ok\n",
      "  Wallclock time: 24.47699999809265\n",
      "  Termination condition: optimal\n",
      "  Termination message: Model was solved to optimality (subject to tolerances), and an optimal solution is available.\n",
      "# ----------------------------------------------------------\n",
      "#   Solution Information\n",
      "# ----------------------------------------------------------\n",
      "Solution: \n",
      "- number of solutions: 0\n",
      "  number of solutions displayed: 0\n"
     ]
    },
    {
     "name": "stderr",
     "output_type": "stream",
     "text": [
      "Solving model completed in 85 s\n"
     ]
    }
   ],
   "source": [
    "# ETS2 carbon price: ~50 EUR/tCO2 (projected for buildings/heating)\n",
    "# Combined effect: higher carbon pricing across all sectors\n",
    "carbon_price = np.ones(8760) * 120  # Higher combined effect\n",
    "\n",
    "# Apply combined ETS1+ETS2 carbon pricing\n",
    "for node in ['northwest', 'northeast', 'center', 'south', 'islands']:\n",
    "    carbon_cost_path = \"./macro_decarbonisation/period1/node_data/\" + node + \"/CarbonCost.csv\"\n",
    "    carbon_cost_template = pd.read_csv(carbon_cost_path, sep=';', index_col=0, header=0)\n",
    "    carbon_cost_template['price'] = carbon_price\n",
    "    carbon_cost_template = carbon_cost_template.reset_index()\n",
    "    carbon_cost_template.to_csv(carbon_cost_path, sep=';', index=False)\n",
    "\n",
    "# Run the optimization model with ETS1+ETS2 scenario\n",
    "m = adopt.ModelHub()\n",
    "m.read_data(input_data_path)\n",
    "m.quick_solve()\n"
   ]
  }
 ],
 "metadata": {
  "kernelspec": {
   "display_name": "Python 3",
   "language": "python",
   "name": "python3"
  },
  "language_info": {
   "codemirror_mode": {
    "name": "ipython",
    "version": 3
   },
   "file_extension": ".py",
   "mimetype": "text/x-python",
   "name": "python",
   "nbconvert_exporter": "python",
   "pygments_lexer": "ipython3",
   "version": "3.13.3"
  }
 },
 "nbformat": 4,
 "nbformat_minor": 5
}
